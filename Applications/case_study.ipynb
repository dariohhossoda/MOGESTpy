{
 "cells": [
  {
   "cell_type": "markdown",
   "metadata": {},
   "source": [
    "# Case: Paranapanema Basin"
   ]
  },
  {
   "cell_type": "markdown",
   "metadata": {},
   "source": [
    "## Imports"
   ]
  },
  {
   "cell_type": "code",
   "execution_count": 1,
   "metadata": {},
   "outputs": [],
   "source": [
    "from mogestpy.quantity.Hydrological import SMAP\n",
    "from mogestpy.quality import buwo"
   ]
  },
  {
   "cell_type": "markdown",
   "metadata": {},
   "source": [
    "## Subcatchments"
   ]
  },
  {
   "cell_type": "code",
   "execution_count": null,
   "metadata": {},
   "outputs": [],
   "source": [
    "b86498 = SMAP.SMAP.Basin()\n",
    "b86499 = SMAP.SMAP.Basin()\n",
    "b86496 = SMAP.SMAP.Basin()\n",
    "b86497 = SMAP.SMAP.Basin()\n",
    "b86495 = SMAP.SMAP.Basin()\n",
    "b86494 = SMAP.SMAP.Basin()\n",
    "b86492 = SMAP.SMAP.Basin()"
   ]
  }
 ],
 "metadata": {
  "kernelspec": {
   "display_name": "playground",
   "language": "python",
   "name": "python3"
  },
  "language_info": {
   "codemirror_mode": {
    "name": "ipython",
    "version": 3
   },
   "file_extension": ".py",
   "mimetype": "text/x-python",
   "name": "python",
   "nbconvert_exporter": "python",
   "pygments_lexer": "ipython3",
   "version": "3.9.17"
  }
 },
 "nbformat": 4,
 "nbformat_minor": 2
}
