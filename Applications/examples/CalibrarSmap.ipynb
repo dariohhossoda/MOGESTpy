{
 "cells": [
  {
   "cell_type": "markdown",
   "metadata": {},
   "source": [
    "### Imports"
   ]
  },
  {
   "cell_type": "code",
   "execution_count": 1,
   "metadata": {},
   "outputs": [],
   "source": [
    "import spotpy\n",
    "import pandas as pd\n",
    "\n",
    "from mogestpy.quantity.Hydrological import SMAP\n",
    "from spotpy.objectivefunctions import mae, rmse, nashsutcliffe, kge, pbias"
   ]
  },
  {
   "cell_type": "markdown",
   "metadata": {},
   "source": [
    "Pandas Plotting Backend"
   ]
  },
  {
   "cell_type": "code",
   "execution_count": 2,
   "metadata": {},
   "outputs": [],
   "source": [
    "pd.options.plotting.backend = \"plotly\""
   ]
  },
  {
   "cell_type": "markdown",
   "metadata": {},
   "source": [
    "Loading data into a Pandas DataFrame"
   ]
  },
  {
   "cell_type": "code",
   "execution_count": 3,
   "metadata": {},
   "outputs": [
    {
     "data": {
      "text/html": [
       "<div>\n",
       "<style scoped>\n",
       "    .dataframe tbody tr th:only-of-type {\n",
       "        vertical-align: middle;\n",
       "    }\n",
       "\n",
       "    .dataframe tbody tr th {\n",
       "        vertical-align: top;\n",
       "    }\n",
       "\n",
       "    .dataframe thead th {\n",
       "        text-align: right;\n",
       "    }\n",
       "</style>\n",
       "<table border=\"1\" class=\"dataframe\">\n",
       "  <thead>\n",
       "    <tr style=\"text-align: right;\">\n",
       "      <th></th>\n",
       "      <th>ETP</th>\n",
       "      <th>P</th>\n",
       "      <th>Qobs</th>\n",
       "      <th>Qplan</th>\n",
       "    </tr>\n",
       "  </thead>\n",
       "  <tbody>\n",
       "    <tr>\n",
       "      <th>0</th>\n",
       "      <td>5.266667</td>\n",
       "      <td>0.000000</td>\n",
       "      <td>1.69</td>\n",
       "      <td>-0.323000</td>\n",
       "    </tr>\n",
       "    <tr>\n",
       "      <th>1</th>\n",
       "      <td>5.266667</td>\n",
       "      <td>0.000000</td>\n",
       "      <td>0.06</td>\n",
       "      <td>-0.319765</td>\n",
       "    </tr>\n",
       "    <tr>\n",
       "      <th>2</th>\n",
       "      <td>5.266667</td>\n",
       "      <td>1.100000</td>\n",
       "      <td>0.41</td>\n",
       "      <td>-0.316562</td>\n",
       "    </tr>\n",
       "    <tr>\n",
       "      <th>3</th>\n",
       "      <td>5.266667</td>\n",
       "      <td>0.000000</td>\n",
       "      <td>0.06</td>\n",
       "      <td>-0.313391</td>\n",
       "    </tr>\n",
       "    <tr>\n",
       "      <th>4</th>\n",
       "      <td>5.266667</td>\n",
       "      <td>0.000000</td>\n",
       "      <td>1.94</td>\n",
       "      <td>-0.310251</td>\n",
       "    </tr>\n",
       "    <tr>\n",
       "      <th>...</th>\n",
       "      <td>...</td>\n",
       "      <td>...</td>\n",
       "      <td>...</td>\n",
       "      <td>...</td>\n",
       "    </tr>\n",
       "    <tr>\n",
       "      <th>2118</th>\n",
       "      <td>3.233333</td>\n",
       "      <td>0.000000</td>\n",
       "      <td>0.11</td>\n",
       "      <td>0.028231</td>\n",
       "    </tr>\n",
       "    <tr>\n",
       "      <th>2119</th>\n",
       "      <td>3.233333</td>\n",
       "      <td>0.283333</td>\n",
       "      <td>0.09</td>\n",
       "      <td>0.025673</td>\n",
       "    </tr>\n",
       "    <tr>\n",
       "      <th>2120</th>\n",
       "      <td>3.233333</td>\n",
       "      <td>0.003333</td>\n",
       "      <td>0.02</td>\n",
       "      <td>0.024410</td>\n",
       "    </tr>\n",
       "    <tr>\n",
       "      <th>2121</th>\n",
       "      <td>3.233333</td>\n",
       "      <td>0.496667</td>\n",
       "      <td>0.01</td>\n",
       "      <td>0.023720</td>\n",
       "    </tr>\n",
       "    <tr>\n",
       "      <th>2122</th>\n",
       "      <td>3.233333</td>\n",
       "      <td>0.080000</td>\n",
       "      <td>0.07</td>\n",
       "      <td>0.023286</td>\n",
       "    </tr>\n",
       "  </tbody>\n",
       "</table>\n",
       "<p>2123 rows × 4 columns</p>\n",
       "</div>"
      ],
      "text/plain": [
       "           ETP         P  Qobs     Qplan\n",
       "0     5.266667  0.000000  1.69 -0.323000\n",
       "1     5.266667  0.000000  0.06 -0.319765\n",
       "2     5.266667  1.100000  0.41 -0.316562\n",
       "3     5.266667  0.000000  0.06 -0.313391\n",
       "4     5.266667  0.000000  1.94 -0.310251\n",
       "...        ...       ...   ...       ...\n",
       "2118  3.233333  0.000000  0.11  0.028231\n",
       "2119  3.233333  0.283333  0.09  0.025673\n",
       "2120  3.233333  0.003333  0.02  0.024410\n",
       "2121  3.233333  0.496667  0.01  0.023720\n",
       "2122  3.233333  0.080000  0.07  0.023286\n",
       "\n",
       "[2123 rows x 4 columns]"
      ]
     },
     "metadata": {},
     "output_type": "display_data"
    }
   ],
   "source": [
    "df = pd.read_excel(r'D:\\Dados\\smap_jundiai.xlsx')\n",
    "display(df)"
   ]
  },
  {
   "cell_type": "code",
   "execution_count": 4,
   "metadata": {},
   "outputs": [],
   "source": [
    "bacia = SMAP.SMAP.Basin(AD=109.08)\n",
    "ponto = SMAP.SMAP.Point(df['P'], df['ETP'])\n",
    "modelo = SMAP.SMAP(ponto, bacia)"
   ]
  },
  {
   "cell_type": "code",
   "execution_count": 5,
   "metadata": {},
   "outputs": [],
   "source": [
    "result = modelo.Calibrate(df.Qobs)"
   ]
  },
  {
   "cell_type": "code",
   "execution_count": 6,
   "metadata": {},
   "outputs": [
    {
     "name": "stdout",
     "output_type": "stream",
     "text": [
      "SMAP Basin Object:\n",
      "  Str = 1049.9999988026211,\n",
      "  Crec = 9.999999987396013,\n",
      "  Capc = 39.999999987396016,\n",
      "  kkt = 104.99999990547009,\n",
      "  k2t = 0.2,\n",
      "  Ai = 3.500000008109402,\n",
      "  TUin = 0.49999999936980066,\n",
      "  EBin = 0.0,\n",
      "  AD = 109.08\n"
     ]
    }
   ],
   "source": [
    "print(bacia)"
   ]
  },
  {
   "cell_type": "code",
   "execution_count": 7,
   "metadata": {},
   "outputs": [],
   "source": [
    "df['Qcodigo'] = modelo.Q"
   ]
  },
  {
   "cell_type": "code",
   "execution_count": null,
   "metadata": {},
   "outputs": [],
   "source": [
    "def teste_fo(eval, Q):\n",
    "    v_nse = - nashsutcliffe(eval, Q)\n",
    "    v_kge = - kge(eval, Q)\n",
    "    v_pbias = pbias(eval, Q)\n",
    "    \n",
    "    return v_nse + v_kge + v_pbias"
   ]
  },
  {
   "cell_type": "code",
   "execution_count": null,
   "metadata": {},
   "outputs": [],
   "source": [
    "# result2 = modelo.Calibrate(df['Qobs'], objective_function=teste_fo, optimization_engine='de')"
   ]
  },
  {
   "cell_type": "code",
   "execution_count": null,
   "metadata": {},
   "outputs": [],
   "source": [
    "df['Qfo-teste'] = modelo.Q"
   ]
  },
  {
   "cell_type": "code",
   "execution_count": null,
   "metadata": {},
   "outputs": [],
   "source": [
    "def funcao_objetivo(eval, sim):\n",
    "    somatorio = 0\n",
    "    for i, j in zip(eval, sim):\n",
    "        somatorio += (i - j) ** 2\n",
    "    return somatorio"
   ]
  },
  {
   "cell_type": "code",
   "execution_count": null,
   "metadata": {},
   "outputs": [],
   "source": [
    "result_test = modelo.Calibrate(df.Qobs, objective_function=funcao_objetivo, optimization_engine='differential_evolution')"
   ]
  },
  {
   "cell_type": "code",
   "execution_count": null,
   "metadata": {},
   "outputs": [],
   "source": [
    "result_test"
   ]
  },
  {
   "cell_type": "code",
   "execution_count": null,
   "metadata": {},
   "outputs": [],
   "source": [
    "print(bacia)"
   ]
  },
  {
   "cell_type": "code",
   "execution_count": null,
   "metadata": {},
   "outputs": [],
   "source": [
    "df['Qcustom_fo'] = modelo.Q"
   ]
  },
  {
   "cell_type": "code",
   "execution_count": null,
   "metadata": {},
   "outputs": [],
   "source": [
    "bacia2=SMAP.SMAP.Basin(\n",
    "    Str = 235.00569097847588,\n",
    "    Crec = 11.489898491508313,\n",
    "    TUin = 0.8544213137461782,\n",
    "    EBin = 10.965839303606261,\n",
    "    Capc = 40.02608612021428,\n",
    "    kkt = 79.03366335608037,\n",
    "    k2t = 0.9532324848266956,\n",
    "    Ai = 2.0253907074478206,\n",
    "    AD=109.08\n",
    ")"
   ]
  },
  {
   "cell_type": "code",
   "execution_count": null,
   "metadata": {},
   "outputs": [],
   "source": [
    "modelo2 = SMAP.SMAP(ponto, bacia2)"
   ]
  },
  {
   "cell_type": "code",
   "execution_count": null,
   "metadata": {},
   "outputs": [],
   "source": [
    "modelo2.Calibrate(df.Qobs, objective_function='kge')"
   ]
  },
  {
   "cell_type": "code",
   "execution_count": null,
   "metadata": {},
   "outputs": [],
   "source": [
    "df['Calib_DE'] = modelo2.Q"
   ]
  },
  {
   "cell_type": "code",
   "execution_count": null,
   "metadata": {},
   "outputs": [],
   "source": [
    "df[['Qobs', 'Qplan', 'Qcodigo', 'Qcustom_fo']].plot()"
   ]
  },
  {
   "cell_type": "markdown",
   "metadata": {},
   "source": [
    "Calibrador"
   ]
  },
  {
   "cell_type": "code",
   "execution_count": null,
   "metadata": {},
   "outputs": [],
   "source": [
    "bacia = SMAP.SMAP.Basin(\n",
    "    Str=100,\n",
    "    k2t=0.848790939326689,\n",
    "    Crec=1.00998050978914,\n",
    "    Ai=2.44891091946412,\n",
    "    Capc=50,\n",
    "    kkt=68.85081378162,\n",
    "    TUin=5/100,\n",
    "    EBin=0,\n",
    "    AD=109.08\n",
    ")\n",
    "ponto = SMAP.SMAP.Point(df['P'], df['ETP'])\n",
    "modelo = SMAP.SMAP(ponto, bacia)\n",
    "modelo.RunModel()\n",
    "\n",
    "kge = spotpy.objectivefunctions.kge(df['Qobs'], modelo.Q)\n",
    "\n",
    "print(kge)"
   ]
  },
  {
   "cell_type": "code",
   "execution_count": null,
   "metadata": {},
   "outputs": [],
   "source": [
    "df"
   ]
  },
  {
   "cell_type": "code",
   "execution_count": null,
   "metadata": {},
   "outputs": [],
   "source": [
    "df['Qcod'] = modelo.Q\n",
    "\n",
    "df.filter(items=['Qcod', 'Qobs']).plot()\n"
   ]
  },
  {
   "cell_type": "code",
   "execution_count": null,
   "metadata": {},
   "outputs": [],
   "source": [
    "# import spotpy\n",
    "# import scipy.optimize\n",
    "# from scipy.optimize import differential_evolution\n",
    "# scipy.optimize.options={'disp': True}\n",
    "\n",
    "# precipitation = df.P.to_list()\n",
    "# evapotranspiration = df.ETP.to_list()\n",
    "# observed_discharge = df.Qobs\n",
    "\n",
    "# bounds = [[100.0, 2000.0],  # Str              \n",
    "#               [0.0, 20],    # Crec\n",
    "#               [0.0, 1.0],   # TUin\n",
    "#               [0.0, 20],    # EBin\n",
    "#               [30, 50],     # Capc\n",
    "#               [30, 180],    # kkt\n",
    "#               [0.2, 10],    # k2t\n",
    "#               [2, 5]]       # Ai\n",
    "\n",
    "# def objective(p):\n",
    "#     Str, Crec, TUin, EBin, Capc, kkt, k2t, Ai = p\n",
    "\n",
    "#     bacia = SMAP.SMAP.Basin(\n",
    "#         Str=Str,\n",
    "#         k2t=k2t,\n",
    "#         Crec=Crec,\n",
    "#         Ai=Ai,\n",
    "#         Capc=Capc,\n",
    "#         kkt=kkt,\n",
    "#         TUin=TUin,\n",
    "#         EBin=EBin,\n",
    "#         AD=109.08\n",
    "#         )\n",
    "    \n",
    "#     ponto = SMAP.SMAP.Point(precipitation, evapotranspiration)\n",
    "#     modelo = SMAP.SMAP(ponto, bacia)\n",
    "#     modelo.RunModel()\n",
    "    \n",
    "#     return -spotpy.objectivefunctions.kge(observed_discharge, modelo.Q)\n",
    "\n",
    "\n",
    "# result = differential_evolution(objective, bounds, maxiter=1000)\n",
    "\n",
    "# for i in result['x']:\n",
    "#     print(i)"
   ]
  },
  {
   "cell_type": "code",
   "execution_count": null,
   "metadata": {},
   "outputs": [],
   "source": []
  },
  {
   "cell_type": "code",
   "execution_count": null,
   "metadata": {},
   "outputs": [],
   "source": [
    "# import spotpy\n",
    "# from scipy.optimize import minimize\n",
    "\n",
    "# precipitation = df.P.to_list()\n",
    "# evapotranspiration = df.ETP.to_list()\n",
    "# observed_discharge = df.Qobs\n",
    "\n",
    "# bounds = [[100.0, 2000.0],  # Str              \n",
    "#               [0.0, 20],    # Crec\n",
    "#               [0.0, 1.0],   # TUin\n",
    "#               [0.0, 20],    # EBin\n",
    "#               [30, 50],     # Capc\n",
    "#               [30, 180],    # kkt\n",
    "#               [0.2, 10],    # k2t\n",
    "#               [2, 5]]       # Ai\n",
    "\n",
    "# def objective(p):\n",
    "#     Str, Crec, TUin, EBin, Capc, kkt, k2t, Ai = p\n",
    "\n",
    "#     bacia = SMAP.SMAP.Basin(\n",
    "#         Str=Str,\n",
    "#         k2t=k2t,\n",
    "#         Crec=Crec,\n",
    "#         Ai=Ai,\n",
    "#         Capc=Capc,\n",
    "#         kkt=kkt,\n",
    "#         TUin=TUin,\n",
    "#         EBin=EBin,\n",
    "#         AD=109.08\n",
    "#         )\n",
    "    \n",
    "#     ponto = SMAP.SMAP.Point(precipitation, evapotranspiration)\n",
    "#     modelo = SMAP.SMAP(ponto, bacia)\n",
    "#     modelo.RunModel()\n",
    "\n",
    "#     return -spotpy.objectivefunctions.kge(observed_discharge, modelo.Q)\n",
    "\n",
    "\n",
    "# result = minimize(objective, x0=[100, 0, 0, 0, 39, 39, .2, 2], bounds=bounds)\n",
    "\n",
    "# for i, j in zip(result['x'], ['Str', 'Crec', 'TUin', 'EBin', 'Capc', 'kkt', 'k2t', 'Ai']):\n",
    "#     print(f'{j} = {i},')"
   ]
  },
  {
   "cell_type": "code",
   "execution_count": null,
   "metadata": {},
   "outputs": [],
   "source": [
    "result = modelo.Calibrate(df.Qobs)"
   ]
  },
  {
   "cell_type": "code",
   "execution_count": null,
   "metadata": {},
   "outputs": [],
   "source": [
    "print(bacia)"
   ]
  },
  {
   "cell_type": "code",
   "execution_count": null,
   "metadata": {},
   "outputs": [],
   "source": [
    "for i, j in zip(result['x'], ['Str', 'Crec', 'TUin', 'EBin', 'Capc', 'kkt', 'k2t', 'Ai']):\n",
    "    print(f'{j} = {i},')"
   ]
  },
  {
   "cell_type": "code",
   "execution_count": null,
   "metadata": {},
   "outputs": [],
   "source": [
    "modelo.RunModel()"
   ]
  },
  {
   "cell_type": "code",
   "execution_count": null,
   "metadata": {},
   "outputs": [],
   "source": [
    "df['Teste'] = modelo.Q"
   ]
  },
  {
   "cell_type": "code",
   "execution_count": null,
   "metadata": {},
   "outputs": [],
   "source": [
    "pd.options.plotting.backend = \"plotly\"\n",
    "\n",
    "df[['Qobs','Teste', 'Qplan']].plot()"
   ]
  },
  {
   "cell_type": "code",
   "execution_count": null,
   "metadata": {},
   "outputs": [],
   "source": [
    "result = modelo.Calibrate(df.Qobs, objective_function='kge')\n",
    "print(bacia)"
   ]
  },
  {
   "cell_type": "code",
   "execution_count": null,
   "metadata": {},
   "outputs": [],
   "source": [
    "df['Teste2'] = modelo.Q"
   ]
  },
  {
   "cell_type": "code",
   "execution_count": null,
   "metadata": {},
   "outputs": [],
   "source": [
    "df[['Qobs','Teste', 'Teste2', 'Qplan']].plot()"
   ]
  },
  {
   "cell_type": "code",
   "execution_count": null,
   "metadata": {},
   "outputs": [],
   "source": [
    "print(bacia)"
   ]
  },
  {
   "cell_type": "code",
   "execution_count": null,
   "metadata": {},
   "outputs": [],
   "source": [
    "modelo.Calibrate(df.Qobs, objective_function='pbias')['x']"
   ]
  },
  {
   "cell_type": "code",
   "execution_count": null,
   "metadata": {},
   "outputs": [],
   "source": [
    "print(bacia)"
   ]
  },
  {
   "cell_type": "code",
   "execution_count": null,
   "metadata": {},
   "outputs": [],
   "source": [
    "df['teste12'] = modelo.Q\n",
    "df[['Qobs','Teste', 'Teste2', 'Qplan', 'teste12']].plot()"
   ]
  }
 ],
 "metadata": {
  "kernelspec": {
   "display_name": "Python 3",
   "language": "python",
   "name": "python3"
  },
  "language_info": {
   "codemirror_mode": {
    "name": "ipython",
    "version": 3
   },
   "file_extension": ".py",
   "mimetype": "text/x-python",
   "name": "python",
   "nbconvert_exporter": "python",
   "pygments_lexer": "ipython3",
   "version": "3.7.13"
  },
  "orig_nbformat": 4
 },
 "nbformat": 4,
 "nbformat_minor": 2
}
