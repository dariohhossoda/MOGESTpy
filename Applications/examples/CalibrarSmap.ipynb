{
 "cells": [
  {
   "cell_type": "markdown",
   "metadata": {},
   "source": [
    "### Importing packages and bibs"
   ]
  },
  {
   "cell_type": "code",
   "execution_count": 1,
   "metadata": {},
   "outputs": [],
   "source": [
    "import pandas as pd\n",
    "\n",
    "from mogestpy.quantity.Hydrological import SMAP\n",
    "from spotpy.objectivefunctions import mae, rmse, nashsutcliffe, kge, pbias\n",
    "from scipy.optimize import Bounds"
   ]
  },
  {
   "cell_type": "markdown",
   "metadata": {},
   "source": [
    "#### Pandas Plotting Backend\n",
    "\n",
    "Plotly creates html graphs that are useful for data visualization"
   ]
  },
  {
   "cell_type": "code",
   "execution_count": 2,
   "metadata": {},
   "outputs": [],
   "source": [
    "pd.options.plotting.backend = \"plotly\""
   ]
  },
  {
   "cell_type": "markdown",
   "metadata": {},
   "source": [
    "Loading data into a Pandas DataFrame"
   ]
  },
  {
   "cell_type": "code",
   "execution_count": 3,
   "metadata": {},
   "outputs": [
    {
     "data": {
      "text/html": [
       "<div>\n",
       "<style scoped>\n",
       "    .dataframe tbody tr th:only-of-type {\n",
       "        vertical-align: middle;\n",
       "    }\n",
       "\n",
       "    .dataframe tbody tr th {\n",
       "        vertical-align: top;\n",
       "    }\n",
       "\n",
       "    .dataframe thead th {\n",
       "        text-align: right;\n",
       "    }\n",
       "</style>\n",
       "<table border=\"1\" class=\"dataframe\">\n",
       "  <thead>\n",
       "    <tr style=\"text-align: right;\">\n",
       "      <th></th>\n",
       "      <th>ETP</th>\n",
       "      <th>P</th>\n",
       "      <th>Qobs</th>\n",
       "      <th>Qplan</th>\n",
       "    </tr>\n",
       "  </thead>\n",
       "  <tbody>\n",
       "    <tr>\n",
       "      <th>0</th>\n",
       "      <td>5.266667</td>\n",
       "      <td>0.000000</td>\n",
       "      <td>1.69</td>\n",
       "      <td>-0.323000</td>\n",
       "    </tr>\n",
       "    <tr>\n",
       "      <th>1</th>\n",
       "      <td>5.266667</td>\n",
       "      <td>0.000000</td>\n",
       "      <td>0.06</td>\n",
       "      <td>-0.319765</td>\n",
       "    </tr>\n",
       "    <tr>\n",
       "      <th>2</th>\n",
       "      <td>5.266667</td>\n",
       "      <td>1.100000</td>\n",
       "      <td>0.41</td>\n",
       "      <td>-0.316562</td>\n",
       "    </tr>\n",
       "    <tr>\n",
       "      <th>3</th>\n",
       "      <td>5.266667</td>\n",
       "      <td>0.000000</td>\n",
       "      <td>0.06</td>\n",
       "      <td>-0.313391</td>\n",
       "    </tr>\n",
       "    <tr>\n",
       "      <th>4</th>\n",
       "      <td>5.266667</td>\n",
       "      <td>0.000000</td>\n",
       "      <td>1.94</td>\n",
       "      <td>-0.310251</td>\n",
       "    </tr>\n",
       "    <tr>\n",
       "      <th>...</th>\n",
       "      <td>...</td>\n",
       "      <td>...</td>\n",
       "      <td>...</td>\n",
       "      <td>...</td>\n",
       "    </tr>\n",
       "    <tr>\n",
       "      <th>2118</th>\n",
       "      <td>3.233333</td>\n",
       "      <td>0.000000</td>\n",
       "      <td>0.11</td>\n",
       "      <td>0.028231</td>\n",
       "    </tr>\n",
       "    <tr>\n",
       "      <th>2119</th>\n",
       "      <td>3.233333</td>\n",
       "      <td>0.283333</td>\n",
       "      <td>0.09</td>\n",
       "      <td>0.025673</td>\n",
       "    </tr>\n",
       "    <tr>\n",
       "      <th>2120</th>\n",
       "      <td>3.233333</td>\n",
       "      <td>0.003333</td>\n",
       "      <td>0.02</td>\n",
       "      <td>0.024410</td>\n",
       "    </tr>\n",
       "    <tr>\n",
       "      <th>2121</th>\n",
       "      <td>3.233333</td>\n",
       "      <td>0.496667</td>\n",
       "      <td>0.01</td>\n",
       "      <td>0.023720</td>\n",
       "    </tr>\n",
       "    <tr>\n",
       "      <th>2122</th>\n",
       "      <td>3.233333</td>\n",
       "      <td>0.080000</td>\n",
       "      <td>0.07</td>\n",
       "      <td>0.023286</td>\n",
       "    </tr>\n",
       "  </tbody>\n",
       "</table>\n",
       "<p>2123 rows × 4 columns</p>\n",
       "</div>"
      ],
      "text/plain": [
       "           ETP         P  Qobs     Qplan\n",
       "0     5.266667  0.000000  1.69 -0.323000\n",
       "1     5.266667  0.000000  0.06 -0.319765\n",
       "2     5.266667  1.100000  0.41 -0.316562\n",
       "3     5.266667  0.000000  0.06 -0.313391\n",
       "4     5.266667  0.000000  1.94 -0.310251\n",
       "...        ...       ...   ...       ...\n",
       "2118  3.233333  0.000000  0.11  0.028231\n",
       "2119  3.233333  0.283333  0.09  0.025673\n",
       "2120  3.233333  0.003333  0.02  0.024410\n",
       "2121  3.233333  0.496667  0.01  0.023720\n",
       "2122  3.233333  0.080000  0.07  0.023286\n",
       "\n",
       "[2123 rows x 4 columns]"
      ]
     },
     "metadata": {},
     "output_type": "display_data"
    }
   ],
   "source": [
    "df = pd.read_excel(r'D:\\Dados\\smap_jundiai.xlsx')\n",
    "display(df)"
   ]
  },
  {
   "cell_type": "markdown",
   "metadata": {},
   "source": [
    "Leaving watershed input data as default except for drainage area because .Calibrate() will override these values."
   ]
  },
  {
   "cell_type": "code",
   "execution_count": 4,
   "metadata": {},
   "outputs": [],
   "source": [
    "bacia = SMAP.SMAP.Basin(AD=109.08)\n",
    "ponto = SMAP.SMAP.Point(df['P'], df['ETP'])\n",
    "modelo = SMAP.SMAP(ponto, bacia)"
   ]
  },
  {
   "cell_type": "code",
   "execution_count": 5,
   "metadata": {},
   "outputs": [],
   "source": [
    "result = modelo.Calibrate(df.Qobs, optimization_engine='de')"
   ]
  },
  {
   "cell_type": "code",
   "execution_count": 6,
   "metadata": {},
   "outputs": [
    {
     "name": "stdout",
     "output_type": "stream",
     "text": [
      "SMAP Basin Object:\n",
      "  Str = 220.50030836954716,\n",
      "  Crec = 3.9548929396826527,\n",
      "  Capc = 39.227910162679066,\n",
      "  kkt = 103.64064573633222,\n",
      "  k2t = 0.9544683059791361,\n",
      "  Ai = 2.00000001,\n",
      "  TUin = 0.2794515361707833,\n",
      "  EBin = 12.472074298397635,\n",
      "  AD = 109.08\n"
     ]
    }
   ],
   "source": [
    "print(bacia)"
   ]
  },
  {
   "cell_type": "code",
   "execution_count": 7,
   "metadata": {},
   "outputs": [],
   "source": [
    "df['Qcodigo'] = modelo.Q"
   ]
  },
  {
   "cell_type": "code",
   "execution_count": 8,
   "metadata": {},
   "outputs": [],
   "source": [
    "result2 = modelo.Calibrate(df['Qobs'], objective_function='kge')"
   ]
  },
  {
   "cell_type": "code",
   "execution_count": 9,
   "metadata": {},
   "outputs": [
    {
     "data": {
      "text/plain": [
       "      fun: -0.6530595964585548\n",
       " hess_inv: <8x8 LbfgsInvHessProduct with dtype=float64>\n",
       "      jac: array([ 1.07707244e-03,  0.00000000e+00, -4.25109945e-03,  0.00000000e+00,\n",
       "        0.00000000e+00,  0.00000000e+00,  2.55351294e-07,  1.58313807e-02])\n",
       "  message: 'CONVERGENCE: NORM_OF_PROJECTED_GRADIENT_<=_PGTOL'\n",
       "     nfev: 432\n",
       "      nit: 37\n",
       "     njev: 48\n",
       "   status: 0\n",
       "  success: True\n",
       "        x: array([100.        ,  10.        ,   1.        ,   0.        ,\n",
       "        40.        , 105.        ,   0.95254134,   2.        ])"
      ]
     },
     "execution_count": 9,
     "metadata": {},
     "output_type": "execute_result"
    }
   ],
   "source": [
    "result2"
   ]
  },
  {
   "cell_type": "code",
   "execution_count": 10,
   "metadata": {},
   "outputs": [],
   "source": [
    "df['Qfo-teste'] = modelo.Q"
   ]
  },
  {
   "cell_type": "code",
   "execution_count": 11,
   "metadata": {},
   "outputs": [],
   "source": [
    "def funcao_objetivo(eval, sim):\n",
    "    somatorio = 0\n",
    "    for i, j in zip(eval, sim):\n",
    "        somatorio += (i - j) ** 2\n",
    "    return somatorio"
   ]
  },
  {
   "cell_type": "code",
   "execution_count": 12,
   "metadata": {},
   "outputs": [
    {
     "ename": "KeyboardInterrupt",
     "evalue": "",
     "output_type": "error",
     "traceback": [
      "\u001b[1;31m---------------------------------------------------------------------------\u001b[0m",
      "\u001b[1;31mKeyboardInterrupt\u001b[0m                         Traceback (most recent call last)",
      "\u001b[1;32m~\\AppData\\Local\\Temp\\ipykernel_19512\\1232337048.py\u001b[0m in \u001b[0;36m<module>\u001b[1;34m\u001b[0m\n\u001b[1;32m----> 1\u001b[1;33m \u001b[0mresult_test\u001b[0m \u001b[1;33m=\u001b[0m \u001b[0mmodelo\u001b[0m\u001b[1;33m.\u001b[0m\u001b[0mCalibrate\u001b[0m\u001b[1;33m(\u001b[0m\u001b[0mdf\u001b[0m\u001b[1;33m.\u001b[0m\u001b[0mQobs\u001b[0m\u001b[1;33m,\u001b[0m \u001b[0mobjective_function\u001b[0m\u001b[1;33m=\u001b[0m\u001b[0mfuncao_objetivo\u001b[0m\u001b[1;33m,\u001b[0m \u001b[0moptimization_engine\u001b[0m\u001b[1;33m=\u001b[0m\u001b[1;34m'differential_evolution'\u001b[0m\u001b[1;33m)\u001b[0m\u001b[1;33m\u001b[0m\u001b[1;33m\u001b[0m\u001b[0m\n\u001b[0m",
      "\u001b[1;32mc:\\Conda\\envs\\testing\\lib\\site-packages\\mogestpy\\quantity\\Hydrological\\SMAP.py\u001b[0m in \u001b[0;36mCalibrate\u001b[1;34m(self, evaluation, bounds, optimization_engine, x0, maxiter, objective_function)\u001b[0m\n\u001b[0;32m    228\u001b[0m         \u001b[1;32mif\u001b[0m \u001b[0moptimization_engine\u001b[0m \u001b[1;33m==\u001b[0m \u001b[1;34m'minimize'\u001b[0m\u001b[1;33m:\u001b[0m\u001b[1;33m\u001b[0m\u001b[1;33m\u001b[0m\u001b[0m\n\u001b[0;32m    229\u001b[0m             \u001b[1;32mreturn\u001b[0m \u001b[0mminimize\u001b[0m\u001b[1;33m(\u001b[0m\u001b[0mobjective\u001b[0m\u001b[1;33m,\u001b[0m \u001b[0mx0\u001b[0m\u001b[1;33m=\u001b[0m\u001b[0mx0\u001b[0m\u001b[1;33m,\u001b[0m \u001b[0mbounds\u001b[0m\u001b[1;33m=\u001b[0m\u001b[0mbounds\u001b[0m\u001b[1;33m)\u001b[0m\u001b[1;33m\u001b[0m\u001b[1;33m\u001b[0m\u001b[0m\n\u001b[1;32m--> 230\u001b[1;33m         \u001b[1;32mreturn\u001b[0m \u001b[0mdifferential_evolution\u001b[0m\u001b[1;33m(\u001b[0m\u001b[0mobjective\u001b[0m\u001b[1;33m,\u001b[0m \u001b[0mbounds\u001b[0m\u001b[1;33m=\u001b[0m\u001b[0mbounds\u001b[0m\u001b[1;33m,\u001b[0m \u001b[0mmaxiter\u001b[0m\u001b[1;33m=\u001b[0m\u001b[0mmaxiter\u001b[0m\u001b[1;33m)\u001b[0m\u001b[1;33m\u001b[0m\u001b[1;33m\u001b[0m\u001b[0m\n\u001b[0m\u001b[0;32m    231\u001b[0m \u001b[1;33m\u001b[0m\u001b[0m\n\u001b[0;32m    232\u001b[0m \u001b[1;33m\u001b[0m\u001b[0m\n",
      "\u001b[1;32mc:\\Conda\\envs\\testing\\lib\\site-packages\\scipy\\optimize\\_differentialevolution.py\u001b[0m in \u001b[0;36mdifferential_evolution\u001b[1;34m(func, bounds, args, strategy, maxiter, popsize, tol, mutation, recombination, seed, callback, disp, polish, init, atol, updating, workers, constraints, x0)\u001b[0m\n\u001b[0;32m    327\u001b[0m                                      \u001b[0mconstraints\u001b[0m\u001b[1;33m=\u001b[0m\u001b[0mconstraints\u001b[0m\u001b[1;33m,\u001b[0m\u001b[1;33m\u001b[0m\u001b[1;33m\u001b[0m\u001b[0m\n\u001b[0;32m    328\u001b[0m                                      x0=x0) as solver:\n\u001b[1;32m--> 329\u001b[1;33m         \u001b[0mret\u001b[0m \u001b[1;33m=\u001b[0m \u001b[0msolver\u001b[0m\u001b[1;33m.\u001b[0m\u001b[0msolve\u001b[0m\u001b[1;33m(\u001b[0m\u001b[1;33m)\u001b[0m\u001b[1;33m\u001b[0m\u001b[1;33m\u001b[0m\u001b[0m\n\u001b[0m\u001b[0;32m    330\u001b[0m \u001b[1;33m\u001b[0m\u001b[0m\n\u001b[0;32m    331\u001b[0m     \u001b[1;32mreturn\u001b[0m \u001b[0mret\u001b[0m\u001b[1;33m\u001b[0m\u001b[1;33m\u001b[0m\u001b[0m\n",
      "\u001b[1;32mc:\\Conda\\envs\\testing\\lib\\site-packages\\scipy\\optimize\\_differentialevolution.py\u001b[0m in \u001b[0;36msolve\u001b[1;34m(self)\u001b[0m\n\u001b[0;32m    850\u001b[0m             \u001b[1;31m# evolve the population by a generation\u001b[0m\u001b[1;33m\u001b[0m\u001b[1;33m\u001b[0m\u001b[1;33m\u001b[0m\u001b[0m\n\u001b[0;32m    851\u001b[0m             \u001b[1;32mtry\u001b[0m\u001b[1;33m:\u001b[0m\u001b[1;33m\u001b[0m\u001b[1;33m\u001b[0m\u001b[0m\n\u001b[1;32m--> 852\u001b[1;33m                 \u001b[0mnext\u001b[0m\u001b[1;33m(\u001b[0m\u001b[0mself\u001b[0m\u001b[1;33m)\u001b[0m\u001b[1;33m\u001b[0m\u001b[1;33m\u001b[0m\u001b[0m\n\u001b[0m\u001b[0;32m    853\u001b[0m             \u001b[1;32mexcept\u001b[0m \u001b[0mStopIteration\u001b[0m\u001b[1;33m:\u001b[0m\u001b[1;33m\u001b[0m\u001b[1;33m\u001b[0m\u001b[0m\n\u001b[0;32m    854\u001b[0m                 \u001b[0mwarning_flag\u001b[0m \u001b[1;33m=\u001b[0m \u001b[1;32mTrue\u001b[0m\u001b[1;33m\u001b[0m\u001b[1;33m\u001b[0m\u001b[0m\n",
      "\u001b[1;32mc:\\Conda\\envs\\testing\\lib\\site-packages\\scipy\\optimize\\_differentialevolution.py\u001b[0m in \u001b[0;36m__next__\u001b[1;34m(self)\u001b[0m\n\u001b[0;32m   1160\u001b[0m                     \u001b[0mfeasible\u001b[0m \u001b[1;33m=\u001b[0m \u001b[1;32mTrue\u001b[0m\u001b[1;33m\u001b[0m\u001b[1;33m\u001b[0m\u001b[0m\n\u001b[0;32m   1161\u001b[0m                     \u001b[0mcv\u001b[0m \u001b[1;33m=\u001b[0m \u001b[0mnp\u001b[0m\u001b[1;33m.\u001b[0m\u001b[0matleast_2d\u001b[0m\u001b[1;33m(\u001b[0m\u001b[1;33m[\u001b[0m\u001b[1;36m0.\u001b[0m\u001b[1;33m]\u001b[0m\u001b[1;33m)\u001b[0m\u001b[1;33m\u001b[0m\u001b[1;33m\u001b[0m\u001b[0m\n\u001b[1;32m-> 1162\u001b[1;33m                     \u001b[0menergy\u001b[0m \u001b[1;33m=\u001b[0m \u001b[0mself\u001b[0m\u001b[1;33m.\u001b[0m\u001b[0mfunc\u001b[0m\u001b[1;33m(\u001b[0m\u001b[0mparameters\u001b[0m\u001b[1;33m)\u001b[0m\u001b[1;33m\u001b[0m\u001b[1;33m\u001b[0m\u001b[0m\n\u001b[0m\u001b[0;32m   1163\u001b[0m                     \u001b[0mself\u001b[0m\u001b[1;33m.\u001b[0m\u001b[0m_nfev\u001b[0m \u001b[1;33m+=\u001b[0m \u001b[1;36m1\u001b[0m\u001b[1;33m\u001b[0m\u001b[1;33m\u001b[0m\u001b[0m\n\u001b[0;32m   1164\u001b[0m \u001b[1;33m\u001b[0m\u001b[0m\n",
      "\u001b[1;32mc:\\Conda\\envs\\testing\\lib\\site-packages\\scipy\\optimize\\_differentialevolution.py\u001b[0m in \u001b[0;36m__call__\u001b[1;34m(self, x)\u001b[0m\n\u001b[0;32m   1344\u001b[0m \u001b[1;33m\u001b[0m\u001b[0m\n\u001b[0;32m   1345\u001b[0m     \u001b[1;32mdef\u001b[0m \u001b[0m__call__\u001b[0m\u001b[1;33m(\u001b[0m\u001b[0mself\u001b[0m\u001b[1;33m,\u001b[0m \u001b[0mx\u001b[0m\u001b[1;33m)\u001b[0m\u001b[1;33m:\u001b[0m\u001b[1;33m\u001b[0m\u001b[1;33m\u001b[0m\u001b[0m\n\u001b[1;32m-> 1346\u001b[1;33m         \u001b[1;32mreturn\u001b[0m \u001b[0mself\u001b[0m\u001b[1;33m.\u001b[0m\u001b[0mf\u001b[0m\u001b[1;33m(\u001b[0m\u001b[0mx\u001b[0m\u001b[1;33m,\u001b[0m \u001b[1;33m*\u001b[0m\u001b[0mself\u001b[0m\u001b[1;33m.\u001b[0m\u001b[0margs\u001b[0m\u001b[1;33m)\u001b[0m\u001b[1;33m\u001b[0m\u001b[1;33m\u001b[0m\u001b[0m\n\u001b[0m\u001b[0;32m   1347\u001b[0m \u001b[1;33m\u001b[0m\u001b[0m\n\u001b[0;32m   1348\u001b[0m \u001b[1;33m\u001b[0m\u001b[0m\n",
      "\u001b[1;32mc:\\Conda\\envs\\testing\\lib\\site-packages\\mogestpy\\quantity\\Hydrological\\SMAP.py\u001b[0m in \u001b[0;36mobjective\u001b[1;34m(p)\u001b[0m\n\u001b[0;32m    215\u001b[0m             \u001b[0mself\u001b[0m\u001b[1;33m.\u001b[0m\u001b[0mBasin\u001b[0m\u001b[1;33m.\u001b[0m\u001b[0mEbin\u001b[0m\u001b[1;33m=\u001b[0m\u001b[0mEbin\u001b[0m\u001b[1;33m\u001b[0m\u001b[1;33m\u001b[0m\u001b[0m\n\u001b[0;32m    216\u001b[0m \u001b[1;33m\u001b[0m\u001b[0m\n\u001b[1;32m--> 217\u001b[1;33m             \u001b[0mself\u001b[0m\u001b[1;33m.\u001b[0m\u001b[0mRunModel\u001b[0m\u001b[1;33m(\u001b[0m\u001b[1;33m)\u001b[0m\u001b[1;33m\u001b[0m\u001b[1;33m\u001b[0m\u001b[0m\n\u001b[0m\u001b[0;32m    218\u001b[0m \u001b[1;33m\u001b[0m\u001b[0m\n\u001b[0;32m    219\u001b[0m             obj_func_dict = {'nse': lambda eval, Q: -nashsutcliffe(eval, Q),\n",
      "\u001b[1;32mc:\\Conda\\envs\\testing\\lib\\site-packages\\mogestpy\\quantity\\Hydrological\\SMAP.py\u001b[0m in \u001b[0;36mRunModel\u001b[1;34m(self)\u001b[0m\n\u001b[0;32m    148\u001b[0m                   \u001b[1;33m(\u001b[0m\u001b[1;33m(\u001b[0m\u001b[0mself\u001b[0m\u001b[1;33m.\u001b[0m\u001b[0mPoint\u001b[0m\u001b[1;33m.\u001b[0m\u001b[0mP\u001b[0m\u001b[1;33m[\u001b[0m\u001b[0mi\u001b[0m\u001b[1;33m]\u001b[0m \u001b[1;33m-\u001b[0m \u001b[0mES\u001b[0m\u001b[1;33m)\u001b[0m \u001b[1;33m>\u001b[0m \u001b[0mself\u001b[0m\u001b[1;33m.\u001b[0m\u001b[0mPoint\u001b[0m\u001b[1;33m.\u001b[0m\u001b[0mEP\u001b[0m\u001b[1;33m[\u001b[0m\u001b[0mi\u001b[0m\u001b[1;33m]\u001b[0m\u001b[1;33m)\u001b[0m\u001b[1;33m\u001b[0m\u001b[1;33m\u001b[0m\u001b[0m\n\u001b[0;32m    149\u001b[0m                   \u001b[1;32melse\u001b[0m \u001b[0mself\u001b[0m\u001b[1;33m.\u001b[0m\u001b[0mPoint\u001b[0m\u001b[1;33m.\u001b[0m\u001b[0mP\u001b[0m\u001b[1;33m[\u001b[0m\u001b[0mi\u001b[0m\u001b[1;33m]\u001b[0m \u001b[1;33m-\u001b[0m \u001b[0mES\u001b[0m\u001b[1;33m\u001b[0m\u001b[1;33m\u001b[0m\u001b[0m\n\u001b[1;32m--> 150\u001b[1;33m                   + ((self.Point.EP[i] - self.Point.P[i] + ES) * TU))\n\u001b[0m\u001b[0;32m    151\u001b[0m \u001b[1;33m\u001b[0m\u001b[0m\n\u001b[0;32m    152\u001b[0m             Rec = (self.Basin.Crec * TU\n",
      "\u001b[1;31mKeyboardInterrupt\u001b[0m: "
     ]
    }
   ],
   "source": [
    "result_test = modelo.Calibrate(df.Qobs, objective_function=funcao_objetivo, optimization_engine='differential_evolution')"
   ]
  },
  {
   "cell_type": "code",
   "execution_count": null,
   "metadata": {},
   "outputs": [
    {
     "data": {
      "text/plain": [
       "     fun: 16185.100806196497\n",
       " message: 'Optimization terminated successfully.'\n",
       "    nfev: 2352\n",
       "     nit: 18\n",
       " success: True\n",
       "       x: array([2.32758597e+02, 6.45738003e+00, 2.01220657e-01, 3.61557553e+00,\n",
       "       3.95057995e+01, 1.04453889e+02, 9.34341505e-01, 2.00916733e+00])"
      ]
     },
     "execution_count": 13,
     "metadata": {},
     "output_type": "execute_result"
    }
   ],
   "source": [
    "result_test"
   ]
  },
  {
   "cell_type": "code",
   "execution_count": null,
   "metadata": {},
   "outputs": [
    {
     "name": "stdout",
     "output_type": "stream",
     "text": [
      "SMAP Basin Object:\n",
      "  Str = 232.75860315434687,\n",
      "  Crec = 6.457380076609695,\n",
      "  Capc = 39.50579958012301,\n",
      "  kkt = 104.45388941250211,\n",
      "  k2t = 0.9343415361995924,\n",
      "  Ai = 2.0091673537087633,\n",
      "  TUin = 0.2012206597726131,\n",
      "  EBin = 3.6155755821769953,\n",
      "  AD = 109.08\n"
     ]
    }
   ],
   "source": [
    "print(bacia)"
   ]
  },
  {
   "cell_type": "code",
   "execution_count": null,
   "metadata": {},
   "outputs": [],
   "source": [
    "df['Qcustom_fo'] = modelo.Q"
   ]
  },
  {
   "cell_type": "code",
   "execution_count": null,
   "metadata": {},
   "outputs": [],
   "source": [
    "bacia2=SMAP.SMAP.Basin(\n",
    "    Str = 235.00569097847588,\n",
    "    Crec = 11.489898491508313,\n",
    "    TUin = 0.8544213137461782,\n",
    "    EBin = 10.965839303606261,\n",
    "    Capc = 40.02608612021428,\n",
    "    kkt = 79.03366335608037,\n",
    "    k2t = 0.9532324848266956,\n",
    "    Ai = 2.0253907074478206,\n",
    "    AD=109.08\n",
    ")"
   ]
  },
  {
   "cell_type": "code",
   "execution_count": null,
   "metadata": {},
   "outputs": [],
   "source": [
    "modelo2 = SMAP.SMAP(ponto, bacia2)"
   ]
  },
  {
   "cell_type": "code",
   "execution_count": null,
   "metadata": {},
   "outputs": [
    {
     "data": {
      "text/plain": [
       "      fun: -0.35239627328026346\n",
       " hess_inv: <8x8 LbfgsInvHessProduct with dtype=float64>\n",
       "      jac: array([13620605.33642578, 13620477.5759475 , 13620478.63460565,\n",
       "       13620478.70304528, 13620477.57608191, 13620487.25401939,\n",
       "       13620478.53183559, 13620478.79531523])\n",
       "  message: 'ABNORMAL_TERMINATION_IN_LNSRCH'\n",
       "     nfev: 189\n",
       "      nit: 0\n",
       "     njev: 21\n",
       "   status: 2\n",
       "  success: False\n",
       "        x: array([1.05e+03, 1.00e+01, 5.00e-01, 0.00e+00, 4.00e+01, 1.05e+02,\n",
       "       2.00e-01, 3.50e+00])"
      ]
     },
     "execution_count": 18,
     "metadata": {},
     "output_type": "execute_result"
    }
   ],
   "source": [
    "modelo2.Calibrate(df.Qobs, objective_function='kge')"
   ]
  },
  {
   "cell_type": "code",
   "execution_count": null,
   "metadata": {},
   "outputs": [],
   "source": [
    "df['Calib_DE'] = modelo2.Q"
   ]
  },
  {
   "cell_type": "code",
   "execution_count": null,
   "metadata": {},
   "outputs": [
    {
     "ename": "NameError",
     "evalue": "name 'df' is not defined",
     "output_type": "error",
     "traceback": [
      "\u001b[1;31m---------------------------------------------------------------------------\u001b[0m",
      "\u001b[1;31mNameError\u001b[0m                                 Traceback (most recent call last)",
      "\u001b[1;32m~\\AppData\\Local\\Temp\\ipykernel_13516\\783817780.py\u001b[0m in \u001b[0;36m<module>\u001b[1;34m\u001b[0m\n\u001b[1;32m----> 1\u001b[1;33m \u001b[0mdf\u001b[0m\u001b[1;33m[\u001b[0m\u001b[1;33m[\u001b[0m\u001b[1;34m'Qobs'\u001b[0m\u001b[1;33m,\u001b[0m \u001b[1;34m'Qplan'\u001b[0m\u001b[1;33m,\u001b[0m \u001b[1;34m'Qcodigo'\u001b[0m\u001b[1;33m,\u001b[0m \u001b[1;34m'Qcustom_fo'\u001b[0m\u001b[1;33m,\u001b[0m \u001b[1;34m'Calib_DE'\u001b[0m\u001b[1;33m]\u001b[0m\u001b[1;33m]\u001b[0m\u001b[1;33m.\u001b[0m\u001b[0mplot\u001b[0m\u001b[1;33m(\u001b[0m\u001b[1;33m)\u001b[0m\u001b[1;33m\u001b[0m\u001b[1;33m\u001b[0m\u001b[0m\n\u001b[0m",
      "\u001b[1;31mNameError\u001b[0m: name 'df' is not defined"
     ]
    }
   ],
   "source": [
    "df[['Qobs', 'Qplan', 'Qcodigo', 'Qcustom_fo', 'Calib_DE']].plot()"
   ]
  },
  {
   "cell_type": "code",
   "execution_count": null,
   "metadata": {},
   "outputs": [],
   "source": [
    "bacia = SMAP.SMAP.Basin(\n",
    "    Str = 232.75860315434687,\n",
    "    Crec = 6.457380076609695,\n",
    "    Capc = 39.50579958012301,\n",
    "    kkt = 104.45388941250211,\n",
    "    k2t = 0.9343415361995924,\n",
    "    Ai = 2.0091673537087633,\n",
    "    TUin = 0.2012206597726131,\n",
    "    EBin = 3.6155755821769953,\n",
    "    AD = 109.08\n",
    ")"
   ]
  },
  {
   "cell_type": "code",
   "execution_count": null,
   "metadata": {},
   "outputs": [],
   "source": [
    "bacia = SMAP.SMAP.Basin(    \n",
    "    Str = 232.75860315434687,\n",
    "    Crec = 6.457380076609695,\n",
    "    Capc = 39.50579958012301,\n",
    "    kkt = 104.45388941250211,\n",
    "    k2t = 0.9343415361995924,\n",
    "    Ai = 2.0091673537087633,\n",
    "    TUin = 0.2012206597726131,\n",
    "    EBin = 3.6155755821769953,\n",
    "    AD = 109.08\n",
    ")"
   ]
  }
 ],
 "metadata": {
  "kernelspec": {
   "display_name": "Python 3",
   "language": "python",
   "name": "python3"
  },
  "language_info": {
   "codemirror_mode": {
    "name": "ipython",
    "version": 3
   },
   "file_extension": ".py",
   "mimetype": "text/x-python",
   "name": "python",
   "nbconvert_exporter": "python",
   "pygments_lexer": "ipython3",
   "version": "3.7.13"
  },
  "orig_nbformat": 4
 },
 "nbformat": 4,
 "nbformat_minor": 2
}
