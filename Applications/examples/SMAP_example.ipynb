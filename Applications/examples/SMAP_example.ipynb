{
 "cells": [
  {
   "cell_type": "markdown",
   "metadata": {},
   "source": [
    "# Soil Moisture Accounting Procedure (SMAP) application example"
   ]
  },
  {
   "cell_type": "markdown",
   "metadata": {},
   "source": [
    "## Importing the MOGESTpy Smap class"
   ]
  },
  {
   "cell_type": "code",
   "execution_count": 1,
   "metadata": {},
   "outputs": [],
   "source": [
    "import pandas as pd\n",
    "\n",
    "from mogestpy import Smap"
   ]
  },
  {
   "cell_type": "markdown",
   "metadata": {},
   "source": [
    "### Loading the example dataset"
   ]
  },
  {
   "cell_type": "code",
   "execution_count": 2,
   "metadata": {},
   "outputs": [],
   "source": [
    "df = pd.read_excel('../../datasets/Biritiba_SMAP.xlsx') # Biritiba Dataset"
   ]
  },
  {
   "cell_type": "code",
   "execution_count": 3,
   "metadata": {},
   "outputs": [
    {
     "data": {
      "text/html": [
       "<div>\n",
       "<style scoped>\n",
       "    .dataframe tbody tr th:only-of-type {\n",
       "        vertical-align: middle;\n",
       "    }\n",
       "\n",
       "    .dataframe tbody tr th {\n",
       "        vertical-align: top;\n",
       "    }\n",
       "\n",
       "    .dataframe thead th {\n",
       "        text-align: right;\n",
       "    }\n",
       "</style>\n",
       "<table border=\"1\" class=\"dataframe\">\n",
       "  <thead>\n",
       "    <tr style=\"text-align: right;\">\n",
       "      <th></th>\n",
       "      <th>ET</th>\n",
       "      <th>P</th>\n",
       "    </tr>\n",
       "  </thead>\n",
       "  <tbody>\n",
       "    <tr>\n",
       "      <th>0</th>\n",
       "      <td>5.266667</td>\n",
       "      <td>0.0</td>\n",
       "    </tr>\n",
       "    <tr>\n",
       "      <th>1</th>\n",
       "      <td>5.266667</td>\n",
       "      <td>0.0</td>\n",
       "    </tr>\n",
       "    <tr>\n",
       "      <th>2</th>\n",
       "      <td>5.266667</td>\n",
       "      <td>0.0</td>\n",
       "    </tr>\n",
       "    <tr>\n",
       "      <th>3</th>\n",
       "      <td>5.266667</td>\n",
       "      <td>0.4</td>\n",
       "    </tr>\n",
       "    <tr>\n",
       "      <th>4</th>\n",
       "      <td>5.266667</td>\n",
       "      <td>4.2</td>\n",
       "    </tr>\n",
       "  </tbody>\n",
       "</table>\n",
       "</div>"
      ],
      "text/plain": [
       "         ET    P\n",
       "0  5.266667  0.0\n",
       "1  5.266667  0.0\n",
       "2  5.266667  0.0\n",
       "3  5.266667  0.4\n",
       "4  5.266667  4.2"
      ]
     },
     "execution_count": 3,
     "metadata": {},
     "output_type": "execute_result"
    }
   ],
   "source": [
    "df.head() # display the first 5 rows of the dataframe"
   ]
  },
  {
   "cell_type": "markdown",
   "metadata": {},
   "source": [
    "## Initializing the Smap Class Object"
   ]
  },
  {
   "cell_type": "code",
   "execution_count": 4,
   "metadata": {},
   "outputs": [],
   "source": [
    "smap = Smap()"
   ]
  },
  {
   "cell_type": "markdown",
   "metadata": {},
   "source": [
    "It is possible to initialize the Smap class object with all parameters"
   ]
  },
  {
   "cell_type": "code",
   "execution_count": 5,
   "metadata": {},
   "outputs": [],
   "source": [
    "smap = Smap(\n",
    "    Str=100,\n",
    "    k2t=1.43064763229058,\n",
    "    Crec=19.612562479845,\n",
    "    Ai=2,\n",
    "    Capc=30,\n",
    "    kkt=47.5320152819107,\n",
    "    Tuin=.05,\n",
    "    Ebin=0,\n",
    "    Ad=70.2\n",
    ")"
   ]
  },
  {
   "cell_type": "markdown",
   "metadata": {},
   "source": [
    "It's also possible to edit the parameters after the initialization"
   ]
  },
  {
   "cell_type": "code",
   "execution_count": 6,
   "metadata": {},
   "outputs": [],
   "source": [
    "smap = Smap()\n",
    "\n",
    "smap.Str = 100\n",
    "smap.k2t = 1.43064763229058\n",
    "smap.Crec = 19.612562479845\n",
    "smap.Ai = 2\n",
    "smap.Capc = 30\n",
    "smap.kkt = 47.5320152819107\n",
    "smap.Tuin = .05\n",
    "smap.Ebin = 0\n",
    "smap.Ad = 70.2"
   ]
  },
  {
   "cell_type": "markdown",
   "metadata": {},
   "source": [
    "The parameters are:\n",
    "\n",
    "- $Str$ (float): Soil Saturation (mm) (default: 100)\n",
    "- $Crec$ (float): Recession Coeficient (%) (default: 0)\n",
    "- $Capc$ (float): Field Capacity (%) (default: 40)\n",
    "- $kkt$ (float): Base flow recession coefficient (1/d) (default: 30)\n",
    "- $k2t$ (float): Surface runoff recession coefficient (1/d) (default: 0.2)\n",
    "- $Ad$ (float): Drainage area (km²) (default: 1)\n",
    "- $Tuin$ (float): Initial soil moisture content (default: 0)\n",
    "- $Ebin$ (float): Initial base flow (mm) (default: 0)\n",
    "- $Ai$ (float): Initial Abstraction (-) (default: 2.5)\n",
    "\n",
    "These information are also available at `>>> help(Smap)` in Python."
   ]
  },
  {
   "cell_type": "markdown",
   "metadata": {},
   "source": [
    "The parameter bounds can be accessed by using the `bounds()` method"
   ]
  },
  {
   "cell_type": "code",
   "execution_count": 7,
   "metadata": {},
   "outputs": [
    {
     "data": {
      "text/plain": [
       "{'Str': (100, 2000),\n",
       " 'Crec': (0, 20),\n",
       " 'Capc': (30, 50),\n",
       " 'kkt': (30, 180),\n",
       " 'k2t': (0.2, 10),\n",
       " 'Ai': (2, 5)}"
      ]
     },
     "execution_count": 7,
     "metadata": {},
     "output_type": "execute_result"
    }
   ],
   "source": [
    "smap.bounds()"
   ]
  },
  {
   "cell_type": "code",
   "execution_count": 8,
   "metadata": {},
   "outputs": [],
   "source": [
    "flow = smap.RunToList(df.P, df.ET)"
   ]
  },
  {
   "cell_type": "markdown",
   "metadata": {},
   "source": [
    "Displaying the first 15 days of simulated flow"
   ]
  },
  {
   "cell_type": "code",
   "execution_count": 9,
   "metadata": {},
   "outputs": [
    {
     "name": "stdout",
     "output_type": "stream",
     "text": [
      "Day \t Flow (m³/s)\n",
      "-------------------\n",
      "1 \t 0.00\n",
      "2 \t 0.00\n",
      "3 \t 0.00\n",
      "4 \t 0.00\n",
      "5 \t 0.00\n",
      "6 \t 0.02\n",
      "7 \t 0.01\n",
      "8 \t 0.41\n",
      "9 \t 0.25\n",
      "10 \t 0.16\n",
      "11 \t 0.10\n",
      "12 \t 0.06\n",
      "13 \t 0.04\n",
      "14 \t 0.05\n",
      "15 \t 0.03\n"
     ]
    }
   ],
   "source": [
    "print('Day \\t Flow (m³/s)')\n",
    "print('-------------------')\n",
    "for i, q in enumerate(flow[0:15]):\n",
    "    print(f'{i+1} \\t {q:.2f}')"
   ]
  },
  {
   "cell_type": "markdown",
   "metadata": {},
   "source": [
    "Adding the model result to the DataFrame `df`"
   ]
  },
  {
   "cell_type": "code",
   "execution_count": 10,
   "metadata": {},
   "outputs": [],
   "source": [
    "df['Q'] = flow"
   ]
  },
  {
   "cell_type": "markdown",
   "metadata": {},
   "source": [
    "### Calibration"
   ]
  },
  {
   "cell_type": "markdown",
   "metadata": {},
   "source": [
    "The calibration is performed using the `Calibrate()` method"
   ]
  },
  {
   "cell_type": "code",
   "execution_count": 11,
   "metadata": {},
   "outputs": [],
   "source": [
    "calibration = Smap()\n",
    "calibration.Ad = 70.2\n",
    "variables = ['Str', 'Crec', 'Ai', 'Capc', 'kkt']\n",
    "result = calibration.Calibrate(df.P, df.ET, df.Q, variables)\n",
    "calibration_flow = calibration.RunToList(df.P, df.ET)"
   ]
  },
  {
   "cell_type": "code",
   "execution_count": 12,
   "metadata": {},
   "outputs": [
    {
     "name": "stdout",
     "output_type": "stream",
     "text": [
      "             message: Optimization terminated successfully.\n",
      "             success: True\n",
      "                 fun: -0.8215030239899541\n",
      "                   x: [ 2.899e+02  2.000e+01  2.000e+00  3.019e+01\n",
      "                        3.000e+01]\n",
      "                 nit: 16\n",
      "                nfev: 1341\n",
      "          population: [[ 2.842e+02  1.920e+01 ...  3.026e+01  3.130e+01]\n",
      "                       [ 2.821e+02  1.846e+01 ...  3.620e+01  3.777e+01]\n",
      "                       ...\n",
      "                       [ 2.975e+02  1.569e+01 ...  3.199e+01  4.607e+01]\n",
      "                       [ 2.754e+02  1.962e+01 ...  3.090e+01  3.667e+01]]\n",
      " population_energies: [-8.215e-01 -8.010e-01 ... -8.017e-01 -8.159e-01]\n",
      "                 jac: [ 1.554e-07 -6.364e-04  1.834e-03 -4.663e-07\n",
      "                        5.704e-04]\n"
     ]
    }
   ],
   "source": [
    "print(result)"
   ]
  },
  {
   "cell_type": "markdown",
   "metadata": {},
   "source": [
    "Note that the calibration variables must be present in `Smap().bounds()`"
   ]
  },
  {
   "cell_type": "markdown",
   "metadata": {},
   "source": [
    "By default, the calibration method is the `differential_evolution` from `scipy.optimize` with the KGE objective function. Since the differential evolution searches for a minimum, the objective function is multiplied by -1 for KGE. It's possible to use other objective functions by changing the `obj_func` parameter."
   ]
  },
  {
   "cell_type": "code",
   "execution_count": 13,
   "metadata": {},
   "outputs": [],
   "source": [
    "def objective(eval, pred):\n",
    "    return sum(abs(eval - pred))"
   ]
  },
  {
   "cell_type": "code",
   "execution_count": 14,
   "metadata": {},
   "outputs": [],
   "source": [
    "calibration = Smap()\n",
    "calibration.Ad = 70.2\n",
    "variables = ['Str', 'Crec', 'Ai', 'Capc', 'kkt']\n",
    "result = calibration.Calibrate(df.P, df.ET, df.Q, variables, objective)\n",
    "calibration_flow = calibration.RunToList(df.P, df.ET)"
   ]
  },
  {
   "cell_type": "code",
   "execution_count": 15,
   "metadata": {},
   "outputs": [
    {
     "name": "stdout",
     "output_type": "stream",
     "text": [
      "             message: Optimization terminated successfully.\n",
      "             success: True\n",
      "                 fun: 1014.8482929826248\n",
      "                   x: [ 3.326e+02  2.000e+01  2.000e+00  4.739e+01\n",
      "                        4.335e+01]\n",
      "                 nit: 11\n",
      "                nfev: 1368\n",
      "          population: [[ 3.060e+02  1.977e+01 ...  4.778e+01  4.342e+01]\n",
      "                       [ 2.852e+02  1.983e+01 ...  4.272e+01  3.812e+01]\n",
      "                       ...\n",
      "                       [ 3.055e+02  1.969e+01 ...  4.762e+01  4.649e+01]\n",
      "                       [ 2.746e+02  1.987e+01 ...  4.645e+01  4.321e+01]]\n",
      " population_energies: [ 1.015e+03  1.028e+03 ...  1.021e+03  1.023e+03]\n",
      "                 jac: [-5.468e-03 -1.779e+00  7.552e+00  5.685e-02\n",
      "                        1.553e-02]\n"
     ]
    }
   ],
   "source": [
    "print(result)"
   ]
  },
  {
   "cell_type": "code",
   "execution_count": 16,
   "metadata": {},
   "outputs": [
    {
     "name": "stdout",
     "output_type": "stream",
     "text": [
      "KGE: 0.756390\n"
     ]
    }
   ],
   "source": [
    "from spotpy.objectivefunctions import kge\n",
    "\n",
    "print(f'KGE: {kge(df.Q, calibration_flow):3f}')"
   ]
  },
  {
   "cell_type": "markdown",
   "metadata": {},
   "source": [
    "### Graph"
   ]
  },
  {
   "cell_type": "code",
   "execution_count": 17,
   "metadata": {},
   "outputs": [
    {
     "data": {
      "image/png": "[encoded data removed]",
      "text/plain": [
       "<Figure size 551.181x314.961 with 2 Axes>"
      ]
     },
     "metadata": {},
     "output_type": "display_data"
    }
   ],
   "source": [
    "import matplotlib.pyplot as plt\n",
    "from matplotlib import rcParams\n",
    "rcParams['font.family'] = 'serif'\n",
    "rcParams['font.serif'] = ['Times New Roman']\n",
    "\n",
    "fig, ax = plt.subplots(\n",
    "    figsize=(140/25.4, 80/25.4),\n",
    "    constrained_layout=True\n",
    "    )\n",
    "\n",
    "x_axis = [i for i in range(smap.i)]\n",
    "\n",
    "ax.set_xlim(0, smap.i)\n",
    "ax.set_ylim(0, 40)\n",
    "ax.set_xlabel('Time (days)')\n",
    "ax.set_ylabel('Flow (m³/s)')\n",
    "prec = ax.twinx()\n",
    "prec.bar(x_axis, df['P'], color='blue', width=5, zorder=1, alpha=.5)\n",
    "prec.set_ylim(0,200)\n",
    "prec.invert_yaxis()\n",
    "prec.set_ylabel('Rainfall (mm)')\n",
    "ax.plot(x_axis, flow, color='black', linewidth=.5, zorder=2)\n",
    "ax.plot(x_axis, calibration_flow, color='red', linewidth=.5, zorder=2)\n",
    "\n",
    "#plt.savefig('Datasets/Results/smap_biritiba_graph.pdf', bbox_inches='tight')\n",
    "ax.grid(True, which='both', linestyle='-.', linewidth=.5)\n",
    "plt.show()"
   ]
  }
 ],
 "metadata": {
  "kernelspec": {
   "display_name": "Python 3.9.7 ('base')",
   "language": "python",
   "name": "python3"
  },
  "language_info": {
   "codemirror_mode": {
    "name": "ipython",
    "version": 3
   },
   "file_extension": ".py",
   "mimetype": "text/x-python",
   "name": "python",
   "nbconvert_exporter": "python",
   "pygments_lexer": "ipython3",
   "version": "3.9.17"
  },
  "orig_nbformat": 4,
  "vscode": {
   "interpreter": {
    "hash": "28d6d9e31a694f2aba28d42b1019d9365f56410d563150feaee59905aa4508a9"
   }
  }
 },
 "nbformat": 4,
 "nbformat_minor": 2
}
