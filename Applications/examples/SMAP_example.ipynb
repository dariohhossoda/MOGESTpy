{
 "cells": [
  {
   "cell_type": "markdown",
   "metadata": {},
   "source": [
    "# SMAP usage example"
   ]
  },
  {
   "cell_type": "markdown",
   "metadata": {},
   "source": [
    "This example shows how to use SMAP to create a simple model"
   ]
  },
  {
   "cell_type": "markdown",
   "metadata": {},
   "source": [
    "## Import the SMAP module"
   ]
  },
  {
   "cell_type": "code",
   "execution_count": 15,
   "metadata": {},
   "outputs": [],
   "source": [
    "from mogestpy.quantity.Hydrological.SMAP2 import Smap"
   ]
  },
  {
   "cell_type": "markdown",
   "metadata": {},
   "source": [
    "Loading precipitation and evapotranspiration data from a XLSX file"
   ]
  },
  {
   "cell_type": "code",
   "execution_count": 16,
   "metadata": {},
   "outputs": [
    {
     "data": {
      "application/vnd.microsoft.datawrangler.viewer.v0+json": {
       "columns": [
        {
         "name": "index",
         "rawType": "int64",
         "type": "integer"
        },
        {
         "name": "ET",
         "rawType": "float64",
         "type": "float"
        },
        {
         "name": "P",
         "rawType": "float64",
         "type": "float"
        }
       ],
       "conversionMethod": "pd.DataFrame",
       "ref": "64d25cbf-3b9b-41bb-9721-b42ca7807b92",
       "rows": [
        [
         "0",
         "5.266666666666667",
         "0.0"
        ],
        [
         "1",
         "5.266666666666667",
         "0.0"
        ],
        [
         "2",
         "5.266666666666667",
         "0.0"
        ],
        [
         "3",
         "5.266666666666667",
         "0.4"
        ],
        [
         "4",
         "5.266666666666667",
         "4.2"
        ],
        [
         "5",
         "5.266666666666667",
         "0.2"
        ],
        [
         "6",
         "5.266666666666667",
         "13.8"
        ],
        [
         "7",
         "5.266666666666667",
         "2.8"
        ],
        [
         "8",
         "5.266666666666667",
         "0.1"
        ],
        [
         "9",
         "5.266666666666667",
         "0.0"
        ],
        [
         "10",
         "5.266666666666667",
         "0.0"
        ],
        [
         "11",
         "5.266666666666667",
         "1.0"
        ],
        [
         "12",
         "5.266666666666667",
         "5.1"
        ],
        [
         "13",
         "5.266666666666667",
         "0.0"
        ],
        [
         "14",
         "5.266666666666667",
         "0.0"
        ],
        [
         "15",
         "5.266666666666667",
         "0.0"
        ],
        [
         "16",
         "5.266666666666667",
         "0.0"
        ],
        [
         "17",
         "5.266666666666667",
         "0.0"
        ],
        [
         "18",
         "5.266666666666667",
         "0.0"
        ],
        [
         "19",
         "5.266666666666667",
         "0.0"
        ],
        [
         "20",
         "5.266666666666667",
         "0.0"
        ],
        [
         "21",
         "5.266666666666667",
         "4.923333333333333"
        ],
        [
         "22",
         "5.266666666666667",
         "10.18"
        ],
        [
         "23",
         "5.266666666666667",
         "3.0233333333333334"
        ],
        [
         "24",
         "5.266666666666667",
         "2.0966666666666667"
        ],
        [
         "25",
         "5.266666666666667",
         "7.453333333333333"
        ],
        [
         "26",
         "5.266666666666667",
         "14.916666666666666"
        ],
        [
         "27",
         "5.266666666666667",
         "1.95"
        ],
        [
         "28",
         "5.266666666666667",
         "0.27"
        ],
        [
         "29",
         "5.266666666666667",
         "0.07333333333333333"
        ],
        [
         "30",
         "5.266666666666667",
         "1.27"
        ],
        [
         "31",
         "4.533333333333333",
         "0.0"
        ],
        [
         "32",
         "4.533333333333333",
         "1.9333333333333333"
        ],
        [
         "33",
         "4.533333333333333",
         "5.89"
        ],
        [
         "34",
         "4.533333333333333",
         "0.0033333333333333335"
        ],
        [
         "35",
         "4.533333333333333",
         "5.2299999999999995"
        ],
        [
         "36",
         "4.533333333333333",
         "36.49333333333333"
        ],
        [
         "37",
         "4.533333333333333",
         "9.283333333333333"
        ],
        [
         "38",
         "4.533333333333333",
         "0.20000000000000004"
        ],
        [
         "39",
         "4.533333333333333",
         "0.06666666666666667"
        ],
        [
         "40",
         "4.533333333333333",
         "0.8433333333333334"
        ],
        [
         "41",
         "4.533333333333333",
         "23.340000000000003"
        ],
        [
         "42",
         "4.533333333333333",
         "4.343333333333334"
        ],
        [
         "43",
         "4.533333333333333",
         "5.466666666666666"
        ],
        [
         "44",
         "4.533333333333333",
         "31.303333333333338"
        ],
        [
         "45",
         "4.533333333333333",
         "14.780000000000001"
        ],
        [
         "46",
         "4.533333333333333",
         "16.546666666666667"
        ],
        [
         "47",
         "4.533333333333333",
         "13.593333333333334"
        ],
        [
         "48",
         "4.533333333333333",
         "33.37"
        ],
        [
         "49",
         "4.533333333333333",
         "8.299999999999999"
        ]
       ],
       "shape": {
        "columns": 2,
        "rows": 2123
       }
      },
      "text/html": [
       "<div>\n",
       "<style scoped>\n",
       "    .dataframe tbody tr th:only-of-type {\n",
       "        vertical-align: middle;\n",
       "    }\n",
       "\n",
       "    .dataframe tbody tr th {\n",
       "        vertical-align: top;\n",
       "    }\n",
       "\n",
       "    .dataframe thead th {\n",
       "        text-align: right;\n",
       "    }\n",
       "</style>\n",
       "<table border=\"1\" class=\"dataframe\">\n",
       "  <thead>\n",
       "    <tr style=\"text-align: right;\">\n",
       "      <th></th>\n",
       "      <th>ET</th>\n",
       "      <th>P</th>\n",
       "    </tr>\n",
       "  </thead>\n",
       "  <tbody>\n",
       "    <tr>\n",
       "      <th>0</th>\n",
       "      <td>5.266667</td>\n",
       "      <td>0.000000</td>\n",
       "    </tr>\n",
       "    <tr>\n",
       "      <th>1</th>\n",
       "      <td>5.266667</td>\n",
       "      <td>0.000000</td>\n",
       "    </tr>\n",
       "    <tr>\n",
       "      <th>2</th>\n",
       "      <td>5.266667</td>\n",
       "      <td>0.000000</td>\n",
       "    </tr>\n",
       "    <tr>\n",
       "      <th>3</th>\n",
       "      <td>5.266667</td>\n",
       "      <td>0.400000</td>\n",
       "    </tr>\n",
       "    <tr>\n",
       "      <th>4</th>\n",
       "      <td>5.266667</td>\n",
       "      <td>4.200000</td>\n",
       "    </tr>\n",
       "    <tr>\n",
       "      <th>...</th>\n",
       "      <td>...</td>\n",
       "      <td>...</td>\n",
       "    </tr>\n",
       "    <tr>\n",
       "      <th>2118</th>\n",
       "      <td>3.233333</td>\n",
       "      <td>0.000000</td>\n",
       "    </tr>\n",
       "    <tr>\n",
       "      <th>2119</th>\n",
       "      <td>3.233333</td>\n",
       "      <td>0.000000</td>\n",
       "    </tr>\n",
       "    <tr>\n",
       "      <th>2120</th>\n",
       "      <td>3.233333</td>\n",
       "      <td>0.000000</td>\n",
       "    </tr>\n",
       "    <tr>\n",
       "      <th>2121</th>\n",
       "      <td>3.233333</td>\n",
       "      <td>1.086667</td>\n",
       "    </tr>\n",
       "    <tr>\n",
       "      <th>2122</th>\n",
       "      <td>3.233333</td>\n",
       "      <td>0.176667</td>\n",
       "    </tr>\n",
       "  </tbody>\n",
       "</table>\n",
       "<p>2123 rows × 2 columns</p>\n",
       "</div>"
      ],
      "text/plain": [
       "            ET         P\n",
       "0     5.266667  0.000000\n",
       "1     5.266667  0.000000\n",
       "2     5.266667  0.000000\n",
       "3     5.266667  0.400000\n",
       "4     5.266667  4.200000\n",
       "...        ...       ...\n",
       "2118  3.233333  0.000000\n",
       "2119  3.233333  0.000000\n",
       "2120  3.233333  0.000000\n",
       "2121  3.233333  1.086667\n",
       "2122  3.233333  0.176667\n",
       "\n",
       "[2123 rows x 2 columns]"
      ]
     },
     "metadata": {},
     "output_type": "display_data"
    }
   ],
   "source": [
    "import pandas as pd\n",
    "df = pd.read_excel('../../datasets/Biritiba_SMAP.xlsx')\n",
    "display(df)"
   ]
  },
  {
   "cell_type": "code",
   "execution_count": 17,
   "metadata": {},
   "outputs": [],
   "source": [
    "smap_biritiba = Smap(\n",
    "    Str=100,\n",
    "    k2t=1.43064763229058,\n",
    "    Crec=19.612562479845,\n",
    "    Ai=2,\n",
    "    Capc=30/100,\n",
    "    kkt=47.5320152819107,\n",
    "    Tuin=.05,\n",
    "    Ebin=0,\n",
    "    Ad=70.2\n",
    ")"
   ]
  },
  {
   "cell_type": "markdown",
   "metadata": {},
   "source": [
    "Running the model with the dataset values"
   ]
  },
  {
   "cell_type": "code",
   "execution_count": 18,
   "metadata": {},
   "outputs": [],
   "source": [
    "discharge = smap_biritiba.run_to_list(\n",
    "    df['P'].values,\n",
    "    df['ET'].values\n",
    ")"
   ]
  },
  {
   "cell_type": "code",
   "execution_count": 19,
   "metadata": {},
   "outputs": [],
   "source": [
    "df['Q'] = discharge"
   ]
  },
  {
   "cell_type": "markdown",
   "metadata": {},
   "source": [
    "### Plotting the results"
   ]
  },
  {
   "cell_type": "code",
   "execution_count": null,
   "metadata": {},
   "outputs": [
    {
     "data": {
      "image/png": "[encoded data removed]",
      "text/plain": [
       "<Figure size 640x480 with 2 Axes>"
      ]
     },
     "metadata": {},
     "output_type": "display_data"
    }
   ],
   "source": [
    "import matplotlib.pyplot as plt\n",
    "from matplotlib import rcParams\n",
    "\n",
    "rcParams['font.family'] = 'serif'\n",
    "rcParams['font.serif'] = ['Times New Roman']\n",
    "\n",
    "fig, ax = plt.subplots(constrained_layout=True)\n",
    "ax.grid(True)\n",
    "\n",
    "x_axis = [i for i in range(len(df))]\n",
    "\n",
    "ax.set_xlim(0, 2000)\n",
    "ax.set_ylim(0, 40)\n",
    "\n",
    "ax.set_xlabel('Time (days)')\n",
    "ax.set_ylabel('Discharge (m³/s)')\n",
    "\n",
    "prec = ax.twinx()\n",
    "prec.bar(x_axis, df['P'], color='cornflowerblue', width=5, zorder=1, alpha=.5)\n",
    "prec.set_ylim(0,200)\n",
    "prec.invert_yaxis()\n",
    "prec.set_ylabel('Rainfall (mm)')\n",
    "ax.plot(x_axis, df['Q'], color='black', linewidth=.5, zorder=2)\n",
    "ax.set_title('MOGEST - SMAP')\n",
    "plt.show()"
   ]
  },
  {
   "cell_type": "markdown",
   "metadata": {},
   "source": [
    "The run_to_dataframe method returns a pandas dataframe with the results of the simulation."
   ]
  },
  {
   "cell_type": "code",
   "execution_count": 22,
   "metadata": {},
   "outputs": [
    {
     "data": {
      "application/vnd.microsoft.datawrangler.viewer.v0+json": {
       "columns": [
        {
         "name": "index",
         "rawType": "int64",
         "type": "integer"
        },
        {
         "name": "prec",
         "rawType": "float64",
         "type": "float"
        },
        {
         "name": "etp",
         "rawType": "float64",
         "type": "float"
        },
        {
         "name": "Rsolo",
         "rawType": "float64",
         "type": "float"
        },
        {
         "name": "Rsub",
         "rawType": "float64",
         "type": "float"
        },
        {
         "name": "Rsup",
         "rawType": "float64",
         "type": "float"
        },
        {
         "name": "Tu",
         "rawType": "float64",
         "type": "float"
        },
        {
         "name": "Es",
         "rawType": "float64",
         "type": "float"
        },
        {
         "name": "Er",
         "rawType": "float64",
         "type": "float"
        },
        {
         "name": "Rec",
         "rawType": "float64",
         "type": "float"
        },
        {
         "name": "Ed",
         "rawType": "float64",
         "type": "float"
        },
        {
         "name": "Eb",
         "rawType": "float64",
         "type": "float"
        },
        {
         "name": "discharge",
         "rawType": "float64",
         "type": "float"
        }
       ],
       "conversionMethod": "pd.DataFrame",
       "ref": "6f9209f5-e3f0-45fb-8907-7b44d9db7dda",
       "rows": [
        [
         "0",
         "0.0",
         "5.266666666666667",
         "4.690577144839031",
         "0.04608952182763575",
         "0.0",
         "0.05",
         "0.0",
         "0.26333333333333336",
         "0.04608952182763575",
         "0.0",
         "0.0",
         "0.0"
        ],
        [
         "1",
         "0.0",
         "5.266666666666667",
         "4.403149302294237",
         "0.08581306662330701",
         "0.0",
         "0.04690577144839031",
         "0.0",
         "0.2470370629615223",
         "0.0403907795832722",
         "0.0",
         "0.0006672347876009416",
         "0.000542128264925765"
        ],
        [
         "2",
         "0.0",
         "5.266666666666667",
         "4.135816522536342",
         "0.12000434002325541",
         "0.0",
         "0.04403149302294237",
         "0.0",
         "0.23189919658749647",
         "0.035433583170397256",
         "0.0",
         "0.0012423097704488558",
         "0.0010093766884896954"
        ],
        [
         "3",
         "0.4",
         "5.266666666666667",
         "3.903426291659806",
         "0.14938087235622766",
         "0.0",
         "0.041358165225363425",
         "0.0",
         "0.6012764040967686",
         "0.031113826779767692",
         "0.0",
         "0.0017372944467954224",
         "0.0014115517380212806"
        ],
        [
         "4",
         "4.2",
         "5.266666666666667",
         "3.8322812868865856",
         "0.17480475541840498",
         "0.04923874574062941",
         "0.03903426291659806",
         "0.04923874574062941",
         "4.1943197995173325",
         "0.027586459515259256",
         "0.0",
         "0.0021625764530819346",
         "0.0017570933681290719"
        ],
        [
         "5",
         "0.2",
         "5.266666666666667",
         "3.6115634397721106",
         "0.19882304776527884",
         "0.03033135345794113",
         "0.03832281286886586",
         "0.0",
         "0.394168918535587",
         "0.026548928578888263",
         "0.01890739228268828",
         "0.0025306362320144087",
         "0.01741839816819593"
        ],
        [
         "6",
         "13.8",
         "5.266666666666667",
         "10.83442660276076",
         "0.21940117105736473",
         "1.305697989638331",
         "0.03611563439772111",
         "1.2870136996802417",
         "5.266666666666667",
         "0.02345647066444446",
         "0.01164706349985177",
         "0.002878347372358556",
         "0.01180189633367089"
        ],
        [
         "7",
         "2.8",
         "5.266666666666667",
         "10.342559724302548",
         "0.44007186161830225",
         "0.8114313801231745",
         "0.10834426602760759",
         "0.007113832278644036",
         "3.0609061001929945",
         "0.2238469459865705",
         "0.5013804417938004",
         "0.003176255425632999",
         "0.4099523164907896"
        ],
        [
         "8",
         "0.1",
         "5.266666666666667",
         "9.604486740860395",
         "0.6374083697083951",
         "0.49984644464801076",
         "0.10342559724302548",
         "0.0",
         "0.6343655857556316",
         "0.2037073976865211",
         "0.31158493547516375",
         "0.006370889596428283",
         "0.25833910787066855"
        ],
        [
         "9",
         "0.0",
         "5.266666666666667",
         "8.923383128515772",
         "0.803447963929943",
         "0.30790831405772157",
         "0.09604486740860395",
         "0.0",
         "0.5058363016853141",
         "0.17526731065930948",
         "0.19193813059028916",
         "0.009227716437761534",
         "0.1634472507102912"
        ],
        [
         "10",
         "0.0",
         "5.266666666666667",
         "8.302500102798358",
         "0.9427346848353796",
         "0.18967331043563082",
         "0.08923383128515772",
         "0.0",
         "0.4699648447684973",
         "0.1509181809489158",
         "0.11823500362209075",
         "0.011631460043479131",
         "0.10551650172827551"
        ],
        [
         "11",
         "1.0",
         "5.266666666666667",
         "7.817952746808852",
         "1.0593941322676186",
         "0.1168398612480045",
         "0.08302500102798359",
         "0.0",
         "1.3542400043860634",
         "0.13030735160344276",
         "0.07283344918762633",
         "0.013647904171203725",
         "0.0702660996040494"
        ],
        [
         "12",
         "5.1",
         "5.266666666666667",
         "7.681764924616865",
         "1.1593301920819183",
         "0.17283248759011038",
         "0.07817952746808852",
         "0.10085845421082873",
         "5.020056533325217",
         "0.11527283465593902",
         "0.04486582786872285",
         "0.015336774841639277",
         "0.04891461470216923"
        ],
        [
         "13",
         "0.0",
         "5.266666666666667",
         "7.1659789699557335",
         "1.2537596518487062",
         "0.10646581652840964",
         "0.07681764924616866",
         "0.0",
         "0.40457295269648824",
         "0.11121300196464395",
         "0.06636667106170074",
         "0.016783542197856167",
         "0.06755954827338999"
        ],
        [
         "14",
         "0.0",
         "5.266666666666667",
         "6.692074071591185",
         "1.3321057335723665",
         "0.06558356155784209",
         "0.07165978969955733",
         "0.0",
         "0.3774082257510019",
         "0.09649667261354648",
         "0.04088225497056755",
         "0.018150590889886315",
         "0.04796418726161876"
        ],
        [
         "15",
         "0.0",
         "5.266666666666667",
         "6.255729682607316",
         "1.3967160864775",
         "0.04039985496625123",
         "0.06692074071591185",
         "0.0",
         "0.3524492344371357",
         "0.08389515454673338",
         "0.02518370659159086",
         "0.019284801641600118",
         "0.03613066293946767"
        ],
        [
         "16",
         "0.0",
         "5.266666666666667",
         "5.85318987556323",
         "1.4495673023641225",
         "0.024886545386142905",
         "0.06255729682607317",
         "0.0",
         "0.329468429950652",
         "0.07307137709343366",
         "0.015513309580108325",
         "0.020220161206811083",
         "0.02903344501437202"
        ],
        [
         "17",
         "0.0",
         "5.266666666666667",
         "5.481173447999897",
         "1.492330445247539",
         "0.015330256551018018",
         "0.058531898755632306",
         "0.0",
         "0.3082680001129968",
         "0.06374842745033638",
         "0.009556288835124887",
         "0.02098528456691974",
         "0.024815028389161258"
        ],
        [
         "18",
         "0.0",
         "5.266666666666667",
         "5.136800772746023",
         "1.5264236219744862",
         "0.009443527105650055",
         "0.054811734479998965",
         "0.0",
         "0.28867513492799457",
         "0.05569754032587925",
         "0.005886729445367962",
         "0.0216043635989321",
         "0.0223365130984938"
        ],
        [
         "19",
         "0.0",
         "5.266666666666667",
         "4.817533849760624",
         "1.553054442791997",
         "0.005817267564855282",
         "0.051368007727460224",
         "0.0",
         "0.2705381740312905",
         "0.04872874895410777",
         "0.0036262595407947737",
         "0.02209792813659684",
         "0.020900902487880686"
        ],
        [
         "20",
         "0.0",
         "5.266666666666667",
         "4.521126850559611",
         "1.5732545319031892",
         "0.0035834706188189462",
         "0.04817533849760624",
         "0.0",
         "0.25372344942072617",
         "0.04268354978028675",
         "0.0022337969460363353",
         "0.022483460669094412",
         "0.02008277181229373"
        ],
        [
         "21",
         "4.923333333333333",
         "5.266666666666667",
         "4.464248774509639",
         "1.5879077403953934",
         "0.08905384271217666",
         "0.04521126850559611",
         "0.08684640399068506",
         "4.855935900952471",
         "0.03742910444014649",
         "0.0013760318973273556",
         "0.02277589594794221",
         "0.01962344137428152"
        ],
        [
         "22",
         "10.18",
         "5.266666666666667",
         "8.695970113239213",
         "1.6013799402036482",
         "0.7000094498937679",
         "0.04464248774509639",
         "0.6451517653719201",
         "5.266666666666667",
         "0.03646022923183889",
         "0.03419615819032886",
         "0.02298802942358408",
         "0.04646215243630427"
        ],
        [
         "23",
         "3.0233333333333334",
         "5.266666666666667",
         "8.356710701730899",
         "1.7213903608840568",
         "0.4425522582152771",
         "0.08695970113239213",
         "0.011342369960406237",
         "3.2080568886818166",
         "0.14319348619942449",
         "0.26879956163889707",
         "0.023183065519015826",
         "0.23723588456580422"
        ],
        [
         "24",
         "2.0966666666666667",
         "5.266666666666667",
         "7.959747783286662",
         "1.8285165901136116",
         "0.2727166202870861",
         "0.08356710701730899",
         "0.00010185795650497171",
         "2.3614810499297834",
         "0.13204667722461472",
         "0.16993749588469595",
         "0.02492044799506005",
         "0.15832207940230175"
        ],
        [
         "25",
         "7.453333333333333",
         "5.266666666666667",
         "9.721803465364266",
         "1.9216224106546296",
         "0.47302887972235186",
         "0.07959747783286662",
         "0.3050338571164614",
         "5.266666666666667",
         "0.11957712747260142",
         "0.1047215976811957",
         "0.02647130693158329",
         "0.10659423499788294"
        ],
        [
         "26",
         "14.916666666666666",
         "5.266666666666667",
         "17.575408598292587",
         "2.073448252007673",
         "1.9081383705785817",
         "0.09721803465364266",
         "1.616749832327624",
         "5.266666666666667",
         "0.17964503474405707",
         "0.1816403414713941",
         "0.027819193391013807",
         "0.1701858720757064"
        ],
        [
         "27",
         "1.95",
         "5.266666666666667",
         "16.397009619756496",
         "2.6389123465442714",
         "1.1754243227386278",
         "0.17575408598292586",
         "0.0",
         "2.5329177185100376",
         "0.5954812600260514",
         "0.7327140478399539",
         "0.030017165489452664",
         "0.6197191108301427"
        ],
        [
         "28",
         "0.27",
         "5.266666666666667",
         "15.060046197812815",
         "3.118368504805742",
         "0.7240682121321366",
         "0.16397009619756495",
         "0.0",
         "1.0893039140004994",
         "0.5176595079431804",
         "0.4513561106064913",
         "0.03820334968170989",
         "0.39776706148416346"
        ],
        [
         "29",
         "0.07333333333333333",
         "5.266666666666667",
         "13.8419660749018",
         "3.509185825521164",
         "0.4460302255773625",
         "0.15060046197812815",
         "0.0",
         "0.8554517325397456",
         "0.4359617237046051",
         "0.2780379865547741",
         "0.04514440298918279",
         "0.2625856915044649"
        ],
        [
         "30",
         "1.27",
         "5.266666666666667",
         "12.921116377719803",
         "3.8260160405382786",
         "0.2747572104329411",
         "0.138419660749018",
         "0.0",
         "1.8232172441269086",
         "0.36763245305508685",
         "0.1712730151444214",
         "0.0508022380379718",
         "0.18043614321069446"
        ],
        [
         "31",
         "0.0",
         "4.533333333333333",
         "12.015519563848203",
         "4.090466611693475",
         "0.16925203799175648",
         "0.12921116377719805",
         "0.0",
         "0.5857572757899645",
         "0.3198395380816361",
         "0.10550517244118461",
         "0.05538896692644006",
         "0.13072648823619504"
        ],
        [
         "32",
         "1.9333333333333333",
         "4.533333333333333",
         "11.427033828744051",
         "4.307331438767517",
         "0.10426023877307693",
         "0.12015519563848204",
         "0.0",
         "2.2457368419933865",
         "0.27608222644409913",
         "0.06499179921867955",
         "0.05921739937005641",
         "0.10091997385334797"
        ],
        [
         "33",
         "5.89",
         "4.533333333333333",
         "12.370672948036715",
         "4.49434625738167",
         "0.2278807052847567",
         "0.11427033828744051",
         "0.16365579243881243",
         "4.533333333333333",
         "0.24937175493518923",
         "0.04003532592713263",
         "0.062356936321036456",
         "0.08319371307663738"
        ],
        [
         "34",
         "0.0033333333333333335",
         "4.533333333333333",
         "11.517422076879175",
         "4.722141307208229",
         "0.14037583846360005",
         "0.12370672948036715",
         "0.0",
         "0.5637248178793965",
         "0.29285938661147776",
         "0.08750486682115666",
         "0.0650643367849185",
         "0.12396247792993609"
        ],
        [
         "35",
         "5.2299999999999995",
         "4.533333333333333",
         "11.846946224036222",
         "4.907165237306134",
         "0.2002288116949503",
         "0.11517422076879175",
         "0.11375647960463503",
         "4.533333333333333",
         "0.2533860399049858",
         "0.05390350637328482",
         "0.06836210980708152",
         "0.09934081314654765"
        ],
        [
         "36",
         "36.49333333333333",
         "4.533333333333333",
         "33.83767496213893",
         "5.10441665864972",
         "9.824321263588903",
         "0.11846946224036221",
         "9.700979152236709",
         "4.533333333333333",
         "0.2682921096605867",
         "0.07688670034275642",
         "0.07104068831700093",
         "0.12019100328605285"
        ],
        [
         "37",
         "9.283333333333333",
         "4.533333333333333",
         "35.6397077813708",
         "7.256226422845607",
         "6.774100111804039",
         "0.33837674962138925",
         "0.7222611332087888",
         "4.533333333333333",
         "2.2257060475593367",
         "3.772482284993654",
         "0.07389628336344932",
         "3.125182586790146"
        ],
        [
         "38",
         "0.20000000000000004",
         "4.533333333333333",
         "31.625124361310313",
         "9.62137462272299",
         "4.172885027025881",
         "0.356397077813708",
         "0.0",
         "1.7443873371927345",
         "2.470196082867757",
         "2.6012150847781577",
         "0.10504788299037313",
         "2.1988386613119313"
        ],
        [
         "39",
         "0.06666666666666667",
         "4.533333333333333",
         "28.26959548836805",
         "11.425026639280278",
         "2.570521421499847",
         "0.31625124361310314",
         "0.0",
         "1.479255554805194",
         "1.9429399848037343",
         "1.6023636055260344",
         "0.1392879682464472",
         "1.4150919036901413"
        ],
        [
         "40",
         "0.8433333333333334",
         "4.533333333333333",
         "25.67570337835396",
         "12.810371363289851",
         "1.5834561306135433",
         "0.2826959548836805",
         "0.0",
         "1.8864814068541143",
         "1.5507440364933125",
         "0.9870652908863036",
         "0.16539931248373987",
         "0.9363774902381603"
        ],
        [
         "41",
         "23.340000000000003",
         "4.533333333333333",
         "38.444184360330226",
         "13.902751511217337",
         "5.7357688619784035",
         "0.2567570337835396",
         "4.760350685492391",
         "4.533333333333333",
         "1.2778349991980116",
         "0.6080379541275303",
         "0.18545485127052683",
         "0.6447129043859213"
        ],
        [
         "42",
         "4.343333333333334",
         "4.533333333333333",
         "35.46207375396738",
         "16.577511768025982",
         "3.6192025350143204",
         "0.38444184360330225",
         "0.08593559068260999",
         "4.363478929848513",
         "2.876029419165056",
         "2.2025019176466927",
         "0.201269162356411",
         "1.9530640025025214"
        ],
        [
         "43",
         "5.466666666666666",
         "4.533333333333333",
         "33.77315725303039",
         "18.783050032597572",
         "2.4061698794418356",
         "0.3546207375396738",
         "0.17672008996812263",
         "4.533333333333333",
         "2.445529744302209",
         "1.3897527455406076",
         "0.2399914797306181",
         "1.324167183032871"
        ],
        [
         "44",
         "31.303333333333338",
         "4.533333333333333",
         "49.33733908364256",
         "20.728317949736038",
         "10.470843974953453",
         "0.3377315725303039",
         "8.98862934914546",
         "4.533333333333333",
         "2.217188820242379",
         "0.9239552536338429",
         "0.2719209031039103",
         "0.9716493773494244"
        ],
        [
         "45",
         "14.780000000000001",
         "4.533333333333333",
         "52.26457220396734",
         "25.17324364908929",
         "9.02452616130144",
         "0.4933733908364256",
         "2.5744254361482652",
         "4.533333333333333",
         "4.745008110193624",
         "4.0207432498002795",
         "0.30008241084037257",
         "3.51067084927053"
        ],
        [
         "46",
         "16.546666666666667",
         "4.533333333333333",
         "55.553784019055115",
         "30.13540023760436",
         "8.956694188773064",
         "0.5226457220396734",
         "3.3975336400711673",
         "4.533333333333333",
         "5.3265878781743945",
         "3.465365612599542",
         "0.36443128965932364",
         "3.1117099830853285"
        ],
        [
         "47",
         "13.593333333333334",
         "4.533333333333333",
         "56.19519440904921",
         "35.719319574116135",
         "7.915777849082479",
         "0.5555378401905512",
         "2.39840218956816",
         "4.533333333333333",
         "6.020187420437754",
         "3.4393185292587436",
         "0.43626808392598065",
         "3.148914123212588"
        ],
        [
         "48",
         "33.37",
         "4.533333333333333",
         "65.7809594376964",
         "41.36260038692344",
         "17.966679877597997",
         "0.5619519440904921",
         "13.09051473115427",
         "4.533333333333333",
         "6.16038690686521",
         "3.0396127026387516",
         "0.5171060940579105",
         "2.889834022316038"
        ],
        [
         "49",
         "8.299999999999999",
         "4.533333333333333",
         "60.1201707995023",
         "49.2117127337364",
         "12.04711867460192",
         "0.657809594376964",
         "0.9795394819127354",
         "4.533333333333333",
         "8.447915822948026",
         "6.899100684908811",
         "0.5988034761350702",
         "6.092047130848154"
        ]
       ],
       "shape": {
        "columns": 12,
        "rows": 2123
       }
      },
      "text/html": [
       "<div>\n",
       "<style scoped>\n",
       "    .dataframe tbody tr th:only-of-type {\n",
       "        vertical-align: middle;\n",
       "    }\n",
       "\n",
       "    .dataframe tbody tr th {\n",
       "        vertical-align: top;\n",
       "    }\n",
       "\n",
       "    .dataframe thead th {\n",
       "        text-align: right;\n",
       "    }\n",
       "</style>\n",
       "<table border=\"1\" class=\"dataframe\">\n",
       "  <thead>\n",
       "    <tr style=\"text-align: right;\">\n",
       "      <th></th>\n",
       "      <th>prec</th>\n",
       "      <th>etp</th>\n",
       "      <th>Rsolo</th>\n",
       "      <th>Rsub</th>\n",
       "      <th>Rsup</th>\n",
       "      <th>Tu</th>\n",
       "      <th>Es</th>\n",
       "      <th>Er</th>\n",
       "      <th>Rec</th>\n",
       "      <th>Ed</th>\n",
       "      <th>Eb</th>\n",
       "      <th>discharge</th>\n",
       "    </tr>\n",
       "  </thead>\n",
       "  <tbody>\n",
       "    <tr>\n",
       "      <th>0</th>\n",
       "      <td>0.000000</td>\n",
       "      <td>5.266667</td>\n",
       "      <td>4.690577</td>\n",
       "      <td>0.046090</td>\n",
       "      <td>0.000000</td>\n",
       "      <td>0.050000</td>\n",
       "      <td>0.000000</td>\n",
       "      <td>0.263333</td>\n",
       "      <td>0.046090</td>\n",
       "      <td>0.000000</td>\n",
       "      <td>0.000000</td>\n",
       "      <td>0.000000</td>\n",
       "    </tr>\n",
       "    <tr>\n",
       "      <th>1</th>\n",
       "      <td>0.000000</td>\n",
       "      <td>5.266667</td>\n",
       "      <td>4.403149</td>\n",
       "      <td>0.085813</td>\n",
       "      <td>0.000000</td>\n",
       "      <td>0.046906</td>\n",
       "      <td>0.000000</td>\n",
       "      <td>0.247037</td>\n",
       "      <td>0.040391</td>\n",
       "      <td>0.000000</td>\n",
       "      <td>0.000667</td>\n",
       "      <td>0.000542</td>\n",
       "    </tr>\n",
       "    <tr>\n",
       "      <th>2</th>\n",
       "      <td>0.000000</td>\n",
       "      <td>5.266667</td>\n",
       "      <td>4.135817</td>\n",
       "      <td>0.120004</td>\n",
       "      <td>0.000000</td>\n",
       "      <td>0.044031</td>\n",
       "      <td>0.000000</td>\n",
       "      <td>0.231899</td>\n",
       "      <td>0.035434</td>\n",
       "      <td>0.000000</td>\n",
       "      <td>0.001242</td>\n",
       "      <td>0.001009</td>\n",
       "    </tr>\n",
       "    <tr>\n",
       "      <th>3</th>\n",
       "      <td>0.400000</td>\n",
       "      <td>5.266667</td>\n",
       "      <td>3.903426</td>\n",
       "      <td>0.149381</td>\n",
       "      <td>0.000000</td>\n",
       "      <td>0.041358</td>\n",
       "      <td>0.000000</td>\n",
       "      <td>0.601276</td>\n",
       "      <td>0.031114</td>\n",
       "      <td>0.000000</td>\n",
       "      <td>0.001737</td>\n",
       "      <td>0.001412</td>\n",
       "    </tr>\n",
       "    <tr>\n",
       "      <th>4</th>\n",
       "      <td>4.200000</td>\n",
       "      <td>5.266667</td>\n",
       "      <td>3.832281</td>\n",
       "      <td>0.174805</td>\n",
       "      <td>0.049239</td>\n",
       "      <td>0.039034</td>\n",
       "      <td>0.049239</td>\n",
       "      <td>4.194320</td>\n",
       "      <td>0.027586</td>\n",
       "      <td>0.000000</td>\n",
       "      <td>0.002163</td>\n",
       "      <td>0.001757</td>\n",
       "    </tr>\n",
       "    <tr>\n",
       "      <th>...</th>\n",
       "      <td>...</td>\n",
       "      <td>...</td>\n",
       "      <td>...</td>\n",
       "      <td>...</td>\n",
       "      <td>...</td>\n",
       "      <td>...</td>\n",
       "      <td>...</td>\n",
       "      <td>...</td>\n",
       "      <td>...</td>\n",
       "      <td>...</td>\n",
       "      <td>...</td>\n",
       "      <td>...</td>\n",
       "    </tr>\n",
       "    <tr>\n",
       "      <th>2118</th>\n",
       "      <td>0.000000</td>\n",
       "      <td>3.233333</td>\n",
       "      <td>17.201900</td>\n",
       "      <td>33.323119</td>\n",
       "      <td>0.111749</td>\n",
       "      <td>0.184558</td>\n",
       "      <td>0.000000</td>\n",
       "      <td>0.596738</td>\n",
       "      <td>0.657179</td>\n",
       "      <td>0.069660</td>\n",
       "      <td>0.479849</td>\n",
       "      <td>0.446476</td>\n",
       "    </tr>\n",
       "    <tr>\n",
       "      <th>2119</th>\n",
       "      <td>0.000000</td>\n",
       "      <td>3.233333</td>\n",
       "      <td>16.075480</td>\n",
       "      <td>33.410928</td>\n",
       "      <td>0.068838</td>\n",
       "      <td>0.172019</td>\n",
       "      <td>0.000000</td>\n",
       "      <td>0.556195</td>\n",
       "      <td>0.570225</td>\n",
       "      <td>0.042911</td>\n",
       "      <td>0.482416</td>\n",
       "      <td>0.426828</td>\n",
       "    </tr>\n",
       "    <tr>\n",
       "      <th>2120</th>\n",
       "      <td>0.000000</td>\n",
       "      <td>3.233333</td>\n",
       "      <td>15.058335</td>\n",
       "      <td>33.424612</td>\n",
       "      <td>0.042405</td>\n",
       "      <td>0.160755</td>\n",
       "      <td>0.000000</td>\n",
       "      <td>0.519774</td>\n",
       "      <td>0.497372</td>\n",
       "      <td>0.026433</td>\n",
       "      <td>0.483688</td>\n",
       "      <td>0.414473</td>\n",
       "    </tr>\n",
       "    <tr>\n",
       "      <th>2121</th>\n",
       "      <td>1.086667</td>\n",
       "      <td>3.233333</td>\n",
       "      <td>14.299221</td>\n",
       "      <td>33.376588</td>\n",
       "      <td>0.026121</td>\n",
       "      <td>0.150583</td>\n",
       "      <td>0.000000</td>\n",
       "      <td>1.409919</td>\n",
       "      <td>0.435862</td>\n",
       "      <td>0.016283</td>\n",
       "      <td>0.483886</td>\n",
       "      <td>0.406387</td>\n",
       "    </tr>\n",
       "    <tr>\n",
       "      <th>2122</th>\n",
       "      <td>0.176667</td>\n",
       "      <td>3.233333</td>\n",
       "      <td>13.469541</td>\n",
       "      <td>33.285997</td>\n",
       "      <td>0.016091</td>\n",
       "      <td>0.142992</td>\n",
       "      <td>0.000000</td>\n",
       "      <td>0.613746</td>\n",
       "      <td>0.392600</td>\n",
       "      <td>0.010030</td>\n",
       "      <td>0.483191</td>\n",
       "      <td>0.400742</td>\n",
       "    </tr>\n",
       "  </tbody>\n",
       "</table>\n",
       "<p>2123 rows × 12 columns</p>\n",
       "</div>"
      ],
      "text/plain": [
       "          prec       etp      Rsolo  ...        Ed        Eb  discharge\n",
       "0     0.000000  5.266667   4.690577  ...  0.000000  0.000000   0.000000\n",
       "1     0.000000  5.266667   4.403149  ...  0.000000  0.000667   0.000542\n",
       "2     0.000000  5.266667   4.135817  ...  0.000000  0.001242   0.001009\n",
       "3     0.400000  5.266667   3.903426  ...  0.000000  0.001737   0.001412\n",
       "4     4.200000  5.266667   3.832281  ...  0.000000  0.002163   0.001757\n",
       "...        ...       ...        ...  ...       ...       ...        ...\n",
       "2118  0.000000  3.233333  17.201900  ...  0.069660  0.479849   0.446476\n",
       "2119  0.000000  3.233333  16.075480  ...  0.042911  0.482416   0.426828\n",
       "2120  0.000000  3.233333  15.058335  ...  0.026433  0.483688   0.414473\n",
       "2121  1.086667  3.233333  14.299221  ...  0.016283  0.483886   0.406387\n",
       "2122  0.176667  3.233333  13.469541  ...  0.010030  0.483191   0.400742\n",
       "\n",
       "[2123 rows x 12 columns]"
      ]
     },
     "metadata": {},
     "output_type": "display_data"
    }
   ],
   "source": [
    "df_smap = smap_biritiba.run_to_dataframe(\n",
    "    df['P'].values,\n",
    "    df['ET'].values\n",
    ")\n",
    "display(df_smap)"
   ]
  }
 ],
 "metadata": {
  "kernelspec": {
   "display_name": "base",
   "language": "python",
   "name": "python3"
  },
  "language_info": {
   "codemirror_mode": {
    "name": "ipython",
    "version": 3
   },
   "file_extension": ".py",
   "mimetype": "text/x-python",
   "name": "python",
   "nbconvert_exporter": "python",
   "pygments_lexer": "ipython3",
   "version": "3.12.2"
  },
  "orig_nbformat": 4
 },
 "nbformat": 4,
 "nbformat_minor": 2
}
