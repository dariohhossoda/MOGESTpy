{
 "cells": [
  {
   "cell_type": "markdown",
   "metadata": {},
   "source": [
    "# SMAP usage example\n",
    "\n",
    "This example demonstrates how to use the SMAP (Soil Moisture Accounting Procedure) model to simulate rainfall-runoff processes in a catchment.\n"
   ]
  },
  {
   "cell_type": "markdown",
   "metadata": {},
   "source": [
    "## Import the SMAP module"
   ]
  },
  {
   "cell_type": "code",
   "execution_count": 1,
   "metadata": {},
   "outputs": [],
   "source": [
    "from mogestpy.quantity.Hydrological.SMAP2 import Smap"
   ]
  },
  {
   "cell_type": "markdown",
   "metadata": {},
   "source": [
    "The documentation for the SMAP module can accessed using the help command"
   ]
  },
  {
   "cell_type": "code",
   "execution_count": 2,
   "metadata": {},
   "outputs": [
    {
     "name": "stdout",
     "output_type": "stream",
     "text": [
      "\u001b[1;31mInit signature:\u001b[0m\n",
      "\u001b[0mSmap\u001b[0m\u001b[1;33m(\u001b[0m\u001b[1;33m\n",
      "\u001b[0m    \u001b[0mStr\u001b[0m\u001b[1;33m=\u001b[0m\u001b[1;36m100.0\u001b[0m\u001b[1;33m,\u001b[0m\u001b[1;33m\n",
      "\u001b[0m    \u001b[0mCrec\u001b[0m\u001b[1;33m=\u001b[0m\u001b[1;36m0.0\u001b[0m\u001b[1;33m,\u001b[0m\u001b[1;33m\n",
      "\u001b[0m    \u001b[0mCapc\u001b[0m\u001b[1;33m=\u001b[0m\u001b[1;36m40.0\u001b[0m\u001b[1;33m,\u001b[0m\u001b[1;33m\n",
      "\u001b[0m    \u001b[0mkkt\u001b[0m\u001b[1;33m=\u001b[0m\u001b[1;36m30.0\u001b[0m\u001b[1;33m,\u001b[0m\u001b[1;33m\n",
      "\u001b[0m    \u001b[0mk2t\u001b[0m\u001b[1;33m=\u001b[0m\u001b[1;36m0.2\u001b[0m\u001b[1;33m,\u001b[0m\u001b[1;33m\n",
      "\u001b[0m    \u001b[0mAd\u001b[0m\u001b[1;33m=\u001b[0m\u001b[1;36m1.0\u001b[0m\u001b[1;33m,\u001b[0m\u001b[1;33m\n",
      "\u001b[0m    \u001b[0mTuin\u001b[0m\u001b[1;33m=\u001b[0m\u001b[1;36m0.0\u001b[0m\u001b[1;33m,\u001b[0m\u001b[1;33m\n",
      "\u001b[0m    \u001b[0mEbin\u001b[0m\u001b[1;33m=\u001b[0m\u001b[1;36m0.0\u001b[0m\u001b[1;33m,\u001b[0m\u001b[1;33m\n",
      "\u001b[0m    \u001b[0mAi\u001b[0m\u001b[1;33m=\u001b[0m\u001b[1;36m2.5\u001b[0m\u001b[1;33m,\u001b[0m\u001b[1;33m\n",
      "\u001b[0m\u001b[1;33m)\u001b[0m \u001b[1;33m->\u001b[0m \u001b[1;32mNone\u001b[0m\u001b[1;33m\u001b[0m\u001b[1;33m\u001b[0m\u001b[0m\n",
      "\u001b[1;31mDocstring:\u001b[0m     \n",
      "Soil Moisture Accounting Procedure (SMAP) model.\n",
      "\n",
      "The SMAP model is a lumped rainfall-runoff model based on conceptual\n",
      "reservoirs. It consists of three reservoirs: soil, surface, and subsurface.\n",
      "\n",
      "Attributes\n",
      "----------\n",
      "Str : float\n",
      "    Soil Saturation (mm). Default is 100.\n",
      "Crec : float\n",
      "    Recession Coefficient (%). Default is 0.\n",
      "Capc : float\n",
      "    Field Capacity (%). Default is 40.\n",
      "kkt : float\n",
      "    Base flow recession coefficient (d⁻¹). Default is 30.\n",
      "k2t : float\n",
      "    Surface runoff recession coefficient (d⁻¹). Default is 0.2.\n",
      "Ad : float\n",
      "    Drainage area (km²). Default is 1.\n",
      "Tuin : float\n",
      "    Initial soil moisture content (-). Default is 0.\n",
      "Ebin : float\n",
      "    Initial base flow (mm). Default is 0.\n",
      "Ai : float\n",
      "    Initial abstraction. Default is 2.5.\n",
      "\n",
      "Examples\n",
      "--------\n",
      "Initialize a Smap object:\n",
      "\n",
      ">>> smap = Smap(\n",
      "...     Ad=1,\n",
      "...     Str=100,\n",
      "...     Crec=0.1,\n",
      "...     Capc=40,\n",
      "...     kkt=30,\n",
      "...     k2t=0.2,\n",
      "...     Tuin=0,\n",
      "...     Ebin=0,\n",
      "...     Ai=2.5\n",
      "... )\n",
      "\n",
      "Run a single step of the model:\n",
      "\n",
      ">>> smap.RunStep(10, 5)\n",
      "\n",
      "Run the model with a list of precipitation and evapotranspiration:\n",
      "\n",
      ">>> discharge = smap.run_to_list(\n",
      "...     [1.0, 1.0, 2.0, 0.0, 1.0],\n",
      "...     [0.1, 0.1, 0.1, 0.1, 0.1]\n",
      "... )\n",
      "\n",
      "The result will be a list of discharges with the same length as the input\n",
      "lists.\n",
      "\u001b[1;31mInit docstring:\u001b[0m\n",
      "Initialize an instance of the Smap class.\n",
      "\n",
      "Parameters\n",
      "----------\n",
      "Str : float, optional\n",
      "    Soil Saturation (mm). Default is 100.0.\n",
      "Crec : float, optional\n",
      "    Recession Coefficient (%). Default is 0.0.\n",
      "Capc : float, optional\n",
      "    Field Capacity (%). Default is 40.0.\n",
      "kkt : float, optional\n",
      "    Base flow recession coefficient (d⁻¹). Default is 30.0.\n",
      "k2t : float, optional\n",
      "    Surface runoff recession coefficient (d⁻¹). Default is 0.2.\n",
      "Ad : float, optional\n",
      "    Drainage area (km²). Default is 1.0.\n",
      "Tuin : float, optional\n",
      "    Initial soil moisture content (-). Default is 0.0.\n",
      "Ebin : float, optional\n",
      "    Initial base flow (mm). Default is 0.0.\n",
      "Ai : float, optional\n",
      "    Initial abstraction. Default is 2.5.\n",
      "\u001b[1;31mFile:\u001b[0m           c:\\users\\dario\\miniconda3\\lib\\site-packages\\mogestpy\\quantity\\hydrological\\smap2.py\n",
      "\u001b[1;31mType:\u001b[0m           type\n",
      "\u001b[1;31mSubclasses:\u001b[0m     "
     ]
    }
   ],
   "source": [
    "Smap?"
   ]
  },
  {
   "cell_type": "markdown",
   "metadata": {},
   "source": [
    "In this example we will use pandas to read precipitation and potential evapotranspiration data from a `XLSX` file."
   ]
  },
  {
   "cell_type": "code",
   "execution_count": 3,
   "metadata": {},
   "outputs": [
    {
     "data": {
      "application/vnd.microsoft.datawrangler.viewer.v0+json": {
       "columns": [
        {
         "name": "index",
         "rawType": "int64",
         "type": "integer"
        },
        {
         "name": "ET",
         "rawType": "float64",
         "type": "float"
        },
        {
         "name": "P",
         "rawType": "float64",
         "type": "float"
        }
       ],
       "ref": "94f90870-5431-4a41-83e9-bbcf777b3a95",
       "rows": [
        [
         "0",
         "5.266666666666667",
         "0.0"
        ],
        [
         "1",
         "5.266666666666667",
         "0.0"
        ],
        [
         "2",
         "5.266666666666667",
         "0.0"
        ],
        [
         "3",
         "5.266666666666667",
         "0.4"
        ],
        [
         "4",
         "5.266666666666667",
         "4.2"
        ],
        [
         "5",
         "5.266666666666667",
         "0.2"
        ],
        [
         "6",
         "5.266666666666667",
         "13.8"
        ],
        [
         "7",
         "5.266666666666667",
         "2.8"
        ],
        [
         "8",
         "5.266666666666667",
         "0.1"
        ],
        [
         "9",
         "5.266666666666667",
         "0.0"
        ],
        [
         "10",
         "5.266666666666667",
         "0.0"
        ],
        [
         "11",
         "5.266666666666667",
         "1.0"
        ],
        [
         "12",
         "5.266666666666667",
         "5.1"
        ],
        [
         "13",
         "5.266666666666667",
         "0.0"
        ],
        [
         "14",
         "5.266666666666667",
         "0.0"
        ],
        [
         "15",
         "5.266666666666667",
         "0.0"
        ],
        [
         "16",
         "5.266666666666667",
         "0.0"
        ],
        [
         "17",
         "5.266666666666667",
         "0.0"
        ],
        [
         "18",
         "5.266666666666667",
         "0.0"
        ],
        [
         "19",
         "5.266666666666667",
         "0.0"
        ],
        [
         "20",
         "5.266666666666667",
         "0.0"
        ],
        [
         "21",
         "5.266666666666667",
         "4.923333333333333"
        ],
        [
         "22",
         "5.266666666666667",
         "10.18"
        ],
        [
         "23",
         "5.266666666666667",
         "3.0233333333333334"
        ],
        [
         "24",
         "5.266666666666667",
         "2.0966666666666667"
        ],
        [
         "25",
         "5.266666666666667",
         "7.453333333333333"
        ],
        [
         "26",
         "5.266666666666667",
         "14.916666666666666"
        ],
        [
         "27",
         "5.266666666666667",
         "1.95"
        ],
        [
         "28",
         "5.266666666666667",
         "0.27"
        ],
        [
         "29",
         "5.266666666666667",
         "0.07333333333333333"
        ],
        [
         "30",
         "5.266666666666667",
         "1.27"
        ],
        [
         "31",
         "4.533333333333333",
         "0.0"
        ],
        [
         "32",
         "4.533333333333333",
         "1.9333333333333333"
        ],
        [
         "33",
         "4.533333333333333",
         "5.89"
        ],
        [
         "34",
         "4.533333333333333",
         "0.0033333333333333335"
        ],
        [
         "35",
         "4.533333333333333",
         "5.2299999999999995"
        ],
        [
         "36",
         "4.533333333333333",
         "36.49333333333333"
        ],
        [
         "37",
         "4.533333333333333",
         "9.283333333333333"
        ],
        [
         "38",
         "4.533333333333333",
         "0.20000000000000004"
        ],
        [
         "39",
         "4.533333333333333",
         "0.06666666666666667"
        ],
        [
         "40",
         "4.533333333333333",
         "0.8433333333333334"
        ],
        [
         "41",
         "4.533333333333333",
         "23.340000000000003"
        ],
        [
         "42",
         "4.533333333333333",
         "4.343333333333334"
        ],
        [
         "43",
         "4.533333333333333",
         "5.466666666666666"
        ],
        [
         "44",
         "4.533333333333333",
         "31.303333333333338"
        ],
        [
         "45",
         "4.533333333333333",
         "14.780000000000001"
        ],
        [
         "46",
         "4.533333333333333",
         "16.546666666666667"
        ],
        [
         "47",
         "4.533333333333333",
         "13.593333333333334"
        ],
        [
         "48",
         "4.533333333333333",
         "33.37"
        ],
        [
         "49",
         "4.533333333333333",
         "8.299999999999999"
        ]
       ],
       "shape": {
        "columns": 2,
        "rows": 2123
       }
      },
      "text/html": [
       "<div>\n",
       "<style scoped>\n",
       "    .dataframe tbody tr th:only-of-type {\n",
       "        vertical-align: middle;\n",
       "    }\n",
       "\n",
       "    .dataframe tbody tr th {\n",
       "        vertical-align: top;\n",
       "    }\n",
       "\n",
       "    .dataframe thead th {\n",
       "        text-align: right;\n",
       "    }\n",
       "</style>\n",
       "<table border=\"1\" class=\"dataframe\">\n",
       "  <thead>\n",
       "    <tr style=\"text-align: right;\">\n",
       "      <th></th>\n",
       "      <th>ET</th>\n",
       "      <th>P</th>\n",
       "    </tr>\n",
       "  </thead>\n",
       "  <tbody>\n",
       "    <tr>\n",
       "      <th>0</th>\n",
       "      <td>5.266667</td>\n",
       "      <td>0.000000</td>\n",
       "    </tr>\n",
       "    <tr>\n",
       "      <th>1</th>\n",
       "      <td>5.266667</td>\n",
       "      <td>0.000000</td>\n",
       "    </tr>\n",
       "    <tr>\n",
       "      <th>2</th>\n",
       "      <td>5.266667</td>\n",
       "      <td>0.000000</td>\n",
       "    </tr>\n",
       "    <tr>\n",
       "      <th>3</th>\n",
       "      <td>5.266667</td>\n",
       "      <td>0.400000</td>\n",
       "    </tr>\n",
       "    <tr>\n",
       "      <th>4</th>\n",
       "      <td>5.266667</td>\n",
       "      <td>4.200000</td>\n",
       "    </tr>\n",
       "    <tr>\n",
       "      <th>...</th>\n",
       "      <td>...</td>\n",
       "      <td>...</td>\n",
       "    </tr>\n",
       "    <tr>\n",
       "      <th>2118</th>\n",
       "      <td>3.233333</td>\n",
       "      <td>0.000000</td>\n",
       "    </tr>\n",
       "    <tr>\n",
       "      <th>2119</th>\n",
       "      <td>3.233333</td>\n",
       "      <td>0.000000</td>\n",
       "    </tr>\n",
       "    <tr>\n",
       "      <th>2120</th>\n",
       "      <td>3.233333</td>\n",
       "      <td>0.000000</td>\n",
       "    </tr>\n",
       "    <tr>\n",
       "      <th>2121</th>\n",
       "      <td>3.233333</td>\n",
       "      <td>1.086667</td>\n",
       "    </tr>\n",
       "    <tr>\n",
       "      <th>2122</th>\n",
       "      <td>3.233333</td>\n",
       "      <td>0.176667</td>\n",
       "    </tr>\n",
       "  </tbody>\n",
       "</table>\n",
       "<p>2123 rows × 2 columns</p>\n",
       "</div>"
      ],
      "text/plain": [
       "            ET         P\n",
       "0     5.266667  0.000000\n",
       "1     5.266667  0.000000\n",
       "2     5.266667  0.000000\n",
       "3     5.266667  0.400000\n",
       "4     5.266667  4.200000\n",
       "...        ...       ...\n",
       "2118  3.233333  0.000000\n",
       "2119  3.233333  0.000000\n",
       "2120  3.233333  0.000000\n",
       "2121  3.233333  1.086667\n",
       "2122  3.233333  0.176667\n",
       "\n",
       "[2123 rows x 2 columns]"
      ]
     },
     "metadata": {},
     "output_type": "display_data"
    }
   ],
   "source": [
    "import pandas as pd\n",
    "df = pd.read_excel('../../datasets/Biritiba_SMAP.xlsx')\n",
    "display(df)"
   ]
  },
  {
   "cell_type": "code",
   "execution_count": 4,
   "metadata": {},
   "outputs": [],
   "source": [
    "smap_biritiba = Smap(\n",
    "    Str=100,\n",
    "    Crec=19.612562479845,\n",
    "    Capc=30,\n",
    "    kkt=47.5320152819107,\n",
    "    k2t=1.43064763229058,\n",
    "    Ai=2,\n",
    "    Tuin=.05,\n",
    "    Ebin=0,\n",
    "    Ad=70.2\n",
    ")"
   ]
  },
  {
   "cell_type": "markdown",
   "metadata": {},
   "source": [
    "Running the model with the dataset values"
   ]
  },
  {
   "cell_type": "code",
   "execution_count": 5,
   "metadata": {},
   "outputs": [],
   "source": [
    "discharge = smap_biritiba.run_to_list(\n",
    "    df['P'].values,\n",
    "    df['ET'].values\n",
    ")\n",
    "\n",
    "df['Q'] = discharge"
   ]
  },
  {
   "cell_type": "markdown",
   "metadata": {},
   "source": [
    "### Plotting the results"
   ]
  },
  {
   "cell_type": "code",
   "execution_count": 6,
   "metadata": {},
   "outputs": [
    {
     "data": {
      "image/png": "[encoded data removed]",
      "text/plain": [
       "<Figure size 640x480 with 2 Axes>"
      ]
     },
     "metadata": {},
     "output_type": "display_data"
    }
   ],
   "source": [
    "import matplotlib.pyplot as plt\n",
    "from matplotlib import rcParams\n",
    "\n",
    "rcParams['font.family'] = 'serif'\n",
    "rcParams['font.serif'] = ['Times New Roman']\n",
    "\n",
    "fig, ax = plt.subplots(constrained_layout=True)\n",
    "ax.grid(True)\n",
    "\n",
    "x_axis = [i for i in range(len(df))]\n",
    "\n",
    "ax.set_xlim(0, 2000)\n",
    "ax.set_ylim(0, 40)\n",
    "\n",
    "ax.set_xlabel('Time (days)')\n",
    "ax.set_ylabel('Discharge (m³/s)')\n",
    "\n",
    "prec = ax.twinx()\n",
    "prec.bar(x_axis, df['P'], color='cornflowerblue', width=5, zorder=1, alpha=.5)\n",
    "prec.set_ylim(0,200)\n",
    "prec.invert_yaxis()\n",
    "prec.set_ylabel('Rainfall (mm)')\n",
    "ax.plot(x_axis, df['Q'], color='black', linewidth=.5, zorder=2)\n",
    "ax.set_title('MOGESTpy - SMAP')\n",
    "\n",
    "plt.show()"
   ]
  },
  {
   "cell_type": "markdown",
   "metadata": {},
   "source": [
    "The `run_to_dataframe()` method returns a pandas dataframe with the results of the simulation."
   ]
  },
  {
   "cell_type": "code",
   "execution_count": 7,
   "metadata": {},
   "outputs": [
    {
     "data": {
      "application/vnd.microsoft.datawrangler.viewer.v0+json": {
       "columns": [
        {
         "name": "index",
         "rawType": "int64",
         "type": "integer"
        },
        {
         "name": "prec",
         "rawType": "float64",
         "type": "float"
        },
        {
         "name": "etp",
         "rawType": "float64",
         "type": "float"
        },
        {
         "name": "Rsolo",
         "rawType": "float64",
         "type": "float"
        },
        {
         "name": "Rsub",
         "rawType": "float64",
         "type": "float"
        },
        {
         "name": "Rsup",
         "rawType": "float64",
         "type": "float"
        },
        {
         "name": "Tu",
         "rawType": "float64",
         "type": "float"
        },
        {
         "name": "Es",
         "rawType": "float64",
         "type": "float"
        },
        {
         "name": "Er",
         "rawType": "float64",
         "type": "float"
        },
        {
         "name": "Rec",
         "rawType": "float64",
         "type": "float"
        },
        {
         "name": "Ed",
         "rawType": "float64",
         "type": "float"
        },
        {
         "name": "Eb",
         "rawType": "float64",
         "type": "float"
        },
        {
         "name": "discharge",
         "rawType": "float64",
         "type": "float"
        }
       ],
       "ref": "01757cc7-9965-40ce-a839-3121214289e5",
       "rows": [
        [
         "0",
         "0.0",
         "5.266666666666667",
         "4.736666666666666",
         "0.0",
         "0.0",
         "0.05",
         "0.0",
         "0.26333333333333336",
         "0.0",
         "0.0",
         "0.0",
         "0.0"
        ],
        [
         "1",
         "0.0",
         "5.266666666666667",
         "4.487202222222222",
         "0.0",
         "0.0",
         "0.04736666666666666",
         "0.0",
         "0.2494644444444444",
         "0.0",
         "0.0",
         "0.0",
         "0.0"
        ],
        [
         "2",
         "0.0",
         "5.266666666666667",
         "4.250876238518519",
         "0.0",
         "0.0",
         "0.04487202222222222",
         "0.0",
         "0.23632598370370367",
         "0.0",
         "0.0",
         "0.0",
         "0.0"
        ],
        [
         "3",
         "0.4",
         "5.266666666666667",
         "4.044000261577285",
         "0.0",
         "0.0",
         "0.04250876238518519",
         "0.0",
         "0.6068759769412346",
         "0.0",
         "0.0",
         "0.0",
         "0.0"
        ],
        [
         "4",
         "4.2",
         "5.266666666666667",
         "3.99887019206495",
         "0.0",
         "0.04930926293755026",
         "0.040440002615772845",
         "0.04930926293755026",
         "4.195820806574784",
         "0.0",
         "0.0",
         "0.0",
         "0.0"
        ],
        [
         "5",
         "0.2",
         "5.266666666666667",
         "3.796260769000326",
         "0.0",
         "0.03037479246095588",
         "0.039988701920649496",
         "0.0",
         "0.4026094230646241",
         "0.0",
         "0.01893447047659438",
         "0.0",
         "0.015384257262232935"
        ],
        [
         "6",
         "13.8",
         "5.266666666666667",
         "11.040379478919636",
         "0.0",
         "1.307925672050358",
         "0.03796260769000326",
         "1.289214623414027",
         "5.266666666666667",
         "0.0",
         "0.011663743824624767",
         "0.0",
         "0.009476791857507624"
        ],
        [
         "7",
         "2.8",
         "5.266666666666667",
         "10.767262922278864",
         "0.0",
         "0.812819968074767",
         "0.11040379478919636",
         "0.007130154921384649",
         "3.0659864017193885",
         "0.0",
         "0.5022358588969758",
         "0.0",
         "0.4080666353537928"
        ],
        [
         "8",
         "0.1",
         "5.266666666666667",
         "10.210954337961121",
         "0.0",
         "0.5007018228940174",
         "0.10767262922278864",
         "0.0",
         "0.6563085843177413",
         "0.0",
         "0.31211814518074954",
         "0.0",
         "0.253595992959359"
        ],
        [
         "9",
         "0.0",
         "5.266666666666667",
         "9.67317740949517",
         "0.0",
         "0.3084352320270892",
         "0.10210954337961121",
         "0.0",
         "0.5377769284659524",
         "0.0",
         "0.1922665908669282",
         "0.0",
         "0.15621660507937918"
        ],
        [
         "10",
         "0.0",
         "5.266666666666667",
         "9.163723399261757",
         "0.0",
         "0.18999789496620395",
         "0.09673177409495169",
         "0.0",
         "0.5094540102334122",
         "0.0",
         "0.11843733706088529",
         "0.0",
         "0.09623033636196929"
        ],
        [
         "11",
         "1.0",
         "5.266666666666667",
         "8.772737867559922",
         "0.0",
         "0.117039807204704",
         "0.09163723399261757",
         "0.0",
         "1.390985531701835",
         "0.0",
         "0.07295808776149995",
         "0.0",
         "0.059278446306218716"
        ],
        [
         "12",
         "5.1",
         "5.266666666666667",
         "8.749179029606584",
         "0.0",
         "0.1739765496247746",
         "0.08772737867559922",
         "0.10187934837446135",
         "5.021679489578875",
         "0.0",
         "0.04494260595439077",
         "0.0",
         "0.0365158673379425"
        ],
        [
         "13",
         "0.0",
         "5.266666666666667",
         "8.288388934047303",
         "0.0",
         "0.10717056538887011",
         "0.08749179029606584",
         "0.0",
         "0.4607900955592801",
         "0.0",
         "0.06680598423590449",
         "0.0",
         "0.05427986219167239"
        ],
        [
         "14",
         "0.0",
         "5.266666666666667",
         "7.851867116854145",
         "0.0",
         "0.06601769095054247",
         "0.08288388934047303",
         "0.0",
         "0.4365218171931579",
         "0.0",
         "0.041152874438327644",
         "0.0",
         "0.03343671048114121"
        ],
        [
         "15",
         "0.0",
         "5.266666666666667",
         "7.438335448699827",
         "0.0",
         "0.040667281194486996",
         "0.07851867116854146",
         "0.0",
         "0.41353166815431835",
         "0.0",
         "0.02535040975605547",
         "0.0",
         "0.020597207926795067"
        ],
        [
         "16",
         "0.0",
         "5.266666666666667",
         "7.0465831150683025",
         "0.0",
         "0.02505128149650751",
         "0.07438335448699827",
         "0.0",
         "0.39175233363152423",
         "0.0",
         "0.015615999697979487",
         "0.0",
         "0.012687999754608334"
        ],
        [
         "17",
         "0.0",
         "5.266666666666667",
         "6.675463071008038",
         "0.0",
         "0.015431734952134808",
         "0.07046583115068303",
         "0.0",
         "0.37112004406026394",
         "0.0",
         "0.009619546544372703",
         "0.0",
         "0.007815881567302821"
        ],
        [
         "18",
         "0.0",
         "5.266666666666667",
         "6.3238886826016145",
         "0.0",
         "0.00950603839033699",
         "0.06675463071008038",
         "0.0",
         "0.3515743884064233",
         "0.0",
         "0.005925696561797818",
         "0.0",
         "0.004814628456460727"
        ],
        [
         "19",
         "0.0",
         "5.266666666666667",
         "5.990830545317929",
         "0.0",
         "0.0058557748794188375",
         "0.06323888682601614",
         "0.0",
         "0.333058137283685",
         "0.0",
         "0.003650263510918152",
         "0.0",
         "0.002965839102620998"
        ],
        [
         "20",
         "0.0",
         "5.266666666666667",
         "5.675313469931185",
         "0.0",
         "0.0036071913483211922",
         "0.059908305453179295",
         "0.0",
         "0.3155170753867443",
         "0.0",
         "0.002248583531097645",
         "0.0",
         "0.0018269741190168368"
        ],
        [
         "21",
         "4.923333333333333",
         "5.266666666666667",
         "5.650840923900145",
         "0.0",
         "0.09009919002166361",
         "0.05675313469931185",
         "0.08787713919297899",
         "4.8599287401713935",
         "0.0",
         "0.0013851405196365634",
         "0.0",
         "0.0011254266722047078"
        ],
        [
         "22",
         "10.18",
         "5.266666666666667",
         "9.911556010844311",
         "0.0",
         "0.708119870927222",
         "0.05650840923900145",
         "0.6526182463891647",
         "5.266666666666667",
         "0.0",
         "0.03459756548360631",
         "0.0",
         "0.028110521955430127"
        ],
        [
         "23",
         "3.0233333333333334",
         "5.266666666666667",
         "9.688067566840171",
         "0.0",
         "0.4476996511788044",
         "0.09911556010844311",
         "0.011493696445021814",
         "3.2353280808924505",
         "0.0",
         "0.2719139161934394",
         "0.0",
         "0.2209300569071695"
        ],
        [
         "24",
         "2.0966666666666667",
         "5.266666666666667",
         "9.380945811586544",
         "0.0",
         "0.2758889442195343",
         "0.09688067566840171",
         "0.0001033579165863038",
         "2.4036850640037084",
         "0.0",
         "0.17191406487585636",
         "0.0",
         "0.1396801777116333"
        ],
        [
         "25",
         "7.453333333333333",
         "5.266666666666667",
         "11.25806625782944",
         "0.0",
         "0.4794954130035465",
         "0.09380945811586544",
         "0.30954622042376956",
         "5.266666666666667",
         "0.0",
         "0.10593975163975736",
         "0.0",
         "0.08607604820730284"
        ],
        [
         "26",
         "14.916666666666666",
         "5.266666666666667",
         "19.26688413347595",
         "0.0",
         "1.9365540846768234",
         "0.11258066257829441",
         "1.6411821243534872",
         "5.266666666666667",
         "0.0",
         "0.18412345268021027",
         "0.0",
         "0.14960030530267082"
        ],
        [
         "27",
         "1.95",
         "5.266666666666667",
         "18.627865809715665",
         "0.0",
         "1.1929285677210988",
         "0.1926688413347595",
         "0.0",
         "2.5890183237602855",
         "0.0",
         "0.7436255169557248",
         "0.0",
         "0.6041957325265264"
        ],
        [
         "28",
         "0.27",
         "5.266666666666667",
         "17.697093448090204",
         "0.0",
         "0.7348509287426376",
         "0.18627865809715666",
         "0.0",
         "1.2007723616254593",
         "0.0",
         "0.4580776389784612",
         "0.0",
         "0.3721880816699998"
        ],
        [
         "29",
         "0.07333333333333333",
         "5.266666666666667",
         "16.778024395019386",
         "0.0",
         "0.4526724416580221",
         "0.17697093448090204",
         "0.0",
         "0.9924023864041512",
         "0.0",
         "0.28217848708461546",
         "0.0",
         "0.22927002075625005"
        ],
        [
         "30",
         "1.27",
         "5.266666666666667",
         "16.107462686698444",
         "0.0",
         "0.27884885413052346",
         "0.16778024395019386",
         "0.0",
         "1.9405617083209414",
         "0.0",
         "0.17382358752749866",
         "0.0",
         "0.14123166486609265"
        ],
        [
         "31",
         "0.0",
         "4.533333333333333",
         "15.377257711568115",
         "0.0",
         "0.17177251428229942",
         "0.16107462686698443",
         "0.0",
         "0.7302049751303293",
         "0.0",
         "0.10707633984822404",
         "0.0",
         "0.08699952612668203"
        ],
        [
         "32",
         "1.9333333333333333",
         "4.533333333333333",
         "14.977449011067343",
         "0.0",
         "0.10581286681225413",
         "0.15377257711568115",
         "0.0",
         "2.3331420338341045",
         "0.0",
         "0.06595964747004529",
         "0.0",
         "0.053592213569411795"
        ],
        [
         "33",
         "5.89",
         "4.533333333333333",
         "16.16392485729648",
         "0.0",
         "0.2353721611765195",
         "0.14977449011067342",
         "0.1701908204375281",
         "4.533333333333333",
         "0.0",
         "0.040631526073262696",
         "0.0",
         "0.03301311493452594"
        ],
        [
         "34",
         "0.0033333333333333335",
         "4.533333333333333",
         "15.431699061260948",
         "0.0",
         "0.14499061881898462",
         "0.1616392485729648",
         "0.0",
         "0.7355591293688639",
         "0.0",
         "0.09038154235753486",
         "0.0",
         "0.07343500316549707"
        ],
        [
         "35",
         "5.2299999999999995",
         "4.533333333333333",
         "16.009537688108487",
         "0.0",
         "0.20814310342066206",
         "0.15431699061260948",
         "0.1188280398191249",
         "4.533333333333333",
         "0.0",
         "0.055675555217447444",
         "0.0",
         "0.045236388614176046"
        ],
        [
         "36",
         "36.49333333333333",
         "4.533333333333333",
         "37.92774220067302",
         "0.0",
         "10.170012848473467",
         "0.16009537688108488",
         "10.041795487435461",
         "4.533333333333333",
         "0.0",
         "0.07992574238265533",
         "0.0",
         "0.06493966568590745"
        ],
        [
         "37",
         "9.283333333333333",
         "4.533333333333333",
         "41.32317437789994",
         "0.589713200699742",
         "7.029641625457896",
         "0.37927742200673026",
         "0.7648546220733465",
         "4.533333333333333",
         "0.589713200699742",
         "3.9052258450889186",
         "0.0",
         "3.1729959991347463"
        ],
        [
         "38",
         "0.20000000000000004",
         "4.533333333333333",
         "38.61481303952744",
         "1.4988664125551536",
         "4.330300084156728",
         "0.4132317437789994",
         "0.0",
         "1.9906708897089973",
         "0.917690448663506",
         "2.699341541301168",
         "0.008537236808094434",
         "2.2001515072137754"
        ],
        [
         "39",
         "0.06666666666666667",
         "4.533333333333333",
         "36.23758774041286",
         "2.1295977448964787",
         "2.6674900112886384",
         "0.3861481303952744",
         "0.0",
         "1.7914616490988924",
         "0.6524303166823548",
         "1.6628100728680895",
         "0.021698984341029882",
         "1.3686636089824094"
        ],
        [
         "40",
         "0.8433333333333334",
         "4.533333333333333",
         "34.45710793586913",
         "2.5420805240436777",
         "1.643189345320006",
         "0.36237587740412863",
         "0.0",
         "2.180500320954568",
         "0.4433128169224974",
         "1.0243006659686325",
         "0.03083003777529831",
         "0.8572936967919438"
        ],
        [
         "41",
         "23.340000000000003",
         "4.533333333333333",
         "47.72107914886368",
         "2.8064868717495166",
         "6.253701767614825",
         "0.3445710793586913",
         "5.241487583814073",
         "4.533333333333333",
         "0.3012078698580548",
         "0.6309751615192533",
         "0.03680152215221586",
         "0.5425685554830686"
        ],
        [
         "42",
         "4.343333333333334",
         "4.533333333333333",
         "45.92386113347928",
         "4.424431207881992",
         "3.952847280646",
         "0.4772107914886368",
         "0.10053065720367851",
         "4.381447041005536",
         "1.658573650508521",
         "2.4013851441725036",
         "0.0406293143760454",
         "1.984136747570696"
        ],
        [
         "43",
         "5.466666666666666",
         "4.533333333333333",
         "45.21410746970292",
         "5.794616669236369",
         "2.64382624554759",
         "0.45923861133479277",
         "0.20884935425761622",
         "4.533333333333333",
         "1.4342376428520813",
         "1.517870389356026",
         "0.06405218149770406",
         "1.2853120888186556"
        ],
        [
         "44",
         "31.303333333333338",
         "4.533333333333333",
         "60.42337672927289",
         "7.059861460615274",
         "11.840210016487866",
         "0.4521410746970292",
         "10.211597688353036",
         "4.533333333333333",
         "1.3491330520769902",
         "1.01521391741276",
         "0.08388826069808537",
         "0.8930205197150617"
        ],
        [
         "45",
         "14.780000000000001",
         "4.533333333333333",
         "63.945162524211156",
         "10.56300065981053",
         "10.413174714265581",
         "0.6042337672927289",
         "3.1195365513825615",
         "4.533333333333333",
         "3.6053443203458335",
         "4.546571853604846",
         "0.10220512115057766",
         "3.777131291988781"
        ],
        [
         "46",
         "16.546666666666667",
         "4.533333333333333",
         "67.5195335094371",
         "14.667240397094993",
         "10.596378913726934",
         "0.6394516252421115",
         "4.1818027882212805",
         "4.533333333333333",
         "4.25715955988612",
         "3.99859858875993",
         "0.1529198226016576",
         "3.37310870923129"
        ],
        [
         "47",
         "13.593333333333334",
         "4.533333333333333",
         "68.56152755326046",
         "19.423356981420074",
         "9.576983734110238",
         "0.6751953350943709",
         "3.049552757302876",
         "4.533333333333333",
         "4.9684531988737595",
         "4.068947936919573",
         "0.21233661454867916",
         "3.4785436980679543"
        ],
        [
         "48",
         "33.37",
         "4.533333333333333",
         "76.5450513762944",
         "24.327408692871238",
         "21.567378173494788",
         "0.6856152755326046",
         "15.667900550112556",
         "4.533333333333333",
         "5.185242293520168",
         "3.677506110728003",
         "0.28119058206900677",
         "3.2164410628975704"
        ],
        [
         "49",
         "8.299999999999999",
         "4.533333333333333",
         "71.9902715606856",
         "30.96277321261028",
         "14.619526029801845",
         "0.7654505137629439",
         "1.3338957664467006",
         "4.533333333333333",
         "6.987550715828764",
         "8.281747910139645",
         "0.35218619608972185",
         "7.0150714613113605"
        ]
       ],
       "shape": {
        "columns": 12,
        "rows": 2123
       }
      },
      "text/html": [
       "<div>\n",
       "<style scoped>\n",
       "    .dataframe tbody tr th:only-of-type {\n",
       "        vertical-align: middle;\n",
       "    }\n",
       "\n",
       "    .dataframe tbody tr th {\n",
       "        vertical-align: top;\n",
       "    }\n",
       "\n",
       "    .dataframe thead th {\n",
       "        text-align: right;\n",
       "    }\n",
       "</style>\n",
       "<table border=\"1\" class=\"dataframe\">\n",
       "  <thead>\n",
       "    <tr style=\"text-align: right;\">\n",
       "      <th></th>\n",
       "      <th>prec</th>\n",
       "      <th>etp</th>\n",
       "      <th>Rsolo</th>\n",
       "      <th>Rsub</th>\n",
       "      <th>Rsup</th>\n",
       "      <th>Tu</th>\n",
       "      <th>Es</th>\n",
       "      <th>Er</th>\n",
       "      <th>Rec</th>\n",
       "      <th>Ed</th>\n",
       "      <th>Eb</th>\n",
       "      <th>discharge</th>\n",
       "    </tr>\n",
       "  </thead>\n",
       "  <tbody>\n",
       "    <tr>\n",
       "      <th>0</th>\n",
       "      <td>0.000000</td>\n",
       "      <td>5.266667</td>\n",
       "      <td>4.736667</td>\n",
       "      <td>0.000000</td>\n",
       "      <td>0.000000</td>\n",
       "      <td>0.050000</td>\n",
       "      <td>0.000000</td>\n",
       "      <td>0.263333</td>\n",
       "      <td>0.000000</td>\n",
       "      <td>0.000000</td>\n",
       "      <td>0.000000</td>\n",
       "      <td>0.000000</td>\n",
       "    </tr>\n",
       "    <tr>\n",
       "      <th>1</th>\n",
       "      <td>0.000000</td>\n",
       "      <td>5.266667</td>\n",
       "      <td>4.487202</td>\n",
       "      <td>0.000000</td>\n",
       "      <td>0.000000</td>\n",
       "      <td>0.047367</td>\n",
       "      <td>0.000000</td>\n",
       "      <td>0.249464</td>\n",
       "      <td>0.000000</td>\n",
       "      <td>0.000000</td>\n",
       "      <td>0.000000</td>\n",
       "      <td>0.000000</td>\n",
       "    </tr>\n",
       "    <tr>\n",
       "      <th>2</th>\n",
       "      <td>0.000000</td>\n",
       "      <td>5.266667</td>\n",
       "      <td>4.250876</td>\n",
       "      <td>0.000000</td>\n",
       "      <td>0.000000</td>\n",
       "      <td>0.044872</td>\n",
       "      <td>0.000000</td>\n",
       "      <td>0.236326</td>\n",
       "      <td>0.000000</td>\n",
       "      <td>0.000000</td>\n",
       "      <td>0.000000</td>\n",
       "      <td>0.000000</td>\n",
       "    </tr>\n",
       "    <tr>\n",
       "      <th>3</th>\n",
       "      <td>0.400000</td>\n",
       "      <td>5.266667</td>\n",
       "      <td>4.044000</td>\n",
       "      <td>0.000000</td>\n",
       "      <td>0.000000</td>\n",
       "      <td>0.042509</td>\n",
       "      <td>0.000000</td>\n",
       "      <td>0.606876</td>\n",
       "      <td>0.000000</td>\n",
       "      <td>0.000000</td>\n",
       "      <td>0.000000</td>\n",
       "      <td>0.000000</td>\n",
       "    </tr>\n",
       "    <tr>\n",
       "      <th>4</th>\n",
       "      <td>4.200000</td>\n",
       "      <td>5.266667</td>\n",
       "      <td>3.998870</td>\n",
       "      <td>0.000000</td>\n",
       "      <td>0.049309</td>\n",
       "      <td>0.040440</td>\n",
       "      <td>0.049309</td>\n",
       "      <td>4.195821</td>\n",
       "      <td>0.000000</td>\n",
       "      <td>0.000000</td>\n",
       "      <td>0.000000</td>\n",
       "      <td>0.000000</td>\n",
       "    </tr>\n",
       "    <tr>\n",
       "      <th>...</th>\n",
       "      <td>...</td>\n",
       "      <td>...</td>\n",
       "      <td>...</td>\n",
       "      <td>...</td>\n",
       "      <td>...</td>\n",
       "      <td>...</td>\n",
       "      <td>...</td>\n",
       "      <td>...</td>\n",
       "      <td>...</td>\n",
       "      <td>...</td>\n",
       "      <td>...</td>\n",
       "      <td>...</td>\n",
       "    </tr>\n",
       "    <tr>\n",
       "      <th>2118</th>\n",
       "      <td>0.000000</td>\n",
       "      <td>3.233333</td>\n",
       "      <td>30.743298</td>\n",
       "      <td>12.954494</td>\n",
       "      <td>0.127138</td>\n",
       "      <td>0.318929</td>\n",
       "      <td>0.000000</td>\n",
       "      <td>1.031204</td>\n",
       "      <td>0.118401</td>\n",
       "      <td>0.079253</td>\n",
       "      <td>0.188557</td>\n",
       "      <td>0.217595</td>\n",
       "    </tr>\n",
       "    <tr>\n",
       "      <th>2119</th>\n",
       "      <td>0.000000</td>\n",
       "      <td>3.233333</td>\n",
       "      <td>29.704448</td>\n",
       "      <td>12.811770</td>\n",
       "      <td>0.078318</td>\n",
       "      <td>0.307433</td>\n",
       "      <td>0.000000</td>\n",
       "      <td>0.994033</td>\n",
       "      <td>0.044818</td>\n",
       "      <td>0.048820</td>\n",
       "      <td>0.187541</td>\n",
       "      <td>0.192044</td>\n",
       "    </tr>\n",
       "    <tr>\n",
       "      <th>2120</th>\n",
       "      <td>0.000000</td>\n",
       "      <td>3.233333</td>\n",
       "      <td>28.744004</td>\n",
       "      <td>12.626295</td>\n",
       "      <td>0.048244</td>\n",
       "      <td>0.297044</td>\n",
       "      <td>0.000000</td>\n",
       "      <td>0.960444</td>\n",
       "      <td>0.000000</td>\n",
       "      <td>0.030074</td>\n",
       "      <td>0.185475</td>\n",
       "      <td>0.175133</td>\n",
       "    </tr>\n",
       "    <tr>\n",
       "      <th>2121</th>\n",
       "      <td>1.086667</td>\n",
       "      <td>3.233333</td>\n",
       "      <td>28.126966</td>\n",
       "      <td>12.443505</td>\n",
       "      <td>0.029719</td>\n",
       "      <td>0.287440</td>\n",
       "      <td>0.000000</td>\n",
       "      <td>1.703705</td>\n",
       "      <td>0.000000</td>\n",
       "      <td>0.018525</td>\n",
       "      <td>0.182790</td>\n",
       "      <td>0.163569</td>\n",
       "    </tr>\n",
       "    <tr>\n",
       "      <th>2122</th>\n",
       "      <td>0.176667</td>\n",
       "      <td>3.233333</td>\n",
       "      <td>27.267218</td>\n",
       "      <td>12.263361</td>\n",
       "      <td>0.018307</td>\n",
       "      <td>0.281270</td>\n",
       "      <td>0.000000</td>\n",
       "      <td>1.036414</td>\n",
       "      <td>0.000000</td>\n",
       "      <td>0.011412</td>\n",
       "      <td>0.180144</td>\n",
       "      <td>0.155639</td>\n",
       "    </tr>\n",
       "  </tbody>\n",
       "</table>\n",
       "<p>2123 rows × 12 columns</p>\n",
       "</div>"
      ],
      "text/plain": [
       "          prec       etp      Rsolo       Rsub      Rsup        Tu        Es  \\\n",
       "0     0.000000  5.266667   4.736667   0.000000  0.000000  0.050000  0.000000   \n",
       "1     0.000000  5.266667   4.487202   0.000000  0.000000  0.047367  0.000000   \n",
       "2     0.000000  5.266667   4.250876   0.000000  0.000000  0.044872  0.000000   \n",
       "3     0.400000  5.266667   4.044000   0.000000  0.000000  0.042509  0.000000   \n",
       "4     4.200000  5.266667   3.998870   0.000000  0.049309  0.040440  0.049309   \n",
       "...        ...       ...        ...        ...       ...       ...       ...   \n",
       "2118  0.000000  3.233333  30.743298  12.954494  0.127138  0.318929  0.000000   \n",
       "2119  0.000000  3.233333  29.704448  12.811770  0.078318  0.307433  0.000000   \n",
       "2120  0.000000  3.233333  28.744004  12.626295  0.048244  0.297044  0.000000   \n",
       "2121  1.086667  3.233333  28.126966  12.443505  0.029719  0.287440  0.000000   \n",
       "2122  0.176667  3.233333  27.267218  12.263361  0.018307  0.281270  0.000000   \n",
       "\n",
       "            Er       Rec        Ed        Eb  discharge  \n",
       "0     0.263333  0.000000  0.000000  0.000000   0.000000  \n",
       "1     0.249464  0.000000  0.000000  0.000000   0.000000  \n",
       "2     0.236326  0.000000  0.000000  0.000000   0.000000  \n",
       "3     0.606876  0.000000  0.000000  0.000000   0.000000  \n",
       "4     4.195821  0.000000  0.000000  0.000000   0.000000  \n",
       "...        ...       ...       ...       ...        ...  \n",
       "2118  1.031204  0.118401  0.079253  0.188557   0.217595  \n",
       "2119  0.994033  0.044818  0.048820  0.187541   0.192044  \n",
       "2120  0.960444  0.000000  0.030074  0.185475   0.175133  \n",
       "2121  1.703705  0.000000  0.018525  0.182790   0.163569  \n",
       "2122  1.036414  0.000000  0.011412  0.180144   0.155639  \n",
       "\n",
       "[2123 rows x 12 columns]"
      ]
     },
     "metadata": {},
     "output_type": "display_data"
    }
   ],
   "source": [
    "df_smap = smap_biritiba.run_to_dataframe(\n",
    "    df['P'].values,\n",
    "    df['ET'].values\n",
    ")\n",
    "display(df_smap)"
   ]
  },
  {
   "cell_type": "markdown",
   "metadata": {},
   "source": [
    "The SMAP module has two methods for calibrating the model parameters: `calibrate()` and `pso_calibrate()`. The first method uses the scipy library to perform an optimization of the model parameters using the `differential evolution` algorithm. The second method uses the `pyswarms` library to perform a particle swarm optimization of the model parameters. The `calibrate()` method is faster than the `pso_calibrate()`."
   ]
  },
  {
   "cell_type": "code",
   "execution_count": 8,
   "metadata": {},
   "outputs": [
    {
     "name": "stdout",
     "output_type": "stream",
     "text": [
      "differential_evolution step 1: f(x)= -0.715479164166035\n",
      "differential_evolution step 2: f(x)= -0.911453425127822\n",
      "differential_evolution step 3: f(x)= -0.911453425127822\n",
      "differential_evolution step 4: f(x)= -0.9530514184732642\n",
      "differential_evolution step 5: f(x)= -0.9902778027438709\n",
      "differential_evolution step 6: f(x)= -0.9902778027438709\n",
      "differential_evolution step 7: f(x)= -0.9902778027438709\n",
      "differential_evolution step 8: f(x)= -0.9902778027438709\n",
      "differential_evolution step 9: f(x)= -0.9902778027438709\n",
      "differential_evolution step 10: f(x)= -0.9902778027438709\n",
      "differential_evolution step 11: f(x)= -0.9904544778581186\n",
      "differential_evolution step 12: f(x)= -0.9904544778581186\n",
      "differential_evolution step 13: f(x)= -0.9917071708893012\n",
      "differential_evolution step 14: f(x)= -0.9917071708893012\n",
      "differential_evolution step 15: f(x)= -0.993918533881043\n",
      "differential_evolution step 16: f(x)= -0.9947587144578236\n",
      "differential_evolution step 17: f(x)= -0.995317187373129\n",
      "differential_evolution step 18: f(x)= -0.996756010908744\n",
      "differential_evolution step 19: f(x)= -0.9982513367595566\n",
      "Polishing solution with 'L-BFGS-B'\n"
     ]
    },
    {
     "data": {
      "text/plain": [
       "             message: Optimization terminated successfully.\n",
       "             success: True\n",
       "                 fun: -0.9993133467756228\n",
       "                   x: [ 1.064e+02  1.323e+00  1.981e+01]\n",
       "                 nit: 19\n",
       "                nfev: 972\n",
       "          population: [[ 1.064e+02  1.331e+00  1.961e+01]\n",
       "                       [ 1.280e+02  1.013e+00  1.921e+01]\n",
       "                       ...\n",
       "                       [ 1.201e+02  1.165e+00  1.988e+01]\n",
       "                       [ 1.133e+02  1.272e+00  1.862e+01]]\n",
       " population_energies: [-9.993e-01 -9.832e-01 ... -9.883e-01 -9.883e-01]\n",
       "                 jac: [ 2.122e-04  1.145e-04  1.871e-05]"
      ]
     },
     "execution_count": 8,
     "metadata": {},
     "output_type": "execute_result"
    }
   ],
   "source": [
    "smap_biritiba.calibrate(\n",
    "    df['P'].values,\n",
    "    df['ET'].values,\n",
    "    df['Q'].values,\n",
    "    variables=['Str', 'k2t', 'Crec'],\n",
    "    disp=True\n",
    ")"
   ]
  },
  {
   "cell_type": "code",
   "execution_count": 9,
   "metadata": {},
   "outputs": [
    {
     "name": "stderr",
     "output_type": "stream",
     "text": [
      "2025-06-04 09:58:43,342 - pyswarms.single.global_best - INFO - Optimize for 200 iters with {'c1': 1.5, 'c2': 1.5, 'w': 0.5}\n"
     ]
    },
    {
     "name": "stdout",
     "output_type": "stream",
     "text": [
      "Lower bounds: (0.2, 100, 0), Upper bounds: (10, 2000, 20)\n"
     ]
    },
    {
     "name": "stderr",
     "output_type": "stream",
     "text": [
      "pyswarms.single.global_best: 100%|██████████|200/200, best_cost=-.984\n",
      "2025-06-04 10:04:35,554 - pyswarms.single.global_best - INFO - Optimization finished | best cost: -0.9839257282549805, best pos: [  1.02972614 130.96383524  17.53624602]\n"
     ]
    },
    {
     "data": {
      "text/plain": [
       "{'best_cost': np.float64(-0.9839257282549805),\n",
       " 'best_params': {'k2t': np.float64(1.0297261420442438),\n",
       "  'Str': np.float64(130.96383524144372),\n",
       "  'Crec': np.float64(17.536246022252637)}}"
      ]
     },
     "execution_count": 9,
     "metadata": {},
     "output_type": "execute_result"
    }
   ],
   "source": [
    "smap_biritiba.pso_calibrate(\n",
    "    prec_arr=df['P'].values.tolist(),\n",
    "    etp_arr=df['ET'].values.tolist(),\n",
    "    eval_arr=df['Q'].values.tolist(),\n",
    "    variables=['k2t', 'Str', 'Crec'],\n",
    "    n_particles=100,\n",
    "    iters=200,\n",
    ")"
   ]
  },
  {
   "cell_type": "code",
   "execution_count": 10,
   "metadata": {},
   "outputs": [],
   "source": [
    "df['Q_PSO'] = smap_biritiba.run_to_list(\n",
    "    df['P'].values,\n",
    "    df['ET'].values\n",
    ")"
   ]
  },
  {
   "cell_type": "code",
   "execution_count": 11,
   "metadata": {},
   "outputs": [
    {
     "data": {
      "image/png": "[encoded data removed]",
      "text/plain": [
       "<Figure size 640x480 with 2 Axes>"
      ]
     },
     "metadata": {},
     "output_type": "display_data"
    }
   ],
   "source": [
    "import matplotlib.pyplot as plt\n",
    "from matplotlib import rcParams\n",
    "\n",
    "rcParams['font.family'] = 'serif'\n",
    "rcParams['font.serif'] = ['Times New Roman']\n",
    "\n",
    "fig, ax = plt.subplots(constrained_layout=True)\n",
    "ax.grid(True)\n",
    "\n",
    "x_axis = [i for i in range(len(df))]\n",
    "\n",
    "ax.set_xlim(0, 2000)\n",
    "ax.set_ylim(0, 40)\n",
    "\n",
    "ax.set_xlabel('Time (days)')\n",
    "ax.set_ylabel('Discharge (m³/s)')\n",
    "\n",
    "prec = ax.twinx()\n",
    "prec.bar(x_axis, df['P'], color='cornflowerblue', width=5, zorder=1, alpha=.5)\n",
    "prec.set_ylim(0,200)\n",
    "prec.invert_yaxis()\n",
    "prec.set_ylabel('Rainfall (mm)')\n",
    "ax.plot(x_axis, df['Q'], color='black', linewidth=.5, zorder=2)\n",
    "ax.plot(x_axis, df['Q_PSO'], color='red', linewidth=.5, zorder=3)\n",
    "ax.set_title('MOGESTpy - SMAP')\n",
    "plt.show()"
   ]
  },
  {
   "cell_type": "markdown",
   "metadata": {},
   "source": [
    "Using SALib to perform a sensitivity analysis on the model parameters"
   ]
  },
  {
   "cell_type": "code",
   "execution_count": 12,
   "metadata": {},
   "outputs": [
    {
     "name": "stdout",
     "output_type": "stream",
     "text": [
      "Sobol Sensitivity Indices:\n",
      "k2t: 0.1264\n",
      "Str: 0.7737\n",
      "Crec: 0.0022\n",
      "kkt: 0.0069\n",
      "Capc: 0.0011\n",
      "Ai: -0.0001\n"
     ]
    },
    {
     "name": "stderr",
     "output_type": "stream",
     "text": [
      "c:\\Users\\dario\\miniconda3\\Lib\\site-packages\\SALib\\util\\__init__.py:274: FutureWarning: unique with argument that is not not a Series, Index, ExtensionArray, or np.ndarray is deprecated and will raise in a future version.\n",
      "  names = list(pd.unique(groups))\n"
     ]
    }
   ],
   "source": [
    "from SALib.sample import sobol as sobol_s\n",
    "from SALib.analyze import sobol as sobol_a\n",
    "import numpy as np\n",
    "analysis = True\n",
    "if analysis:\n",
    "    # Define the problem for SALib\n",
    "    problem = {\n",
    "        'num_vars': 6,\n",
    "        'names': ['k2t', 'Str', 'Crec', 'kkt', 'Capc', 'Ai'],\n",
    "        'bounds': [\n",
    "            [0.2, 10],  # Example bounds for k2t\n",
    "            [100, 2000],  # Example bounds for Str\n",
    "            [0, 20],  # Example bounds for Crec\n",
    "            [30, 180],  # Example bounds for kkt\n",
    "            [30, 50],  # Example bounds for Capc\n",
    "            [2, 5]  # Example bounds for Ai\n",
    "        ]\n",
    "    }\n",
    "\n",
    "    # Generate samples\n",
    "    param_values = sobol_s.sample(problem, 512, calc_second_order=False)\n",
    "\n",
    "    # Prepare input arrays\n",
    "    P = df['P'].values[:365]\n",
    "    ET = df['ET'].values[:365]\n",
    "\n",
    "    # Run the model for each sample\n",
    "    Y = []\n",
    "    for params in param_values:\n",
    "        smap_biritiba.k2t, smap_biritiba.Str, smap_biritiba.Crec, smap_biritiba.kkt, smap_biritiba.Capc, smap_biritiba.Ai = params\n",
    "        discharge_sim = smap_biritiba.run_to_list(P, ET)\n",
    "        # Use Nash-Sutcliffe Efficiency as objective (or any other metric)\n",
    "        obs = df['Q'].values[:365]\n",
    "        nse = 1 - np.sum((obs - discharge_sim) ** 2) / np.sum((obs - np.mean(obs)) ** 2)\n",
    "        Y.append(nse)\n",
    "\n",
    "    Y = np.array(Y)\n",
    "\n",
    "    # Perform Sobol sensitivity analysis\n",
    "    Si = sobol_a.analyze(problem, Y, calc_second_order=False)\n",
    "    print(\"Sobol Sensitivity Indices:\")\n",
    "    for name, s1 in zip(problem['names'], Si['S1']):\n",
    "        print(f\"{name}: {s1:.4f}\")"
   ]
  },
  {
   "cell_type": "code",
   "execution_count": 13,
   "metadata": {},
   "outputs": [
    {
     "data": {
      "application/vnd.microsoft.datawrangler.viewer.v0+json": {
       "columns": [
        {
         "name": "index",
         "rawType": "int64",
         "type": "integer"
        },
        {
         "name": "num_vars",
         "rawType": "int64",
         "type": "integer"
        },
        {
         "name": "names",
         "rawType": "object",
         "type": "string"
        },
        {
         "name": "bounds",
         "rawType": "object",
         "type": "unknown"
        },
        {
         "name": "sample_scaled",
         "rawType": "bool",
         "type": "boolean"
        }
       ],
       "ref": "da909dcd-f529-4d8a-8081-dfc90e18bbb8",
       "rows": [
        [
         "0",
         "6",
         "k2t",
         "[0.2, 10]",
         "True"
        ],
        [
         "1",
         "6",
         "Str",
         "[100, 2000]",
         "True"
        ],
        [
         "2",
         "6",
         "Crec",
         "[0, 20]",
         "True"
        ],
        [
         "3",
         "6",
         "kkt",
         "[30, 180]",
         "True"
        ],
        [
         "4",
         "6",
         "Capc",
         "[30, 50]",
         "True"
        ],
        [
         "5",
         "6",
         "Ai",
         "[2, 5]",
         "True"
        ]
       ],
       "shape": {
        "columns": 4,
        "rows": 6
       }
      },
      "text/html": [
       "<div>\n",
       "<style scoped>\n",
       "    .dataframe tbody tr th:only-of-type {\n",
       "        vertical-align: middle;\n",
       "    }\n",
       "\n",
       "    .dataframe tbody tr th {\n",
       "        vertical-align: top;\n",
       "    }\n",
       "\n",
       "    .dataframe thead th {\n",
       "        text-align: right;\n",
       "    }\n",
       "</style>\n",
       "<table border=\"1\" class=\"dataframe\">\n",
       "  <thead>\n",
       "    <tr style=\"text-align: right;\">\n",
       "      <th></th>\n",
       "      <th>num_vars</th>\n",
       "      <th>names</th>\n",
       "      <th>bounds</th>\n",
       "      <th>sample_scaled</th>\n",
       "    </tr>\n",
       "  </thead>\n",
       "  <tbody>\n",
       "    <tr>\n",
       "      <th>0</th>\n",
       "      <td>6</td>\n",
       "      <td>k2t</td>\n",
       "      <td>[0.2, 10]</td>\n",
       "      <td>True</td>\n",
       "    </tr>\n",
       "    <tr>\n",
       "      <th>1</th>\n",
       "      <td>6</td>\n",
       "      <td>Str</td>\n",
       "      <td>[100, 2000]</td>\n",
       "      <td>True</td>\n",
       "    </tr>\n",
       "    <tr>\n",
       "      <th>2</th>\n",
       "      <td>6</td>\n",
       "      <td>Crec</td>\n",
       "      <td>[0, 20]</td>\n",
       "      <td>True</td>\n",
       "    </tr>\n",
       "    <tr>\n",
       "      <th>3</th>\n",
       "      <td>6</td>\n",
       "      <td>kkt</td>\n",
       "      <td>[30, 180]</td>\n",
       "      <td>True</td>\n",
       "    </tr>\n",
       "    <tr>\n",
       "      <th>4</th>\n",
       "      <td>6</td>\n",
       "      <td>Capc</td>\n",
       "      <td>[30, 50]</td>\n",
       "      <td>True</td>\n",
       "    </tr>\n",
       "    <tr>\n",
       "      <th>5</th>\n",
       "      <td>6</td>\n",
       "      <td>Ai</td>\n",
       "      <td>[2, 5]</td>\n",
       "      <td>True</td>\n",
       "    </tr>\n",
       "  </tbody>\n",
       "</table>\n",
       "</div>"
      ],
      "text/plain": [
       "   num_vars names       bounds  sample_scaled\n",
       "0         6   k2t    [0.2, 10]           True\n",
       "1         6   Str  [100, 2000]           True\n",
       "2         6  Crec      [0, 20]           True\n",
       "3         6   kkt    [30, 180]           True\n",
       "4         6  Capc     [30, 50]           True\n",
       "5         6    Ai       [2, 5]           True"
      ]
     },
     "metadata": {},
     "output_type": "display_data"
    }
   ],
   "source": [
    "display(pd.DataFrame(problem))"
   ]
  },
  {
   "cell_type": "code",
   "execution_count": 14,
   "metadata": {},
   "outputs": [
    {
     "data": {
      "application/vnd.microsoft.datawrangler.viewer.v0+json": {
       "columns": [
        {
         "name": "index",
         "rawType": "int64",
         "type": "integer"
        },
        {
         "name": "S1",
         "rawType": "float64",
         "type": "float"
        },
        {
         "name": "S1_conf",
         "rawType": "float64",
         "type": "float"
        },
        {
         "name": "ST",
         "rawType": "float64",
         "type": "float"
        },
        {
         "name": "ST_conf",
         "rawType": "float64",
         "type": "float"
        }
       ],
       "ref": "d6862557-aad1-41a9-aae0-933c826931b5",
       "rows": [
        [
         "0",
         "0.1263912463741223",
         "0.04781828837106522",
         "0.21617684763133557",
         "0.0801648840875146"
        ],
        [
         "1",
         "0.7737143319499017",
         "0.11234169912584331",
         "0.8497444377178884",
         "0.09747666678257626"
        ],
        [
         "2",
         "0.0022400173454763406",
         "0.011430753308990292",
         "0.013417817091038469",
         "0.016167757443076344"
        ],
        [
         "3",
         "0.0069017984149102995",
         "0.010078118714544585",
         "0.007288304105227227",
         "0.0012090387081749702"
        ],
        [
         "4",
         "0.0011215983615239754",
         "0.012622995320929222",
         "0.009116911792075667",
         "0.0018377005980104273"
        ],
        [
         "5",
         "-9.387611347510103e-05",
         "0.0023231327716563633",
         "0.0004398387413905281",
         "0.00010381466627378073"
        ]
       ],
       "shape": {
        "columns": 4,
        "rows": 6
       }
      },
      "text/html": [
       "<div>\n",
       "<style scoped>\n",
       "    .dataframe tbody tr th:only-of-type {\n",
       "        vertical-align: middle;\n",
       "    }\n",
       "\n",
       "    .dataframe tbody tr th {\n",
       "        vertical-align: top;\n",
       "    }\n",
       "\n",
       "    .dataframe thead th {\n",
       "        text-align: right;\n",
       "    }\n",
       "</style>\n",
       "<table border=\"1\" class=\"dataframe\">\n",
       "  <thead>\n",
       "    <tr style=\"text-align: right;\">\n",
       "      <th></th>\n",
       "      <th>S1</th>\n",
       "      <th>S1_conf</th>\n",
       "      <th>ST</th>\n",
       "      <th>ST_conf</th>\n",
       "    </tr>\n",
       "  </thead>\n",
       "  <tbody>\n",
       "    <tr>\n",
       "      <th>0</th>\n",
       "      <td>0.126391</td>\n",
       "      <td>0.047818</td>\n",
       "      <td>0.216177</td>\n",
       "      <td>0.080165</td>\n",
       "    </tr>\n",
       "    <tr>\n",
       "      <th>1</th>\n",
       "      <td>0.773714</td>\n",
       "      <td>0.112342</td>\n",
       "      <td>0.849744</td>\n",
       "      <td>0.097477</td>\n",
       "    </tr>\n",
       "    <tr>\n",
       "      <th>2</th>\n",
       "      <td>0.002240</td>\n",
       "      <td>0.011431</td>\n",
       "      <td>0.013418</td>\n",
       "      <td>0.016168</td>\n",
       "    </tr>\n",
       "    <tr>\n",
       "      <th>3</th>\n",
       "      <td>0.006902</td>\n",
       "      <td>0.010078</td>\n",
       "      <td>0.007288</td>\n",
       "      <td>0.001209</td>\n",
       "    </tr>\n",
       "    <tr>\n",
       "      <th>4</th>\n",
       "      <td>0.001122</td>\n",
       "      <td>0.012623</td>\n",
       "      <td>0.009117</td>\n",
       "      <td>0.001838</td>\n",
       "    </tr>\n",
       "    <tr>\n",
       "      <th>5</th>\n",
       "      <td>-0.000094</td>\n",
       "      <td>0.002323</td>\n",
       "      <td>0.000440</td>\n",
       "      <td>0.000104</td>\n",
       "    </tr>\n",
       "  </tbody>\n",
       "</table>\n",
       "</div>"
      ],
      "text/plain": [
       "         S1   S1_conf        ST   ST_conf\n",
       "0  0.126391  0.047818  0.216177  0.080165\n",
       "1  0.773714  0.112342  0.849744  0.097477\n",
       "2  0.002240  0.011431  0.013418  0.016168\n",
       "3  0.006902  0.010078  0.007288  0.001209\n",
       "4  0.001122  0.012623  0.009117  0.001838\n",
       "5 -0.000094  0.002323  0.000440  0.000104"
      ]
     },
     "metadata": {},
     "output_type": "display_data"
    }
   ],
   "source": [
    "display(pd.DataFrame(Si))"
   ]
  },
  {
   "cell_type": "markdown",
   "metadata": {},
   "source": [
    "## Iteractive model run"
   ]
  },
  {
   "cell_type": "code",
   "execution_count": 15,
   "metadata": {},
   "outputs": [
    {
     "data": {
      "application/vnd.jupyter.widget-view+json": {
       "model_id": "35fb9112356d4acca9d03e54afd168b3",
       "version_major": 2,
       "version_minor": 0
      },
      "text/plain": [
       "interactive(children=(FloatSlider(value=100.0, description='Str', max=2000.0, min=100.0), FloatSlider(value=19…"
      ]
     },
     "metadata": {},
     "output_type": "display_data"
    }
   ],
   "source": [
    "from ipywidgets import interact, FloatSlider\n",
    "\n",
    "@interact(\n",
    "    Str=FloatSlider(min=100, max=2000, step=0.1, value=100),\n",
    "    Crec=FloatSlider(min=0, max=20, step=0.1, value=19.612562479845),\n",
    "    Capc=FloatSlider(min=30, max=50, step=0.1, value=30/100),\n",
    "    kkt=FloatSlider(min=30, max=180, step=0.1, value=47.5320152819107),\n",
    "    k2t=FloatSlider(min=0.2, max=10, step=0.1, value=1.43064763229058),\n",
    "    Ai=FloatSlider(min=2, max=5, step=0.1, value=2),\n",
    "    Tuin=FloatSlider(min=0, max=1, step=0.1, value=.05),\n",
    "    Ebin=FloatSlider(min=0, max=100, step=0.1, value=0),\n",
    ")\n",
    "def func(Str, Crec, Capc, kkt, k2t, Ai, Tuin, Ebin):\n",
    "    smap_biritiba = Smap(\n",
    "        Str=Str,\n",
    "        Crec=Crec,\n",
    "        Capc=Capc,\n",
    "        kkt=kkt,\n",
    "        k2t=k2t,\n",
    "        Ai=Ai,\n",
    "        Tuin=Tuin,\n",
    "        Ebin=Ebin,\n",
    "        Ad=70.2\n",
    "    )\n",
    "    \n",
    "\n",
    "    rcParams['font.family'] = 'serif'\n",
    "    rcParams['font.serif'] = ['Times New Roman']\n",
    "\n",
    "    fig, ax = plt.subplots(constrained_layout=True)\n",
    "    ax.grid(True)\n",
    "\n",
    "    x_axis = [i for i in range(len(df))]\n",
    "\n",
    "    ax.set_xlim(0, 2000)\n",
    "    ax.set_ylim(0, 40)\n",
    "\n",
    "    ax.set_xlabel('Time (days)')\n",
    "    ax.set_ylabel('Discharge (m³/s)')\n",
    "\n",
    "    prec = ax.twinx()\n",
    "    prec.bar(x_axis, df['P'], color='cornflowerblue', width=5, zorder=1, alpha=.5)\n",
    "    prec.set_ylim(0,200)\n",
    "    prec.invert_yaxis()\n",
    "    prec.set_ylabel('Rainfall (mm)')\n",
    "    ax.plot(x_axis,\n",
    "            smap_biritiba.run_to_list(\n",
    "                df['P'].values,\n",
    "                df['ET'].values\n",
    "            ),\n",
    "            color='black', linewidth=.5, zorder=2)\n",
    "    ax.set_title('MOGESTpy - SMAP - Interactive')\n",
    "    plt.show()\n",
    "\n",
    "    return fig, ax\n"
   ]
  }
 ],
 "metadata": {
  "kernelspec": {
   "display_name": "base",
   "language": "python",
   "name": "python3"
  },
  "language_info": {
   "codemirror_mode": {
    "name": "ipython",
    "version": 3
   },
   "file_extension": ".py",
   "mimetype": "text/x-python",
   "name": "python",
   "nbconvert_exporter": "python",
   "pygments_lexer": "ipython3",
   "version": "3.12.2"
  },
  "orig_nbformat": 4
 },
 "nbformat": 4,
 "nbformat_minor": 2
}
