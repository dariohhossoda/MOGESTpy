{
 "cells": [
  {
   "cell_type": "markdown",
   "metadata": {},
   "source": [
    "# Aplicação do modelo de qualidade da água - Acúmulo e Lavagem (Buildup/Washoff)"
   ]
  },
  {
   "cell_type": "markdown",
   "metadata": {},
   "source": [
    "## Imports"
   ]
  },
  {
   "cell_type": "code",
   "execution_count": 52,
   "metadata": {},
   "outputs": [],
   "source": [
    "import locale\n",
    "import pandas as pd\n",
    "import numpy as np\n",
    "import plotly.express as px\n",
    "import plotly.graph_objs as go\n",
    "import plotly.io as pio\n",
    "import matplotlib.pyplot as plt\n",
    "\n",
    "from matplotlib import rcParams\n",
    "from matplotlib import rc\n",
    "from datetime import datetime, timedelta\n",
    "\n",
    "from plotly.subplots import make_subplots\n",
    "from plotly.offline import plot\n",
    "from mogestpy.quality import buwo\n",
    "from mogestpy.quantity.Hydrological import Muskingum\n",
    "from spotpy.objectivefunctions import rmse, nashsutcliffe, pbias, kge\n",
    "\n",
    "rcParams['font.family'] = 'serif'\n",
    "rcParams['font.serif'] = ['CMU Serif']\n",
    "rcParams['text.usetex'] = True\n",
    "\n",
    "pd.options.plotting.backend = \"plotly\"\n",
    "pio.templates.default = \"plotly_white\""
   ]
  },
  {
   "cell_type": "code",
   "execution_count": 53,
   "metadata": {},
   "outputs": [],
   "source": [
    "from matplotlib.ticker import FuncFormatter\n",
    "from matplotlib.dates import MonthLocator, DateFormatter \n",
    "month_fmt = DateFormatter('%b')\n",
    "def m_fmt(x, pos=None):\n",
    "    return month_fmt(x)[0]"
   ]
  },
  {
   "cell_type": "markdown",
   "metadata": {},
   "source": [
    "DataFrames com dados"
   ]
  },
  {
   "cell_type": "code",
   "execution_count": 54,
   "metadata": {},
   "outputs": [],
   "source": [
    "df_Qd = pd.read_excel('esc_direto.xlsx', index_col=0)\n",
    "df_Qmm = pd.read_excel(\"Vazao_mm.xlsx\", index_col=0)\n",
    "df_cpontuais = pd.read_excel(\"cpontuais.xlsx\")"
   ]
  },
  {
   "cell_type": "code",
   "execution_count": 55,
   "metadata": {},
   "outputs": [],
   "source": [
    "df_cpontuais_ton = df_cpontuais.div(1e3)"
   ]
  },
  {
   "cell_type": "code",
   "execution_count": 56,
   "metadata": {},
   "outputs": [],
   "source": [
    "df_data = pd.read_excel('case.xlsx')"
   ]
  },
  {
   "cell_type": "code",
   "execution_count": 57,
   "metadata": {},
   "outputs": [],
   "source": [
    "codes = [86492, 86493, 86494, 86495, 86496, 86497, 86498, 86499]"
   ]
  },
  {
   "cell_type": "code",
   "execution_count": 58,
   "metadata": {},
   "outputs": [],
   "source": [
    "loadgens = []\n",
    "\n",
    "for i in range(8):\n",
    "    loadgen = buwo.BuildUpWashoff(landuse_name='',\n",
    "                                  Bmax=df_data['Bmax'][i],\n",
    "                                  Nb=df_data['Nb'][i],\n",
    "                                  Kb=df_data['Kb'][i],\n",
    "                                  threshold_flow=0.02,\n",
    "                                  Nw=df_data['Nw'][i],\n",
    "                                  Kw=df_data['Kw'][i],\n",
    "                                  BuMethod=2,\n",
    "                                  WoMethod=1,\n",
    "                                  timestep_h=24,\n",
    "                                  initial_buildup=1,\n",
    "                                  area=df_data['AD'][i],\n",
    "                                  area_fraction=1,\n",
    "                                  surface_flow=df_Qd[codes[i]]/df_data['AD'][i]*86.4)\n",
    "    loadgens.append(loadgen)"
   ]
  },
  {
   "cell_type": "code",
   "execution_count": 59,
   "metadata": {},
   "outputs": [],
   "source": [
    "for loadgen in loadgens:\n",
    "    loadgen.Process(verbose=False)"
   ]
  },
  {
   "cell_type": "code",
   "execution_count": 60,
   "metadata": {},
   "outputs": [],
   "source": [
    "df_Bu = pd.DataFrame()  \n",
    "\n",
    "for i in range(8):\n",
    "    df_Bu[codes[i]] = loadgens[i].BuildUp"
   ]
  },
  {
   "cell_type": "code",
   "execution_count": 61,
   "metadata": {},
   "outputs": [],
   "source": [
    "df_Bu_ton = df_Bu.div(1e3) # conversão para ton"
   ]
  },
  {
   "cell_type": "code",
   "execution_count": 62,
   "metadata": {},
   "outputs": [],
   "source": [
    "df_ctotais = df_Bu_ton+df_cpontuais_ton"
   ]
  },
  {
   "cell_type": "markdown",
   "metadata": {},
   "source": [
    "Capacidade de produção de carga (total)"
   ]
  },
  {
   "cell_type": "code",
   "execution_count": 63,
   "metadata": {},
   "outputs": [],
   "source": [
    "df_Wo = pd.DataFrame()\n",
    "for i in range(8):\n",
    "    df_Wo[codes[i]] = loadgens[i].Washoff"
   ]
  },
  {
   "cell_type": "code",
   "execution_count": 64,
   "metadata": {},
   "outputs": [],
   "source": [
    "df_Qinc = pd.read_excel(\"vazoes_simuladas.xlsx\", index_col=0)"
   ]
  },
  {
   "cell_type": "code",
   "execution_count": 65,
   "metadata": {},
   "outputs": [],
   "source": [
    "df_WoC = pd.DataFrame()\n",
    "for i in range(8):\n",
    "    df_WoC[codes[i]] = df_Wo[codes[i]]/df_Qinc[codes[i]]/86.4"
   ]
  },
  {
   "cell_type": "code",
   "execution_count": 66,
   "metadata": {},
   "outputs": [],
   "source": [
    "df_total_lavado = df_cpontuais + df_Wo"
   ]
  },
  {
   "cell_type": "code",
   "execution_count": 110,
   "metadata": {},
   "outputs": [
    {
     "data": {
      "image/png": "[encoded data removed]",
      "text/plain": [
       "<Figure size 393.701x393.701 with 2 Axes>"
      ]
     },
     "metadata": {},
     "output_type": "display_data"
    }
   ],
   "source": [
    "fig, ax = plt.subplots(figsize=(10/2.54, 10/2.54), constrained_layout=True)\n",
    "\n",
    "xaxis = pd.date_range(start='2012-01-01', periods=366, freq='D')\n",
    "\n",
    "ax.bar(xaxis, (df_ctotais[86494][365:]).values, label= 'Total BOD (ton/dia)')\n",
    "# plt.xticks(rotation=45)\n",
    "\n",
    "ax2 = ax.twinx()\n",
    "ax2.plot(xaxis, (df_ctotais[86494][365:]).cumsum().values, color='red', label='Cumulative Sum (ton)')\n",
    "\n",
    "ax.legend(loc=(.01, .9))\n",
    "ax2.legend(loc=(.01, .8))\n",
    "# Set axis titles\n",
    "ax.grid()\n",
    "ax.set_xlabel('Date')\n",
    "ax.set_ylabel('BOD total (ton/day)')\n",
    "ax2.set_ylabel('BOD Cumulative Sum (ton)')\n",
    "\n",
    "ax.set_xlim(pd.Timestamp('2012-01-01'), pd.Timestamp('2012-12-31'))\n",
    "ax.set_ylim(0)\n",
    "ax2.set_ylim(0)\n",
    "\n",
    "ax.xaxis.set_major_locator(MonthLocator())\n",
    "ax.xaxis.set_major_formatter(FuncFormatter(m_fmt))\n",
    "\n",
    "# plt.savefig('H:/GitHub/Thesis/images/case2/bu94.pdf')\n",
    "\n",
    "plt.show()"
   ]
  },
  {
   "cell_type": "code",
   "execution_count": 103,
   "metadata": {},
   "outputs": [
    {
     "data": {
      "image/png": "[encoded data removed]",
      "text/plain": [
       "<Figure size 787.402x393.701 with 2 Axes>"
      ]
     },
     "metadata": {},
     "output_type": "display_data"
    }
   ],
   "source": [
    "fig, ax = plt.subplots(figsize=(20/2.54, 10/2.54), constrained_layout=True)\n",
    "\n",
    "xaxis = pd.date_range(start='2012-01-01', periods=366, freq='D')\n",
    "\n",
    "ax.bar(xaxis, (df_ctotais[86494][365:]).values, label='Carga Total (ton/dia)')\n",
    "plt.xticks(rotation=45)\n",
    "\n",
    "ax2 = ax.twinx()\n",
    "ax2.plot(xaxis, (df_ctotais[86494][365:]).cumsum().values, color='red', label='Carga Acumulada (ton)')\n",
    "\n",
    "ax.legend(loc=(.01, .25))\n",
    "ax2.legend(loc=(.01, .35))\n",
    "# Set axis titles\n",
    "ax.grid()\n",
    "ax.set_xlabel('Data')\n",
    "ax.set_ylabel('Cargas pontuais e difusas - BOD (ton/dia)')\n",
    "ax2.set_ylabel('Carga Acumulada - DBO (ton)')\n",
    "\n",
    "ax.set_xlim(pd.Timestamp('2012-01-01'), pd.Timestamp('2012-12-31'))\n",
    "ax.set_ylim(0)\n",
    "ax2.set_ylim(0)\n",
    "\n",
    "\n",
    "\n",
    "plt.show()"
   ]
  },
  {
   "cell_type": "code",
   "execution_count": 69,
   "metadata": {},
   "outputs": [],
   "source": [
    "fig = df_total_lavado[86494].plot()"
   ]
  },
  {
   "cell_type": "code",
   "execution_count": 70,
   "metadata": {},
   "outputs": [],
   "source": [
    "df_total_lavadoC = df_total_lavado / df_Qinc[codes] / 86.4"
   ]
  },
  {
   "cell_type": "code",
   "execution_count": 71,
   "metadata": {},
   "outputs": [],
   "source": [
    "concentracao_estrela = df_total_lavadoC[86498]+df_total_lavadoC[86499]"
   ]
  },
  {
   "cell_type": "code",
   "execution_count": 72,
   "metadata": {},
   "outputs": [
    {
     "data": {
      "text/plain": [
       "365    5.122063\n",
       "366    5.314242\n",
       "367    5.489511\n",
       "368    5.650879\n",
       "369    5.798919\n",
       "         ...   \n",
       "726    3.007979\n",
       "727    2.986308\n",
       "728    3.007237\n",
       "729    2.642946\n",
       "730    2.474555\n",
       "Length: 366, dtype: float64"
      ]
     },
     "execution_count": 72,
     "metadata": {},
     "output_type": "execute_result"
    }
   ],
   "source": [
    "concentracao_estrela[365:]"
   ]
  },
  {
   "cell_type": "code",
   "execution_count": 73,
   "metadata": {},
   "outputs": [],
   "source": [
    "def sp_eq(Lo, kd, t):\n",
    "    return Lo * np.exp(-kd * t)"
   ]
  },
  {
   "cell_type": "code",
   "execution_count": 74,
   "metadata": {},
   "outputs": [],
   "source": [
    "df2 = pd.read_excel('qual.xlsx', index_col=0)"
   ]
  },
  {
   "cell_type": "code",
   "execution_count": 75,
   "metadata": {},
   "outputs": [
    {
     "data": {
      "text/plain": [
       "366"
      ]
     },
     "execution_count": 75,
     "metadata": {},
     "output_type": "execute_result"
    }
   ],
   "source": [
    "len(concentracao_estrela[365:].values)"
   ]
  },
  {
   "cell_type": "code",
   "execution_count": 76,
   "metadata": {},
   "outputs": [
    {
     "data": {
      "image/png": "[encoded data removed]",
      "text/plain": [
       "<Figure size 787.402x393.701 with 1 Axes>"
      ]
     },
     "metadata": {},
     "output_type": "display_data"
    }
   ],
   "source": [
    "fig, ax = plt.subplots(figsize=(20/2.54, 10/2.54), constrained_layout=True)\n",
    "\n",
    "x = [i + 1 for i in range(365)]\n",
    "\n",
    "ax.set_xlabel('Tempo (dias)')\n",
    "ax.plot(concentracao_estrela[365:].values, label='Sem decaimento', linewidth=1)\n",
    "ax.plot(sp_eq(concentracao_estrela[365:].values, .2, 3), label='Com decaímento - Streeter-Phelps', linewidth=1)\n",
    "ax.plot(df2['c_sim'].values, label='Hidrodinâmico', linewidth=1)\n",
    "ax.set_ylabel('Concentração DBO (mg/L)')\n",
    "ax.legend()\n",
    "ax.grid(True)\n",
    "\n",
    "plt.show()\n"
   ]
  },
  {
   "cell_type": "code",
   "execution_count": 77,
   "metadata": {},
   "outputs": [
    {
     "name": "stderr",
     "output_type": "stream",
     "text": [
      "C:\\Users\\Dario\\AppData\\Local\\Temp\\ipykernel_23404\\786257680.py:22: UserWarning:\n",
      "\n",
      "FixedFormatter should only be used together with FixedLocator\n",
      "\n"
     ]
    },
    {
     "data": {
      "image/png": "[encoded data removed]",
      "text/plain": [
       "<Figure size 787.402x393.701 with 1 Axes>"
      ]
     },
     "metadata": {},
     "output_type": "display_data"
    }
   ],
   "source": [
    "fig, ax = plt.subplots(figsize=(20/2.54, 10/2.54), constrained_layout=True)\n",
    "\n",
    "start_date = datetime(2012, 1, 1)\n",
    "end_date = start_date + timedelta(days=365)\n",
    "x = [start_date + timedelta(days=i) for i in range(365)]\n",
    "\n",
    "y1 = concentracao_estrela[365:].values[:-1]\n",
    "y2 = sp_eq(concentracao_estrela[365:].values[:-1], .2, 3)\n",
    "y3 = df2['c_sim'].values[:]\n",
    "\n",
    "ax.set_xlabel('Data')\n",
    "ax.plot(x, y1, label='Hidrológico - Sem decaimento', linewidth=1)\n",
    "ax.plot(x, y2, label='Hidrológico - Streeter-Phelps', linewidth=1)\n",
    "ax.plot(x, y3, label='Hidrodinâmico', linewidth=1)\n",
    "ax.set_ylabel('Concentração DBO (mg/L)')\n",
    "ax.grid(True)\n",
    "ax.set_xlim(start_date, end_date)\n",
    "\n",
    "ax.legend()\n",
    "\n",
    "# Rotate x-axis ticks by 90 degrees\n",
    "ax.set_xticklabels(ax.get_xticklabels(), rotation=45)\n",
    "\n",
    "plt.show()\n",
    "ax.grid(True)\n",
    "\n",
    "ax.set_xlim(start_date, end_date)\n",
    "\n",
    "plt.show()"
   ]
  },
  {
   "cell_type": "code",
   "execution_count": 78,
   "metadata": {},
   "outputs": [
    {
     "data": {
      "application/vnd.plotly.v1+json": {
       "config": {
        "plotlyServerURL": "https://plot.ly"
       },
       "data": [
        {
         "name": "Sem decaimento",
         "type": "scatter",
         "x": [
          "2012-01-01T00:00:00",
          "2012-01-02T00:00:00",
          "2012-01-03T00:00:00",
          "2012-01-04T00:00:00",
          "2012-01-05T00:00:00",
          "2012-01-06T00:00:00",
          "2012-01-07T00:00:00",
          "2012-01-08T00:00:00",
          "2012-01-09T00:00:00",
          "2012-01-10T00:00:00",
          "2012-01-11T00:00:00",
          "2012-01-12T00:00:00",
          "2012-01-13T00:00:00",
          "2012-01-14T00:00:00",
          "2012-01-15T00:00:00",
          "2012-01-16T00:00:00",
          "2012-01-17T00:00:00",
          "2012-01-18T00:00:00",
          "2012-01-19T00:00:00",
          "2012-01-20T00:00:00",
          "2012-01-21T00:00:00",
          "2012-01-22T00:00:00",
          "2012-01-23T00:00:00",
          "2012-01-24T00:00:00",
          "2012-01-25T00:00:00",
          "2012-01-26T00:00:00",
          "2012-01-27T00:00:00",
          "2012-01-28T00:00:00",
          "2012-01-29T00:00:00",
          "2012-01-30T00:00:00",
          "2012-01-31T00:00:00",
          "2012-02-01T00:00:00",
          "2012-02-02T00:00:00",
          "2012-02-03T00:00:00",
          "2012-02-04T00:00:00",
          "2012-02-05T00:00:00",
          "2012-02-06T00:00:00",
          "2012-02-07T00:00:00",
          "2012-02-08T00:00:00",
          "2012-02-09T00:00:00",
          "2012-02-10T00:00:00",
          "2012-02-11T00:00:00",
          "2012-02-12T00:00:00",
          "2012-02-13T00:00:00",
          "2012-02-14T00:00:00",
          "2012-02-15T00:00:00",
          "2012-02-16T00:00:00",
          "2012-02-17T00:00:00",
          "2012-02-18T00:00:00",
          "2012-02-19T00:00:00",
          "2012-02-20T00:00:00",
          "2012-02-21T00:00:00",
          "2012-02-22T00:00:00",
          "2012-02-23T00:00:00",
          "2012-02-24T00:00:00",
          "2012-02-25T00:00:00",
          "2012-02-26T00:00:00",
          "2012-02-27T00:00:00",
          "2012-02-28T00:00:00",
          "2012-02-29T00:00:00",
          "2012-03-01T00:00:00",
          "2012-03-02T00:00:00",
          "2012-03-03T00:00:00",
          "2012-03-04T00:00:00",
          "2012-03-05T00:00:00",
          "2012-03-06T00:00:00",
          "2012-03-07T00:00:00",
          "2012-03-08T00:00:00",
          "2012-03-09T00:00:00",
          "2012-03-10T00:00:00",
          "2012-03-11T00:00:00",
          "2012-03-12T00:00:00",
          "2012-03-13T00:00:00",
          "2012-03-14T00:00:00",
          "2012-03-15T00:00:00",
          "2012-03-16T00:00:00",
          "2012-03-17T00:00:00",
          "2012-03-18T00:00:00",
          "2012-03-19T00:00:00",
          "2012-03-20T00:00:00",
          "2012-03-21T00:00:00",
          "2012-03-22T00:00:00",
          "2012-03-23T00:00:00",
          "2012-03-24T00:00:00",
          "2012-03-25T00:00:00",
          "2012-03-26T00:00:00",
          "2012-03-27T00:00:00",
          "2012-03-28T00:00:00",
          "2012-03-29T00:00:00",
          "2012-03-30T00:00:00",
          "2012-03-31T00:00:00",
          "2012-04-01T00:00:00",
          "2012-04-02T00:00:00",
          "2012-04-03T00:00:00",
          "2012-04-04T00:00:00",
          "2012-04-05T00:00:00",
          "2012-04-06T00:00:00",
          "2012-04-07T00:00:00",
          "2012-04-08T00:00:00",
          "2012-04-09T00:00:00",
          "2012-04-10T00:00:00",
          "2012-04-11T00:00:00",
          "2012-04-12T00:00:00",
          "2012-04-13T00:00:00",
          "2012-04-14T00:00:00",
          "2012-04-15T00:00:00",
          "2012-04-16T00:00:00",
          "2012-04-17T00:00:00",
          "2012-04-18T00:00:00",
          "2012-04-19T00:00:00",
          "2012-04-20T00:00:00",
          "2012-04-21T00:00:00",
          "2012-04-22T00:00:00",
          "2012-04-23T00:00:00",
          "2012-04-24T00:00:00",
          "2012-04-25T00:00:00",
          "2012-04-26T00:00:00",
          "2012-04-27T00:00:00",
          "2012-04-28T00:00:00",
          "2012-04-29T00:00:00",
          "2012-04-30T00:00:00",
          "2012-05-01T00:00:00",
          "2012-05-02T00:00:00",
          "2012-05-03T00:00:00",
          "2012-05-04T00:00:00",
          "2012-05-05T00:00:00",
          "2012-05-06T00:00:00",
          "2012-05-07T00:00:00",
          "2012-05-08T00:00:00",
          "2012-05-09T00:00:00",
          "2012-05-10T00:00:00",
          "2012-05-11T00:00:00",
          "2012-05-12T00:00:00",
          "2012-05-13T00:00:00",
          "2012-05-14T00:00:00",
          "2012-05-15T00:00:00",
          "2012-05-16T00:00:00",
          "2012-05-17T00:00:00",
          "2012-05-18T00:00:00",
          "2012-05-19T00:00:00",
          "2012-05-20T00:00:00",
          "2012-05-21T00:00:00",
          "2012-05-22T00:00:00",
          "2012-05-23T00:00:00",
          "2012-05-24T00:00:00",
          "2012-05-25T00:00:00",
          "2012-05-26T00:00:00",
          "2012-05-27T00:00:00",
          "2012-05-28T00:00:00",
          "2012-05-29T00:00:00",
          "2012-05-30T00:00:00",
          "2012-05-31T00:00:00",
          "2012-06-01T00:00:00",
          "2012-06-02T00:00:00",
          "2012-06-03T00:00:00",
          "2012-06-04T00:00:00",
          "2012-06-05T00:00:00",
          "2012-06-06T00:00:00",
          "2012-06-07T00:00:00",
          "2012-06-08T00:00:00",
          "2012-06-09T00:00:00",
          "2012-06-10T00:00:00",
          "2012-06-11T00:00:00",
          "2012-06-12T00:00:00",
          "2012-06-13T00:00:00",
          "2012-06-14T00:00:00",
          "2012-06-15T00:00:00",
          "2012-06-16T00:00:00",
          "2012-06-17T00:00:00",
          "2012-06-18T00:00:00",
          "2012-06-19T00:00:00",
          "2012-06-20T00:00:00",
          "2012-06-21T00:00:00",
          "2012-06-22T00:00:00",
          "2012-06-23T00:00:00",
          "2012-06-24T00:00:00",
          "2012-06-25T00:00:00",
          "2012-06-26T00:00:00",
          "2012-06-27T00:00:00",
          "2012-06-28T00:00:00",
          "2012-06-29T00:00:00",
          "2012-06-30T00:00:00",
          "2012-07-01T00:00:00",
          "2012-07-02T00:00:00",
          "2012-07-03T00:00:00",
          "2012-07-04T00:00:00",
          "2012-07-05T00:00:00",
          "2012-07-06T00:00:00",
          "2012-07-07T00:00:00",
          "2012-07-08T00:00:00",
          "2012-07-09T00:00:00",
          "2012-07-10T00:00:00",
          "2012-07-11T00:00:00",
          "2012-07-12T00:00:00",
          "2012-07-13T00:00:00",
          "2012-07-14T00:00:00",
          "2012-07-15T00:00:00",
          "2012-07-16T00:00:00",
          "2012-07-17T00:00:00",
          "2012-07-18T00:00:00",
          "2012-07-19T00:00:00",
          "2012-07-20T00:00:00",
          "2012-07-21T00:00:00",
          "2012-07-22T00:00:00",
          "2012-07-23T00:00:00",
          "2012-07-24T00:00:00",
          "2012-07-25T00:00:00",
          "2012-07-26T00:00:00",
          "2012-07-27T00:00:00",
          "2012-07-28T00:00:00",
          "2012-07-29T00:00:00",
          "2012-07-30T00:00:00",
          "2012-07-31T00:00:00",
          "2012-08-01T00:00:00",
          "2012-08-02T00:00:00",
          "2012-08-03T00:00:00",
          "2012-08-04T00:00:00",
          "2012-08-05T00:00:00",
          "2012-08-06T00:00:00",
          "2012-08-07T00:00:00",
          "2012-08-08T00:00:00",
          "2012-08-09T00:00:00",
          "2012-08-10T00:00:00",
          "2012-08-11T00:00:00",
          "2012-08-12T00:00:00",
          "2012-08-13T00:00:00",
          "2012-08-14T00:00:00",
          "2012-08-15T00:00:00",
          "2012-08-16T00:00:00",
          "2012-08-17T00:00:00",
          "2012-08-18T00:00:00",
          "2012-08-19T00:00:00",
          "2012-08-20T00:00:00",
          "2012-08-21T00:00:00",
          "2012-08-22T00:00:00",
          "2012-08-23T00:00:00",
          "2012-08-24T00:00:00",
          "2012-08-25T00:00:00",
          "2012-08-26T00:00:00",
          "2012-08-27T00:00:00",
          "2012-08-28T00:00:00",
          "2012-08-29T00:00:00",
          "2012-08-30T00:00:00",
          "2012-08-31T00:00:00",
          "2012-09-01T00:00:00",
          "2012-09-02T00:00:00",
          "2012-09-03T00:00:00",
          "2012-09-04T00:00:00",
          "2012-09-05T00:00:00",
          "2012-09-06T00:00:00",
          "2012-09-07T00:00:00",
          "2012-09-08T00:00:00",
          "2012-09-09T00:00:00",
          "2012-09-10T00:00:00",
          "2012-09-11T00:00:00",
          "2012-09-12T00:00:00",
          "2012-09-13T00:00:00",
          "2012-09-14T00:00:00",
          "2012-09-15T00:00:00",
          "2012-09-16T00:00:00",
          "2012-09-17T00:00:00",
          "2012-09-18T00:00:00",
          "2012-09-19T00:00:00",
          "2012-09-20T00:00:00",
          "2012-09-21T00:00:00",
          "2012-09-22T00:00:00",
          "2012-09-23T00:00:00",
          "2012-09-24T00:00:00",
          "2012-09-25T00:00:00",
          "2012-09-26T00:00:00",
          "2012-09-27T00:00:00",
          "2012-09-28T00:00:00",
          "2012-09-29T00:00:00",
          "2012-09-30T00:00:00",
          "2012-10-01T00:00:00",
          "2012-10-02T00:00:00",
          "2012-10-03T00:00:00",
          "2012-10-04T00:00:00",
          "2012-10-05T00:00:00",
          "2012-10-06T00:00:00",
          "2012-10-07T00:00:00",
          "2012-10-08T00:00:00",
          "2012-10-09T00:00:00",
          "2012-10-10T00:00:00",
          "2012-10-11T00:00:00",
          "2012-10-12T00:00:00",
          "2012-10-13T00:00:00",
          "2012-10-14T00:00:00",
          "2012-10-15T00:00:00",
          "2012-10-16T00:00:00",
          "2012-10-17T00:00:00",
          "2012-10-18T00:00:00",
          "2012-10-19T00:00:00",
          "2012-10-20T00:00:00",
          "2012-10-21T00:00:00",
          "2012-10-22T00:00:00",
          "2012-10-23T00:00:00",
          "2012-10-24T00:00:00",
          "2012-10-25T00:00:00",
          "2012-10-26T00:00:00",
          "2012-10-27T00:00:00",
          "2012-10-28T00:00:00",
          "2012-10-29T00:00:00",
          "2012-10-30T00:00:00",
          "2012-10-31T00:00:00",
          "2012-11-01T00:00:00",
          "2012-11-02T00:00:00",
          "2012-11-03T00:00:00",
          "2012-11-04T00:00:00",
          "2012-11-05T00:00:00",
          "2012-11-06T00:00:00",
          "2012-11-07T00:00:00",
          "2012-11-08T00:00:00",
          "2012-11-09T00:00:00",
          "2012-11-10T00:00:00",
          "2012-11-11T00:00:00",
          "2012-11-12T00:00:00",
          "2012-11-13T00:00:00",
          "2012-11-14T00:00:00",
          "2012-11-15T00:00:00",
          "2012-11-16T00:00:00",
          "2012-11-17T00:00:00",
          "2012-11-18T00:00:00",
          "2012-11-19T00:00:00",
          "2012-11-20T00:00:00",
          "2012-11-21T00:00:00",
          "2012-11-22T00:00:00",
          "2012-11-23T00:00:00",
          "2012-11-24T00:00:00",
          "2012-11-25T00:00:00",
          "2012-11-26T00:00:00",
          "2012-11-27T00:00:00",
          "2012-11-28T00:00:00",
          "2012-11-29T00:00:00",
          "2012-11-30T00:00:00",
          "2012-12-01T00:00:00",
          "2012-12-02T00:00:00",
          "2012-12-03T00:00:00",
          "2012-12-04T00:00:00",
          "2012-12-05T00:00:00",
          "2012-12-06T00:00:00",
          "2012-12-07T00:00:00",
          "2012-12-08T00:00:00",
          "2012-12-09T00:00:00",
          "2012-12-10T00:00:00",
          "2012-12-11T00:00:00",
          "2012-12-12T00:00:00",
          "2012-12-13T00:00:00",
          "2012-12-14T00:00:00",
          "2012-12-15T00:00:00",
          "2012-12-16T00:00:00",
          "2012-12-17T00:00:00",
          "2012-12-18T00:00:00",
          "2012-12-19T00:00:00",
          "2012-12-20T00:00:00",
          "2012-12-21T00:00:00",
          "2012-12-22T00:00:00",
          "2012-12-23T00:00:00",
          "2012-12-24T00:00:00",
          "2012-12-25T00:00:00",
          "2012-12-26T00:00:00",
          "2012-12-27T00:00:00",
          "2012-12-28T00:00:00",
          "2012-12-29T00:00:00",
          "2012-12-30T00:00:00"
         ],
         "y": [
          5.122063271155257,
          5.314241767677283,
          5.489511097249632,
          5.650879221713716,
          5.798918510619469,
          5.769596675859103,
          5.504203441116399,
          5.248678892800136,
          5.419751763683647,
          5.554039378845783,
          4.858205331405814,
          5.020691564560691,
          5.193659127761977,
          5.352050805850299,
          5.238242014584888,
          4.504467951972047,
          1.2597943041143833,
          1.240757283641903,
          1.3220908226046362,
          1.450749420921218,
          1.5225470674340986,
          1.3114969613498593,
          1.4052704090087837,
          1.5266704106125677,
          1.6186950165310803,
          1.3660975427605233,
          1.5035218581991452,
          1.6309888579342169,
          1.7902683728916484,
          1.9555668960011365,
          2.1257728832756166,
          2.2992825478562082,
          2.4743555425478028,
          2.6491839333303777,
          2.8221965239592626,
          2.9917713207082524,
          3.1563947068632543,
          3.314744077846788,
          3.465726594723696,
          3.607803651525786,
          3.535835280652478,
          1.9418865183203298,
          1.99197960496917,
          1.671657799651467,
          1.397166387198978,
          1.0874241261298427,
          1.2041996127377783,
          1.327703453260357,
          1.4576496222519233,
          1.5874460783863074,
          1.6082959227504525,
          1.604556361465305,
          1.6970650048962657,
          1.7771288141216852,
          1.867854816100213,
          2.01155716819376,
          1.9886318871703468,
          1.9953537144480618,
          2.1267074591919113,
          2.260786900961604,
          2.391347546069556,
          2.499979086772619,
          2.613659097397254,
          2.7280960119657087,
          2.835117723992626,
          2.9346956230773342,
          3.026773690197932,
          3.11131629190968,
          3.1884469786125234,
          3.2563407843018854,
          2.610760377682393,
          2.720590528144828,
          2.8223285589063445,
          2.9085228064777735,
          2.940090730715455,
          1.9627163243488093,
          2.0886240478900375,
          2.2107485051677886,
          2.3294692090585034,
          2.4439119218098884,
          2.5532893532726297,
          2.656970362277196,
          2.739642978079382,
          2.831666516249024,
          2.916547822472653,
          2.994622800213212,
          3.054891566655357,
          3.1209241043666154,
          3.1803812777387632,
          3.233856663078389,
          3.2820576140894477,
          3.3254344665486117,
          3.3644314644936264,
          3.3994876206020055,
          3.4310274885084606,
          3.459455122877192,
          3.485132882114085,
          3.5084186768249723,
          3.5283613157076332,
          3.4429568298259294,
          3.472002154019344,
          3.497853116874832,
          3.0489520932791083,
          3.116445649413164,
          3.15091580534428,
          3.2097543302711067,
          3.2631546075579654,
          3.3117688918053183,
          3.35601462718399,
          3.396244451393927,
          3.421730224156501,
          2.9140647772228743,
          2.8817890845499927,
          2.965916183815363,
          3.042847722437403,
          3.113518958428261,
          3.052851855462415,
          1.7006149395189367,
          1.8090512405126469,
          1.794777572852765,
          1.6468893782762315,
          1.767956852464432,
          1.8885320726686095,
          2.0080734522788646,
          2.125667660662983,
          2.2402077667233664,
          2.350822908666197,
          2.4567625937721838,
          2.557423409658033,
          2.6523312211463868,
          2.741049142109272,
          2.8233919880324496,
          2.785334178966565,
          2.8630956998801187,
          2.9342267428047513,
          2.997790678873912,
          3.047667844455129,
          3.097221747422361,
          3.145958283076114,
          3.1895115548401574,
          3.2284566011540585,
          3.2631854554341233,
          3.2941342256553447,
          3.3217087505556004,
          3.342338453744513,
          2.974470557513694,
          3.035502207654112,
          3.089336952626341,
          3.1380275716736907,
          3.1819709408459715,
          3.2215703027695355,
          3.254083233390743,
          3.270251776451456,
          3.2998323733968413,
          3.3273003986343217,
          3.283519573644808,
          2.405201444453418,
          1.5247416283657809,
          1.4906449916524798,
          1.3852578400189324,
          1.4969647089771412,
          1.6093141622518428,
          1.7178294833058871,
          1.8077584102377147,
          1.9173546185008303,
          2.024089376937662,
          2.1273904854708423,
          2.2265094045109746,
          2.30778728420958,
          2.3977512933255283,
          2.1790244483351855,
          0.43123088660263464,
          0.4720774653151306,
          0.5021347583812896,
          0.5632768765935673,
          0.62992410056032,
          0.7021523840485777,
          0.7799023767160662,
          0.8629975865838282,
          0.9511088284127671,
          1.0437643476927567,
          1.1403474302996028,
          1.240107663776172,
          1.342179337610392,
          1.4456111983042443,
          1.5493983041164405,
          1.652497641436021,
          1.7539096461048915,
          1.6174687303179403,
          0.7647752558368881,
          0.8461071594508223,
          0.9317755326602163,
          1.0217135033171827,
          1.0536618162120566,
          1.1417689153816561,
          1.2381273253442016,
          1.3359908803207792,
          1.4345363740911108,
          1.523376838101954,
          1.6094658619435194,
          1.7044301564177409,
          1.7962635646066902,
          1.884517554797224,
          1.9685898705203528,
          2.0480100800759855,
          2.1224505414484436,
          2.1917192079282892,
          2.2557469794329785,
          2.3145754119144097,
          2.368330699430869,
          2.417206206769627,
          2.4614648915834287,
          2.5014061042356626,
          2.5373536790394553,
          2.5696414838455457,
          2.5985994465960736,
          2.624569216943025,
          2.647871632341955,
          2.6688866678965932,
          2.6878961107790986,
          2.705108757021697,
          2.7208026046902054,
          2.7351952374361286,
          2.7484744168478525,
          2.7608105672278205,
          2.772357603484275,
          2.783253312300939,
          2.793617139476532,
          2.8035530129370625,
          2.8131524074760863,
          2.822494188484322,
          2.83164780733298,
          2.840674049798806,
          2.849625713827202,
          2.858596385654974,
          2.8676233271318616,
          2.8767381600991415,
          2.8859685576343397,
          2.8953384712420105,
          2.9048670743321034,
          2.909769705786964,
          2.919355035121502,
          2.929896159120445,
          2.940414970296462,
          2.9510217423440706,
          2.961734556780052,
          2.9725679605221353,
          2.9830046390606295,
          2.994180870605342,
          3.0054558222583534,
          3.016980350334174,
          3.0287655485645026,
          3.0408150940531877,
          3.0531318406655417,
          3.065717695092948,
          3.0785005479796848,
          3.0915956470631043,
          3.104925986969488,
          3.118536993993535,
          3.1324113082562657,
          3.1465659932227776,
          3.1610043689685714,
          3.1607106577567547,
          3.1468581880932662,
          3.166466888611451,
          3.1664214345600814,
          3.1834217230832245,
          3.2012415229602174,
          3.2232656179459,
          3.289195599164546,
          3.241711433286604,
          3.2040526772115756,
          3.209014379077897,
          3.2235412665177363,
          3.243408083441645,
          3.266185969454165,
          3.2904570666562556,
          3.3153879641280315,
          3.340492150630168,
          3.3640114131624346,
          3.388914454575419,
          3.4133834391535958,
          3.4375104334379762,
          3.461303804757173,
          3.425997468736988,
          3.440108533994448,
          3.4657884599264,
          3.4943800681760155,
          3.5226627848895107,
          3.5469638997196222,
          3.3449762697505436,
          3.3807993304656856,
          3.4189861802678516,
          3.4546137043694918,
          3.357958470435147,
          3.394141788473939,
          2.3156358784559137,
          1.9855268577194243,
          1.9859250461187796,
          2.0903477504603205,
          2.2092573656745746,
          2.3311804150691655,
          2.3528477050514467,
          2.473570637216653,
          2.5785305129680136,
          2.4728675795439488,
          2.5919888122928714,
          2.7073364945057805,
          2.818961150431633,
          2.9263415559054846,
          3.0290732055214042,
          3.126871025371324,
          3.219554561143056,
          3.2491510976166893,
          2.9474678687377516,
          2.8142940980691407,
          2.917073951217251,
          2.9305101640680853,
          3.0408795790938554,
          3.144199495372101,
          3.2409018798246403,
          3.330995363977941,
          3.4150619349418614,
          3.4932983964910407,
          3.5659934315104733,
          3.633474519815818,
          3.6960940405961664,
          3.7541326292942507,
          3.8080838745588563,
          3.6180728471260117,
          3.6883049898729303,
          3.7097738738991035,
          3.6093004835209914,
          3.682866683886285,
          3.7502956526886204,
          3.8125194903240125,
          3.8329737852949384,
          3.002899874943406,
          3.1272566785096085,
          3.2430768632492524,
          3.3449280189402524,
          3.447471063472848,
          3.5428795695322854,
          3.6179141096703242,
          3.7010641272019402,
          3.7731412444567285,
          3.80110093119936,
          3.8705330136857423,
          3.680637130421057,
          3.726918836807446,
          1.828652431269903,
          1.88237742434255,
          2.0282336911198553,
          2.1757265413056457,
          2.2002603009471153,
          2.3297551963429357,
          2.3305880999835615,
          2.4707455402937923,
          2.6132883416395494,
          2.7526650006489684,
          2.8878654099643315,
          3.007979318189282,
          2.9863076070509456,
          3.007236592109077,
          2.642945726864548,
          2.474554902975506
         ]
        },
        {
         "name": "Com decaímento - Streeter-Phelps",
         "type": "scatter",
         "x": [
          "2012-01-01T00:00:00",
          "2012-01-02T00:00:00",
          "2012-01-03T00:00:00",
          "2012-01-04T00:00:00",
          "2012-01-05T00:00:00",
          "2012-01-06T00:00:00",
          "2012-01-07T00:00:00",
          "2012-01-08T00:00:00",
          "2012-01-09T00:00:00",
          "2012-01-10T00:00:00",
          "2012-01-11T00:00:00",
          "2012-01-12T00:00:00",
          "2012-01-13T00:00:00",
          "2012-01-14T00:00:00",
          "2012-01-15T00:00:00",
          "2012-01-16T00:00:00",
          "2012-01-17T00:00:00",
          "2012-01-18T00:00:00",
          "2012-01-19T00:00:00",
          "2012-01-20T00:00:00",
          "2012-01-21T00:00:00",
          "2012-01-22T00:00:00",
          "2012-01-23T00:00:00",
          "2012-01-24T00:00:00",
          "2012-01-25T00:00:00",
          "2012-01-26T00:00:00",
          "2012-01-27T00:00:00",
          "2012-01-28T00:00:00",
          "2012-01-29T00:00:00",
          "2012-01-30T00:00:00",
          "2012-01-31T00:00:00",
          "2012-02-01T00:00:00",
          "2012-02-02T00:00:00",
          "2012-02-03T00:00:00",
          "2012-02-04T00:00:00",
          "2012-02-05T00:00:00",
          "2012-02-06T00:00:00",
          "2012-02-07T00:00:00",
          "2012-02-08T00:00:00",
          "2012-02-09T00:00:00",
          "2012-02-10T00:00:00",
          "2012-02-11T00:00:00",
          "2012-02-12T00:00:00",
          "2012-02-13T00:00:00",
          "2012-02-14T00:00:00",
          "2012-02-15T00:00:00",
          "2012-02-16T00:00:00",
          "2012-02-17T00:00:00",
          "2012-02-18T00:00:00",
          "2012-02-19T00:00:00",
          "2012-02-20T00:00:00",
          "2012-02-21T00:00:00",
          "2012-02-22T00:00:00",
          "2012-02-23T00:00:00",
          "2012-02-24T00:00:00",
          "2012-02-25T00:00:00",
          "2012-02-26T00:00:00",
          "2012-02-27T00:00:00",
          "2012-02-28T00:00:00",
          "2012-02-29T00:00:00",
          "2012-03-01T00:00:00",
          "2012-03-02T00:00:00",
          "2012-03-03T00:00:00",
          "2012-03-04T00:00:00",
          "2012-03-05T00:00:00",
          "2012-03-06T00:00:00",
          "2012-03-07T00:00:00",
          "2012-03-08T00:00:00",
          "2012-03-09T00:00:00",
          "2012-03-10T00:00:00",
          "2012-03-11T00:00:00",
          "2012-03-12T00:00:00",
          "2012-03-13T00:00:00",
          "2012-03-14T00:00:00",
          "2012-03-15T00:00:00",
          "2012-03-16T00:00:00",
          "2012-03-17T00:00:00",
          "2012-03-18T00:00:00",
          "2012-03-19T00:00:00",
          "2012-03-20T00:00:00",
          "2012-03-21T00:00:00",
          "2012-03-22T00:00:00",
          "2012-03-23T00:00:00",
          "2012-03-24T00:00:00",
          "2012-03-25T00:00:00",
          "2012-03-26T00:00:00",
          "2012-03-27T00:00:00",
          "2012-03-28T00:00:00",
          "2012-03-29T00:00:00",
          "2012-03-30T00:00:00",
          "2012-03-31T00:00:00",
          "2012-04-01T00:00:00",
          "2012-04-02T00:00:00",
          "2012-04-03T00:00:00",
          "2012-04-04T00:00:00",
          "2012-04-05T00:00:00",
          "2012-04-06T00:00:00",
          "2012-04-07T00:00:00",
          "2012-04-08T00:00:00",
          "2012-04-09T00:00:00",
          "2012-04-10T00:00:00",
          "2012-04-11T00:00:00",
          "2012-04-12T00:00:00",
          "2012-04-13T00:00:00",
          "2012-04-14T00:00:00",
          "2012-04-15T00:00:00",
          "2012-04-16T00:00:00",
          "2012-04-17T00:00:00",
          "2012-04-18T00:00:00",
          "2012-04-19T00:00:00",
          "2012-04-20T00:00:00",
          "2012-04-21T00:00:00",
          "2012-04-22T00:00:00",
          "2012-04-23T00:00:00",
          "2012-04-24T00:00:00",
          "2012-04-25T00:00:00",
          "2012-04-26T00:00:00",
          "2012-04-27T00:00:00",
          "2012-04-28T00:00:00",
          "2012-04-29T00:00:00",
          "2012-04-30T00:00:00",
          "2012-05-01T00:00:00",
          "2012-05-02T00:00:00",
          "2012-05-03T00:00:00",
          "2012-05-04T00:00:00",
          "2012-05-05T00:00:00",
          "2012-05-06T00:00:00",
          "2012-05-07T00:00:00",
          "2012-05-08T00:00:00",
          "2012-05-09T00:00:00",
          "2012-05-10T00:00:00",
          "2012-05-11T00:00:00",
          "2012-05-12T00:00:00",
          "2012-05-13T00:00:00",
          "2012-05-14T00:00:00",
          "2012-05-15T00:00:00",
          "2012-05-16T00:00:00",
          "2012-05-17T00:00:00",
          "2012-05-18T00:00:00",
          "2012-05-19T00:00:00",
          "2012-05-20T00:00:00",
          "2012-05-21T00:00:00",
          "2012-05-22T00:00:00",
          "2012-05-23T00:00:00",
          "2012-05-24T00:00:00",
          "2012-05-25T00:00:00",
          "2012-05-26T00:00:00",
          "2012-05-27T00:00:00",
          "2012-05-28T00:00:00",
          "2012-05-29T00:00:00",
          "2012-05-30T00:00:00",
          "2012-05-31T00:00:00",
          "2012-06-01T00:00:00",
          "2012-06-02T00:00:00",
          "2012-06-03T00:00:00",
          "2012-06-04T00:00:00",
          "2012-06-05T00:00:00",
          "2012-06-06T00:00:00",
          "2012-06-07T00:00:00",
          "2012-06-08T00:00:00",
          "2012-06-09T00:00:00",
          "2012-06-10T00:00:00",
          "2012-06-11T00:00:00",
          "2012-06-12T00:00:00",
          "2012-06-13T00:00:00",
          "2012-06-14T00:00:00",
          "2012-06-15T00:00:00",
          "2012-06-16T00:00:00",
          "2012-06-17T00:00:00",
          "2012-06-18T00:00:00",
          "2012-06-19T00:00:00",
          "2012-06-20T00:00:00",
          "2012-06-21T00:00:00",
          "2012-06-22T00:00:00",
          "2012-06-23T00:00:00",
          "2012-06-24T00:00:00",
          "2012-06-25T00:00:00",
          "2012-06-26T00:00:00",
          "2012-06-27T00:00:00",
          "2012-06-28T00:00:00",
          "2012-06-29T00:00:00",
          "2012-06-30T00:00:00",
          "2012-07-01T00:00:00",
          "2012-07-02T00:00:00",
          "2012-07-03T00:00:00",
          "2012-07-04T00:00:00",
          "2012-07-05T00:00:00",
          "2012-07-06T00:00:00",
          "2012-07-07T00:00:00",
          "2012-07-08T00:00:00",
          "2012-07-09T00:00:00",
          "2012-07-10T00:00:00",
          "2012-07-11T00:00:00",
          "2012-07-12T00:00:00",
          "2012-07-13T00:00:00",
          "2012-07-14T00:00:00",
          "2012-07-15T00:00:00",
          "2012-07-16T00:00:00",
          "2012-07-17T00:00:00",
          "2012-07-18T00:00:00",
          "2012-07-19T00:00:00",
          "2012-07-20T00:00:00",
          "2012-07-21T00:00:00",
          "2012-07-22T00:00:00",
          "2012-07-23T00:00:00",
          "2012-07-24T00:00:00",
          "2012-07-25T00:00:00",
          "2012-07-26T00:00:00",
          "2012-07-27T00:00:00",
          "2012-07-28T00:00:00",
          "2012-07-29T00:00:00",
          "2012-07-30T00:00:00",
          "2012-07-31T00:00:00",
          "2012-08-01T00:00:00",
          "2012-08-02T00:00:00",
          "2012-08-03T00:00:00",
          "2012-08-04T00:00:00",
          "2012-08-05T00:00:00",
          "2012-08-06T00:00:00",
          "2012-08-07T00:00:00",
          "2012-08-08T00:00:00",
          "2012-08-09T00:00:00",
          "2012-08-10T00:00:00",
          "2012-08-11T00:00:00",
          "2012-08-12T00:00:00",
          "2012-08-13T00:00:00",
          "2012-08-14T00:00:00",
          "2012-08-15T00:00:00",
          "2012-08-16T00:00:00",
          "2012-08-17T00:00:00",
          "2012-08-18T00:00:00",
          "2012-08-19T00:00:00",
          "2012-08-20T00:00:00",
          "2012-08-21T00:00:00",
          "2012-08-22T00:00:00",
          "2012-08-23T00:00:00",
          "2012-08-24T00:00:00",
          "2012-08-25T00:00:00",
          "2012-08-26T00:00:00",
          "2012-08-27T00:00:00",
          "2012-08-28T00:00:00",
          "2012-08-29T00:00:00",
          "2012-08-30T00:00:00",
          "2012-08-31T00:00:00",
          "2012-09-01T00:00:00",
          "2012-09-02T00:00:00",
          "2012-09-03T00:00:00",
          "2012-09-04T00:00:00",
          "2012-09-05T00:00:00",
          "2012-09-06T00:00:00",
          "2012-09-07T00:00:00",
          "2012-09-08T00:00:00",
          "2012-09-09T00:00:00",
          "2012-09-10T00:00:00",
          "2012-09-11T00:00:00",
          "2012-09-12T00:00:00",
          "2012-09-13T00:00:00",
          "2012-09-14T00:00:00",
          "2012-09-15T00:00:00",
          "2012-09-16T00:00:00",
          "2012-09-17T00:00:00",
          "2012-09-18T00:00:00",
          "2012-09-19T00:00:00",
          "2012-09-20T00:00:00",
          "2012-09-21T00:00:00",
          "2012-09-22T00:00:00",
          "2012-09-23T00:00:00",
          "2012-09-24T00:00:00",
          "2012-09-25T00:00:00",
          "2012-09-26T00:00:00",
          "2012-09-27T00:00:00",
          "2012-09-28T00:00:00",
          "2012-09-29T00:00:00",
          "2012-09-30T00:00:00",
          "2012-10-01T00:00:00",
          "2012-10-02T00:00:00",
          "2012-10-03T00:00:00",
          "2012-10-04T00:00:00",
          "2012-10-05T00:00:00",
          "2012-10-06T00:00:00",
          "2012-10-07T00:00:00",
          "2012-10-08T00:00:00",
          "2012-10-09T00:00:00",
          "2012-10-10T00:00:00",
          "2012-10-11T00:00:00",
          "2012-10-12T00:00:00",
          "2012-10-13T00:00:00",
          "2012-10-14T00:00:00",
          "2012-10-15T00:00:00",
          "2012-10-16T00:00:00",
          "2012-10-17T00:00:00",
          "2012-10-18T00:00:00",
          "2012-10-19T00:00:00",
          "2012-10-20T00:00:00",
          "2012-10-21T00:00:00",
          "2012-10-22T00:00:00",
          "2012-10-23T00:00:00",
          "2012-10-24T00:00:00",
          "2012-10-25T00:00:00",
          "2012-10-26T00:00:00",
          "2012-10-27T00:00:00",
          "2012-10-28T00:00:00",
          "2012-10-29T00:00:00",
          "2012-10-30T00:00:00",
          "2012-10-31T00:00:00",
          "2012-11-01T00:00:00",
          "2012-11-02T00:00:00",
          "2012-11-03T00:00:00",
          "2012-11-04T00:00:00",
          "2012-11-05T00:00:00",
          "2012-11-06T00:00:00",
          "2012-11-07T00:00:00",
          "2012-11-08T00:00:00",
          "2012-11-09T00:00:00",
          "2012-11-10T00:00:00",
          "2012-11-11T00:00:00",
          "2012-11-12T00:00:00",
          "2012-11-13T00:00:00",
          "2012-11-14T00:00:00",
          "2012-11-15T00:00:00",
          "2012-11-16T00:00:00",
          "2012-11-17T00:00:00",
          "2012-11-18T00:00:00",
          "2012-11-19T00:00:00",
          "2012-11-20T00:00:00",
          "2012-11-21T00:00:00",
          "2012-11-22T00:00:00",
          "2012-11-23T00:00:00",
          "2012-11-24T00:00:00",
          "2012-11-25T00:00:00",
          "2012-11-26T00:00:00",
          "2012-11-27T00:00:00",
          "2012-11-28T00:00:00",
          "2012-11-29T00:00:00",
          "2012-11-30T00:00:00",
          "2012-12-01T00:00:00",
          "2012-12-02T00:00:00",
          "2012-12-03T00:00:00",
          "2012-12-04T00:00:00",
          "2012-12-05T00:00:00",
          "2012-12-06T00:00:00",
          "2012-12-07T00:00:00",
          "2012-12-08T00:00:00",
          "2012-12-09T00:00:00",
          "2012-12-10T00:00:00",
          "2012-12-11T00:00:00",
          "2012-12-12T00:00:00",
          "2012-12-13T00:00:00",
          "2012-12-14T00:00:00",
          "2012-12-15T00:00:00",
          "2012-12-16T00:00:00",
          "2012-12-17T00:00:00",
          "2012-12-18T00:00:00",
          "2012-12-19T00:00:00",
          "2012-12-20T00:00:00",
          "2012-12-21T00:00:00",
          "2012-12-22T00:00:00",
          "2012-12-23T00:00:00",
          "2012-12-24T00:00:00",
          "2012-12-25T00:00:00",
          "2012-12-26T00:00:00",
          "2012-12-27T00:00:00",
          "2012-12-28T00:00:00",
          "2012-12-29T00:00:00",
          "2012-12-30T00:00:00"
         ],
         "y": [
          2.8110479240198374,
          2.9165177191181804,
          3.0127075666378844,
          3.101268271038443,
          3.1825139553890054,
          3.1664217912808903,
          3.020770895913461,
          2.8805360504898254,
          2.974422832650707,
          3.048121438435004,
          2.6662396164095465,
          2.75541395187003,
          2.850340563221725,
          2.937267759217055,
          2.874808170280801,
          2.4721044264548873,
          0.6913897731829501,
          0.6809420348310927,
          0.7255788274185476,
          0.7961881632582349,
          0.8355915471086696,
          0.7197647930907604,
          0.7712287523226322,
          0.8378544858246223,
          0.8883586603596693,
          0.7497302275064319,
          0.8251502909014036,
          0.8951056635740051,
          0.9825201147740561,
          1.0732378676857004,
          1.166648894034807,
          1.2618730169314072,
          1.357955113583982,
          1.4539029687650527,
          1.548854291692957,
          1.6419189133370822,
          1.7322661432321473,
          1.8191701205960804,
          1.9020310827048905,
          1.9800046246998693,
          1.9405075453338676,
          1.0657299172283128,
          1.0932215860690626,
          0.9174252520160617,
          0.766781170854251,
          0.5967910137894359,
          0.6608787596504131,
          0.7286591044315053,
          0.7999750740399175,
          0.8712088794902354,
          0.8826515166880278,
          0.880599201940852,
          0.9313690218950365,
          0.975308972027959,
          1.0251004576100646,
          1.1039659805730841,
          1.0913843195867092,
          1.0950733366125336,
          1.1671618001724826,
          1.2407461579766814,
          1.3123993592278682,
          1.372017612812531,
          1.4344065254346232,
          1.4972108357484892,
          1.5559455966235656,
          1.61059510633905,
          1.661128621003881,
          1.707526584568951,
          1.7498568029313941,
          1.7871177135124228,
          1.4328156743253322,
          1.4930917388930744,
          1.5489267540082867,
          1.5962311600398562,
          1.6135560041888304,
          1.0771615571543238,
          1.1462611809078596,
          1.2132845041135571,
          1.2784398078540549,
          1.341247300278181,
          1.4012749073910105,
          1.4581762515746859,
          1.5035479451132565,
          1.554051533655299,
          1.6006353821976869,
          1.6434838384694874,
          1.6765600387859698,
          1.7127994638427262,
          1.7454302524386207,
          1.7747781661576192,
          1.8012314089432866,
          1.8250371303100095,
          1.8464391365549684,
          1.8656783629439755,
          1.8829878094519066,
          1.898589225980093,
          1.9126814790381206,
          1.9254609941311522,
          1.9364057464043778,
          1.8895347707778707,
          1.9054751826693401,
          1.9196624918886662,
          1.673300386684814,
          1.710341635652549,
          1.729259258325521,
          1.761550525455972,
          1.7908572190016476,
          1.8175373038769773,
          1.8418198783003297,
          1.8638984739447602,
          1.877885362591709,
          1.59927265807166,
          1.581559382369788,
          1.6277293133574604,
          1.669950236935853,
          1.7087354335847829,
          1.6754406215490123,
          0.9333172673233314,
          0.9928283710836737,
          0.9849948161821916,
          0.9038320541576526,
          0.9702752927446502,
          1.0364483766173023,
          1.1020540767421434,
          1.1665911466406134,
          1.2294520896459957,
          1.2901589666724136,
          1.3482998985827161,
          1.4035437256395884,
          1.4556302369406153,
          1.504319664295117,
          1.5495103762868545,
          1.5286238078272523,
          1.5713002353449794,
          1.6103377793895215,
          1.6452224071402137,
          1.672595575986574,
          1.6997913345488653,
          1.7265385124185564,
          1.7504410547526288,
          1.7718145493379185,
          1.790874148675032,
          1.8078591938952384,
          1.8229924140202634,
          1.8343142351795045,
          1.6324240531826013,
          1.6659189329496822,
          1.6954640674165957,
          1.7221860457184028,
          1.746302678049326,
          1.7680352686548768,
          1.785878743303313,
          1.7947522278737198,
          1.8109864036799548,
          1.8260611755508083,
          1.8020337493587673,
          1.3200025398661959,
          0.8367959476840942,
          0.8180833167041637,
          0.7602456215928673,
          0.8215516511087629,
          0.8832103383747213,
          0.9427648092636599,
          0.9921188507852964,
          1.0522665251518786,
          1.1108438025576968,
          1.167536652942118,
          1.2219342690684043,
          1.2665405152040496,
          1.3159138102365509,
          1.1958739725797165,
          0.23666452841066948,
          0.25908160610271785,
          0.2755773982869142,
          0.30913290421724865,
          0.34570967624356724,
          0.3853493986770211,
          0.428019499359164,
          0.47362311743826696,
          0.5219795922246834,
          0.572830019353876,
          0.6258359389383438,
          0.6805855158897418,
          0.7366036382055559,
          0.7933682468971983,
          0.8503278182434536,
          0.9069099342380225,
          0.9625660224399203,
          0.8876856602167164,
          0.41971755940007016,
          0.46435345448907506,
          0.5113692545516362,
          0.5607282593748625,
          0.5782618652451421,
          0.6266160664919087,
          0.6794986831148722,
          0.7332073408355454,
          0.7872902545013348,
          0.8360469349064781,
          0.8832935929307053,
          0.9354111027516177,
          0.9858103457478855,
          1.0342451624961786,
          1.0803850276384024,
          1.1239717627835597,
          1.1648255541809724,
          1.202841004361828,
          1.237980190396771,
          1.2702659186757523,
          1.299767445966365,
          1.3265908931138743,
          1.3508805743379069,
          1.3728007766011587,
          1.3925292239428406,
          1.4102491469243557,
          1.4261416138394227,
          1.4403941259925193,
          1.4531827627125486,
          1.4647160587578638,
          1.4751486622074474,
          1.4845951627533556,
          1.49320812896892,
          1.5011069732939106,
          1.5083947414728451,
          1.5151649643459772,
          1.521502112205919,
          1.5274818039879965,
          1.5331695929364293,
          1.5386225159063265,
          1.5438907753288,
          1.5490176534479623,
          1.5540412659844751,
          1.5589949728799264,
          1.5639077502611145,
          1.5688309593437768,
          1.5737850498646324,
          1.578787376258129,
          1.5838531258312194,
          1.588995443448305,
          1.5942248516998694,
          1.5969154728897774,
          1.6021760131643654,
          1.6079611046724953,
          1.6137339506437693,
          1.6195550705648938,
          1.6254343877826765,
          1.6313798858148363,
          1.6371076564389346,
          1.643241302358354,
          1.6494291270219243,
          1.655753922130427,
          1.662221776052906,
          1.6688347068267406,
          1.6755942806864221,
          1.6825015440463682,
          1.6895169224530875,
          1.6967036652058725,
          1.7040195108595844,
          1.7114893898933388,
          1.7191037750035507,
          1.7268720308184178,
          1.734795979434007,
          1.7346347873033108,
          1.727032390763349,
          1.7377938737764116,
          1.7377689280641124,
          1.747098884222569,
          1.7568785977479295,
          1.7689656773505122,
          1.8051488182107658,
          1.7790889554467324,
          1.7584213919119303,
          1.7611444316309968,
          1.7691169564942089,
          1.7800200967941997,
          1.7925208656834941,
          1.8058411262487706,
          1.8195234928795483,
          1.8333009625465955,
          1.8462086074966535,
          1.8598756863982306,
          1.8733045498581395,
          1.8865457250653817,
          1.8996038041072625,
          1.8802272760715395,
          1.8879715928825156,
          1.9020650350480035,
          1.9177564423500346,
          1.9332783263827518,
          1.946615060971574,
          1.8357618992974891,
          1.855422011858462,
          1.8763793993756654,
          1.895932199167866,
          1.8428866820953074,
          1.8627445080674871,
          1.270847915053418,
          1.0896802432936283,
          1.0898987737205523,
          1.147207168935596,
          1.212466149408642,
          1.2793789376244602,
          1.2912701984893598,
          1.3575243484050146,
          1.4151275495403446,
          1.3571385021733895,
          1.422513620811863,
          1.4858177710067835,
          1.5470786810538835,
          1.6060102970664278,
          1.662390621770779,
          1.7160632032890424,
          1.7669290061949057,
          1.7831719297997168,
          1.6176046633765384,
          1.5445173484110875,
          1.6009241277748056,
          1.6082980777323796,
          1.668870096967413,
          1.725573269261175,
          1.7786446630867665,
          1.8280890155263507,
          1.8742257278778744,
          1.9171628083428869,
          1.9570586894478144,
          1.994093095926076,
          2.028459417576963,
          2.060311670396947,
          2.0899207415799252,
          1.9856404787385988,
          2.0241846959059244,
          2.0359670692734415,
          1.9808261035161159,
          2.0212000902998137,
          2.058205892988356,
          2.092355059125085,
          2.1035806142132287,
          1.6480263933942378,
          1.7162748542188289,
          1.7798383192985052,
          1.8357354186913504,
          1.8920122347313468,
          1.9443735330391134,
          1.9855533617758334,
          2.0311870589386065,
          2.070743819584148,
          2.0860884210100483,
          2.124193555796815,
          2.019976485414803,
          2.04537642441794,
          1.0035857326525546,
          1.0330706339998943,
          1.1131182504045138,
          1.1940640428271487,
          1.2075284555955212,
          1.2785967610035263,
          1.2790538682132468,
          1.3559739023406554,
          1.434203050360646,
          1.5106945826249245,
          1.584894140461871,
          1.650814050952454,
          1.6389203637056662,
          1.650406434237207,
          1.4504793684682484,
          1.358064524906482
         ]
        },
        {
         "name": "Hidrodinâmico - Simulação anterior",
         "type": "scatter",
         "x": [
          "2012-01-01T00:00:00",
          "2012-01-02T00:00:00",
          "2012-01-03T00:00:00",
          "2012-01-04T00:00:00",
          "2012-01-05T00:00:00",
          "2012-01-06T00:00:00",
          "2012-01-07T00:00:00",
          "2012-01-08T00:00:00",
          "2012-01-09T00:00:00",
          "2012-01-10T00:00:00",
          "2012-01-11T00:00:00",
          "2012-01-12T00:00:00",
          "2012-01-13T00:00:00",
          "2012-01-14T00:00:00",
          "2012-01-15T00:00:00",
          "2012-01-16T00:00:00",
          "2012-01-17T00:00:00",
          "2012-01-18T00:00:00",
          "2012-01-19T00:00:00",
          "2012-01-20T00:00:00",
          "2012-01-21T00:00:00",
          "2012-01-22T00:00:00",
          "2012-01-23T00:00:00",
          "2012-01-24T00:00:00",
          "2012-01-25T00:00:00",
          "2012-01-26T00:00:00",
          "2012-01-27T00:00:00",
          "2012-01-28T00:00:00",
          "2012-01-29T00:00:00",
          "2012-01-30T00:00:00",
          "2012-01-31T00:00:00",
          "2012-02-01T00:00:00",
          "2012-02-02T00:00:00",
          "2012-02-03T00:00:00",
          "2012-02-04T00:00:00",
          "2012-02-05T00:00:00",
          "2012-02-06T00:00:00",
          "2012-02-07T00:00:00",
          "2012-02-08T00:00:00",
          "2012-02-09T00:00:00",
          "2012-02-10T00:00:00",
          "2012-02-11T00:00:00",
          "2012-02-12T00:00:00",
          "2012-02-13T00:00:00",
          "2012-02-14T00:00:00",
          "2012-02-15T00:00:00",
          "2012-02-16T00:00:00",
          "2012-02-17T00:00:00",
          "2012-02-18T00:00:00",
          "2012-02-19T00:00:00",
          "2012-02-20T00:00:00",
          "2012-02-21T00:00:00",
          "2012-02-22T00:00:00",
          "2012-02-23T00:00:00",
          "2012-02-24T00:00:00",
          "2012-02-25T00:00:00",
          "2012-02-26T00:00:00",
          "2012-02-27T00:00:00",
          "2012-02-28T00:00:00",
          "2012-02-29T00:00:00",
          "2012-03-01T00:00:00",
          "2012-03-02T00:00:00",
          "2012-03-03T00:00:00",
          "2012-03-04T00:00:00",
          "2012-03-05T00:00:00",
          "2012-03-06T00:00:00",
          "2012-03-07T00:00:00",
          "2012-03-08T00:00:00",
          "2012-03-09T00:00:00",
          "2012-03-10T00:00:00",
          "2012-03-11T00:00:00",
          "2012-03-12T00:00:00",
          "2012-03-13T00:00:00",
          "2012-03-14T00:00:00",
          "2012-03-15T00:00:00",
          "2012-03-16T00:00:00",
          "2012-03-17T00:00:00",
          "2012-03-18T00:00:00",
          "2012-03-19T00:00:00",
          "2012-03-20T00:00:00",
          "2012-03-21T00:00:00",
          "2012-03-22T00:00:00",
          "2012-03-23T00:00:00",
          "2012-03-24T00:00:00",
          "2012-03-25T00:00:00",
          "2012-03-26T00:00:00",
          "2012-03-27T00:00:00",
          "2012-03-28T00:00:00",
          "2012-03-29T00:00:00",
          "2012-03-30T00:00:00",
          "2012-03-31T00:00:00",
          "2012-04-01T00:00:00",
          "2012-04-02T00:00:00",
          "2012-04-03T00:00:00",
          "2012-04-04T00:00:00",
          "2012-04-05T00:00:00",
          "2012-04-06T00:00:00",
          "2012-04-07T00:00:00",
          "2012-04-08T00:00:00",
          "2012-04-09T00:00:00",
          "2012-04-10T00:00:00",
          "2012-04-11T00:00:00",
          "2012-04-12T00:00:00",
          "2012-04-13T00:00:00",
          "2012-04-14T00:00:00",
          "2012-04-15T00:00:00",
          "2012-04-16T00:00:00",
          "2012-04-17T00:00:00",
          "2012-04-18T00:00:00",
          "2012-04-19T00:00:00",
          "2012-04-20T00:00:00",
          "2012-04-21T00:00:00",
          "2012-04-22T00:00:00",
          "2012-04-23T00:00:00",
          "2012-04-24T00:00:00",
          "2012-04-25T00:00:00",
          "2012-04-26T00:00:00",
          "2012-04-27T00:00:00",
          "2012-04-28T00:00:00",
          "2012-04-29T00:00:00",
          "2012-04-30T00:00:00",
          "2012-05-01T00:00:00",
          "2012-05-02T00:00:00",
          "2012-05-03T00:00:00",
          "2012-05-04T00:00:00",
          "2012-05-05T00:00:00",
          "2012-05-06T00:00:00",
          "2012-05-07T00:00:00",
          "2012-05-08T00:00:00",
          "2012-05-09T00:00:00",
          "2012-05-10T00:00:00",
          "2012-05-11T00:00:00",
          "2012-05-12T00:00:00",
          "2012-05-13T00:00:00",
          "2012-05-14T00:00:00",
          "2012-05-15T00:00:00",
          "2012-05-16T00:00:00",
          "2012-05-17T00:00:00",
          "2012-05-18T00:00:00",
          "2012-05-19T00:00:00",
          "2012-05-20T00:00:00",
          "2012-05-21T00:00:00",
          "2012-05-22T00:00:00",
          "2012-05-23T00:00:00",
          "2012-05-24T00:00:00",
          "2012-05-25T00:00:00",
          "2012-05-26T00:00:00",
          "2012-05-27T00:00:00",
          "2012-05-28T00:00:00",
          "2012-05-29T00:00:00",
          "2012-05-30T00:00:00",
          "2012-05-31T00:00:00",
          "2012-06-01T00:00:00",
          "2012-06-02T00:00:00",
          "2012-06-03T00:00:00",
          "2012-06-04T00:00:00",
          "2012-06-05T00:00:00",
          "2012-06-06T00:00:00",
          "2012-06-07T00:00:00",
          "2012-06-08T00:00:00",
          "2012-06-09T00:00:00",
          "2012-06-10T00:00:00",
          "2012-06-11T00:00:00",
          "2012-06-12T00:00:00",
          "2012-06-13T00:00:00",
          "2012-06-14T00:00:00",
          "2012-06-15T00:00:00",
          "2012-06-16T00:00:00",
          "2012-06-17T00:00:00",
          "2012-06-18T00:00:00",
          "2012-06-19T00:00:00",
          "2012-06-20T00:00:00",
          "2012-06-21T00:00:00",
          "2012-06-22T00:00:00",
          "2012-06-23T00:00:00",
          "2012-06-24T00:00:00",
          "2012-06-25T00:00:00",
          "2012-06-26T00:00:00",
          "2012-06-27T00:00:00",
          "2012-06-28T00:00:00",
          "2012-06-29T00:00:00",
          "2012-06-30T00:00:00",
          "2012-07-01T00:00:00",
          "2012-07-02T00:00:00",
          "2012-07-03T00:00:00",
          "2012-07-04T00:00:00",
          "2012-07-05T00:00:00",
          "2012-07-06T00:00:00",
          "2012-07-07T00:00:00",
          "2012-07-08T00:00:00",
          "2012-07-09T00:00:00",
          "2012-07-10T00:00:00",
          "2012-07-11T00:00:00",
          "2012-07-12T00:00:00",
          "2012-07-13T00:00:00",
          "2012-07-14T00:00:00",
          "2012-07-15T00:00:00",
          "2012-07-16T00:00:00",
          "2012-07-17T00:00:00",
          "2012-07-18T00:00:00",
          "2012-07-19T00:00:00",
          "2012-07-20T00:00:00",
          "2012-07-21T00:00:00",
          "2012-07-22T00:00:00",
          "2012-07-23T00:00:00",
          "2012-07-24T00:00:00",
          "2012-07-25T00:00:00",
          "2012-07-26T00:00:00",
          "2012-07-27T00:00:00",
          "2012-07-28T00:00:00",
          "2012-07-29T00:00:00",
          "2012-07-30T00:00:00",
          "2012-07-31T00:00:00",
          "2012-08-01T00:00:00",
          "2012-08-02T00:00:00",
          "2012-08-03T00:00:00",
          "2012-08-04T00:00:00",
          "2012-08-05T00:00:00",
          "2012-08-06T00:00:00",
          "2012-08-07T00:00:00",
          "2012-08-08T00:00:00",
          "2012-08-09T00:00:00",
          "2012-08-10T00:00:00",
          "2012-08-11T00:00:00",
          "2012-08-12T00:00:00",
          "2012-08-13T00:00:00",
          "2012-08-14T00:00:00",
          "2012-08-15T00:00:00",
          "2012-08-16T00:00:00",
          "2012-08-17T00:00:00",
          "2012-08-18T00:00:00",
          "2012-08-19T00:00:00",
          "2012-08-20T00:00:00",
          "2012-08-21T00:00:00",
          "2012-08-22T00:00:00",
          "2012-08-23T00:00:00",
          "2012-08-24T00:00:00",
          "2012-08-25T00:00:00",
          "2012-08-26T00:00:00",
          "2012-08-27T00:00:00",
          "2012-08-28T00:00:00",
          "2012-08-29T00:00:00",
          "2012-08-30T00:00:00",
          "2012-08-31T00:00:00",
          "2012-09-01T00:00:00",
          "2012-09-02T00:00:00",
          "2012-09-03T00:00:00",
          "2012-09-04T00:00:00",
          "2012-09-05T00:00:00",
          "2012-09-06T00:00:00",
          "2012-09-07T00:00:00",
          "2012-09-08T00:00:00",
          "2012-09-09T00:00:00",
          "2012-09-10T00:00:00",
          "2012-09-11T00:00:00",
          "2012-09-12T00:00:00",
          "2012-09-13T00:00:00",
          "2012-09-14T00:00:00",
          "2012-09-15T00:00:00",
          "2012-09-16T00:00:00",
          "2012-09-17T00:00:00",
          "2012-09-18T00:00:00",
          "2012-09-19T00:00:00",
          "2012-09-20T00:00:00",
          "2012-09-21T00:00:00",
          "2012-09-22T00:00:00",
          "2012-09-23T00:00:00",
          "2012-09-24T00:00:00",
          "2012-09-25T00:00:00",
          "2012-09-26T00:00:00",
          "2012-09-27T00:00:00",
          "2012-09-28T00:00:00",
          "2012-09-29T00:00:00",
          "2012-09-30T00:00:00",
          "2012-10-01T00:00:00",
          "2012-10-02T00:00:00",
          "2012-10-03T00:00:00",
          "2012-10-04T00:00:00",
          "2012-10-05T00:00:00",
          "2012-10-06T00:00:00",
          "2012-10-07T00:00:00",
          "2012-10-08T00:00:00",
          "2012-10-09T00:00:00",
          "2012-10-10T00:00:00",
          "2012-10-11T00:00:00",
          "2012-10-12T00:00:00",
          "2012-10-13T00:00:00",
          "2012-10-14T00:00:00",
          "2012-10-15T00:00:00",
          "2012-10-16T00:00:00",
          "2012-10-17T00:00:00",
          "2012-10-18T00:00:00",
          "2012-10-19T00:00:00",
          "2012-10-20T00:00:00",
          "2012-10-21T00:00:00",
          "2012-10-22T00:00:00",
          "2012-10-23T00:00:00",
          "2012-10-24T00:00:00",
          "2012-10-25T00:00:00",
          "2012-10-26T00:00:00",
          "2012-10-27T00:00:00",
          "2012-10-28T00:00:00",
          "2012-10-29T00:00:00",
          "2012-10-30T00:00:00",
          "2012-10-31T00:00:00",
          "2012-11-01T00:00:00",
          "2012-11-02T00:00:00",
          "2012-11-03T00:00:00",
          "2012-11-04T00:00:00",
          "2012-11-05T00:00:00",
          "2012-11-06T00:00:00",
          "2012-11-07T00:00:00",
          "2012-11-08T00:00:00",
          "2012-11-09T00:00:00",
          "2012-11-10T00:00:00",
          "2012-11-11T00:00:00",
          "2012-11-12T00:00:00",
          "2012-11-13T00:00:00",
          "2012-11-14T00:00:00",
          "2012-11-15T00:00:00",
          "2012-11-16T00:00:00",
          "2012-11-17T00:00:00",
          "2012-11-18T00:00:00",
          "2012-11-19T00:00:00",
          "2012-11-20T00:00:00",
          "2012-11-21T00:00:00",
          "2012-11-22T00:00:00",
          "2012-11-23T00:00:00",
          "2012-11-24T00:00:00",
          "2012-11-25T00:00:00",
          "2012-11-26T00:00:00",
          "2012-11-27T00:00:00",
          "2012-11-28T00:00:00",
          "2012-11-29T00:00:00",
          "2012-11-30T00:00:00",
          "2012-12-01T00:00:00",
          "2012-12-02T00:00:00",
          "2012-12-03T00:00:00",
          "2012-12-04T00:00:00",
          "2012-12-05T00:00:00",
          "2012-12-06T00:00:00",
          "2012-12-07T00:00:00",
          "2012-12-08T00:00:00",
          "2012-12-09T00:00:00",
          "2012-12-10T00:00:00",
          "2012-12-11T00:00:00",
          "2012-12-12T00:00:00",
          "2012-12-13T00:00:00",
          "2012-12-14T00:00:00",
          "2012-12-15T00:00:00",
          "2012-12-16T00:00:00",
          "2012-12-17T00:00:00",
          "2012-12-18T00:00:00",
          "2012-12-19T00:00:00",
          "2012-12-20T00:00:00",
          "2012-12-21T00:00:00",
          "2012-12-22T00:00:00",
          "2012-12-23T00:00:00",
          "2012-12-24T00:00:00",
          "2012-12-25T00:00:00",
          "2012-12-26T00:00:00",
          "2012-12-27T00:00:00",
          "2012-12-28T00:00:00",
          "2012-12-29T00:00:00",
          "2012-12-30T00:00:00"
         ],
         "y": [
          0.10002677452977009,
          1.583295846640821,
          1.4131792146696398,
          1.517514047592206,
          1.609626728904374,
          1.6701584763586996,
          1.6342057131843402,
          1.6629010007586085,
          1.3891271358429675,
          1.3160971486641708,
          1.4080973525638276,
          1.2517701834148733,
          1.281973026174194,
          1.3403596752547517,
          1.3151040597355208,
          1.3278642328717243,
          1.8522203897703549,
          0.911971723281175,
          0.7819567528204155,
          0.8682308247146412,
          0.6638221649325843,
          0.503192669541185,
          0.4721614652649108,
          0.46982833954999004,
          0.47575987200117337,
          0.4685613547378067,
          0.44751052813804926,
          0.4581858375815317,
          0.4858861363263643,
          0.5246870740173006,
          0.5717538483994649,
          0.6300026667630189,
          0.7023618148783053,
          0.7776830742395026,
          0.8460569059955243,
          0.9113849242005857,
          0.9792486848068321,
          1.0498814541433437,
          1.123413928283279,
          1.1698768272627438,
          1.2427998333128314,
          1.3375006418746873,
          1.0996977926231981,
          0.8844911116847559,
          0.6954689038962301,
          0.5725041212093548,
          0.5713192806248879,
          0.6285059955690221,
          0.7063451905352945,
          0.7592605592821786,
          0.737722197777573,
          0.6844797146403551,
          0.6808638597425719,
          0.7524825050816621,
          0.9119348548506346,
          0.7966591321972953,
          0.7423625643717978,
          0.7251555869855089,
          0.7400124670500551,
          0.7845672935492247,
          0.8358031617570129,
          0.9363586050829492,
          1.0289031646809803,
          1.0874287287297877,
          1.136718347591198,
          1.174315800004038,
          1.1999154449437515,
          1.2278699276513272,
          1.2575588227713625,
          1.2445261512335446,
          1.347741733117561,
          1.2978248114504625,
          1.272681810271538,
          1.2254003449004507,
          1.077706870950328,
          1.4884525076446364,
          1.0308783456344932,
          0.9330579350399117,
          0.9746808035889135,
          1.0501347420346008,
          1.107509721149902,
          1.1489999141501768,
          1.1819670298054723,
          1.2217063416349596,
          1.2821397497496334,
          1.364247186143787,
          1.441006557456468,
          1.4464692754483748,
          1.4477885486098037,
          1.4720090486948767,
          1.4959280462881774,
          1.505627329528319,
          1.526401979795997,
          1.575014441899304,
          1.6255777082109324,
          1.6474005072914144,
          1.6516683610878893,
          1.653983976708157,
          1.6578703214386306,
          1.6250791879204278,
          1.5819328822883696,
          1.5524614374060073,
          1.8848151854329325,
          1.6332512205669698,
          1.4991995619659237,
          1.4956985789801878,
          1.534009032782354,
          1.5704462011531073,
          1.6207953901780525,
          1.6690381767512728,
          1.6664216640470129,
          1.582956873968,
          1.5014940071414866,
          1.5589522241988534,
          1.6361675045968187,
          1.63299312025079,
          1.6209046640211087,
          2.292095307648688,
          1.4742065491425538,
          1.275026814818772,
          1.1501985012091105,
          1.1870375613474062,
          1.3283944617756458,
          1.1236547040822602,
          1.0900362845161857,
          1.1061380318044551,
          1.1277215909893572,
          1.177664014770925,
          1.2604720950134736,
          1.328933183244351,
          1.3877790259559053,
          1.4288492497819376,
          1.4479872589948906,
          1.4623301978603511,
          1.4940790884464181,
          1.4897680881249074,
          1.4238920019590957,
          1.3363566012702506,
          1.274365380386406,
          1.2748845772420676,
          1.2983017571212612,
          1.3343724801222998,
          1.375635005375965,
          1.4088215952976526,
          1.4542706324393269,
          1.4748930809935505,
          1.4743442173697516,
          1.4996215439808136,
          1.5379604406737397,
          1.5730193106072055,
          1.5965276063806284,
          1.6061299958764117,
          1.6013925789597692,
          1.5760537739658558,
          1.5643486731434142,
          1.564599437954715,
          1.5463216195596852,
          1.6080324768218641,
          0.9457285886103488,
          0.7577002515481103,
          0.8472469995090164,
          0.8319581741811504,
          0.6146078595706718,
          0.5783122202063853,
          0.6136953052103402,
          0.6748335025367413,
          0.7452145165109626,
          0.8096766489840478,
          0.8636008745329963,
          0.8176325736797618,
          0.7235835511966983,
          0.8156787413687092,
          0.4536472315854435,
          0.3825098143044633,
          0.3575104552488148,
          0.3617218780218917,
          0.3772528275921609,
          0.416040896847453,
          0.4579516026586799,
          0.4990371068664046,
          0.541384495785273,
          0.584519703403313,
          0.6343519925430597,
          0.6960806998359288,
          0.7610121143807064,
          0.8159148930528163,
          0.856243265357265,
          0.8444415732389886,
          0.7773739253869063,
          0.8333772818415697,
          0.7572272801383649,
          0.5628092640702707,
          0.6157191485802435,
          0.6903835750267114,
          0.630819692825091,
          0.6131506322883254,
          0.668088985208041,
          0.7198354153916117,
          0.7119879797404405,
          0.7039461636957113,
          0.7436893048807278,
          0.8071183850224838,
          0.8374412787697235,
          0.8448642588961846,
          0.8777914009918785,
          0.9215854064026768,
          0.9655503711216699,
          1.000858335350976,
          1.0294660686248518,
          1.055044667238267,
          1.0764413963058053,
          1.08924620999816,
          1.1008032691435825,
          1.1039394839423928,
          1.1020564942542652,
          1.1142006534770053,
          1.1356929637313893,
          1.1591915142951177,
          1.1757039504574252,
          1.1875597538371003,
          1.2078144259818624,
          1.2344265195710187,
          1.260445927001257,
          1.2854194618146204,
          1.302583082568055,
          1.323168287774352,
          1.3459360728682646,
          1.371578125520223,
          1.3948411636409195,
          1.4106302850953831,
          1.427601427639815,
          1.4383420419600037,
          1.4467986434438997,
          1.4586777394040364,
          1.4744606350952127,
          1.4855848481911103,
          1.4922034331521845,
          1.5014401928184526,
          1.5177585799190234,
          1.5375454773973385,
          1.5463956818265105,
          1.5497687103712645,
          1.5572510021145043,
          1.5705244785840997,
          1.5944595002766753,
          1.6199493154116955,
          1.6436560307620265,
          1.6639415553370696,
          1.6750545686001928,
          1.6732429806801254,
          1.6812175868846393,
          1.6998803252998065,
          1.7264682248627465,
          1.753419874380589,
          1.7761211953288496,
          1.799613973041337,
          1.8240667027734554,
          1.8465226451935113,
          1.8476359243091685,
          1.8433040501427767,
          1.8785368204469364,
          1.9059571417165893,
          1.8943444344303018,
          1.8665311523291626,
          1.8173124693506673,
          1.791265690972703,
          1.7976890085435675,
          1.7925220997772957,
          1.768991308822537,
          1.6471080026511429,
          1.4956975623847657,
          1.4958886343120363,
          1.5213572922535659,
          1.5413812140208616,
          1.5818731476950225,
          1.6338976694339533,
          1.6972968148085497,
          1.7584184021287015,
          1.8147498610638193,
          1.8733578845281822,
          1.9377217959989241,
          1.9932088940823833,
          2.034254579656035,
          2.0567324723547813,
          2.0638023529616287,
          2.0261616926189014,
          1.866465904550122,
          1.6343983649158582,
          1.5227979675914591,
          1.509308303444111,
          1.4870735800238366,
          1.4915787392325053,
          1.5503068082075944,
          1.6227464259829956,
          1.662288946275481,
          1.6430603682009575,
          2.461774504285062,
          1.6783341252179034,
          1.2548860055305653,
          1.1514458642172152,
          1.132053411552653,
          1.1368384486390466,
          1.1514276519474194,
          1.2293919215351,
          1.2754802797888383,
          1.4010411518771433,
          1.387995105700509,
          1.361386444965498,
          1.3830164491757737,
          1.4582866760661024,
          1.5209768321683113,
          1.5748520722855222,
          1.6204272278177343,
          1.5578674357693851,
          1.6751766731129285,
          1.7256365785247718,
          1.4440907848353552,
          1.3884136024453149,
          1.345901137049639,
          1.299376687496253,
          1.3535847994788668,
          1.4390001924476883,
          1.5191767499846633,
          1.5756537606276695,
          1.618844528109787,
          1.6673296104642297,
          1.7301973177083148,
          1.8162398420726686,
          1.9011442091073256,
          2.1631092305017208,
          1.9432039170460835,
          1.8078014195154124,
          1.7544666882688476,
          1.751686308214468,
          1.7773036560117799,
          1.7667756076911107,
          1.7382284665890946,
          1.9577490641219937,
          1.5890300609274313,
          1.5346671225980613,
          1.7120069579293582,
          1.6885926793184949,
          1.6549699193081515,
          1.6807020956750565,
          1.74661050244621,
          1.9253165261838558,
          1.8416340107257014,
          1.8254919561636243,
          1.7941964290742693,
          1.7132005477336387,
          2.7635809619400353,
          1.6314414249111537,
          1.323031109952925,
          1.315999616344169,
          1.3308436101765733,
          1.344057233101901,
          1.383341141710791,
          1.2371691019961855,
          1.1555997774320033,
          1.2308778225650985,
          1.3059054029056452,
          1.3202412850664342,
          1.3668673117839107,
          1.2928790340110954,
          1.3563718972683265
         ]
        }
       ],
       "layout": {
        "font": {
         "family": "CMU Serif"
        },
        "height": 600,
        "legend": {
         "x": 0.5,
         "y": 1
        },
        "template": {
         "data": {
          "bar": [
           {
            "error_x": {
             "color": "#2a3f5f"
            },
            "error_y": {
             "color": "#2a3f5f"
            },
            "marker": {
             "line": {
              "color": "white",
              "width": 0.5
             },
             "pattern": {
              "fillmode": "overlay",
              "size": 10,
              "solidity": 0.2
             }
            },
            "type": "bar"
           }
          ],
          "barpolar": [
           {
            "marker": {
             "line": {
              "color": "white",
              "width": 0.5
             },
             "pattern": {
              "fillmode": "overlay",
              "size": 10,
              "solidity": 0.2
             }
            },
            "type": "barpolar"
           }
          ],
          "carpet": [
           {
            "aaxis": {
             "endlinecolor": "#2a3f5f",
             "gridcolor": "#C8D4E3",
             "linecolor": "#C8D4E3",
             "minorgridcolor": "#C8D4E3",
             "startlinecolor": "#2a3f5f"
            },
            "baxis": {
             "endlinecolor": "#2a3f5f",
             "gridcolor": "#C8D4E3",
             "linecolor": "#C8D4E3",
             "minorgridcolor": "#C8D4E3",
             "startlinecolor": "#2a3f5f"
            },
            "type": "carpet"
           }
          ],
          "choropleth": [
           {
            "colorbar": {
             "outlinewidth": 0,
             "ticks": ""
            },
            "type": "choropleth"
           }
          ],
          "contour": [
           {
            "colorbar": {
             "outlinewidth": 0,
             "ticks": ""
            },
            "colorscale": [
             [
              0,
              "#0d0887"
             ],
             [
              0.1111111111111111,
              "#46039f"
             ],
             [
              0.2222222222222222,
              "#7201a8"
             ],
             [
              0.3333333333333333,
              "#9c179e"
             ],
             [
              0.4444444444444444,
              "#bd3786"
             ],
             [
              0.5555555555555556,
              "#d8576b"
             ],
             [
              0.6666666666666666,
              "#ed7953"
             ],
             [
              0.7777777777777778,
              "#fb9f3a"
             ],
             [
              0.8888888888888888,
              "#fdca26"
             ],
             [
              1,
              "#f0f921"
             ]
            ],
            "type": "contour"
           }
          ],
          "contourcarpet": [
           {
            "colorbar": {
             "outlinewidth": 0,
             "ticks": ""
            },
            "type": "contourcarpet"
           }
          ],
          "heatmap": [
           {
            "colorbar": {
             "outlinewidth": 0,
             "ticks": ""
            },
            "colorscale": [
             [
              0,
              "#0d0887"
             ],
             [
              0.1111111111111111,
              "#46039f"
             ],
             [
              0.2222222222222222,
              "#7201a8"
             ],
             [
              0.3333333333333333,
              "#9c179e"
             ],
             [
              0.4444444444444444,
              "#bd3786"
             ],
             [
              0.5555555555555556,
              "#d8576b"
             ],
             [
              0.6666666666666666,
              "#ed7953"
             ],
             [
              0.7777777777777778,
              "#fb9f3a"
             ],
             [
              0.8888888888888888,
              "#fdca26"
             ],
             [
              1,
              "#f0f921"
             ]
            ],
            "type": "heatmap"
           }
          ],
          "heatmapgl": [
           {
            "colorbar": {
             "outlinewidth": 0,
             "ticks": ""
            },
            "colorscale": [
             [
              0,
              "#0d0887"
             ],
             [
              0.1111111111111111,
              "#46039f"
             ],
             [
              0.2222222222222222,
              "#7201a8"
             ],
             [
              0.3333333333333333,
              "#9c179e"
             ],
             [
              0.4444444444444444,
              "#bd3786"
             ],
             [
              0.5555555555555556,
              "#d8576b"
             ],
             [
              0.6666666666666666,
              "#ed7953"
             ],
             [
              0.7777777777777778,
              "#fb9f3a"
             ],
             [
              0.8888888888888888,
              "#fdca26"
             ],
             [
              1,
              "#f0f921"
             ]
            ],
            "type": "heatmapgl"
           }
          ],
          "histogram": [
           {
            "marker": {
             "pattern": {
              "fillmode": "overlay",
              "size": 10,
              "solidity": 0.2
             }
            },
            "type": "histogram"
           }
          ],
          "histogram2d": [
           {
            "colorbar": {
             "outlinewidth": 0,
             "ticks": ""
            },
            "colorscale": [
             [
              0,
              "#0d0887"
             ],
             [
              0.1111111111111111,
              "#46039f"
             ],
             [
              0.2222222222222222,
              "#7201a8"
             ],
             [
              0.3333333333333333,
              "#9c179e"
             ],
             [
              0.4444444444444444,
              "#bd3786"
             ],
             [
              0.5555555555555556,
              "#d8576b"
             ],
             [
              0.6666666666666666,
              "#ed7953"
             ],
             [
              0.7777777777777778,
              "#fb9f3a"
             ],
             [
              0.8888888888888888,
              "#fdca26"
             ],
             [
              1,
              "#f0f921"
             ]
            ],
            "type": "histogram2d"
           }
          ],
          "histogram2dcontour": [
           {
            "colorbar": {
             "outlinewidth": 0,
             "ticks": ""
            },
            "colorscale": [
             [
              0,
              "#0d0887"
             ],
             [
              0.1111111111111111,
              "#46039f"
             ],
             [
              0.2222222222222222,
              "#7201a8"
             ],
             [
              0.3333333333333333,
              "#9c179e"
             ],
             [
              0.4444444444444444,
              "#bd3786"
             ],
             [
              0.5555555555555556,
              "#d8576b"
             ],
             [
              0.6666666666666666,
              "#ed7953"
             ],
             [
              0.7777777777777778,
              "#fb9f3a"
             ],
             [
              0.8888888888888888,
              "#fdca26"
             ],
             [
              1,
              "#f0f921"
             ]
            ],
            "type": "histogram2dcontour"
           }
          ],
          "mesh3d": [
           {
            "colorbar": {
             "outlinewidth": 0,
             "ticks": ""
            },
            "type": "mesh3d"
           }
          ],
          "parcoords": [
           {
            "line": {
             "colorbar": {
              "outlinewidth": 0,
              "ticks": ""
             }
            },
            "type": "parcoords"
           }
          ],
          "pie": [
           {
            "automargin": true,
            "type": "pie"
           }
          ],
          "scatter": [
           {
            "marker": {
             "colorbar": {
              "outlinewidth": 0,
              "ticks": ""
             }
            },
            "type": "scatter"
           }
          ],
          "scatter3d": [
           {
            "line": {
             "colorbar": {
              "outlinewidth": 0,
              "ticks": ""
             }
            },
            "marker": {
             "colorbar": {
              "outlinewidth": 0,
              "ticks": ""
             }
            },
            "type": "scatter3d"
           }
          ],
          "scattercarpet": [
           {
            "marker": {
             "colorbar": {
              "outlinewidth": 0,
              "ticks": ""
             }
            },
            "type": "scattercarpet"
           }
          ],
          "scattergeo": [
           {
            "marker": {
             "colorbar": {
              "outlinewidth": 0,
              "ticks": ""
             }
            },
            "type": "scattergeo"
           }
          ],
          "scattergl": [
           {
            "marker": {
             "colorbar": {
              "outlinewidth": 0,
              "ticks": ""
             }
            },
            "type": "scattergl"
           }
          ],
          "scattermapbox": [
           {
            "marker": {
             "colorbar": {
              "outlinewidth": 0,
              "ticks": ""
             }
            },
            "type": "scattermapbox"
           }
          ],
          "scatterpolar": [
           {
            "marker": {
             "colorbar": {
              "outlinewidth": 0,
              "ticks": ""
             }
            },
            "type": "scatterpolar"
           }
          ],
          "scatterpolargl": [
           {
            "marker": {
             "colorbar": {
              "outlinewidth": 0,
              "ticks": ""
             }
            },
            "type": "scatterpolargl"
           }
          ],
          "scatterternary": [
           {
            "marker": {
             "colorbar": {
              "outlinewidth": 0,
              "ticks": ""
             }
            },
            "type": "scatterternary"
           }
          ],
          "surface": [
           {
            "colorbar": {
             "outlinewidth": 0,
             "ticks": ""
            },
            "colorscale": [
             [
              0,
              "#0d0887"
             ],
             [
              0.1111111111111111,
              "#46039f"
             ],
             [
              0.2222222222222222,
              "#7201a8"
             ],
             [
              0.3333333333333333,
              "#9c179e"
             ],
             [
              0.4444444444444444,
              "#bd3786"
             ],
             [
              0.5555555555555556,
              "#d8576b"
             ],
             [
              0.6666666666666666,
              "#ed7953"
             ],
             [
              0.7777777777777778,
              "#fb9f3a"
             ],
             [
              0.8888888888888888,
              "#fdca26"
             ],
             [
              1,
              "#f0f921"
             ]
            ],
            "type": "surface"
           }
          ],
          "table": [
           {
            "cells": {
             "fill": {
              "color": "#EBF0F8"
             },
             "line": {
              "color": "white"
             }
            },
            "header": {
             "fill": {
              "color": "#C8D4E3"
             },
             "line": {
              "color": "white"
             }
            },
            "type": "table"
           }
          ]
         },
         "layout": {
          "annotationdefaults": {
           "arrowcolor": "#2a3f5f",
           "arrowhead": 0,
           "arrowwidth": 1
          },
          "autotypenumbers": "strict",
          "coloraxis": {
           "colorbar": {
            "outlinewidth": 0,
            "ticks": ""
           }
          },
          "colorscale": {
           "diverging": [
            [
             0,
             "#8e0152"
            ],
            [
             0.1,
             "#c51b7d"
            ],
            [
             0.2,
             "#de77ae"
            ],
            [
             0.3,
             "#f1b6da"
            ],
            [
             0.4,
             "#fde0ef"
            ],
            [
             0.5,
             "#f7f7f7"
            ],
            [
             0.6,
             "#e6f5d0"
            ],
            [
             0.7,
             "#b8e186"
            ],
            [
             0.8,
             "#7fbc41"
            ],
            [
             0.9,
             "#4d9221"
            ],
            [
             1,
             "#276419"
            ]
           ],
           "sequential": [
            [
             0,
             "#0d0887"
            ],
            [
             0.1111111111111111,
             "#46039f"
            ],
            [
             0.2222222222222222,
             "#7201a8"
            ],
            [
             0.3333333333333333,
             "#9c179e"
            ],
            [
             0.4444444444444444,
             "#bd3786"
            ],
            [
             0.5555555555555556,
             "#d8576b"
            ],
            [
             0.6666666666666666,
             "#ed7953"
            ],
            [
             0.7777777777777778,
             "#fb9f3a"
            ],
            [
             0.8888888888888888,
             "#fdca26"
            ],
            [
             1,
             "#f0f921"
            ]
           ],
           "sequentialminus": [
            [
             0,
             "#0d0887"
            ],
            [
             0.1111111111111111,
             "#46039f"
            ],
            [
             0.2222222222222222,
             "#7201a8"
            ],
            [
             0.3333333333333333,
             "#9c179e"
            ],
            [
             0.4444444444444444,
             "#bd3786"
            ],
            [
             0.5555555555555556,
             "#d8576b"
            ],
            [
             0.6666666666666666,
             "#ed7953"
            ],
            [
             0.7777777777777778,
             "#fb9f3a"
            ],
            [
             0.8888888888888888,
             "#fdca26"
            ],
            [
             1,
             "#f0f921"
            ]
           ]
          },
          "colorway": [
           "#636efa",
           "#EF553B",
           "#00cc96",
           "#ab63fa",
           "#FFA15A",
           "#19d3f3",
           "#FF6692",
           "#B6E880",
           "#FF97FF",
           "#FECB52"
          ],
          "font": {
           "color": "#2a3f5f"
          },
          "geo": {
           "bgcolor": "white",
           "lakecolor": "white",
           "landcolor": "white",
           "showlakes": true,
           "showland": true,
           "subunitcolor": "#C8D4E3"
          },
          "hoverlabel": {
           "align": "left"
          },
          "hovermode": "closest",
          "mapbox": {
           "style": "light"
          },
          "paper_bgcolor": "white",
          "plot_bgcolor": "white",
          "polar": {
           "angularaxis": {
            "gridcolor": "#EBF0F8",
            "linecolor": "#EBF0F8",
            "ticks": ""
           },
           "bgcolor": "white",
           "radialaxis": {
            "gridcolor": "#EBF0F8",
            "linecolor": "#EBF0F8",
            "ticks": ""
           }
          },
          "scene": {
           "xaxis": {
            "backgroundcolor": "white",
            "gridcolor": "#DFE8F3",
            "gridwidth": 2,
            "linecolor": "#EBF0F8",
            "showbackground": true,
            "ticks": "",
            "zerolinecolor": "#EBF0F8"
           },
           "yaxis": {
            "backgroundcolor": "white",
            "gridcolor": "#DFE8F3",
            "gridwidth": 2,
            "linecolor": "#EBF0F8",
            "showbackground": true,
            "ticks": "",
            "zerolinecolor": "#EBF0F8"
           },
           "zaxis": {
            "backgroundcolor": "white",
            "gridcolor": "#DFE8F3",
            "gridwidth": 2,
            "linecolor": "#EBF0F8",
            "showbackground": true,
            "ticks": "",
            "zerolinecolor": "#EBF0F8"
           }
          },
          "shapedefaults": {
           "line": {
            "color": "#2a3f5f"
           }
          },
          "ternary": {
           "aaxis": {
            "gridcolor": "#DFE8F3",
            "linecolor": "#A2B1C6",
            "ticks": ""
           },
           "baxis": {
            "gridcolor": "#DFE8F3",
            "linecolor": "#A2B1C6",
            "ticks": ""
           },
           "bgcolor": "white",
           "caxis": {
            "gridcolor": "#DFE8F3",
            "linecolor": "#A2B1C6",
            "ticks": ""
           }
          },
          "title": {
           "x": 0.05
          },
          "xaxis": {
           "automargin": true,
           "gridcolor": "#EBF0F8",
           "linecolor": "#EBF0F8",
           "ticks": "",
           "title": {
            "standoff": 15
           },
           "zerolinecolor": "#EBF0F8",
           "zerolinewidth": 2
          },
          "yaxis": {
           "automargin": true,
           "gridcolor": "#EBF0F8",
           "linecolor": "#EBF0F8",
           "ticks": "",
           "title": {
            "standoff": 15
           },
           "zerolinecolor": "#EBF0F8",
           "zerolinewidth": 2
          }
         }
        },
        "title": {
         "text": "Concentração DBO ao longo do tempo"
        },
        "width": 800,
        "xaxis": {
         "title": {
          "text": "Tempo (dias)"
         }
        },
        "yaxis": {
         "title": {
          "text": "Concentração DBO (mg/L)"
         }
        }
       }
      }
     },
     "metadata": {},
     "output_type": "display_data"
    }
   ],
   "source": [
    "trace1 = go.Scatter(x=x, y=concentracao_estrela[365:].values, name='Sem decaimento')\n",
    "trace2 = go.Scatter(x=x, y=sp_eq(concentracao_estrela[365:].values, .2, 3), name='Com decaímento - Streeter-Phelps')\n",
    "trace3 = go.Scatter(x=x, y=df2['c_sim'].values, name='Hidrodinâmico - Simulação anterior')\n",
    "\n",
    "layout = go.Layout(\n",
    "    title='Concentração DBO ao longo do tempo',\n",
    "    xaxis=dict(title='Tempo (dias)'),\n",
    "    yaxis=dict(title='Concentração DBO (mg/L)'),\n",
    "    legend=dict(x=.5, y=1),\n",
    "    font=dict(family='CMU Serif'),\n",
    "    width=800,\n",
    "    height=600\n",
    ")\n",
    "\n",
    "\n",
    "fig = go.Figure(data=[trace1, trace2, trace3], layout=layout)\n",
    "fig.show()\n"
   ]
  },
  {
   "cell_type": "markdown",
   "metadata": {},
   "source": [
    "Estações somadas até o ponto de Jurumirim"
   ]
  },
  {
   "cell_type": "code",
   "execution_count": 79,
   "metadata": {},
   "outputs": [],
   "source": [
    "cursos = ['Principal', 86496, 86494, 86493, 86492]"
   ]
  },
  {
   "cell_type": "code",
   "execution_count": 80,
   "metadata": {},
   "outputs": [],
   "source": [
    "df_Q = pd.DataFrame()\n",
    "df_Q['Principal'] = df_Qinc[86499] + df_Qinc[86498] + df_Qinc[86497] +  df_Qinc[86495]\n",
    "df_Q[86496] = df_Qinc[86496]\n",
    "df_Q[86494] = df_Qinc[86494]\n",
    "df_Q[86493] = df_Qinc[86493]\n",
    "df_Q[86492] = df_Qinc[86492]"
   ]
  },
  {
   "cell_type": "code",
   "execution_count": 81,
   "metadata": {},
   "outputs": [],
   "source": [
    "df_W = pd.DataFrame()\n",
    "df_W['Principal'] =df_total_lavado[86499] +df_total_lavado[86498] + df_total_lavado[86497] +  df_total_lavado[86495]\n",
    "df_W[86496] = df_total_lavado[86496]\n",
    "df_W[86494] = df_total_lavado[86494]\n",
    "df_W[86493] = df_total_lavado[86493]\n",
    "df_W[86492] = df_total_lavado[86492]"
   ]
  },
  {
   "cell_type": "code",
   "execution_count": 82,
   "metadata": {},
   "outputs": [],
   "source": [
    "for curso in cursos:\n",
    "    df_Q[curso] = Muskingum.Muskingum.downstream_routing(df_Q[curso], 1.6, .25, 1)"
   ]
  },
  {
   "cell_type": "code",
   "execution_count": 111,
   "metadata": {},
   "outputs": [
    {
     "data": {
      "image/png": "[encoded data removed]",
      "text/plain": [
       "<Figure size 393.701x393.701 with 1 Axes>"
      ]
     },
     "metadata": {},
     "output_type": "display_data"
    }
   ],
   "source": [
    "fig, ax = plt.subplots(figsize=(10/2.54, 10/2.54), constrained_layout=True)\n",
    "\n",
    "xaxis = pd.date_range(start='2012-01-01', periods=366, freq='D')\n",
    "\n",
    "# Graph for Sub-bacia 86496\n",
    "ax.plot(xaxis, (df_W['Principal'][365:]/1e3).values, label='Main Course')\n",
    "ax.plot(xaxis, (df_W[86496][365:]/1e3).values, label='86496')\n",
    "ax.plot(xaxis, (df_W[86494][365:]/1e3).values, label='86494')\n",
    "ax.plot(xaxis, (df_W[86493][365:]/1e3).values, label='86493')\n",
    "ax.plot(xaxis, (df_W[86492][365:]/1e3).values, label='86492')\n",
    "\n",
    "ax.legend(loc=(.01, .25))\n",
    "\n",
    "# Set axis titles\n",
    "ax.grid(True)\n",
    "ax.set_xlabel('Date')\n",
    "ax.set_ylabel('Total BOD (ton/day)')\n",
    "\n",
    "ax.set_xlim(pd.Timestamp('2012-01-01'), pd.Timestamp('2012-12-31'))\n",
    "ax.set_ylim(0)\n",
    "# plt.xticks(rotation=45)\n",
    "ax.xaxis.set_major_locator(MonthLocator())\n",
    "ax.xaxis.set_major_formatter(FuncFormatter(m_fmt))\n",
    "# plt.savefig('H:/GitHub/Thesis/images/case2/W.pdf')\n",
    "\n",
    "plt.show()"
   ]
  },
  {
   "cell_type": "code",
   "execution_count": 84,
   "metadata": {},
   "outputs": [],
   "source": [
    "df_Wc = pd.DataFrame()\n",
    "df_Wc['Principal'] = df_W['Principal']/df_Q['Principal']/86.4\n",
    "df_Wc[86496] = df_W[86496]/df_Q[86496]/86.4\n",
    "df_Wc[86494] = df_W[86494]/df_Q[86494]/86.4\n",
    "df_Wc[86493] = df_W[86493]/df_Q[86493]/86.4\n",
    "df_Wc[86492] = df_W[86492]/df_Q[86492]/86.4"
   ]
  },
  {
   "cell_type": "code",
   "execution_count": 85,
   "metadata": {},
   "outputs": [
    {
     "data": {
      "text/html": [
       "<div>\n",
       "<style scoped>\n",
       "    .dataframe tbody tr th:only-of-type {\n",
       "        vertical-align: middle;\n",
       "    }\n",
       "\n",
       "    .dataframe tbody tr th {\n",
       "        vertical-align: top;\n",
       "    }\n",
       "\n",
       "    .dataframe thead th {\n",
       "        text-align: right;\n",
       "    }\n",
       "</style>\n",
       "<table border=\"1\" class=\"dataframe\">\n",
       "  <thead>\n",
       "    <tr style=\"text-align: right;\">\n",
       "      <th></th>\n",
       "      <th>Principal</th>\n",
       "      <th>86496</th>\n",
       "      <th>86494</th>\n",
       "      <th>86493</th>\n",
       "      <th>86492</th>\n",
       "    </tr>\n",
       "  </thead>\n",
       "  <tbody>\n",
       "    <tr>\n",
       "      <th>0</th>\n",
       "      <td>inf</td>\n",
       "      <td>inf</td>\n",
       "      <td>inf</td>\n",
       "      <td>inf</td>\n",
       "      <td>inf</td>\n",
       "    </tr>\n",
       "    <tr>\n",
       "      <th>1</th>\n",
       "      <td>inf</td>\n",
       "      <td>inf</td>\n",
       "      <td>inf</td>\n",
       "      <td>inf</td>\n",
       "      <td>8.597954e+04</td>\n",
       "    </tr>\n",
       "    <tr>\n",
       "      <th>2</th>\n",
       "      <td>1469.341081</td>\n",
       "      <td>inf</td>\n",
       "      <td>1.552391</td>\n",
       "      <td>821.721747</td>\n",
       "      <td>8.311379e+03</td>\n",
       "    </tr>\n",
       "    <tr>\n",
       "      <th>3</th>\n",
       "      <td>100.670239</td>\n",
       "      <td>1160.851258</td>\n",
       "      <td>0.151621</td>\n",
       "      <td>70.005739</td>\n",
       "      <td>6.355921e+03</td>\n",
       "    </tr>\n",
       "    <tr>\n",
       "      <th>4</th>\n",
       "      <td>24.858665</td>\n",
       "      <td>112.213054</td>\n",
       "      <td>0.059347</td>\n",
       "      <td>27.971379</td>\n",
       "      <td>9.632061e+02</td>\n",
       "    </tr>\n",
       "    <tr>\n",
       "      <th>...</th>\n",
       "      <td>...</td>\n",
       "      <td>...</td>\n",
       "      <td>...</td>\n",
       "      <td>...</td>\n",
       "      <td>...</td>\n",
       "    </tr>\n",
       "    <tr>\n",
       "      <th>726</th>\n",
       "      <td>1.620512</td>\n",
       "      <td>1.671059</td>\n",
       "      <td>0.004391</td>\n",
       "      <td>0.616574</td>\n",
       "      <td>8.385464e-01</td>\n",
       "    </tr>\n",
       "    <tr>\n",
       "      <th>727</th>\n",
       "      <td>1.698072</td>\n",
       "      <td>1.689241</td>\n",
       "      <td>0.004674</td>\n",
       "      <td>0.623604</td>\n",
       "      <td>8.070588e-01</td>\n",
       "    </tr>\n",
       "    <tr>\n",
       "      <th>728</th>\n",
       "      <td>1.705975</td>\n",
       "      <td>1.698032</td>\n",
       "      <td>0.004799</td>\n",
       "      <td>0.546339</td>\n",
       "      <td>6.730777e-01</td>\n",
       "    </tr>\n",
       "    <tr>\n",
       "      <th>729</th>\n",
       "      <td>1.524813</td>\n",
       "      <td>1.733081</td>\n",
       "      <td>0.004012</td>\n",
       "      <td>0.469058</td>\n",
       "      <td>6.272560e-01</td>\n",
       "    </tr>\n",
       "    <tr>\n",
       "      <th>730</th>\n",
       "      <td>1.404991</td>\n",
       "      <td>1.710109</td>\n",
       "      <td>0.003919</td>\n",
       "      <td>0.457802</td>\n",
       "      <td>6.116832e-01</td>\n",
       "    </tr>\n",
       "  </tbody>\n",
       "</table>\n",
       "<p>731 rows × 5 columns</p>\n",
       "</div>"
      ],
      "text/plain": [
       "       Principal        86496     86494       86493         86492\n",
       "0            inf          inf       inf         inf           inf\n",
       "1            inf          inf       inf         inf  8.597954e+04\n",
       "2    1469.341081          inf  1.552391  821.721747  8.311379e+03\n",
       "3     100.670239  1160.851258  0.151621   70.005739  6.355921e+03\n",
       "4      24.858665   112.213054  0.059347   27.971379  9.632061e+02\n",
       "..           ...          ...       ...         ...           ...\n",
       "726     1.620512     1.671059  0.004391    0.616574  8.385464e-01\n",
       "727     1.698072     1.689241  0.004674    0.623604  8.070588e-01\n",
       "728     1.705975     1.698032  0.004799    0.546339  6.730777e-01\n",
       "729     1.524813     1.733081  0.004012    0.469058  6.272560e-01\n",
       "730     1.404991     1.710109  0.003919    0.457802  6.116832e-01\n",
       "\n",
       "[731 rows x 5 columns]"
      ]
     },
     "execution_count": 85,
     "metadata": {},
     "output_type": "execute_result"
    }
   ],
   "source": [
    "df_Wc"
   ]
  },
  {
   "cell_type": "code",
   "execution_count": 86,
   "metadata": {},
   "outputs": [],
   "source": [
    "total_reservatorio = df_Wc['Principal'] + df_Wc[86496] + df_Wc[86494] + df_Wc[86493] + df_Wc[86492]"
   ]
  },
  {
   "cell_type": "code",
   "execution_count": 87,
   "metadata": {},
   "outputs": [
    {
     "data": {
      "application/vnd.plotly.v1+json": {
       "config": {
        "plotlyServerURL": "https://plot.ly"
       },
       "data": [
        {
         "hovertemplate": "variable=0<br>index=%{x}<br>value=%{y}<extra></extra>",
         "legendgroup": "0",
         "line": {
          "color": "#636efa",
          "dash": "solid"
         },
         "marker": {
          "symbol": "circle"
         },
         "mode": "lines",
         "name": "0",
         "orientation": "v",
         "showlegend": true,
         "type": "scatter",
         "x": [
          365,
          366,
          367,
          368,
          369,
          370,
          371,
          372,
          373,
          374,
          375,
          376,
          377,
          378,
          379,
          380,
          381,
          382,
          383,
          384,
          385,
          386,
          387,
          388,
          389,
          390,
          391,
          392,
          393,
          394,
          395,
          396,
          397,
          398,
          399,
          400,
          401,
          402,
          403,
          404,
          405,
          406,
          407,
          408,
          409,
          410,
          411,
          412,
          413,
          414,
          415,
          416,
          417,
          418,
          419,
          420,
          421,
          422,
          423,
          424,
          425,
          426,
          427,
          428,
          429,
          430,
          431,
          432,
          433,
          434,
          435,
          436,
          437,
          438,
          439,
          440,
          441,
          442,
          443,
          444,
          445,
          446,
          447,
          448,
          449,
          450,
          451,
          452,
          453,
          454,
          455,
          456,
          457,
          458,
          459,
          460,
          461,
          462,
          463,
          464,
          465,
          466,
          467,
          468,
          469,
          470,
          471,
          472,
          473,
          474,
          475,
          476,
          477,
          478,
          479,
          480,
          481,
          482,
          483,
          484,
          485,
          486,
          487,
          488,
          489,
          490,
          491,
          492,
          493,
          494,
          495,
          496,
          497,
          498,
          499,
          500,
          501,
          502,
          503,
          504,
          505,
          506,
          507,
          508,
          509,
          510,
          511,
          512,
          513,
          514,
          515,
          516,
          517,
          518,
          519,
          520,
          521,
          522,
          523,
          524,
          525,
          526,
          527,
          528,
          529,
          530,
          531,
          532,
          533,
          534,
          535,
          536,
          537,
          538,
          539,
          540,
          541,
          542,
          543,
          544,
          545,
          546,
          547,
          548,
          549,
          550,
          551,
          552,
          553,
          554,
          555,
          556,
          557,
          558,
          559,
          560,
          561,
          562,
          563,
          564,
          565,
          566,
          567,
          568,
          569,
          570,
          571,
          572,
          573,
          574,
          575,
          576,
          577,
          578,
          579,
          580,
          581,
          582,
          583,
          584,
          585,
          586,
          587,
          588,
          589,
          590,
          591,
          592,
          593,
          594,
          595,
          596,
          597,
          598,
          599,
          600,
          601,
          602,
          603,
          604,
          605,
          606,
          607,
          608,
          609,
          610,
          611,
          612,
          613,
          614,
          615,
          616,
          617,
          618,
          619,
          620,
          621,
          622,
          623,
          624,
          625,
          626,
          627,
          628,
          629,
          630,
          631,
          632,
          633,
          634,
          635,
          636,
          637,
          638,
          639,
          640,
          641,
          642,
          643,
          644,
          645,
          646,
          647,
          648,
          649,
          650,
          651,
          652,
          653,
          654,
          655,
          656,
          657,
          658,
          659,
          660,
          661,
          662,
          663,
          664,
          665,
          666,
          667,
          668,
          669,
          670,
          671,
          672,
          673,
          674,
          675,
          676,
          677,
          678,
          679,
          680,
          681,
          682,
          683,
          684,
          685,
          686,
          687,
          688,
          689,
          690,
          691,
          692,
          693,
          694,
          695,
          696,
          697,
          698,
          699,
          700,
          701,
          702,
          703,
          704,
          705,
          706,
          707,
          708,
          709,
          710,
          711,
          712,
          713,
          714,
          715,
          716,
          717,
          718,
          719,
          720,
          721,
          722,
          723,
          724,
          725,
          726,
          727,
          728,
          729,
          730
         ],
         "xaxis": "x",
         "y": [
          8.004562315197782,
          7.8169959072054045,
          7.902079682852576,
          8.079271998326886,
          8.26944076224356,
          8.301874090202102,
          8.261884331592329,
          8.083798636748815,
          8.034155839192952,
          8.116141098905974,
          8.198272013792254,
          8.022818435453114,
          7.992971232868153,
          8.078491157740253,
          8.117232966901787,
          7.488562516218915,
          6.101055860884651,
          4.717464998192861,
          4.11756317836418,
          3.9463151684306403,
          3.852265441553022,
          3.4097291588313174,
          3.164862635272312,
          3.0370299133984284,
          3.0005126707429426,
          2.837832267327909,
          2.546189792425916,
          2.497955501111626,
          2.545860241975618,
          2.640196639082526,
          2.7620063613730976,
          2.901942872076868,
          3.0546839348634793,
          3.216791357922862,
          3.385808510105864,
          3.560049026324169,
          3.736815981587956,
          3.9140549541499112,
          4.090249897115309,
          4.264014160469063,
          4.406655919752345,
          4.240389339924009,
          3.686948143245996,
          3.5778624511385044,
          3.30937790970213,
          3.0504324418323283,
          2.9414672702170797,
          2.9863036021368607,
          3.0844668583398276,
          3.2088675667943365,
          3.342185617213743,
          3.426149312339496,
          3.4228003192481617,
          3.487247425606367,
          3.5712489111455907,
          3.6616695117891007,
          3.6549092862116153,
          3.635195370468484,
          3.5293204340407813,
          3.509237145278259,
          3.577576405452387,
          3.683914630017244,
          3.800709064335547,
          3.9287700706031976,
          4.064738602337461,
          4.203023579507871,
          4.34110372694598,
          4.4776490954086245,
          4.611714586189649,
          4.734243222946123,
          4.770905620963548,
          4.714989284665577,
          4.771999566690589,
          4.8581614462637415,
          4.859552699761817,
          4.814593057287928,
          4.606681481827733,
          4.634918568090418,
          4.733375175866816,
          4.858340732218366,
          4.992150900130751,
          5.117515493841956,
          5.154424815635643,
          5.1892111997669375,
          5.278966686396676,
          5.388031882809157,
          5.498168990875193,
          5.57064127968072,
          5.665377703023916,
          5.768085810192245,
          5.87181230040073,
          5.973858738053501,
          6.073248029699034,
          6.1697399744231625,
          6.26340039650637,
          6.354415304222033,
          6.443009968211385,
          6.529407349283483,
          6.608309240427294,
          6.631772688968015,
          6.629089955925595,
          6.6676797250998705,
          6.590800299143166,
          6.523957009874314,
          6.561232069447484,
          6.629344388836756,
          6.718064304951852,
          6.814784728681441,
          6.913226186417046,
          7.010893164383585,
          7.101174486051324,
          7.1097670487310864,
          6.797572904639642,
          6.742829835715724,
          6.799571143122759,
          6.898227276282874,
          6.913670906817131,
          6.341309239088411,
          5.576104044535414,
          5.388406286216595,
          5.146513464759359,
          5.095633139719908,
          5.171087675711496,
          5.297913119025699,
          5.4478395622353855,
          5.606697019336523,
          5.770023145281112,
          5.933317927656864,
          6.095202882794752,
          6.254756721726294,
          6.411257134260784,
          6.56319140364107,
          6.690113169080583,
          6.681762525634066,
          6.76400851724398,
          6.877511348086337,
          6.99845969974218,
          7.111531665828345,
          7.228014763710091,
          7.3452978438835785,
          7.461436107525611,
          7.576379353038023,
          7.690156274274513,
          7.802842318119847,
          7.903198638393393,
          7.841614750215034,
          7.328933396061066,
          7.230202813096238,
          7.269084603018012,
          7.362885067045683,
          7.479143000062468,
          7.597197439214593,
          7.637432562681997,
          7.580449902793609,
          7.636586377539448,
          7.715940526974666,
          7.366575483804555,
          5.0639926446747,
          4.192462145105088,
          3.6369167887679703,
          3.4173290964736442,
          3.3972227483469197,
          3.44864207205426,
          3.5195045613606504,
          3.6036411236031474,
          3.710526900916344,
          3.828088479019221,
          3.9535256076694942,
          4.084135200055381,
          4.215205132750858,
          4.261367842156483,
          3.3393535948058575,
          1.6726368775816014,
          1.4351033220205502,
          1.3975745566135804,
          1.4310735928766543,
          1.4960416191387793,
          1.5790609356928782,
          1.6742007813644446,
          1.7787216684578844,
          1.8910059939556425,
          2.0099523097958207,
          2.134681815967917,
          2.264400156804589,
          2.3983370081118167,
          2.5357186196040957,
          2.675754744183536,
          2.817577492246752,
          2.918213507474901,
          2.6519145558276582,
          2.290216168246822,
          2.2444075721865313,
          2.294434707654907,
          2.3603694661821812,
          2.3871129400559026,
          2.4660402798064065,
          2.566339955360399,
          2.678176130510184,
          2.794409408011771,
          2.9009541139139556,
          3.012962667427067,
          3.131157640154245,
          3.2513165773745625,
          3.3724709862857805,
          3.49371845952174,
          3.614333231509696,
          3.733732964677488,
          3.8513345081104555,
          3.9664970584461656,
          4.0788683101644825,
          4.188118005813542,
          4.293994969030756,
          4.396401835118208,
          4.495378106146212,
          4.591037344398006,
          4.683533186073886,
          4.773039835946163,
          4.8597528571219115,
          4.943873265025317,
          5.025620666487139,
          5.10519241562436,
          5.182750379220593,
          5.258478682222284,
          5.332543887259395,
          5.4050962879436755,
          5.476273564767401,
          5.546202601843135,
          5.615002274291739,
          5.682781167442522,
          5.749638134031663,
          5.815663842346113,
          5.880941007215466,
          5.9455460291178825,
          6.009549738123224,
          6.073019178424352,
          6.136028396628027,
          6.198638624350465,
          6.26090356619966,
          6.322872400829575,
          6.384590866224597,
          6.443742295123354,
          6.482593131742002,
          6.53508377925718,
          6.5936589639272825,
          6.654627037319299,
          6.7165101511337975,
          6.778709957303654,
          6.840958635615235,
          6.902909436249438,
          6.965095432628117,
          7.0273552422751075,
          7.08969595721107,
          7.152140480608177,
          7.2147134329995675,
          7.277439375721956,
          7.340336924272869,
          7.4033892264671195,
          7.466673309418372,
          7.530182039742625,
          7.593943490406145,
          7.6579707943746005,
          7.72229121624429,
          7.7967355313957185,
          7.871411531321509,
          7.899743432481481,
          7.7770378003279905,
          7.796727534925445,
          7.71761499491448,
          7.731537180476002,
          7.801175152331348,
          7.622430709953436,
          7.6112693566145255,
          7.673730563347582,
          7.763450483888976,
          7.863502227216099,
          7.968964495296527,
          8.057344419080378,
          8.16536888339939,
          8.272152560333586,
          8.377450433944203,
          8.48105850784174,
          8.580891234359108,
          8.681943304785332,
          8.781847102207086,
          8.879668129057164,
          8.929050665490983,
          8.99490763897078,
          9.053455811957852,
          9.140751878564416,
          9.288888208708807,
          9.381116316012292,
          9.124517279364236,
          9.110518055243647,
          9.160904039510108,
          9.051657936728835,
          8.29326342803088,
          8.215405200504325,
          6.700688109036447,
          6.004714513859743,
          5.886218678551634,
          5.660892286883312,
          5.665582211234902,
          5.794885558964344,
          5.946880642012934,
          6.13015898361181,
          6.164860495668456,
          6.145859085438909,
          6.280877612847999,
          6.470254912610292,
          6.683774215686487,
          6.908144411161505,
          7.1374209553092705,
          7.353105297303735,
          7.333713011664378,
          6.642458937372602,
          6.137483522171319,
          5.304405551073897,
          5.161142503372196,
          5.246301885193615,
          5.421572199743451,
          5.630951669023907,
          5.8549242288254355,
          6.081590835566469,
          6.31415759061772,
          6.547293701335708,
          6.736823926590396,
          6.9523184659040655,
          7.176430159012956,
          7.39534755581567,
          7.556793245222874,
          7.693658643131654,
          7.862654863524465,
          7.912577906870078,
          8.03832408963089,
          8.218865294754162,
          8.418776777847642,
          8.435518859519952,
          7.183433543389982,
          6.208431491044402,
          6.037985372865679,
          5.777447031941702,
          5.7501644618749195,
          5.8670980187936586,
          5.9395584135422235,
          5.8319940710705716,
          5.927401174573816,
          6.022571507093089,
          6.161114151382547,
          6.188447143517278,
          5.912502189513474,
          4.560689217348696,
          3.782921491014194,
          3.6107901017758213,
          3.6549758290238437,
          3.775991358541967,
          3.9155989740182164,
          4.063473830021394,
          4.197842204917277,
          4.372783640078569,
          4.555420268931816,
          4.637434484169112,
          4.751082959924535,
          4.822648794977514,
          4.628221956243122,
          4.3582191429323105,
          4.1885031066353315
         ],
         "yaxis": "y"
        }
       ],
       "layout": {
        "legend": {
         "title": {
          "text": "variable"
         },
         "tracegroupgap": 0
        },
        "margin": {
         "t": 60
        },
        "template": {
         "data": {
          "bar": [
           {
            "error_x": {
             "color": "#2a3f5f"
            },
            "error_y": {
             "color": "#2a3f5f"
            },
            "marker": {
             "line": {
              "color": "white",
              "width": 0.5
             },
             "pattern": {
              "fillmode": "overlay",
              "size": 10,
              "solidity": 0.2
             }
            },
            "type": "bar"
           }
          ],
          "barpolar": [
           {
            "marker": {
             "line": {
              "color": "white",
              "width": 0.5
             },
             "pattern": {
              "fillmode": "overlay",
              "size": 10,
              "solidity": 0.2
             }
            },
            "type": "barpolar"
           }
          ],
          "carpet": [
           {
            "aaxis": {
             "endlinecolor": "#2a3f5f",
             "gridcolor": "#C8D4E3",
             "linecolor": "#C8D4E3",
             "minorgridcolor": "#C8D4E3",
             "startlinecolor": "#2a3f5f"
            },
            "baxis": {
             "endlinecolor": "#2a3f5f",
             "gridcolor": "#C8D4E3",
             "linecolor": "#C8D4E3",
             "minorgridcolor": "#C8D4E3",
             "startlinecolor": "#2a3f5f"
            },
            "type": "carpet"
           }
          ],
          "choropleth": [
           {
            "colorbar": {
             "outlinewidth": 0,
             "ticks": ""
            },
            "type": "choropleth"
           }
          ],
          "contour": [
           {
            "colorbar": {
             "outlinewidth": 0,
             "ticks": ""
            },
            "colorscale": [
             [
              0,
              "#0d0887"
             ],
             [
              0.1111111111111111,
              "#46039f"
             ],
             [
              0.2222222222222222,
              "#7201a8"
             ],
             [
              0.3333333333333333,
              "#9c179e"
             ],
             [
              0.4444444444444444,
              "#bd3786"
             ],
             [
              0.5555555555555556,
              "#d8576b"
             ],
             [
              0.6666666666666666,
              "#ed7953"
             ],
             [
              0.7777777777777778,
              "#fb9f3a"
             ],
             [
              0.8888888888888888,
              "#fdca26"
             ],
             [
              1,
              "#f0f921"
             ]
            ],
            "type": "contour"
           }
          ],
          "contourcarpet": [
           {
            "colorbar": {
             "outlinewidth": 0,
             "ticks": ""
            },
            "type": "contourcarpet"
           }
          ],
          "heatmap": [
           {
            "colorbar": {
             "outlinewidth": 0,
             "ticks": ""
            },
            "colorscale": [
             [
              0,
              "#0d0887"
             ],
             [
              0.1111111111111111,
              "#46039f"
             ],
             [
              0.2222222222222222,
              "#7201a8"
             ],
             [
              0.3333333333333333,
              "#9c179e"
             ],
             [
              0.4444444444444444,
              "#bd3786"
             ],
             [
              0.5555555555555556,
              "#d8576b"
             ],
             [
              0.6666666666666666,
              "#ed7953"
             ],
             [
              0.7777777777777778,
              "#fb9f3a"
             ],
             [
              0.8888888888888888,
              "#fdca26"
             ],
             [
              1,
              "#f0f921"
             ]
            ],
            "type": "heatmap"
           }
          ],
          "heatmapgl": [
           {
            "colorbar": {
             "outlinewidth": 0,
             "ticks": ""
            },
            "colorscale": [
             [
              0,
              "#0d0887"
             ],
             [
              0.1111111111111111,
              "#46039f"
             ],
             [
              0.2222222222222222,
              "#7201a8"
             ],
             [
              0.3333333333333333,
              "#9c179e"
             ],
             [
              0.4444444444444444,
              "#bd3786"
             ],
             [
              0.5555555555555556,
              "#d8576b"
             ],
             [
              0.6666666666666666,
              "#ed7953"
             ],
             [
              0.7777777777777778,
              "#fb9f3a"
             ],
             [
              0.8888888888888888,
              "#fdca26"
             ],
             [
              1,
              "#f0f921"
             ]
            ],
            "type": "heatmapgl"
           }
          ],
          "histogram": [
           {
            "marker": {
             "pattern": {
              "fillmode": "overlay",
              "size": 10,
              "solidity": 0.2
             }
            },
            "type": "histogram"
           }
          ],
          "histogram2d": [
           {
            "colorbar": {
             "outlinewidth": 0,
             "ticks": ""
            },
            "colorscale": [
             [
              0,
              "#0d0887"
             ],
             [
              0.1111111111111111,
              "#46039f"
             ],
             [
              0.2222222222222222,
              "#7201a8"
             ],
             [
              0.3333333333333333,
              "#9c179e"
             ],
             [
              0.4444444444444444,
              "#bd3786"
             ],
             [
              0.5555555555555556,
              "#d8576b"
             ],
             [
              0.6666666666666666,
              "#ed7953"
             ],
             [
              0.7777777777777778,
              "#fb9f3a"
             ],
             [
              0.8888888888888888,
              "#fdca26"
             ],
             [
              1,
              "#f0f921"
             ]
            ],
            "type": "histogram2d"
           }
          ],
          "histogram2dcontour": [
           {
            "colorbar": {
             "outlinewidth": 0,
             "ticks": ""
            },
            "colorscale": [
             [
              0,
              "#0d0887"
             ],
             [
              0.1111111111111111,
              "#46039f"
             ],
             [
              0.2222222222222222,
              "#7201a8"
             ],
             [
              0.3333333333333333,
              "#9c179e"
             ],
             [
              0.4444444444444444,
              "#bd3786"
             ],
             [
              0.5555555555555556,
              "#d8576b"
             ],
             [
              0.6666666666666666,
              "#ed7953"
             ],
             [
              0.7777777777777778,
              "#fb9f3a"
             ],
             [
              0.8888888888888888,
              "#fdca26"
             ],
             [
              1,
              "#f0f921"
             ]
            ],
            "type": "histogram2dcontour"
           }
          ],
          "mesh3d": [
           {
            "colorbar": {
             "outlinewidth": 0,
             "ticks": ""
            },
            "type": "mesh3d"
           }
          ],
          "parcoords": [
           {
            "line": {
             "colorbar": {
              "outlinewidth": 0,
              "ticks": ""
             }
            },
            "type": "parcoords"
           }
          ],
          "pie": [
           {
            "automargin": true,
            "type": "pie"
           }
          ],
          "scatter": [
           {
            "marker": {
             "colorbar": {
              "outlinewidth": 0,
              "ticks": ""
             }
            },
            "type": "scatter"
           }
          ],
          "scatter3d": [
           {
            "line": {
             "colorbar": {
              "outlinewidth": 0,
              "ticks": ""
             }
            },
            "marker": {
             "colorbar": {
              "outlinewidth": 0,
              "ticks": ""
             }
            },
            "type": "scatter3d"
           }
          ],
          "scattercarpet": [
           {
            "marker": {
             "colorbar": {
              "outlinewidth": 0,
              "ticks": ""
             }
            },
            "type": "scattercarpet"
           }
          ],
          "scattergeo": [
           {
            "marker": {
             "colorbar": {
              "outlinewidth": 0,
              "ticks": ""
             }
            },
            "type": "scattergeo"
           }
          ],
          "scattergl": [
           {
            "marker": {
             "colorbar": {
              "outlinewidth": 0,
              "ticks": ""
             }
            },
            "type": "scattergl"
           }
          ],
          "scattermapbox": [
           {
            "marker": {
             "colorbar": {
              "outlinewidth": 0,
              "ticks": ""
             }
            },
            "type": "scattermapbox"
           }
          ],
          "scatterpolar": [
           {
            "marker": {
             "colorbar": {
              "outlinewidth": 0,
              "ticks": ""
             }
            },
            "type": "scatterpolar"
           }
          ],
          "scatterpolargl": [
           {
            "marker": {
             "colorbar": {
              "outlinewidth": 0,
              "ticks": ""
             }
            },
            "type": "scatterpolargl"
           }
          ],
          "scatterternary": [
           {
            "marker": {
             "colorbar": {
              "outlinewidth": 0,
              "ticks": ""
             }
            },
            "type": "scatterternary"
           }
          ],
          "surface": [
           {
            "colorbar": {
             "outlinewidth": 0,
             "ticks": ""
            },
            "colorscale": [
             [
              0,
              "#0d0887"
             ],
             [
              0.1111111111111111,
              "#46039f"
             ],
             [
              0.2222222222222222,
              "#7201a8"
             ],
             [
              0.3333333333333333,
              "#9c179e"
             ],
             [
              0.4444444444444444,
              "#bd3786"
             ],
             [
              0.5555555555555556,
              "#d8576b"
             ],
             [
              0.6666666666666666,
              "#ed7953"
             ],
             [
              0.7777777777777778,
              "#fb9f3a"
             ],
             [
              0.8888888888888888,
              "#fdca26"
             ],
             [
              1,
              "#f0f921"
             ]
            ],
            "type": "surface"
           }
          ],
          "table": [
           {
            "cells": {
             "fill": {
              "color": "#EBF0F8"
             },
             "line": {
              "color": "white"
             }
            },
            "header": {
             "fill": {
              "color": "#C8D4E3"
             },
             "line": {
              "color": "white"
             }
            },
            "type": "table"
           }
          ]
         },
         "layout": {
          "annotationdefaults": {
           "arrowcolor": "#2a3f5f",
           "arrowhead": 0,
           "arrowwidth": 1
          },
          "autotypenumbers": "strict",
          "coloraxis": {
           "colorbar": {
            "outlinewidth": 0,
            "ticks": ""
           }
          },
          "colorscale": {
           "diverging": [
            [
             0,
             "#8e0152"
            ],
            [
             0.1,
             "#c51b7d"
            ],
            [
             0.2,
             "#de77ae"
            ],
            [
             0.3,
             "#f1b6da"
            ],
            [
             0.4,
             "#fde0ef"
            ],
            [
             0.5,
             "#f7f7f7"
            ],
            [
             0.6,
             "#e6f5d0"
            ],
            [
             0.7,
             "#b8e186"
            ],
            [
             0.8,
             "#7fbc41"
            ],
            [
             0.9,
             "#4d9221"
            ],
            [
             1,
             "#276419"
            ]
           ],
           "sequential": [
            [
             0,
             "#0d0887"
            ],
            [
             0.1111111111111111,
             "#46039f"
            ],
            [
             0.2222222222222222,
             "#7201a8"
            ],
            [
             0.3333333333333333,
             "#9c179e"
            ],
            [
             0.4444444444444444,
             "#bd3786"
            ],
            [
             0.5555555555555556,
             "#d8576b"
            ],
            [
             0.6666666666666666,
             "#ed7953"
            ],
            [
             0.7777777777777778,
             "#fb9f3a"
            ],
            [
             0.8888888888888888,
             "#fdca26"
            ],
            [
             1,
             "#f0f921"
            ]
           ],
           "sequentialminus": [
            [
             0,
             "#0d0887"
            ],
            [
             0.1111111111111111,
             "#46039f"
            ],
            [
             0.2222222222222222,
             "#7201a8"
            ],
            [
             0.3333333333333333,
             "#9c179e"
            ],
            [
             0.4444444444444444,
             "#bd3786"
            ],
            [
             0.5555555555555556,
             "#d8576b"
            ],
            [
             0.6666666666666666,
             "#ed7953"
            ],
            [
             0.7777777777777778,
             "#fb9f3a"
            ],
            [
             0.8888888888888888,
             "#fdca26"
            ],
            [
             1,
             "#f0f921"
            ]
           ]
          },
          "colorway": [
           "#636efa",
           "#EF553B",
           "#00cc96",
           "#ab63fa",
           "#FFA15A",
           "#19d3f3",
           "#FF6692",
           "#B6E880",
           "#FF97FF",
           "#FECB52"
          ],
          "font": {
           "color": "#2a3f5f"
          },
          "geo": {
           "bgcolor": "white",
           "lakecolor": "white",
           "landcolor": "white",
           "showlakes": true,
           "showland": true,
           "subunitcolor": "#C8D4E3"
          },
          "hoverlabel": {
           "align": "left"
          },
          "hovermode": "closest",
          "mapbox": {
           "style": "light"
          },
          "paper_bgcolor": "white",
          "plot_bgcolor": "white",
          "polar": {
           "angularaxis": {
            "gridcolor": "#EBF0F8",
            "linecolor": "#EBF0F8",
            "ticks": ""
           },
           "bgcolor": "white",
           "radialaxis": {
            "gridcolor": "#EBF0F8",
            "linecolor": "#EBF0F8",
            "ticks": ""
           }
          },
          "scene": {
           "xaxis": {
            "backgroundcolor": "white",
            "gridcolor": "#DFE8F3",
            "gridwidth": 2,
            "linecolor": "#EBF0F8",
            "showbackground": true,
            "ticks": "",
            "zerolinecolor": "#EBF0F8"
           },
           "yaxis": {
            "backgroundcolor": "white",
            "gridcolor": "#DFE8F3",
            "gridwidth": 2,
            "linecolor": "#EBF0F8",
            "showbackground": true,
            "ticks": "",
            "zerolinecolor": "#EBF0F8"
           },
           "zaxis": {
            "backgroundcolor": "white",
            "gridcolor": "#DFE8F3",
            "gridwidth": 2,
            "linecolor": "#EBF0F8",
            "showbackground": true,
            "ticks": "",
            "zerolinecolor": "#EBF0F8"
           }
          },
          "shapedefaults": {
           "line": {
            "color": "#2a3f5f"
           }
          },
          "ternary": {
           "aaxis": {
            "gridcolor": "#DFE8F3",
            "linecolor": "#A2B1C6",
            "ticks": ""
           },
           "baxis": {
            "gridcolor": "#DFE8F3",
            "linecolor": "#A2B1C6",
            "ticks": ""
           },
           "bgcolor": "white",
           "caxis": {
            "gridcolor": "#DFE8F3",
            "linecolor": "#A2B1C6",
            "ticks": ""
           }
          },
          "title": {
           "x": 0.05
          },
          "xaxis": {
           "automargin": true,
           "gridcolor": "#EBF0F8",
           "linecolor": "#EBF0F8",
           "ticks": "",
           "title": {
            "standoff": 15
           },
           "zerolinecolor": "#EBF0F8",
           "zerolinewidth": 2
          },
          "yaxis": {
           "automargin": true,
           "gridcolor": "#EBF0F8",
           "linecolor": "#EBF0F8",
           "ticks": "",
           "title": {
            "standoff": 15
           },
           "zerolinecolor": "#EBF0F8",
           "zerolinewidth": 2
          }
         }
        },
        "xaxis": {
         "anchor": "y",
         "domain": [
          0,
          1
         ],
         "title": {
          "text": "index"
         }
        },
        "yaxis": {
         "anchor": "x",
         "domain": [
          0,
          1
         ],
         "title": {
          "text": "value"
         }
        }
       }
      }
     },
     "metadata": {},
     "output_type": "display_data"
    }
   ],
   "source": [
    "total_reservatorio[365:].plot()"
   ]
  },
  {
   "cell_type": "code",
   "execution_count": 88,
   "metadata": {},
   "outputs": [],
   "source": [
    "total_reservatorio_decaido = sp_eq(total_reservatorio, .2, 4)"
   ]
  },
  {
   "cell_type": "code",
   "execution_count": 89,
   "metadata": {},
   "outputs": [
    {
     "data": {
      "application/vnd.plotly.v1+json": {
       "config": {
        "plotlyServerURL": "https://plot.ly"
       },
       "data": [
        {
         "hovertemplate": "variable=0<br>index=%{x}<br>value=%{y}<extra></extra>",
         "legendgroup": "0",
         "line": {
          "color": "#636efa",
          "dash": "solid"
         },
         "marker": {
          "symbol": "circle"
         },
         "mode": "lines",
         "name": "0",
         "orientation": "v",
         "showlegend": true,
         "type": "scatter",
         "x": [
          365,
          366,
          367,
          368,
          369,
          370,
          371,
          372,
          373,
          374,
          375,
          376,
          377,
          378,
          379,
          380,
          381,
          382,
          383,
          384,
          385,
          386,
          387,
          388,
          389,
          390,
          391,
          392,
          393,
          394,
          395,
          396,
          397,
          398,
          399,
          400,
          401,
          402,
          403,
          404,
          405,
          406,
          407,
          408,
          409,
          410,
          411,
          412,
          413,
          414,
          415,
          416,
          417,
          418,
          419,
          420,
          421,
          422,
          423,
          424,
          425,
          426,
          427,
          428,
          429,
          430,
          431,
          432,
          433,
          434,
          435,
          436,
          437,
          438,
          439,
          440,
          441,
          442,
          443,
          444,
          445,
          446,
          447,
          448,
          449,
          450,
          451,
          452,
          453,
          454,
          455,
          456,
          457,
          458,
          459,
          460,
          461,
          462,
          463,
          464,
          465,
          466,
          467,
          468,
          469,
          470,
          471,
          472,
          473,
          474,
          475,
          476,
          477,
          478,
          479,
          480,
          481,
          482,
          483,
          484,
          485,
          486,
          487,
          488,
          489,
          490,
          491,
          492,
          493,
          494,
          495,
          496,
          497,
          498,
          499,
          500,
          501,
          502,
          503,
          504,
          505,
          506,
          507,
          508,
          509,
          510,
          511,
          512,
          513,
          514,
          515,
          516,
          517,
          518,
          519,
          520,
          521,
          522,
          523,
          524,
          525,
          526,
          527,
          528,
          529,
          530,
          531,
          532,
          533,
          534,
          535,
          536,
          537,
          538,
          539,
          540,
          541,
          542,
          543,
          544,
          545,
          546,
          547,
          548,
          549,
          550,
          551,
          552,
          553,
          554,
          555,
          556,
          557,
          558,
          559,
          560,
          561,
          562,
          563,
          564,
          565,
          566,
          567,
          568,
          569,
          570,
          571,
          572,
          573,
          574,
          575,
          576,
          577,
          578,
          579,
          580,
          581,
          582,
          583,
          584,
          585,
          586,
          587,
          588,
          589,
          590,
          591,
          592,
          593,
          594,
          595,
          596,
          597,
          598,
          599,
          600,
          601,
          602,
          603,
          604,
          605,
          606,
          607,
          608,
          609,
          610,
          611,
          612,
          613,
          614,
          615,
          616,
          617,
          618,
          619,
          620,
          621,
          622,
          623,
          624,
          625,
          626,
          627,
          628,
          629,
          630,
          631,
          632,
          633,
          634,
          635,
          636,
          637,
          638,
          639,
          640,
          641,
          642,
          643,
          644,
          645,
          646,
          647,
          648,
          649,
          650,
          651,
          652,
          653,
          654,
          655,
          656,
          657,
          658,
          659,
          660,
          661,
          662,
          663,
          664,
          665,
          666,
          667,
          668,
          669,
          670,
          671,
          672,
          673,
          674,
          675,
          676,
          677,
          678,
          679,
          680,
          681,
          682,
          683,
          684,
          685,
          686,
          687,
          688,
          689,
          690,
          691,
          692,
          693,
          694,
          695,
          696,
          697,
          698,
          699,
          700,
          701,
          702,
          703,
          704,
          705,
          706,
          707,
          708,
          709,
          710,
          711,
          712,
          713,
          714,
          715,
          716,
          717,
          718,
          719,
          720,
          721,
          722,
          723,
          724,
          725,
          726,
          727,
          728,
          729,
          730
         ],
         "xaxis": "x",
         "y": [
          3.596681693299568,
          3.512402673493165,
          3.5506332782678904,
          3.6302509178294944,
          3.715699251527626,
          3.7302724851821116,
          3.7123039283706847,
          3.632284867582553,
          3.609978920780896,
          3.6468172726006296,
          3.683721071508481,
          3.604884696902696,
          3.5914734842833984,
          3.6299000635375616,
          3.647307880516141,
          3.364828038139699,
          2.741381109992604,
          2.1196936608972488,
          1.8501403976215913,
          1.7731937067110184,
          1.7309344403575906,
          1.532090070857961,
          1.422064449480208,
          1.3646255049803309,
          1.3482172501655243,
          1.2751202330168754,
          1.1440768218765802,
          1.122403757725402,
          1.1439287453141234,
          1.1863168209047212,
          1.2410494572409503,
          1.303926984637654,
          1.3725579681577256,
          1.4453975286367102,
          1.5213418305451412,
          1.599633141204762,
          1.6790596541035947,
          1.7586982580460588,
          1.837867749251394,
          1.9159450657047283,
          1.9800381396433435,
          1.905329749561764,
          1.6566525899586368,
          1.6076372289239675,
          1.4869993480388741,
          1.3706476491980868,
          1.3216864415113518,
          1.341832704087683,
          1.3859402983117355,
          1.4418371397770484,
          1.5017408012701279,
          1.5394681214244368,
          1.5379633218278719,
          1.5669212733681566,
          1.6046655738498037,
          1.645294168671809,
          1.6422566035158788,
          1.6333985701763234,
          1.585825894665287,
          1.5768018913295558,
          1.607508700312134,
          1.6552895446019258,
          1.7077686667888257,
          1.7653101860788782,
          1.8264047855955743,
          1.8885402311405284,
          1.950583640754047,
          2.0119374297203714,
          2.072176937816876,
          2.127232603245358,
          2.1437060805685806,
          2.1185812511025834,
          2.1441976220689125,
          2.18291265016391,
          2.1835377806570246,
          2.163336111077151,
          2.0699154182476427,
          2.0826031589677436,
          2.1268425645504077,
          2.1829932085361823,
          2.2431179926726057,
          2.2994479357018376,
          2.3160323630296644,
          2.3316628929767624,
          2.37199263280794,
          2.4209987845332015,
          2.4704865772113798,
          2.503050475667571,
          2.5456182946325403,
          2.591768022032926,
          2.63837533842982,
          2.684227758552192,
          2.7288862460116237,
          2.772242871580173,
          2.814327212013602,
          2.8552228462167055,
          2.895030994813354,
          2.933851840552921,
          2.9693047455674595,
          2.979847552594879,
          2.9786421229359257,
          2.9959816239445254,
          2.9614374711174727,
          2.9314028451921117,
          2.9481516090975317,
          2.978756447012335,
          3.018620875016898,
          3.0620801628202927,
          3.1063127610508214,
          3.150197363088986,
          3.1907633758330847,
          3.1946242631210944,
          3.054346391753023,
          3.0297487453008416,
          3.0552442581807013,
          3.0995733162973464,
          3.1065125868075136,
          2.8493339115465623,
          2.505505054140947,
          2.4211670148284274,
          2.3124775639356554,
          2.2896155601917316,
          2.323519468686777,
          2.380505813754856,
          2.4478721071760434,
          2.5192513638175935,
          2.5926385228015545,
          2.6660115982121986,
          2.7387511974104686,
          2.8104433585785045,
          2.8807635268265446,
          2.949031994701095,
          3.0060616200899606,
          3.002309434120425,
          3.039264940333301,
          3.09026504974007,
          3.1446106473012754,
          3.1954171566934693,
          3.247756386401839,
          3.300455071324669,
          3.3526393570213164,
          3.40428668645968,
          3.455409952619319,
          3.5060430559708107,
          3.5511360574019393,
          3.5234646327204464,
          3.2931020509362297,
          3.248739540365954,
          3.266210254754528,
          3.308357520089796,
          3.3605955767026376,
          3.4136408555563014,
          3.431719661905039,
          3.4061157023647453,
          3.4313394464114855,
          3.4669955641756154,
          3.3100157312292207,
          2.275398569328912,
          1.8837946727607338,
          1.634172053277644,
          1.5355049429661434,
          1.526470578390182,
          1.549574769847209,
          1.5814153387620173,
          1.6192203331188226,
          1.6672472087178252,
          1.7200710308267768,
          1.7764335659050428,
          1.8351202387555658,
          1.8940137558405385,
          1.9147559982386122,
          1.5004682915752359,
          0.7515641955480049,
          0.6448334890846773,
          0.6279707277997654,
          0.6430228150627775,
          0.6722148310038786,
          0.7095178145128516,
          0.7522669028147289,
          0.7992311647410372,
          0.8496837644035458,
          0.903129789285573,
          0.9591743690887334,
          1.01746057680388,
          1.077642283458879,
          1.1393718206394594,
          1.2022941074357294,
          1.2660191759112318,
          1.311237852386581,
          1.1915820202974234,
          1.0290604584828569,
          1.0084773294674223,
          1.0309559704251794,
          1.0605823671735588,
          1.072598984586134,
          1.108063324396756,
          1.1531308737147248,
          1.2033821064456098,
          1.2556090846213475,
          1.30348270695655,
          1.3538113942788648,
          1.406919818938231,
          1.4609107097288625,
          1.5153488947831744,
          1.5698288963341185,
          1.6240246068887016,
          1.6776743653088582,
          1.73051614499818,
          1.782262014445622,
          1.8327536725767688,
          1.8818427251528824,
          1.9294163113591503,
          1.9754306824167165,
          2.0199035877499147,
          2.0628860541818357,
          2.1044471149072095,
          2.1446650451759224,
          2.1836277171562966,
          2.2214254529006516,
          2.258156928118767,
          2.29391081973159,
          2.3287598591733265,
          2.362786779115431,
          2.396066420971886,
          2.4286663160155713,
          2.4606483280794604,
          2.492069469870415,
          2.52298315542335,
          2.5534381752718036,
          2.583478946813322,
          2.6131462099353593,
          2.6424771308066153,
          2.6715060383747984,
          2.7002647586418282,
          2.728783416505434,
          2.7570952832507274,
          2.785227872016394,
          2.8132053138383117,
          2.8410497061101228,
          2.8687816002329725,
          2.8953600505061043,
          2.912816856679049,
          2.936402424952886,
          2.9627219520036783,
          2.990116673265136,
          3.0179225486917525,
          3.045870723166346,
          3.073840857309755,
          3.1016771463849535,
          3.129619115720383,
          3.1575942514952007,
          3.1856057403597036,
          3.2136638733725196,
          3.241779713252299,
          3.269964296119026,
          3.2982259864549204,
          3.326557212085069,
          3.3549925835226637,
          3.3835288955316605,
          3.412178762108911,
          3.4409480842762754,
          3.469849112806566,
          3.503299099817973,
          3.536853189509046,
          3.549583533308728,
          3.4944483387218512,
          3.5032955067722686,
          3.4677479511204594,
          3.474003592337066,
          3.5052939500940528,
          3.424978894958675,
          3.419963775624756,
          3.448029404943632,
          3.488343163901176,
          3.5332993100884744,
          3.580686561758506,
          3.6203982213610626,
          3.668936742012842,
          3.716917740954312,
          3.764231125427517,
          3.8107852339460777,
          3.8556429695371244,
          3.90104859166364,
          3.945938261470534,
          3.989892082133962,
          4.012081086075251,
          4.041672531748824,
          4.06797992166806,
          4.107204572847896,
          4.173766516619802,
          4.215207276536969,
          4.0999098972064205,
          4.093619640333872,
          4.116259522450347,
          4.067172084253794,
          3.726403465268353,
          3.691419508545843,
          3.010813246905931,
          2.698092152332244,
          2.6448485414010463,
          2.543602867244448,
          2.5457101860951363,
          2.6038099253872953,
          2.672105718604429,
          2.7544579859801748,
          2.770050380445888,
          2.76151249647068,
          2.822180231528039,
          2.9072729374575466,
          3.003213344727804,
          3.1040293722393724,
          3.2070499643176644,
          3.3039631862823415,
          3.2952496706641443,
          2.9846491935208115,
          2.7577491133037553,
          2.3834230515216737,
          2.3190508147015927,
          2.357315391520274,
          2.4360694203974513,
          2.530149680436652,
          2.6307870387229553,
          2.7326349103298693,
          2.8371338894651514,
          2.9418886965923834,
          3.0270501163749755,
          3.123878054497705,
          3.2245779294088788,
          3.3229438565414813,
          3.395486080924011,
          3.4569836683898543,
          3.532918565038682,
          3.5553504343907454,
          3.611851836432356,
          3.6929742291108703,
          3.782800248724401,
          3.7903229509393865,
          3.227724752856323,
          2.7896280906637183,
          2.7130417129446713,
          2.5959742901044813,
          2.5837154411579184,
          2.6362570751587575,
          2.668815629270655,
          2.620483854691918,
          2.663353029678455,
          2.7061158166040316,
          2.7683670394486746,
          2.780648544490797,
          2.6566584841548937,
          2.049249761691872,
          1.6997761948941832,
          1.6224325760756468,
          1.6422865031287668,
          1.6966622856492422,
          1.7593920308940607,
          1.8258364867609518,
          1.8862120894630336,
          1.9648183433052369,
          2.046882270557728,
          2.0837336329331886,
          2.134799184817874,
          2.1669557873484133,
          2.079594177303303,
          1.9582740928896203,
          1.882015762106218
         ],
         "yaxis": "y"
        }
       ],
       "layout": {
        "legend": {
         "title": {
          "text": "variable"
         },
         "tracegroupgap": 0
        },
        "margin": {
         "t": 60
        },
        "template": {
         "data": {
          "bar": [
           {
            "error_x": {
             "color": "#2a3f5f"
            },
            "error_y": {
             "color": "#2a3f5f"
            },
            "marker": {
             "line": {
              "color": "white",
              "width": 0.5
             },
             "pattern": {
              "fillmode": "overlay",
              "size": 10,
              "solidity": 0.2
             }
            },
            "type": "bar"
           }
          ],
          "barpolar": [
           {
            "marker": {
             "line": {
              "color": "white",
              "width": 0.5
             },
             "pattern": {
              "fillmode": "overlay",
              "size": 10,
              "solidity": 0.2
             }
            },
            "type": "barpolar"
           }
          ],
          "carpet": [
           {
            "aaxis": {
             "endlinecolor": "#2a3f5f",
             "gridcolor": "#C8D4E3",
             "linecolor": "#C8D4E3",
             "minorgridcolor": "#C8D4E3",
             "startlinecolor": "#2a3f5f"
            },
            "baxis": {
             "endlinecolor": "#2a3f5f",
             "gridcolor": "#C8D4E3",
             "linecolor": "#C8D4E3",
             "minorgridcolor": "#C8D4E3",
             "startlinecolor": "#2a3f5f"
            },
            "type": "carpet"
           }
          ],
          "choropleth": [
           {
            "colorbar": {
             "outlinewidth": 0,
             "ticks": ""
            },
            "type": "choropleth"
           }
          ],
          "contour": [
           {
            "colorbar": {
             "outlinewidth": 0,
             "ticks": ""
            },
            "colorscale": [
             [
              0,
              "#0d0887"
             ],
             [
              0.1111111111111111,
              "#46039f"
             ],
             [
              0.2222222222222222,
              "#7201a8"
             ],
             [
              0.3333333333333333,
              "#9c179e"
             ],
             [
              0.4444444444444444,
              "#bd3786"
             ],
             [
              0.5555555555555556,
              "#d8576b"
             ],
             [
              0.6666666666666666,
              "#ed7953"
             ],
             [
              0.7777777777777778,
              "#fb9f3a"
             ],
             [
              0.8888888888888888,
              "#fdca26"
             ],
             [
              1,
              "#f0f921"
             ]
            ],
            "type": "contour"
           }
          ],
          "contourcarpet": [
           {
            "colorbar": {
             "outlinewidth": 0,
             "ticks": ""
            },
            "type": "contourcarpet"
           }
          ],
          "heatmap": [
           {
            "colorbar": {
             "outlinewidth": 0,
             "ticks": ""
            },
            "colorscale": [
             [
              0,
              "#0d0887"
             ],
             [
              0.1111111111111111,
              "#46039f"
             ],
             [
              0.2222222222222222,
              "#7201a8"
             ],
             [
              0.3333333333333333,
              "#9c179e"
             ],
             [
              0.4444444444444444,
              "#bd3786"
             ],
             [
              0.5555555555555556,
              "#d8576b"
             ],
             [
              0.6666666666666666,
              "#ed7953"
             ],
             [
              0.7777777777777778,
              "#fb9f3a"
             ],
             [
              0.8888888888888888,
              "#fdca26"
             ],
             [
              1,
              "#f0f921"
             ]
            ],
            "type": "heatmap"
           }
          ],
          "heatmapgl": [
           {
            "colorbar": {
             "outlinewidth": 0,
             "ticks": ""
            },
            "colorscale": [
             [
              0,
              "#0d0887"
             ],
             [
              0.1111111111111111,
              "#46039f"
             ],
             [
              0.2222222222222222,
              "#7201a8"
             ],
             [
              0.3333333333333333,
              "#9c179e"
             ],
             [
              0.4444444444444444,
              "#bd3786"
             ],
             [
              0.5555555555555556,
              "#d8576b"
             ],
             [
              0.6666666666666666,
              "#ed7953"
             ],
             [
              0.7777777777777778,
              "#fb9f3a"
             ],
             [
              0.8888888888888888,
              "#fdca26"
             ],
             [
              1,
              "#f0f921"
             ]
            ],
            "type": "heatmapgl"
           }
          ],
          "histogram": [
           {
            "marker": {
             "pattern": {
              "fillmode": "overlay",
              "size": 10,
              "solidity": 0.2
             }
            },
            "type": "histogram"
           }
          ],
          "histogram2d": [
           {
            "colorbar": {
             "outlinewidth": 0,
             "ticks": ""
            },
            "colorscale": [
             [
              0,
              "#0d0887"
             ],
             [
              0.1111111111111111,
              "#46039f"
             ],
             [
              0.2222222222222222,
              "#7201a8"
             ],
             [
              0.3333333333333333,
              "#9c179e"
             ],
             [
              0.4444444444444444,
              "#bd3786"
             ],
             [
              0.5555555555555556,
              "#d8576b"
             ],
             [
              0.6666666666666666,
              "#ed7953"
             ],
             [
              0.7777777777777778,
              "#fb9f3a"
             ],
             [
              0.8888888888888888,
              "#fdca26"
             ],
             [
              1,
              "#f0f921"
             ]
            ],
            "type": "histogram2d"
           }
          ],
          "histogram2dcontour": [
           {
            "colorbar": {
             "outlinewidth": 0,
             "ticks": ""
            },
            "colorscale": [
             [
              0,
              "#0d0887"
             ],
             [
              0.1111111111111111,
              "#46039f"
             ],
             [
              0.2222222222222222,
              "#7201a8"
             ],
             [
              0.3333333333333333,
              "#9c179e"
             ],
             [
              0.4444444444444444,
              "#bd3786"
             ],
             [
              0.5555555555555556,
              "#d8576b"
             ],
             [
              0.6666666666666666,
              "#ed7953"
             ],
             [
              0.7777777777777778,
              "#fb9f3a"
             ],
             [
              0.8888888888888888,
              "#fdca26"
             ],
             [
              1,
              "#f0f921"
             ]
            ],
            "type": "histogram2dcontour"
           }
          ],
          "mesh3d": [
           {
            "colorbar": {
             "outlinewidth": 0,
             "ticks": ""
            },
            "type": "mesh3d"
           }
          ],
          "parcoords": [
           {
            "line": {
             "colorbar": {
              "outlinewidth": 0,
              "ticks": ""
             }
            },
            "type": "parcoords"
           }
          ],
          "pie": [
           {
            "automargin": true,
            "type": "pie"
           }
          ],
          "scatter": [
           {
            "marker": {
             "colorbar": {
              "outlinewidth": 0,
              "ticks": ""
             }
            },
            "type": "scatter"
           }
          ],
          "scatter3d": [
           {
            "line": {
             "colorbar": {
              "outlinewidth": 0,
              "ticks": ""
             }
            },
            "marker": {
             "colorbar": {
              "outlinewidth": 0,
              "ticks": ""
             }
            },
            "type": "scatter3d"
           }
          ],
          "scattercarpet": [
           {
            "marker": {
             "colorbar": {
              "outlinewidth": 0,
              "ticks": ""
             }
            },
            "type": "scattercarpet"
           }
          ],
          "scattergeo": [
           {
            "marker": {
             "colorbar": {
              "outlinewidth": 0,
              "ticks": ""
             }
            },
            "type": "scattergeo"
           }
          ],
          "scattergl": [
           {
            "marker": {
             "colorbar": {
              "outlinewidth": 0,
              "ticks": ""
             }
            },
            "type": "scattergl"
           }
          ],
          "scattermapbox": [
           {
            "marker": {
             "colorbar": {
              "outlinewidth": 0,
              "ticks": ""
             }
            },
            "type": "scattermapbox"
           }
          ],
          "scatterpolar": [
           {
            "marker": {
             "colorbar": {
              "outlinewidth": 0,
              "ticks": ""
             }
            },
            "type": "scatterpolar"
           }
          ],
          "scatterpolargl": [
           {
            "marker": {
             "colorbar": {
              "outlinewidth": 0,
              "ticks": ""
             }
            },
            "type": "scatterpolargl"
           }
          ],
          "scatterternary": [
           {
            "marker": {
             "colorbar": {
              "outlinewidth": 0,
              "ticks": ""
             }
            },
            "type": "scatterternary"
           }
          ],
          "surface": [
           {
            "colorbar": {
             "outlinewidth": 0,
             "ticks": ""
            },
            "colorscale": [
             [
              0,
              "#0d0887"
             ],
             [
              0.1111111111111111,
              "#46039f"
             ],
             [
              0.2222222222222222,
              "#7201a8"
             ],
             [
              0.3333333333333333,
              "#9c179e"
             ],
             [
              0.4444444444444444,
              "#bd3786"
             ],
             [
              0.5555555555555556,
              "#d8576b"
             ],
             [
              0.6666666666666666,
              "#ed7953"
             ],
             [
              0.7777777777777778,
              "#fb9f3a"
             ],
             [
              0.8888888888888888,
              "#fdca26"
             ],
             [
              1,
              "#f0f921"
             ]
            ],
            "type": "surface"
           }
          ],
          "table": [
           {
            "cells": {
             "fill": {
              "color": "#EBF0F8"
             },
             "line": {
              "color": "white"
             }
            },
            "header": {
             "fill": {
              "color": "#C8D4E3"
             },
             "line": {
              "color": "white"
             }
            },
            "type": "table"
           }
          ]
         },
         "layout": {
          "annotationdefaults": {
           "arrowcolor": "#2a3f5f",
           "arrowhead": 0,
           "arrowwidth": 1
          },
          "autotypenumbers": "strict",
          "coloraxis": {
           "colorbar": {
            "outlinewidth": 0,
            "ticks": ""
           }
          },
          "colorscale": {
           "diverging": [
            [
             0,
             "#8e0152"
            ],
            [
             0.1,
             "#c51b7d"
            ],
            [
             0.2,
             "#de77ae"
            ],
            [
             0.3,
             "#f1b6da"
            ],
            [
             0.4,
             "#fde0ef"
            ],
            [
             0.5,
             "#f7f7f7"
            ],
            [
             0.6,
             "#e6f5d0"
            ],
            [
             0.7,
             "#b8e186"
            ],
            [
             0.8,
             "#7fbc41"
            ],
            [
             0.9,
             "#4d9221"
            ],
            [
             1,
             "#276419"
            ]
           ],
           "sequential": [
            [
             0,
             "#0d0887"
            ],
            [
             0.1111111111111111,
             "#46039f"
            ],
            [
             0.2222222222222222,
             "#7201a8"
            ],
            [
             0.3333333333333333,
             "#9c179e"
            ],
            [
             0.4444444444444444,
             "#bd3786"
            ],
            [
             0.5555555555555556,
             "#d8576b"
            ],
            [
             0.6666666666666666,
             "#ed7953"
            ],
            [
             0.7777777777777778,
             "#fb9f3a"
            ],
            [
             0.8888888888888888,
             "#fdca26"
            ],
            [
             1,
             "#f0f921"
            ]
           ],
           "sequentialminus": [
            [
             0,
             "#0d0887"
            ],
            [
             0.1111111111111111,
             "#46039f"
            ],
            [
             0.2222222222222222,
             "#7201a8"
            ],
            [
             0.3333333333333333,
             "#9c179e"
            ],
            [
             0.4444444444444444,
             "#bd3786"
            ],
            [
             0.5555555555555556,
             "#d8576b"
            ],
            [
             0.6666666666666666,
             "#ed7953"
            ],
            [
             0.7777777777777778,
             "#fb9f3a"
            ],
            [
             0.8888888888888888,
             "#fdca26"
            ],
            [
             1,
             "#f0f921"
            ]
           ]
          },
          "colorway": [
           "#636efa",
           "#EF553B",
           "#00cc96",
           "#ab63fa",
           "#FFA15A",
           "#19d3f3",
           "#FF6692",
           "#B6E880",
           "#FF97FF",
           "#FECB52"
          ],
          "font": {
           "color": "#2a3f5f"
          },
          "geo": {
           "bgcolor": "white",
           "lakecolor": "white",
           "landcolor": "white",
           "showlakes": true,
           "showland": true,
           "subunitcolor": "#C8D4E3"
          },
          "hoverlabel": {
           "align": "left"
          },
          "hovermode": "closest",
          "mapbox": {
           "style": "light"
          },
          "paper_bgcolor": "white",
          "plot_bgcolor": "white",
          "polar": {
           "angularaxis": {
            "gridcolor": "#EBF0F8",
            "linecolor": "#EBF0F8",
            "ticks": ""
           },
           "bgcolor": "white",
           "radialaxis": {
            "gridcolor": "#EBF0F8",
            "linecolor": "#EBF0F8",
            "ticks": ""
           }
          },
          "scene": {
           "xaxis": {
            "backgroundcolor": "white",
            "gridcolor": "#DFE8F3",
            "gridwidth": 2,
            "linecolor": "#EBF0F8",
            "showbackground": true,
            "ticks": "",
            "zerolinecolor": "#EBF0F8"
           },
           "yaxis": {
            "backgroundcolor": "white",
            "gridcolor": "#DFE8F3",
            "gridwidth": 2,
            "linecolor": "#EBF0F8",
            "showbackground": true,
            "ticks": "",
            "zerolinecolor": "#EBF0F8"
           },
           "zaxis": {
            "backgroundcolor": "white",
            "gridcolor": "#DFE8F3",
            "gridwidth": 2,
            "linecolor": "#EBF0F8",
            "showbackground": true,
            "ticks": "",
            "zerolinecolor": "#EBF0F8"
           }
          },
          "shapedefaults": {
           "line": {
            "color": "#2a3f5f"
           }
          },
          "ternary": {
           "aaxis": {
            "gridcolor": "#DFE8F3",
            "linecolor": "#A2B1C6",
            "ticks": ""
           },
           "baxis": {
            "gridcolor": "#DFE8F3",
            "linecolor": "#A2B1C6",
            "ticks": ""
           },
           "bgcolor": "white",
           "caxis": {
            "gridcolor": "#DFE8F3",
            "linecolor": "#A2B1C6",
            "ticks": ""
           }
          },
          "title": {
           "x": 0.05
          },
          "xaxis": {
           "automargin": true,
           "gridcolor": "#EBF0F8",
           "linecolor": "#EBF0F8",
           "ticks": "",
           "title": {
            "standoff": 15
           },
           "zerolinecolor": "#EBF0F8",
           "zerolinewidth": 2
          },
          "yaxis": {
           "automargin": true,
           "gridcolor": "#EBF0F8",
           "linecolor": "#EBF0F8",
           "ticks": "",
           "title": {
            "standoff": 15
           },
           "zerolinecolor": "#EBF0F8",
           "zerolinewidth": 2
          }
         }
        },
        "xaxis": {
         "anchor": "y",
         "domain": [
          0,
          1
         ],
         "title": {
          "text": "index"
         }
        },
        "yaxis": {
         "anchor": "x",
         "domain": [
          0,
          1
         ],
         "title": {
          "text": "value"
         }
        }
       }
      }
     },
     "metadata": {},
     "output_type": "display_data"
    }
   ],
   "source": [
    "total_reservatorio_decaido[365:].plot()"
   ]
  },
  {
   "cell_type": "code",
   "execution_count": 90,
   "metadata": {},
   "outputs": [],
   "source": [
    "from mogestpy.quality import zero_d\n",
    "from mogestpy.quantity.Hydrological import MassBalance"
   ]
  },
  {
   "cell_type": "code",
   "execution_count": 91,
   "metadata": {},
   "outputs": [],
   "source": [
    "df_res = pd.read_excel('0d.xlsx', index_col=0)"
   ]
  },
  {
   "cell_type": "code",
   "execution_count": 92,
   "metadata": {},
   "outputs": [],
   "source": [
    "df_res['Qinsim'] = (df_Q['Principal'].values + df_Q[86496].values + df_Q[86494].values + df_Q[86493].values + df_Q[86492].values)"
   ]
  },
  {
   "cell_type": "code",
   "execution_count": 93,
   "metadata": {},
   "outputs": [],
   "source": [
    "df_res['Cin'] = total_reservatorio_decaido.values"
   ]
  },
  {
   "cell_type": "code",
   "execution_count": 94,
   "metadata": {},
   "outputs": [],
   "source": [
    "y1 = df_res['Qindado'].values\n",
    "y2 = df_res['Qinsim'].values"
   ]
  },
  {
   "cell_type": "code",
   "execution_count": 95,
   "metadata": {},
   "outputs": [
    {
     "data": {
      "application/vnd.plotly.v1+json": {
       "config": {
        "plotlyServerURL": "https://plot.ly"
       },
       "data": [
        {
         "name": "Qindado",
         "type": "scatter",
         "x": [
          "2012-01-01T00:00:00",
          "2012-01-02T00:00:00",
          "2012-01-03T00:00:00",
          "2012-01-04T00:00:00",
          "2012-01-05T00:00:00",
          "2012-01-06T00:00:00",
          "2012-01-07T00:00:00",
          "2012-01-08T00:00:00",
          "2012-01-09T00:00:00",
          "2012-01-10T00:00:00",
          "2012-01-11T00:00:00",
          "2012-01-12T00:00:00",
          "2012-01-13T00:00:00",
          "2012-01-14T00:00:00",
          "2012-01-15T00:00:00",
          "2012-01-16T00:00:00",
          "2012-01-17T00:00:00",
          "2012-01-18T00:00:00",
          "2012-01-19T00:00:00",
          "2012-01-20T00:00:00",
          "2012-01-21T00:00:00",
          "2012-01-22T00:00:00",
          "2012-01-23T00:00:00",
          "2012-01-24T00:00:00",
          "2012-01-25T00:00:00",
          "2012-01-26T00:00:00",
          "2012-01-27T00:00:00",
          "2012-01-28T00:00:00",
          "2012-01-29T00:00:00",
          "2012-01-30T00:00:00",
          "2012-01-31T00:00:00",
          "2012-02-01T00:00:00",
          "2012-02-02T00:00:00",
          "2012-02-03T00:00:00",
          "2012-02-04T00:00:00",
          "2012-02-05T00:00:00",
          "2012-02-06T00:00:00",
          "2012-02-07T00:00:00",
          "2012-02-08T00:00:00",
          "2012-02-09T00:00:00",
          "2012-02-10T00:00:00",
          "2012-02-11T00:00:00",
          "2012-02-12T00:00:00",
          "2012-02-13T00:00:00",
          "2012-02-14T00:00:00",
          "2012-02-15T00:00:00",
          "2012-02-16T00:00:00",
          "2012-02-17T00:00:00",
          "2012-02-18T00:00:00",
          "2012-02-19T00:00:00",
          "2012-02-20T00:00:00",
          "2012-02-21T00:00:00",
          "2012-02-22T00:00:00",
          "2012-02-23T00:00:00",
          "2012-02-24T00:00:00",
          "2012-02-25T00:00:00",
          "2012-02-26T00:00:00",
          "2012-02-27T00:00:00",
          "2012-02-28T00:00:00",
          "2012-02-29T00:00:00",
          "2012-03-01T00:00:00",
          "2012-03-02T00:00:00",
          "2012-03-03T00:00:00",
          "2012-03-04T00:00:00",
          "2012-03-05T00:00:00",
          "2012-03-06T00:00:00",
          "2012-03-07T00:00:00",
          "2012-03-08T00:00:00",
          "2012-03-09T00:00:00",
          "2012-03-10T00:00:00",
          "2012-03-11T00:00:00",
          "2012-03-12T00:00:00",
          "2012-03-13T00:00:00",
          "2012-03-14T00:00:00",
          "2012-03-15T00:00:00",
          "2012-03-16T00:00:00",
          "2012-03-17T00:00:00",
          "2012-03-18T00:00:00",
          "2012-03-19T00:00:00",
          "2012-03-20T00:00:00",
          "2012-03-21T00:00:00",
          "2012-03-22T00:00:00",
          "2012-03-23T00:00:00",
          "2012-03-24T00:00:00",
          "2012-03-25T00:00:00",
          "2012-03-26T00:00:00",
          "2012-03-27T00:00:00",
          "2012-03-28T00:00:00",
          "2012-03-29T00:00:00",
          "2012-03-30T00:00:00",
          "2012-03-31T00:00:00",
          "2012-04-01T00:00:00",
          "2012-04-02T00:00:00",
          "2012-04-03T00:00:00",
          "2012-04-04T00:00:00",
          "2012-04-05T00:00:00",
          "2012-04-06T00:00:00",
          "2012-04-07T00:00:00",
          "2012-04-08T00:00:00",
          "2012-04-09T00:00:00",
          "2012-04-10T00:00:00",
          "2012-04-11T00:00:00",
          "2012-04-12T00:00:00",
          "2012-04-13T00:00:00",
          "2012-04-14T00:00:00",
          "2012-04-15T00:00:00",
          "2012-04-16T00:00:00",
          "2012-04-17T00:00:00",
          "2012-04-18T00:00:00",
          "2012-04-19T00:00:00",
          "2012-04-20T00:00:00",
          "2012-04-21T00:00:00",
          "2012-04-22T00:00:00",
          "2012-04-23T00:00:00",
          "2012-04-24T00:00:00",
          "2012-04-25T00:00:00",
          "2012-04-26T00:00:00",
          "2012-04-27T00:00:00",
          "2012-04-28T00:00:00",
          "2012-04-29T00:00:00",
          "2012-04-30T00:00:00",
          "2012-05-01T00:00:00",
          "2012-05-02T00:00:00",
          "2012-05-03T00:00:00",
          "2012-05-04T00:00:00",
          "2012-05-05T00:00:00",
          "2012-05-06T00:00:00",
          "2012-05-07T00:00:00",
          "2012-05-08T00:00:00",
          "2012-05-09T00:00:00",
          "2012-05-10T00:00:00",
          "2012-05-11T00:00:00",
          "2012-05-12T00:00:00",
          "2012-05-13T00:00:00",
          "2012-05-14T00:00:00",
          "2012-05-15T00:00:00",
          "2012-05-16T00:00:00",
          "2012-05-17T00:00:00",
          "2012-05-18T00:00:00",
          "2012-05-19T00:00:00",
          "2012-05-20T00:00:00",
          "2012-05-21T00:00:00",
          "2012-05-22T00:00:00",
          "2012-05-23T00:00:00",
          "2012-05-24T00:00:00",
          "2012-05-25T00:00:00",
          "2012-05-26T00:00:00",
          "2012-05-27T00:00:00",
          "2012-05-28T00:00:00",
          "2012-05-29T00:00:00",
          "2012-05-30T00:00:00",
          "2012-05-31T00:00:00",
          "2012-06-01T00:00:00",
          "2012-06-02T00:00:00",
          "2012-06-03T00:00:00",
          "2012-06-04T00:00:00",
          "2012-06-05T00:00:00",
          "2012-06-06T00:00:00",
          "2012-06-07T00:00:00",
          "2012-06-08T00:00:00",
          "2012-06-09T00:00:00",
          "2012-06-10T00:00:00",
          "2012-06-11T00:00:00",
          "2012-06-12T00:00:00",
          "2012-06-13T00:00:00",
          "2012-06-14T00:00:00",
          "2012-06-15T00:00:00",
          "2012-06-16T00:00:00",
          "2012-06-17T00:00:00",
          "2012-06-18T00:00:00",
          "2012-06-19T00:00:00",
          "2012-06-20T00:00:00",
          "2012-06-21T00:00:00",
          "2012-06-22T00:00:00",
          "2012-06-23T00:00:00",
          "2012-06-24T00:00:00",
          "2012-06-25T00:00:00",
          "2012-06-26T00:00:00",
          "2012-06-27T00:00:00",
          "2012-06-28T00:00:00",
          "2012-06-29T00:00:00",
          "2012-06-30T00:00:00",
          "2012-07-01T00:00:00",
          "2012-07-02T00:00:00",
          "2012-07-03T00:00:00",
          "2012-07-04T00:00:00",
          "2012-07-05T00:00:00",
          "2012-07-06T00:00:00",
          "2012-07-07T00:00:00",
          "2012-07-08T00:00:00",
          "2012-07-09T00:00:00",
          "2012-07-10T00:00:00",
          "2012-07-11T00:00:00",
          "2012-07-12T00:00:00",
          "2012-07-13T00:00:00",
          "2012-07-14T00:00:00",
          "2012-07-15T00:00:00",
          "2012-07-16T00:00:00",
          "2012-07-17T00:00:00",
          "2012-07-18T00:00:00",
          "2012-07-19T00:00:00",
          "2012-07-20T00:00:00",
          "2012-07-21T00:00:00",
          "2012-07-22T00:00:00",
          "2012-07-23T00:00:00",
          "2012-07-24T00:00:00",
          "2012-07-25T00:00:00",
          "2012-07-26T00:00:00",
          "2012-07-27T00:00:00",
          "2012-07-28T00:00:00",
          "2012-07-29T00:00:00",
          "2012-07-30T00:00:00",
          "2012-07-31T00:00:00",
          "2012-08-01T00:00:00",
          "2012-08-02T00:00:00",
          "2012-08-03T00:00:00",
          "2012-08-04T00:00:00",
          "2012-08-05T00:00:00",
          "2012-08-06T00:00:00",
          "2012-08-07T00:00:00",
          "2012-08-08T00:00:00",
          "2012-08-09T00:00:00",
          "2012-08-10T00:00:00",
          "2012-08-11T00:00:00",
          "2012-08-12T00:00:00",
          "2012-08-13T00:00:00",
          "2012-08-14T00:00:00",
          "2012-08-15T00:00:00",
          "2012-08-16T00:00:00",
          "2012-08-17T00:00:00",
          "2012-08-18T00:00:00",
          "2012-08-19T00:00:00",
          "2012-08-20T00:00:00",
          "2012-08-21T00:00:00",
          "2012-08-22T00:00:00",
          "2012-08-23T00:00:00",
          "2012-08-24T00:00:00",
          "2012-08-25T00:00:00",
          "2012-08-26T00:00:00",
          "2012-08-27T00:00:00",
          "2012-08-28T00:00:00",
          "2012-08-29T00:00:00",
          "2012-08-30T00:00:00",
          "2012-08-31T00:00:00",
          "2012-09-01T00:00:00",
          "2012-09-02T00:00:00",
          "2012-09-03T00:00:00",
          "2012-09-04T00:00:00",
          "2012-09-05T00:00:00",
          "2012-09-06T00:00:00",
          "2012-09-07T00:00:00",
          "2012-09-08T00:00:00",
          "2012-09-09T00:00:00",
          "2012-09-10T00:00:00",
          "2012-09-11T00:00:00",
          "2012-09-12T00:00:00",
          "2012-09-13T00:00:00",
          "2012-09-14T00:00:00",
          "2012-09-15T00:00:00",
          "2012-09-16T00:00:00",
          "2012-09-17T00:00:00",
          "2012-09-18T00:00:00",
          "2012-09-19T00:00:00",
          "2012-09-20T00:00:00",
          "2012-09-21T00:00:00",
          "2012-09-22T00:00:00",
          "2012-09-23T00:00:00",
          "2012-09-24T00:00:00",
          "2012-09-25T00:00:00",
          "2012-09-26T00:00:00",
          "2012-09-27T00:00:00",
          "2012-09-28T00:00:00",
          "2012-09-29T00:00:00",
          "2012-09-30T00:00:00",
          "2012-10-01T00:00:00",
          "2012-10-02T00:00:00",
          "2012-10-03T00:00:00",
          "2012-10-04T00:00:00",
          "2012-10-05T00:00:00",
          "2012-10-06T00:00:00",
          "2012-10-07T00:00:00",
          "2012-10-08T00:00:00",
          "2012-10-09T00:00:00",
          "2012-10-10T00:00:00",
          "2012-10-11T00:00:00",
          "2012-10-12T00:00:00",
          "2012-10-13T00:00:00",
          "2012-10-14T00:00:00",
          "2012-10-15T00:00:00",
          "2012-10-16T00:00:00",
          "2012-10-17T00:00:00",
          "2012-10-18T00:00:00",
          "2012-10-19T00:00:00",
          "2012-10-20T00:00:00",
          "2012-10-21T00:00:00",
          "2012-10-22T00:00:00",
          "2012-10-23T00:00:00",
          "2012-10-24T00:00:00",
          "2012-10-25T00:00:00",
          "2012-10-26T00:00:00",
          "2012-10-27T00:00:00",
          "2012-10-28T00:00:00",
          "2012-10-29T00:00:00",
          "2012-10-30T00:00:00",
          "2012-10-31T00:00:00",
          "2012-11-01T00:00:00",
          "2012-11-02T00:00:00",
          "2012-11-03T00:00:00",
          "2012-11-04T00:00:00",
          "2012-11-05T00:00:00",
          "2012-11-06T00:00:00",
          "2012-11-07T00:00:00",
          "2012-11-08T00:00:00",
          "2012-11-09T00:00:00",
          "2012-11-10T00:00:00",
          "2012-11-11T00:00:00",
          "2012-11-12T00:00:00",
          "2012-11-13T00:00:00",
          "2012-11-14T00:00:00",
          "2012-11-15T00:00:00",
          "2012-11-16T00:00:00",
          "2012-11-17T00:00:00",
          "2012-11-18T00:00:00",
          "2012-11-19T00:00:00",
          "2012-11-20T00:00:00",
          "2012-11-21T00:00:00",
          "2012-11-22T00:00:00",
          "2012-11-23T00:00:00",
          "2012-11-24T00:00:00",
          "2012-11-25T00:00:00",
          "2012-11-26T00:00:00",
          "2012-11-27T00:00:00",
          "2012-11-28T00:00:00",
          "2012-11-29T00:00:00",
          "2012-11-30T00:00:00",
          "2012-12-01T00:00:00",
          "2012-12-02T00:00:00",
          "2012-12-03T00:00:00",
          "2012-12-04T00:00:00",
          "2012-12-05T00:00:00",
          "2012-12-06T00:00:00",
          "2012-12-07T00:00:00",
          "2012-12-08T00:00:00",
          "2012-12-09T00:00:00",
          "2012-12-10T00:00:00",
          "2012-12-11T00:00:00",
          "2012-12-12T00:00:00",
          "2012-12-13T00:00:00",
          "2012-12-14T00:00:00",
          "2012-12-15T00:00:00",
          "2012-12-16T00:00:00",
          "2012-12-17T00:00:00",
          "2012-12-18T00:00:00",
          "2012-12-19T00:00:00",
          "2012-12-20T00:00:00",
          "2012-12-21T00:00:00",
          "2012-12-22T00:00:00",
          "2012-12-23T00:00:00",
          "2012-12-24T00:00:00",
          "2012-12-25T00:00:00",
          "2012-12-26T00:00:00",
          "2012-12-27T00:00:00",
          "2012-12-28T00:00:00",
          "2012-12-29T00:00:00",
          "2012-12-30T00:00:00"
         ],
         "y": [
          321.25,
          276.15,
          230,
          231,
          221.97,
          284.2,
          320.39,
          392.89,
          429.4,
          456.03,
          465.59,
          493.47,
          502.24,
          539.33,
          557.18,
          577.43,
          614.57,
          615.89,
          623.62,
          610.65,
          600.92,
          620.29,
          619.97,
          572.5,
          525.74,
          506.13,
          477.96,
          457.69,
          438.83,
          437.91,
          456.99,
          484.64,
          494.34,
          513.62,
          475.65,
          456.68,
          465.36,
          439.75,
          439.83,
          439.91,
          439.99,
          420.85,
          411.28,
          401.7,
          410.35,
          429.65,
          468.27,
          492.37,
          496.57,
          477.41,
          476.56,
          437.93,
          389.49,
          389.51,
          370.12,
          384.54,
          379.85,
          379.86,
          378.87,
          340,
          310.85,
          286.39,
          300.01,
          300.19,
          300.36,
          297.54,
          306.72,
          306.9,
          307.08,
          552.09,
          799.49,
          703.45,
          648.26,
          592.52,
          532.01,
          462.18,
          402.15,
          343.03,
          302.93,
          301.93,
          291.93,
          300.95,
          300.96,
          280.95,
          260.96,
          252,
          281.03,
          251.09,
          261.12,
          246.11,
          229.13,
          236.8,
          220.88,
          243.89,
          213.96,
          290.99,
          314.16,
          264.21,
          213.13,
          214.15,
          214.17,
          270.41,
          316.77,
          313.95,
          263.74,
          233.57,
          212,
          189.51,
          184.92,
          174.85,
          164.77,
          164.78,
          154.72,
          154.73,
          184.94,
          174.87,
          164.82,
          164.82,
          164.83,
          164.84,
          164.85,
          164.85,
          154.82,
          154.83,
          154.84,
          144.82,
          144.84,
          144.86,
          134.86,
          135.89,
          134.92,
          135.95,
          135.98,
          136.01,
          126.05,
          126.09,
          126.13,
          121.28,
          126.19,
          142.22,
          137.25,
          143.23,
          147.25,
          97.56,
          147.31,
          97.69,
          147.37,
          97.81,
          147.43,
          97.93,
          147.49,
          98.05,
          99.13,
          99.21,
          148.63,
          99.33,
          148.69,
          148.71,
          148.73,
          198,
          198,
          247.27,
          193,
          198,
          148.73,
          148.75,
          148.77,
          148.79,
          148.81,
          149.83,
          149.85,
          149.87,
          100.81,
          149.93,
          100.93,
          149.99,
          101.05,
          150.05,
          150.07,
          150.09,
          150.11,
          150.13,
          150.15,
          150.17,
          150.19,
          199,
          150.21,
          147.23,
          147.25,
          148.27,
          99.6,
          99.68,
          148.37,
          99.8,
          99.88,
          99.96,
          100.04,
          100.11,
          100.19,
          100.27,
          95.35,
          130.7,
          102.47,
          148.76,
          93.58,
          150.82,
          101.7,
          149.88,
          135.9,
          101.86,
          102.93,
          151,
          103.05,
          198,
          198,
          245.96,
          245.98,
          246,
          198,
          102.01,
          150.04,
          102.13,
          103.21,
          80.28,
          126.17,
          175,
          126.19,
          126.21,
          126.23,
          78.52,
          127.29,
          127.31,
          79.67,
          127.36,
          127.38,
          127.4,
          162,
          114.42,
          162,
          115.44,
          118.46,
          115.48,
          124.5,
          115.52,
          115.54,
          163,
          163,
          114.56,
          162,
          115.58,
          88.21,
          115.63,
          115.65,
          68.36,
          115.71,
          68.48,
          115.77,
          68.59,
          68.67,
          69.74,
          118.9,
          69.86,
          109.93,
          71.1,
          97.4,
          92.7,
          73.72,
          27.89,
          96.46,
          72.76,
          87.06,
          111.74,
          105.91,
          73.36,
          73.44,
          112.3,
          75.32,
          69.62,
          74.92,
          90.21,
          146.1,
          258.82,
          160.18,
          161.25,
          121.16,
          483.41,
          765.33,
          949.07,
          772.93,
          701.09,
          666.88,
          611.31,
          461.32,
          376.61,
          310.45,
          263.06,
          262.14,
          262.21,
          309.96,
          262.41,
          262.48,
          310.37,
          262.68,
          213.87,
          257.79,
          213.93,
          213.95,
          213.96,
          213.98,
          214,
          166,
          166,
          166,
          118,
          166,
          166,
          166,
          214,
          406.31,
          310.42,
          261.38,
          213.22,
          225.24,
          178,
          215,
          188.76,
          193.41,
          194.58,
          194.76,
          195.93,
          197.11,
          149.41,
          196.51,
          196.69,
          197.86,
          151.42,
          152.73,
          153.03,
          154.34,
          107.36,
          156.03,
          297.81,
          346,
          334.64,
          235.25,
          234.27,
          234.29,
          186,
          187,
          187,
          187,
          139.71,
          139.73,
          139.75,
          93.55,
          93.63,
          92.71,
          93.78,
          93.86,
          93.93,
          94.01,
          141.03,
          189,
          159.83,
          141.07,
          150.47,
          178.62,
          205,
          209,
          188,
          164.11,
          169.25,
          150.51,
          169.26,
          188,
          197.37,
          197.37,
          197.37,
          206.75,
          216.12,
          234.89,
          374.75,
          423.12,
          517.96,
          518.9,
          519.84,
          472.18,
          471.87,
          520.4,
          568.33,
          568.57,
          569.82,
          521.62,
          474.01,
          426.05,
          376.8,
          279.52,
          270.83,
          240.59,
          200,
          180.47,
          170.7,
          151.19,
          151.21,
          170.74,
          180.49,
          200,
          248.77,
          401.6,
          497.54,
          546.67,
          496.96,
          448.07,
          350,
          350,
          244.93,
          241.01,
          241.09,
          339,
          339,
          339,
          319.43,
          307.64,
          334,
          385.93,
          371.16,
          368.38,
          338,
          318.41,
          240.13,
          182.57,
          161.33,
          182.9,
          164.62,
          145.44,
          167.88,
          183.41,
          193.13,
          183.42,
          183.43,
          183.43,
          192.15,
          193.15,
          211.61,
          211.63,
          211.65,
          182.47,
          192.2,
          163,
          163,
          163,
          163,
          163,
          163,
          143.53,
          133.8,
          133.81,
          124.09,
          133.82,
          141.56,
          129.83,
          111.41,
          133.86,
          134.86,
          124.16,
          133.88,
          124.18,
          134.89,
          127.51,
          141.61,
          151.31,
          144.61,
          141.62,
          140.34,
          134.99,
          126.69,
          117.45,
          128.47,
          148.03,
          148.34,
          168.77,
          160.47,
          171.28,
          190.57,
          239.32,
          238.41,
          257.5,
          286.03,
          305.04,
          306.05,
          289.89,
          248.49,
          228.51,
          221.6,
          240.69,
          335.52,
          364.95,
          203.9,
          186.16,
          176.94,
          159.34,
          131.41,
          140.2,
          142.57,
          133.58,
          144.32,
          135.36,
          117.15,
          118.62,
          119.08,
          119.55,
          101.56,
          103.1,
          112.83,
          105.16,
          94.61,
          86.52,
          86.06,
          109.76,
          113.89,
          125.46,
          173.04,
          275,
          294.22,
          336.88,
          428.36,
          428.02,
          404.26,
          333.6,
          314.83,
          361.71,
          303.88,
          245.82,
          245.89,
          239.62,
          330.36,
          554.34,
          737.37,
          858.71,
          972.26,
          1028.05,
          1051.45,
          1032.83,
          749.04,
          596.98,
          519.99,
          474.95,
          432.54,
          388.89,
          400.96,
          352.51,
          303,
          266.49,
          238.42,
          247.16,
          266.57,
          372.43,
          432.93,
          433,
          433.08,
          365.14,
          355.43,
          384.59,
          384.61,
          336,
          336,
          336,
          323.63,
          287.37,
          267.95,
          258.27,
          238.92,
          239,
          239.07,
          230.47,
          220.9,
          211.35,
          201.83,
          200.55,
          202.62,
          227.84,
          235.12,
          229.78,
          238.1,
          223.86,
          204.64,
          181.83,
          173.31,
          178,
          162.81,
          172.09,
          175.17,
          178.25,
          178.32,
          178.4,
          164.2,
          165.46,
          146,
          145.09,
          152.29,
          156.42,
          145.61,
          153.22,
          139.57,
          128.96,
          134.13,
          141.3,
          148.47,
          149.64,
          137.82,
          133.38,
          135.64,
          138.21,
          134.55,
          135.85,
          136.15,
          137.46,
          137.76,
          138.06,
          139.36,
          139.65,
          139.95,
          141.25,
          114.91,
          106.1,
          116.7,
          126.26,
          118.47,
          118.86,
          128.35,
          147.9,
          148.2,
          148.49,
          140.73,
          132.01,
          142.38,
          160.72,
          170.97,
          173.1,
          146.22,
          134.38,
          122.6,
          131.73,
          128.9,
          113.85,
          115.29,
          107.82,
          106.77,
          108.66,
          95.07,
          95.92,
          101.56,
          128.13,
          146.68,
          190.87,
          193.88,
          158.71,
          132.82,
          126.45,
          119.13,
          128.34,
          147.22,
          156.29,
          192.4,
          244.72,
          263.18,
          263.25,
          220,
          194.8,
          185.87,
          163.68,
          149.56,
          156.85,
          145.87,
          139.79,
          146.54,
          149.28,
          146.97,
          144.12,
          147.28,
          166,
          171.36,
          174.88,
          182.51,
          167,
          140.89,
          118.33,
          117.35,
          99.07,
          96.3,
          108.09,
          114.36,
          105.62,
          103.89,
          87.54,
          73.58,
          80.19,
          96.88,
          108.15,
          122.91,
          129.5,
          120.14,
          132.53,
          144.03,
          150.5,
          169.94,
          179.36,
          164,
          163,
          148.48,
          144.99,
          152.76,
          171.75,
          221.55,
          248.91,
          286.49,
          299.53,
          255,
          347.11,
          306.58,
          221.42,
          200.26,
          179.63,
          170.32,
          186.96,
          202.77,
          184.05,
          167.44,
          179.63,
          203.57,
          228.54
         ]
        },
        {
         "name": "Qinsim",
         "type": "scatter",
         "x": [
          "2012-01-01T00:00:00",
          "2012-01-02T00:00:00",
          "2012-01-03T00:00:00",
          "2012-01-04T00:00:00",
          "2012-01-05T00:00:00",
          "2012-01-06T00:00:00",
          "2012-01-07T00:00:00",
          "2012-01-08T00:00:00",
          "2012-01-09T00:00:00",
          "2012-01-10T00:00:00",
          "2012-01-11T00:00:00",
          "2012-01-12T00:00:00",
          "2012-01-13T00:00:00",
          "2012-01-14T00:00:00",
          "2012-01-15T00:00:00",
          "2012-01-16T00:00:00",
          "2012-01-17T00:00:00",
          "2012-01-18T00:00:00",
          "2012-01-19T00:00:00",
          "2012-01-20T00:00:00",
          "2012-01-21T00:00:00",
          "2012-01-22T00:00:00",
          "2012-01-23T00:00:00",
          "2012-01-24T00:00:00",
          "2012-01-25T00:00:00",
          "2012-01-26T00:00:00",
          "2012-01-27T00:00:00",
          "2012-01-28T00:00:00",
          "2012-01-29T00:00:00",
          "2012-01-30T00:00:00",
          "2012-01-31T00:00:00",
          "2012-02-01T00:00:00",
          "2012-02-02T00:00:00",
          "2012-02-03T00:00:00",
          "2012-02-04T00:00:00",
          "2012-02-05T00:00:00",
          "2012-02-06T00:00:00",
          "2012-02-07T00:00:00",
          "2012-02-08T00:00:00",
          "2012-02-09T00:00:00",
          "2012-02-10T00:00:00",
          "2012-02-11T00:00:00",
          "2012-02-12T00:00:00",
          "2012-02-13T00:00:00",
          "2012-02-14T00:00:00",
          "2012-02-15T00:00:00",
          "2012-02-16T00:00:00",
          "2012-02-17T00:00:00",
          "2012-02-18T00:00:00",
          "2012-02-19T00:00:00",
          "2012-02-20T00:00:00",
          "2012-02-21T00:00:00",
          "2012-02-22T00:00:00",
          "2012-02-23T00:00:00",
          "2012-02-24T00:00:00",
          "2012-02-25T00:00:00",
          "2012-02-26T00:00:00",
          "2012-02-27T00:00:00",
          "2012-02-28T00:00:00",
          "2012-02-29T00:00:00",
          "2012-03-01T00:00:00",
          "2012-03-02T00:00:00",
          "2012-03-03T00:00:00",
          "2012-03-04T00:00:00",
          "2012-03-05T00:00:00",
          "2012-03-06T00:00:00",
          "2012-03-07T00:00:00",
          "2012-03-08T00:00:00",
          "2012-03-09T00:00:00",
          "2012-03-10T00:00:00",
          "2012-03-11T00:00:00",
          "2012-03-12T00:00:00",
          "2012-03-13T00:00:00",
          "2012-03-14T00:00:00",
          "2012-03-15T00:00:00",
          "2012-03-16T00:00:00",
          "2012-03-17T00:00:00",
          "2012-03-18T00:00:00",
          "2012-03-19T00:00:00",
          "2012-03-20T00:00:00",
          "2012-03-21T00:00:00",
          "2012-03-22T00:00:00",
          "2012-03-23T00:00:00",
          "2012-03-24T00:00:00",
          "2012-03-25T00:00:00",
          "2012-03-26T00:00:00",
          "2012-03-27T00:00:00",
          "2012-03-28T00:00:00",
          "2012-03-29T00:00:00",
          "2012-03-30T00:00:00",
          "2012-03-31T00:00:00",
          "2012-04-01T00:00:00",
          "2012-04-02T00:00:00",
          "2012-04-03T00:00:00",
          "2012-04-04T00:00:00",
          "2012-04-05T00:00:00",
          "2012-04-06T00:00:00",
          "2012-04-07T00:00:00",
          "2012-04-08T00:00:00",
          "2012-04-09T00:00:00",
          "2012-04-10T00:00:00",
          "2012-04-11T00:00:00",
          "2012-04-12T00:00:00",
          "2012-04-13T00:00:00",
          "2012-04-14T00:00:00",
          "2012-04-15T00:00:00",
          "2012-04-16T00:00:00",
          "2012-04-17T00:00:00",
          "2012-04-18T00:00:00",
          "2012-04-19T00:00:00",
          "2012-04-20T00:00:00",
          "2012-04-21T00:00:00",
          "2012-04-22T00:00:00",
          "2012-04-23T00:00:00",
          "2012-04-24T00:00:00",
          "2012-04-25T00:00:00",
          "2012-04-26T00:00:00",
          "2012-04-27T00:00:00",
          "2012-04-28T00:00:00",
          "2012-04-29T00:00:00",
          "2012-04-30T00:00:00",
          "2012-05-01T00:00:00",
          "2012-05-02T00:00:00",
          "2012-05-03T00:00:00",
          "2012-05-04T00:00:00",
          "2012-05-05T00:00:00",
          "2012-05-06T00:00:00",
          "2012-05-07T00:00:00",
          "2012-05-08T00:00:00",
          "2012-05-09T00:00:00",
          "2012-05-10T00:00:00",
          "2012-05-11T00:00:00",
          "2012-05-12T00:00:00",
          "2012-05-13T00:00:00",
          "2012-05-14T00:00:00",
          "2012-05-15T00:00:00",
          "2012-05-16T00:00:00",
          "2012-05-17T00:00:00",
          "2012-05-18T00:00:00",
          "2012-05-19T00:00:00",
          "2012-05-20T00:00:00",
          "2012-05-21T00:00:00",
          "2012-05-22T00:00:00",
          "2012-05-23T00:00:00",
          "2012-05-24T00:00:00",
          "2012-05-25T00:00:00",
          "2012-05-26T00:00:00",
          "2012-05-27T00:00:00",
          "2012-05-28T00:00:00",
          "2012-05-29T00:00:00",
          "2012-05-30T00:00:00",
          "2012-05-31T00:00:00",
          "2012-06-01T00:00:00",
          "2012-06-02T00:00:00",
          "2012-06-03T00:00:00",
          "2012-06-04T00:00:00",
          "2012-06-05T00:00:00",
          "2012-06-06T00:00:00",
          "2012-06-07T00:00:00",
          "2012-06-08T00:00:00",
          "2012-06-09T00:00:00",
          "2012-06-10T00:00:00",
          "2012-06-11T00:00:00",
          "2012-06-12T00:00:00",
          "2012-06-13T00:00:00",
          "2012-06-14T00:00:00",
          "2012-06-15T00:00:00",
          "2012-06-16T00:00:00",
          "2012-06-17T00:00:00",
          "2012-06-18T00:00:00",
          "2012-06-19T00:00:00",
          "2012-06-20T00:00:00",
          "2012-06-21T00:00:00",
          "2012-06-22T00:00:00",
          "2012-06-23T00:00:00",
          "2012-06-24T00:00:00",
          "2012-06-25T00:00:00",
          "2012-06-26T00:00:00",
          "2012-06-27T00:00:00",
          "2012-06-28T00:00:00",
          "2012-06-29T00:00:00",
          "2012-06-30T00:00:00",
          "2012-07-01T00:00:00",
          "2012-07-02T00:00:00",
          "2012-07-03T00:00:00",
          "2012-07-04T00:00:00",
          "2012-07-05T00:00:00",
          "2012-07-06T00:00:00",
          "2012-07-07T00:00:00",
          "2012-07-08T00:00:00",
          "2012-07-09T00:00:00",
          "2012-07-10T00:00:00",
          "2012-07-11T00:00:00",
          "2012-07-12T00:00:00",
          "2012-07-13T00:00:00",
          "2012-07-14T00:00:00",
          "2012-07-15T00:00:00",
          "2012-07-16T00:00:00",
          "2012-07-17T00:00:00",
          "2012-07-18T00:00:00",
          "2012-07-19T00:00:00",
          "2012-07-20T00:00:00",
          "2012-07-21T00:00:00",
          "2012-07-22T00:00:00",
          "2012-07-23T00:00:00",
          "2012-07-24T00:00:00",
          "2012-07-25T00:00:00",
          "2012-07-26T00:00:00",
          "2012-07-27T00:00:00",
          "2012-07-28T00:00:00",
          "2012-07-29T00:00:00",
          "2012-07-30T00:00:00",
          "2012-07-31T00:00:00",
          "2012-08-01T00:00:00",
          "2012-08-02T00:00:00",
          "2012-08-03T00:00:00",
          "2012-08-04T00:00:00",
          "2012-08-05T00:00:00",
          "2012-08-06T00:00:00",
          "2012-08-07T00:00:00",
          "2012-08-08T00:00:00",
          "2012-08-09T00:00:00",
          "2012-08-10T00:00:00",
          "2012-08-11T00:00:00",
          "2012-08-12T00:00:00",
          "2012-08-13T00:00:00",
          "2012-08-14T00:00:00",
          "2012-08-15T00:00:00",
          "2012-08-16T00:00:00",
          "2012-08-17T00:00:00",
          "2012-08-18T00:00:00",
          "2012-08-19T00:00:00",
          "2012-08-20T00:00:00",
          "2012-08-21T00:00:00",
          "2012-08-22T00:00:00",
          "2012-08-23T00:00:00",
          "2012-08-24T00:00:00",
          "2012-08-25T00:00:00",
          "2012-08-26T00:00:00",
          "2012-08-27T00:00:00",
          "2012-08-28T00:00:00",
          "2012-08-29T00:00:00",
          "2012-08-30T00:00:00",
          "2012-08-31T00:00:00",
          "2012-09-01T00:00:00",
          "2012-09-02T00:00:00",
          "2012-09-03T00:00:00",
          "2012-09-04T00:00:00",
          "2012-09-05T00:00:00",
          "2012-09-06T00:00:00",
          "2012-09-07T00:00:00",
          "2012-09-08T00:00:00",
          "2012-09-09T00:00:00",
          "2012-09-10T00:00:00",
          "2012-09-11T00:00:00",
          "2012-09-12T00:00:00",
          "2012-09-13T00:00:00",
          "2012-09-14T00:00:00",
          "2012-09-15T00:00:00",
          "2012-09-16T00:00:00",
          "2012-09-17T00:00:00",
          "2012-09-18T00:00:00",
          "2012-09-19T00:00:00",
          "2012-09-20T00:00:00",
          "2012-09-21T00:00:00",
          "2012-09-22T00:00:00",
          "2012-09-23T00:00:00",
          "2012-09-24T00:00:00",
          "2012-09-25T00:00:00",
          "2012-09-26T00:00:00",
          "2012-09-27T00:00:00",
          "2012-09-28T00:00:00",
          "2012-09-29T00:00:00",
          "2012-09-30T00:00:00",
          "2012-10-01T00:00:00",
          "2012-10-02T00:00:00",
          "2012-10-03T00:00:00",
          "2012-10-04T00:00:00",
          "2012-10-05T00:00:00",
          "2012-10-06T00:00:00",
          "2012-10-07T00:00:00",
          "2012-10-08T00:00:00",
          "2012-10-09T00:00:00",
          "2012-10-10T00:00:00",
          "2012-10-11T00:00:00",
          "2012-10-12T00:00:00",
          "2012-10-13T00:00:00",
          "2012-10-14T00:00:00",
          "2012-10-15T00:00:00",
          "2012-10-16T00:00:00",
          "2012-10-17T00:00:00",
          "2012-10-18T00:00:00",
          "2012-10-19T00:00:00",
          "2012-10-20T00:00:00",
          "2012-10-21T00:00:00",
          "2012-10-22T00:00:00",
          "2012-10-23T00:00:00",
          "2012-10-24T00:00:00",
          "2012-10-25T00:00:00",
          "2012-10-26T00:00:00",
          "2012-10-27T00:00:00",
          "2012-10-28T00:00:00",
          "2012-10-29T00:00:00",
          "2012-10-30T00:00:00",
          "2012-10-31T00:00:00",
          "2012-11-01T00:00:00",
          "2012-11-02T00:00:00",
          "2012-11-03T00:00:00",
          "2012-11-04T00:00:00",
          "2012-11-05T00:00:00",
          "2012-11-06T00:00:00",
          "2012-11-07T00:00:00",
          "2012-11-08T00:00:00",
          "2012-11-09T00:00:00",
          "2012-11-10T00:00:00",
          "2012-11-11T00:00:00",
          "2012-11-12T00:00:00",
          "2012-11-13T00:00:00",
          "2012-11-14T00:00:00",
          "2012-11-15T00:00:00",
          "2012-11-16T00:00:00",
          "2012-11-17T00:00:00",
          "2012-11-18T00:00:00",
          "2012-11-19T00:00:00",
          "2012-11-20T00:00:00",
          "2012-11-21T00:00:00",
          "2012-11-22T00:00:00",
          "2012-11-23T00:00:00",
          "2012-11-24T00:00:00",
          "2012-11-25T00:00:00",
          "2012-11-26T00:00:00",
          "2012-11-27T00:00:00",
          "2012-11-28T00:00:00",
          "2012-11-29T00:00:00",
          "2012-11-30T00:00:00",
          "2012-12-01T00:00:00",
          "2012-12-02T00:00:00",
          "2012-12-03T00:00:00",
          "2012-12-04T00:00:00",
          "2012-12-05T00:00:00",
          "2012-12-06T00:00:00",
          "2012-12-07T00:00:00",
          "2012-12-08T00:00:00",
          "2012-12-09T00:00:00",
          "2012-12-10T00:00:00",
          "2012-12-11T00:00:00",
          "2012-12-12T00:00:00",
          "2012-12-13T00:00:00",
          "2012-12-14T00:00:00",
          "2012-12-15T00:00:00",
          "2012-12-16T00:00:00",
          "2012-12-17T00:00:00",
          "2012-12-18T00:00:00",
          "2012-12-19T00:00:00",
          "2012-12-20T00:00:00",
          "2012-12-21T00:00:00",
          "2012-12-22T00:00:00",
          "2012-12-23T00:00:00",
          "2012-12-24T00:00:00",
          "2012-12-25T00:00:00",
          "2012-12-26T00:00:00",
          "2012-12-27T00:00:00",
          "2012-12-28T00:00:00",
          "2012-12-29T00:00:00",
          "2012-12-30T00:00:00"
         ],
         "y": [
          0,
          0.0010012415605830207,
          0.18771097090902003,
          2.3461961349509615,
          7.74566340990115,
          11.825173927392184,
          19.572207181349803,
          26.395907142506687,
          33.04347709137102,
          75.54581090555841,
          86.87845792858245,
          98.29750616005211,
          133.59227911251833,
          145.50715782988632,
          141.06046804208674,
          130.16256920008095,
          119.06177739744618,
          113.92982646335857,
          107.40515464302302,
          118.5046672789834,
          125.41644884043853,
          130.55646937831173,
          154.0094295594122,
          162.58811024567112,
          169.75793570727544,
          168.14247265820939,
          173.66401626700974,
          170.4965593223157,
          168.54480019179763,
          165.1406839887821,
          164.57764850310673,
          165.0460061572689,
          172.887801832981,
          170.30445870397872,
          164.80395832667514,
          161.87938486176358,
          156.85325105335272,
          158.7472558524213,
          172.26370859422997,
          177.80413564136066,
          181.35675781823687,
          183.2654610458601,
          180.95131744817894,
          176.8943366327543,
          174.00186960134636,
          171.0299768625392,
          172.99799288935418,
          172.15420782485,
          176.50838606111495,
          175.56008381849273,
          172.57756745507257,
          168.6578450076181,
          165.55385511558717,
          161.44364012444123,
          158.97672532918946,
          168.62206040579505,
          170.63313485668755,
          168.39070242961066,
          164.3630078445257,
          160.32848168458548,
          155.96934093228367,
          152.37104903989774,
          151.08301433903492,
          148.28174104362404,
          146.9326789089772,
          144.00953927993274,
          140.84331995437,
          137.704667363694,
          134.99528110926428,
          132.24185563697736,
          138.7722055946017,
          223.0551322104962,
          281.39751009579834,
          292.92237682339817,
          298.79493192329534,
          290.9409800234864,
          279.2037710636634,
          266.8063661594614,
          254.98334170010958,
          244.27543268055402,
          234.47634326966028,
          225.90854069384068,
          218.2062089794614,
          210.87440846963614,
          204.15124331635346,
          198.0388794437116,
          192.69178131787743,
          189.91612529263392,
          186.11128518542773,
          182.40115059782661,
          178.88565482132876,
          175.5143411328278,
          172.39354209985243,
          171.30357621850152,
          176.0448225283535,
          175.92780513662225,
          174.20506294685404,
          171.97268282063143,
          169.53861443161827,
          167.4903471014631,
          169.67264048260952,
          169.0826843545232,
          169.1381534610459,
          180.11583455693727,
          181.9318458244218,
          179.15878555671648,
          174.89872447119797,
          170.31788064575903,
          165.85635151932337,
          161.66444748875682,
          157.78895364630037,
          154.2236363767039,
          150.95143561344793,
          147.9341660798224,
          145.32492443174803,
          144.3915944283891,
          142.56806871702187,
          140.4966919947865,
          138.60892999056966,
          136.62526621569344,
          134.6812171836054,
          133.10856478181196,
          134.02749015963647,
          133.05852142890365,
          131.43313527140947,
          129.6315891797742,
          127.83843722644227,
          126.11900553836757,
          124.49139885792616,
          122.95525228735167,
          121.50395069102356,
          120.13030370575497,
          118.82649307121649,
          117.58559121285549,
          116.40405447340167,
          115.31397008270459,
          114.65510951369703,
          113.90139469021717,
          112.94063461825377,
          111.92519958315786,
          110.91222895962244,
          109.92206282636033,
          108.98231653634176,
          108.25101511275471,
          107.41556295276118,
          106.55264414901086,
          105.69241749143089,
          104.84599345582234,
          104.01685955862762,
          103.20555823976024,
          102.41159166158566,
          101.63371894156029,
          100.87070697140689,
          100.12144795375546,
          99.38493655410437,
          98.66027439196662,
          97.94662092113244,
          97.24687726783668,
          98.33196141297915,
          115.18269253283515,
          133.29893173419353,
          154.82486055582746,
          159.43589564149855,
          157.50156968680804,
          153.2119875085701,
          148.2618253137278,
          143.37625830659294,
          138.6662900314733,
          134.25415761322571,
          130.1640371413963,
          126.3845846679767,
          122.89278219690593,
          119.66242905932398,
          116.66853168269274,
          113.9111145843723,
          112.38122006627094,
          124.9613302381112,
          191.62704359536386,
          216.6956290902997,
          221.9066569025819,
          218.60342615289687,
          213.63455724293328,
          219.69688675876716,
          230.50546878639432,
          229.3392815174977,
          223.8800446138045,
          216.77617075670705,
          209.16345043495295,
          201.5443173263579,
          194.1404068164176,
          187.0467254833462,
          180.29893199995973,
          173.90507214732693,
          167.8597625611311,
          162.15013955350543,
          156.75266027772096,
          151.65043514993803,
          146.8690273077262,
          142.83376820360326,
          140.022750377103,
          136.728076133354,
          133.12085966199808,
          129.94059797095284,
          129.91571097983515,
          127.71993109028043,
          124.817645132395,
          122.0774137807008,
          119.11950704940571,
          116.18165277064224,
          113.35366144334145,
          110.70340737612284,
          110.4529952088449,
          128.0653141338837,
          149.85920795016892,
          163.78320583955298,
          165.20132994384318,
          162.2971580822167,
          157.76881132267465,
          152.7281397559877,
          147.60423261024783,
          142.57386084264664,
          137.71550992833716,
          133.07858451904653,
          128.78976156692067,
          124.70925762296352,
          120.88406674873025,
          117.31615746712454,
          113.99246279124132,
          110.89529441886967,
          108.00647364479327,
          105.44075464094134,
          105.39234674291544,
          115.00594627113836,
          116.66445737358674,
          114.90131011751104,
          112.00241649206254,
          108.787029536877,
          105.60687487001877,
          102.59959050011514,
          99.7956717867722,
          97.19719104342747,
          94.86581413085187,
          95.6276805863844,
          115.16190190536031,
          119.71554496775288,
          118.47023095296734,
          115.1457133814044,
          111.23533023732813,
          107.32212694236352,
          103.6235310513337,
          100.19051807701413,
          97.03155553665094,
          94.43417069412294,
          94.57670139034617,
          92.89771945612895,
          90.63061039923528,
          88.25752853967451,
          85.96194836974402,
          83.80669484112788,
          81.8043911646595,
          79.95135571244447,
          78.23662228032912,
          76.6474696067218,
          75.17139153518322,
          73.79693043643414,
          72.51379279281842,
          71.31281943397256,
          70.2985159755866,
          70.29777818019383,
          69.68551808388312,
          68.82381063743131,
          67.89191606450443,
          66.96000529344133,
          66.05440060168641,
          65.21867703310392,
          64.73198287974662,
          64.2322550379426,
          63.53399894287679,
          62.77860576876732,
          62.02108081845982,
          61.28203573569223,
          61.028872538272395,
          67.12063372362392,
          91.2006220714778,
          100.22251034452808,
          102.65085237473949,
          120.39256928806853,
          202.72980794198307,
          393.61812207304445,
          533.5259377458001,
          571.2781016703344,
          561.4717295198526,
          534.3569687398106,
          502.01001622275385,
          469.32135938295494,
          438.1746815902639,
          409.19856878378596,
          383.3165724388223,
          367.93190103042036,
          362.6366754739686,
          347.0836371285184,
          329.0194966185468,
          312.63539108909447,
          312.4884343940368,
          318.91710985996275,
          320.3551634421458,
          313.38299097585866,
          300.80842409048194,
          286.6628519403563,
          272.40812744406236,
          258.6452187075755,
          245.65540515658017,
          233.5380950790746,
          222.30508533552324,
          212.07345943853358,
          204.40894049938208,
          201.37488579875185,
          198.31744698082096,
          206.5294710579666,
          222.14648571965083,
          245.75598316989226,
          249.14012955343105,
          245.63838741123948,
          239.26824472057604,
          231.81394901589772,
          225.40725096460568,
          229.7905000185503,
          226.55378752022318,
          220.8828716074895,
          214.39041239295727,
          208.50980391989225,
          206.19814505803961,
          201.01078476267878,
          195.1128028668776,
          189.08243730356338,
          183.37828583887833,
          179.6603655549337,
          174.77577422103045,
          169.6652257961232,
          164.68894644505642,
          160.5825006344935,
          161.97533747538577,
          162.49171776185062,
          175.29878811110245,
          193.96267080177958,
          198.08925038556083,
          197.29396019979941,
          194.08327502132738,
          196.66783958731472,
          256.0596897847288,
          267.3111373088794,
          260.7025640256918,
          248.25422839297505,
          234.70353058142106,
          221.77517476029928,
          210.00072745429944,
          199.45216897971218,
          190.31474630686316,
          184.5917065483291,
          179.2095346438187,
          173.07613574769044,
          167.03930500803597,
          161.29628083863605,
          156.39816952102348,
          151.74990760087263,
          148.76106649930443,
          149.7235114197657,
          147.20867925615866,
          143.54791803807433,
          139.965276534956,
          139.3680370398054,
          140.10771230015098,
          141.67576353448237,
          141.34278393973526,
          139.53928893796285,
          137.90874093241814,
          140.41002719889374,
          141.02760368132365,
          139.64597982887676,
          139.1831637011664,
          151.97510212998475,
          191.67959764015936,
          255.98442429836498,
          292.66046671077817,
          303.78854901438865,
          306.9827665425099,
          336.5044842792337,
          360.1005519844917,
          378.83977658728355,
          383.49302485296937,
          406.4617125823489,
          459.55286287477315,
          470.77927680680637,
          460.00806051455515,
          441.2133662167056,
          420.1696940148724,
          399.24363950824545,
          379.3557864366811,
          360.81430277734444,
          343.6662462839189,
          327.8307949071426,
          313.312519246711,
          300.0469795076501,
          287.9316308680782,
          276.87481366471235,
          268.19545632611806,
          274.972806678682,
          303.4621160546327,
          310.53059571646014,
          339.2557082199174,
          371.5840355479562,
          390.7645423718472,
          384.4200921408128,
          369.6604984430048,
          352.75992339833533,
          336.837914803195,
          328.12355268661264,
          328.2606843618772,
          321.8257451202941,
          314.2083611481373,
          305.6013142458496,
          304.5149904314753,
          306.3275959026706,
          318.7319365460677,
          320.73483327813864,
          314.521727035052,
          305.6597635017484,
          296.65809941111706,
          287.4507518159875,
          278.360662659623,
          269.74911615435076,
          261.6708337727595,
          254.10086201406733,
          247.01185841930442,
          240.93630362577358,
          240.25777705793575,
          242.50389932364556,
          239.54304967755397,
          235.501608340262,
          236.5072786090352,
          237.62904452654914,
          247.22971123488014,
          245.81989809889436,
          240.49228548048825,
          234.0030711787926,
          227.45680882215768,
          221.54227960901733,
          218.79116288913363,
          217.41781866667924,
          213.79487827273584,
          209.50055805695624,
          205.30392714661036,
          202.55034244539112,
          199.1413314348141,
          195.5685478354692,
          192.08191872438903,
          188.76602801278244,
          185.64174875902734,
          182.70516787883258,
          179.94364208588087,
          177.34221314969517,
          174.88610062758903,
          172.56175727121126,
          170.44794382438403,
          169.38002992172315,
          169.3084436316725,
          168.18813167412875,
          169.1103878838074,
          170.66536429721174,
          169.70563304737567,
          168.05857944369012,
          165.9464479491001,
          163.70241080454997,
          161.48921538314815,
          159.36441124808627,
          157.43458311525174,
          157.34908419600458,
          165.02802124457213,
          166.74763505002161,
          165.49826998654356,
          163.18954551448786,
          162.1604827227398,
          177.59497333224022,
          211.0689373263181,
          221.39607088584066,
          229.69270345682438,
          232.26569181015333,
          227.49310921423643,
          220.3074214407003,
          212.62488478163493,
          205.22611242055632,
          198.3033870091129,
          191.9567532451557,
          186.15650634953585,
          180.85770521620515,
          176.01564972557065,
          171.6111776465796,
          168.05046747820398,
          167.65536454133783,
          165.3680626026292,
          162.51871318191527,
          159.66016799549277,
          157.13255978973868,
          154.64555680927165,
          152.22575554598365,
          149.92276258226175,
          147.7375122946979,
          145.66445945603047,
          143.69615805609604,
          141.99022233512773,
          142.86766279767716,
          152.08674702925515,
          153.99338163284992,
          153.16936913583285,
          151.2936423760941,
          149.05774740935982,
          146.88110800655295,
          146.14497100219592,
          146.8287046155758,
          145.72180758734922,
          144.35527099749405,
          152.50732993605033,
          220.80878262268368,
          273.2175235006987,
          316.10811370634207,
          342.75599107346363,
          343.85092047090717,
          335.7231533516059,
          326.19821214961,
          316.6495428305612,
          305.6440403795354,
          294.7050063379591,
          284.20501169506895,
          274.3037241104224,
          265.2479566287636,
          263.20439382572636,
          342.78264135843426,
          696.0101186383581,
          813.9829116716566,
          831.96191739735,
          802.7179011705775,
          758.1671209326666,
          710.5715044692744,
          664.6620524484679,
          622.0107653213531,
          583.0095798451705,
          547.5784938126744,
          515.4638042910565,
          486.36110994994925,
          459.96538192923094,
          435.9913928855525,
          414.1821520783304,
          394.3206021649453,
          380.67929047441135,
          413.83190399952275,
          486.8924995480906,
          500.6579565349417,
          489.1011604183775,
          473.35168225842233,
          468.80871563341714,
          452.934207104028,
          433.9502234376316,
          414.77977813735674,
          396.8668137670693,
          382.1085020559216,
          367.92760149194925,
          354.11827957457047,
          341.2054321918622,
          329.169842492888,
          317.97133717469046,
          307.5567781533151,
          297.870933891404,
          288.8741315919199,
          280.54560364872026,
          272.84140171769945,
          265.7204059766735,
          259.13781543923153,
          253.04624007243146,
          247.39949414054314,
          242.1548007682807,
          237.273421483705,
          232.72062546990267,
          228.4648495721652,
          224.47775317699035,
          220.73309299705983,
          217.20800766378915,
          213.88309481169568,
          210.739684068562,
          207.76125232877092,
          204.93313626341535,
          202.2422012694746,
          199.67662372006055,
          197.2256646623731,
          194.87966032965477,
          192.6299160363073,
          190.46857608456702,
          188.38855471397977,
          186.38342292707134,
          184.44733663685386,
          182.5749327717926,
          180.76090572638338,
          179.00070331511478,
          177.2903004575366,
          175.62606401372125,
          174.0046914035179,
          172.47223153023972,
          171.38753862285742,
          170.04700071755045,
          168.60405001866556,
          167.14149154211793,
          165.69054636890598,
          164.26273190774873,
          162.86282784243298,
          161.50016053847804,
          160.15552814407562,
          158.8335441756332,
          157.5333840769565,
          156.25383678045452,
          154.993730880628,
          153.75197078382442,
          152.5277108425699,
          151.32126746333103,
          150.13003961900895,
          148.9541248487332,
          147.79255141233747,
          146.6448438652556,
          145.510125774805,
          144.49332940171206,
          144.51286402212105,
          145.31450866926775,
          147.01884792207153,
          148.07560075915032,
          149.7661115383926,
          149.2356296764227,
          150.0382703304069,
          153.0903458694325,
          152.49857537443717,
          150.57337820611096,
          148.23551021171892,
          145.84634998045846,
          143.53934552716794,
          141.35661759795374,
          139.3045581371275,
          137.37634432099972,
          135.56159008243145,
          133.85321774557195,
          132.23130513606392,
          130.6888849734866,
          129.21764766679496,
          127.90568473176481,
          127.48238791838617,
          126.8835716852127,
          126.51011404799942,
          125.43314160703875,
          124.2900173130185,
          125.18642603568702,
          130.10355976694993,
          130.44398080130873,
          129.31440846520923,
          130.8917767963532,
          141.34866394229945,
          147.22331894790238,
          181.71576784503392,
          206.18952849857928,
          211.30768563414722,
          221.13337399729758,
          220.43016028499693,
          214.55499805836314,
          209.34296748767738,
          202.10090256257138,
          197.0768649785866,
          198.7153625218846,
          194.41712900602292,
          188.49401425994273,
          182.1273290158335,
          175.8035046966569,
          169.70604440540933,
          164.02992050979577,
          161.1185057819448,
          170.45107962462663,
          185.82172263678018,
          235.24397236902712,
          254.57818190400326,
          253.34407652811979,
          244.24448423249544,
          233.1698507958169,
          222.16863572780673,
          212.02082992687662,
          202.62536785161336,
          194.10240973658335,
          187.91674652529946,
          181.20004961716884,
          174.58478867246862,
          168.42924695499744,
          163.51956281899675,
          159.83628796643285,
          155.61308935731023,
          153.14798052853246,
          150.00662598572586,
          146.19224991613305,
          142.30953799901363,
          140.64323271424198,
          158.97954510854197,
          190.71594591360008,
          198.0326595075578,
          204.2846745740782,
          202.74260582692048,
          197.67765294075224,
          195.20294197928695,
          202.65263803611197,
          201.70449307009392,
          201.38492527088653,
          198.4521311521633,
          199.9197347405539,
          212.57322309711705,
          272.16976144622697,
          318.1438003415584,
          330.808239760163,
          325.0786326345128,
          313.6893511406627,
          302.09845205339815,
          291.5167599570644,
          282.9577227199018,
          272.0713336427055,
          261.8913378631903,
          261.6155031729771,
          259.68665320187375,
          258.58264609480915,
          282.7493450731274,
          308.1579257823562,
          319.26603119298557
         ]
        }
       ],
       "layout": {
        "font": {
         "family": "CMU Serif"
        },
        "height": 600,
        "legend": {
         "x": 0.5,
         "y": 1
        },
        "template": {
         "data": {
          "bar": [
           {
            "error_x": {
             "color": "#2a3f5f"
            },
            "error_y": {
             "color": "#2a3f5f"
            },
            "marker": {
             "line": {
              "color": "white",
              "width": 0.5
             },
             "pattern": {
              "fillmode": "overlay",
              "size": 10,
              "solidity": 0.2
             }
            },
            "type": "bar"
           }
          ],
          "barpolar": [
           {
            "marker": {
             "line": {
              "color": "white",
              "width": 0.5
             },
             "pattern": {
              "fillmode": "overlay",
              "size": 10,
              "solidity": 0.2
             }
            },
            "type": "barpolar"
           }
          ],
          "carpet": [
           {
            "aaxis": {
             "endlinecolor": "#2a3f5f",
             "gridcolor": "#C8D4E3",
             "linecolor": "#C8D4E3",
             "minorgridcolor": "#C8D4E3",
             "startlinecolor": "#2a3f5f"
            },
            "baxis": {
             "endlinecolor": "#2a3f5f",
             "gridcolor": "#C8D4E3",
             "linecolor": "#C8D4E3",
             "minorgridcolor": "#C8D4E3",
             "startlinecolor": "#2a3f5f"
            },
            "type": "carpet"
           }
          ],
          "choropleth": [
           {
            "colorbar": {
             "outlinewidth": 0,
             "ticks": ""
            },
            "type": "choropleth"
           }
          ],
          "contour": [
           {
            "colorbar": {
             "outlinewidth": 0,
             "ticks": ""
            },
            "colorscale": [
             [
              0,
              "#0d0887"
             ],
             [
              0.1111111111111111,
              "#46039f"
             ],
             [
              0.2222222222222222,
              "#7201a8"
             ],
             [
              0.3333333333333333,
              "#9c179e"
             ],
             [
              0.4444444444444444,
              "#bd3786"
             ],
             [
              0.5555555555555556,
              "#d8576b"
             ],
             [
              0.6666666666666666,
              "#ed7953"
             ],
             [
              0.7777777777777778,
              "#fb9f3a"
             ],
             [
              0.8888888888888888,
              "#fdca26"
             ],
             [
              1,
              "#f0f921"
             ]
            ],
            "type": "contour"
           }
          ],
          "contourcarpet": [
           {
            "colorbar": {
             "outlinewidth": 0,
             "ticks": ""
            },
            "type": "contourcarpet"
           }
          ],
          "heatmap": [
           {
            "colorbar": {
             "outlinewidth": 0,
             "ticks": ""
            },
            "colorscale": [
             [
              0,
              "#0d0887"
             ],
             [
              0.1111111111111111,
              "#46039f"
             ],
             [
              0.2222222222222222,
              "#7201a8"
             ],
             [
              0.3333333333333333,
              "#9c179e"
             ],
             [
              0.4444444444444444,
              "#bd3786"
             ],
             [
              0.5555555555555556,
              "#d8576b"
             ],
             [
              0.6666666666666666,
              "#ed7953"
             ],
             [
              0.7777777777777778,
              "#fb9f3a"
             ],
             [
              0.8888888888888888,
              "#fdca26"
             ],
             [
              1,
              "#f0f921"
             ]
            ],
            "type": "heatmap"
           }
          ],
          "heatmapgl": [
           {
            "colorbar": {
             "outlinewidth": 0,
             "ticks": ""
            },
            "colorscale": [
             [
              0,
              "#0d0887"
             ],
             [
              0.1111111111111111,
              "#46039f"
             ],
             [
              0.2222222222222222,
              "#7201a8"
             ],
             [
              0.3333333333333333,
              "#9c179e"
             ],
             [
              0.4444444444444444,
              "#bd3786"
             ],
             [
              0.5555555555555556,
              "#d8576b"
             ],
             [
              0.6666666666666666,
              "#ed7953"
             ],
             [
              0.7777777777777778,
              "#fb9f3a"
             ],
             [
              0.8888888888888888,
              "#fdca26"
             ],
             [
              1,
              "#f0f921"
             ]
            ],
            "type": "heatmapgl"
           }
          ],
          "histogram": [
           {
            "marker": {
             "pattern": {
              "fillmode": "overlay",
              "size": 10,
              "solidity": 0.2
             }
            },
            "type": "histogram"
           }
          ],
          "histogram2d": [
           {
            "colorbar": {
             "outlinewidth": 0,
             "ticks": ""
            },
            "colorscale": [
             [
              0,
              "#0d0887"
             ],
             [
              0.1111111111111111,
              "#46039f"
             ],
             [
              0.2222222222222222,
              "#7201a8"
             ],
             [
              0.3333333333333333,
              "#9c179e"
             ],
             [
              0.4444444444444444,
              "#bd3786"
             ],
             [
              0.5555555555555556,
              "#d8576b"
             ],
             [
              0.6666666666666666,
              "#ed7953"
             ],
             [
              0.7777777777777778,
              "#fb9f3a"
             ],
             [
              0.8888888888888888,
              "#fdca26"
             ],
             [
              1,
              "#f0f921"
             ]
            ],
            "type": "histogram2d"
           }
          ],
          "histogram2dcontour": [
           {
            "colorbar": {
             "outlinewidth": 0,
             "ticks": ""
            },
            "colorscale": [
             [
              0,
              "#0d0887"
             ],
             [
              0.1111111111111111,
              "#46039f"
             ],
             [
              0.2222222222222222,
              "#7201a8"
             ],
             [
              0.3333333333333333,
              "#9c179e"
             ],
             [
              0.4444444444444444,
              "#bd3786"
             ],
             [
              0.5555555555555556,
              "#d8576b"
             ],
             [
              0.6666666666666666,
              "#ed7953"
             ],
             [
              0.7777777777777778,
              "#fb9f3a"
             ],
             [
              0.8888888888888888,
              "#fdca26"
             ],
             [
              1,
              "#f0f921"
             ]
            ],
            "type": "histogram2dcontour"
           }
          ],
          "mesh3d": [
           {
            "colorbar": {
             "outlinewidth": 0,
             "ticks": ""
            },
            "type": "mesh3d"
           }
          ],
          "parcoords": [
           {
            "line": {
             "colorbar": {
              "outlinewidth": 0,
              "ticks": ""
             }
            },
            "type": "parcoords"
           }
          ],
          "pie": [
           {
            "automargin": true,
            "type": "pie"
           }
          ],
          "scatter": [
           {
            "marker": {
             "colorbar": {
              "outlinewidth": 0,
              "ticks": ""
             }
            },
            "type": "scatter"
           }
          ],
          "scatter3d": [
           {
            "line": {
             "colorbar": {
              "outlinewidth": 0,
              "ticks": ""
             }
            },
            "marker": {
             "colorbar": {
              "outlinewidth": 0,
              "ticks": ""
             }
            },
            "type": "scatter3d"
           }
          ],
          "scattercarpet": [
           {
            "marker": {
             "colorbar": {
              "outlinewidth": 0,
              "ticks": ""
             }
            },
            "type": "scattercarpet"
           }
          ],
          "scattergeo": [
           {
            "marker": {
             "colorbar": {
              "outlinewidth": 0,
              "ticks": ""
             }
            },
            "type": "scattergeo"
           }
          ],
          "scattergl": [
           {
            "marker": {
             "colorbar": {
              "outlinewidth": 0,
              "ticks": ""
             }
            },
            "type": "scattergl"
           }
          ],
          "scattermapbox": [
           {
            "marker": {
             "colorbar": {
              "outlinewidth": 0,
              "ticks": ""
             }
            },
            "type": "scattermapbox"
           }
          ],
          "scatterpolar": [
           {
            "marker": {
             "colorbar": {
              "outlinewidth": 0,
              "ticks": ""
             }
            },
            "type": "scatterpolar"
           }
          ],
          "scatterpolargl": [
           {
            "marker": {
             "colorbar": {
              "outlinewidth": 0,
              "ticks": ""
             }
            },
            "type": "scatterpolargl"
           }
          ],
          "scatterternary": [
           {
            "marker": {
             "colorbar": {
              "outlinewidth": 0,
              "ticks": ""
             }
            },
            "type": "scatterternary"
           }
          ],
          "surface": [
           {
            "colorbar": {
             "outlinewidth": 0,
             "ticks": ""
            },
            "colorscale": [
             [
              0,
              "#0d0887"
             ],
             [
              0.1111111111111111,
              "#46039f"
             ],
             [
              0.2222222222222222,
              "#7201a8"
             ],
             [
              0.3333333333333333,
              "#9c179e"
             ],
             [
              0.4444444444444444,
              "#bd3786"
             ],
             [
              0.5555555555555556,
              "#d8576b"
             ],
             [
              0.6666666666666666,
              "#ed7953"
             ],
             [
              0.7777777777777778,
              "#fb9f3a"
             ],
             [
              0.8888888888888888,
              "#fdca26"
             ],
             [
              1,
              "#f0f921"
             ]
            ],
            "type": "surface"
           }
          ],
          "table": [
           {
            "cells": {
             "fill": {
              "color": "#EBF0F8"
             },
             "line": {
              "color": "white"
             }
            },
            "header": {
             "fill": {
              "color": "#C8D4E3"
             },
             "line": {
              "color": "white"
             }
            },
            "type": "table"
           }
          ]
         },
         "layout": {
          "annotationdefaults": {
           "arrowcolor": "#2a3f5f",
           "arrowhead": 0,
           "arrowwidth": 1
          },
          "autotypenumbers": "strict",
          "coloraxis": {
           "colorbar": {
            "outlinewidth": 0,
            "ticks": ""
           }
          },
          "colorscale": {
           "diverging": [
            [
             0,
             "#8e0152"
            ],
            [
             0.1,
             "#c51b7d"
            ],
            [
             0.2,
             "#de77ae"
            ],
            [
             0.3,
             "#f1b6da"
            ],
            [
             0.4,
             "#fde0ef"
            ],
            [
             0.5,
             "#f7f7f7"
            ],
            [
             0.6,
             "#e6f5d0"
            ],
            [
             0.7,
             "#b8e186"
            ],
            [
             0.8,
             "#7fbc41"
            ],
            [
             0.9,
             "#4d9221"
            ],
            [
             1,
             "#276419"
            ]
           ],
           "sequential": [
            [
             0,
             "#0d0887"
            ],
            [
             0.1111111111111111,
             "#46039f"
            ],
            [
             0.2222222222222222,
             "#7201a8"
            ],
            [
             0.3333333333333333,
             "#9c179e"
            ],
            [
             0.4444444444444444,
             "#bd3786"
            ],
            [
             0.5555555555555556,
             "#d8576b"
            ],
            [
             0.6666666666666666,
             "#ed7953"
            ],
            [
             0.7777777777777778,
             "#fb9f3a"
            ],
            [
             0.8888888888888888,
             "#fdca26"
            ],
            [
             1,
             "#f0f921"
            ]
           ],
           "sequentialminus": [
            [
             0,
             "#0d0887"
            ],
            [
             0.1111111111111111,
             "#46039f"
            ],
            [
             0.2222222222222222,
             "#7201a8"
            ],
            [
             0.3333333333333333,
             "#9c179e"
            ],
            [
             0.4444444444444444,
             "#bd3786"
            ],
            [
             0.5555555555555556,
             "#d8576b"
            ],
            [
             0.6666666666666666,
             "#ed7953"
            ],
            [
             0.7777777777777778,
             "#fb9f3a"
            ],
            [
             0.8888888888888888,
             "#fdca26"
            ],
            [
             1,
             "#f0f921"
            ]
           ]
          },
          "colorway": [
           "#636efa",
           "#EF553B",
           "#00cc96",
           "#ab63fa",
           "#FFA15A",
           "#19d3f3",
           "#FF6692",
           "#B6E880",
           "#FF97FF",
           "#FECB52"
          ],
          "font": {
           "color": "#2a3f5f"
          },
          "geo": {
           "bgcolor": "white",
           "lakecolor": "white",
           "landcolor": "white",
           "showlakes": true,
           "showland": true,
           "subunitcolor": "#C8D4E3"
          },
          "hoverlabel": {
           "align": "left"
          },
          "hovermode": "closest",
          "mapbox": {
           "style": "light"
          },
          "paper_bgcolor": "white",
          "plot_bgcolor": "white",
          "polar": {
           "angularaxis": {
            "gridcolor": "#EBF0F8",
            "linecolor": "#EBF0F8",
            "ticks": ""
           },
           "bgcolor": "white",
           "radialaxis": {
            "gridcolor": "#EBF0F8",
            "linecolor": "#EBF0F8",
            "ticks": ""
           }
          },
          "scene": {
           "xaxis": {
            "backgroundcolor": "white",
            "gridcolor": "#DFE8F3",
            "gridwidth": 2,
            "linecolor": "#EBF0F8",
            "showbackground": true,
            "ticks": "",
            "zerolinecolor": "#EBF0F8"
           },
           "yaxis": {
            "backgroundcolor": "white",
            "gridcolor": "#DFE8F3",
            "gridwidth": 2,
            "linecolor": "#EBF0F8",
            "showbackground": true,
            "ticks": "",
            "zerolinecolor": "#EBF0F8"
           },
           "zaxis": {
            "backgroundcolor": "white",
            "gridcolor": "#DFE8F3",
            "gridwidth": 2,
            "linecolor": "#EBF0F8",
            "showbackground": true,
            "ticks": "",
            "zerolinecolor": "#EBF0F8"
           }
          },
          "shapedefaults": {
           "line": {
            "color": "#2a3f5f"
           }
          },
          "ternary": {
           "aaxis": {
            "gridcolor": "#DFE8F3",
            "linecolor": "#A2B1C6",
            "ticks": ""
           },
           "baxis": {
            "gridcolor": "#DFE8F3",
            "linecolor": "#A2B1C6",
            "ticks": ""
           },
           "bgcolor": "white",
           "caxis": {
            "gridcolor": "#DFE8F3",
            "linecolor": "#A2B1C6",
            "ticks": ""
           }
          },
          "title": {
           "x": 0.05
          },
          "xaxis": {
           "automargin": true,
           "gridcolor": "#EBF0F8",
           "linecolor": "#EBF0F8",
           "ticks": "",
           "title": {
            "standoff": 15
           },
           "zerolinecolor": "#EBF0F8",
           "zerolinewidth": 2
          },
          "yaxis": {
           "automargin": true,
           "gridcolor": "#EBF0F8",
           "linecolor": "#EBF0F8",
           "ticks": "",
           "title": {
            "standoff": 15
           },
           "zerolinecolor": "#EBF0F8",
           "zerolinewidth": 2
          }
         }
        },
        "title": {
         "text": "Comparison of Qindado and Qinsim"
        },
        "width": 800,
        "xaxis": {
         "title": {
          "text": "Time"
         }
        },
        "yaxis": {
         "title": {
          "text": "Flow"
         }
        }
       }
      }
     },
     "metadata": {},
     "output_type": "display_data"
    }
   ],
   "source": [
    "import plotly.graph_objs as go\n",
    "\n",
    "trace1 = go.Scatter(x=x, y=y1, name='Qindado')\n",
    "trace2 = go.Scatter(x=x, y=y2, name='Qinsim')\n",
    "\n",
    "layout = go.Layout(\n",
    "    title='Comparison of Qindado and Qinsim',\n",
    "    xaxis=dict(title='Time'),\n",
    "    yaxis=dict(title='Flow'),\n",
    "    legend=dict(x=.5, y=1),\n",
    "    font=dict(family='CMU Serif'),\n",
    "    width=800,\n",
    "    height=600\n",
    ")\n",
    "\n",
    "fig = go.Figure(data=[trace1, trace2], layout=layout)\n",
    "fig.show()\n"
   ]
  },
  {
   "cell_type": "code",
   "execution_count": 96,
   "metadata": {},
   "outputs": [],
   "source": [
    "k = 1e-7\n",
    "v = 1.15e-7\n",
    "k_list = [k for i in range(366+365)]\n",
    "v_list = [v for i in range(366+365)]"
   ]
  },
  {
   "cell_type": "code",
   "execution_count": 97,
   "metadata": {},
   "outputs": [],
   "source": [
    "slicer = 180"
   ]
  },
  {
   "cell_type": "code",
   "execution_count": 98,
   "metadata": {},
   "outputs": [],
   "source": [
    "zero_d_sim = zero_d.ZeroDimensional(df_res['Vdado'][slicer:], df_res['Qinsim'][slicer:], df_res['Qout'][slicer:], df_res['Cin'][slicer:],\n",
    "                                    df_res['As'][slicer:], k_list[slicer:], v_list[slicer:], 86400)"
   ]
  },
  {
   "cell_type": "code",
   "execution_count": 99,
   "metadata": {},
   "outputs": [],
   "source": [
    "zero_d_sim.RunModel()"
   ]
  },
  {
   "cell_type": "code",
   "execution_count": 100,
   "metadata": {},
   "outputs": [],
   "source": [
    "res_Jurumirim = zero_d_sim.Output.ConcentrationOut"
   ]
  },
  {
   "cell_type": "code",
   "execution_count": 109,
   "metadata": {},
   "outputs": [
    {
     "data": {
      "image/png": "[encoded data removed]",
      "text/plain": [
       "<Figure size 393.701x393.701 with 1 Axes>"
      ]
     },
     "metadata": {},
     "output_type": "display_data"
    }
   ],
   "source": [
    "fig, ax = plt.subplots(figsize=(10/2.54, 10/2.54), constrained_layout=True)\n",
    "xaxis = pd.date_range(start='2011-01-01', periods=731, freq='D')\n",
    "\n",
    "ax.plot(xaxis[180:], res_Jurumirim, label = 'Zero-dimensional')\n",
    "ax.plot(xaxis[180:], total_reservatorio_decaido[180:], label = 'Upstream Concentration')\n",
    "# ax.plot(xaxis[180:], total_reservatorio[180:], label = 'Buildup-Washoff')\n",
    "\n",
    "ax.set_xlabel('Date')\n",
    "ax.set_ylabel('BOD Concentration (mg/L)')\n",
    "ax.set_ylim(0, 5)\n",
    "ax.set_xlim(xaxis[365], xaxis[-1])\n",
    "ax.grid(True)\n",
    "ax.legend(loc=(0.01, .8))\n",
    "# ax.set_xticklabels(ax.get_xticklabels(), rotation=45)\n",
    "ax.xaxis.set_major_locator(MonthLocator())\n",
    "ax.xaxis.set_major_formatter(FuncFormatter(m_fmt))\n",
    "# plt.savefig('H:/GitHub/Thesis/images/case2/0d.pdf')\n",
    "plt.show()\n"
   ]
  },
  {
   "cell_type": "code",
   "execution_count": null,
   "metadata": {},
   "outputs": [],
   "source": []
  }
 ],
 "metadata": {
  "kernelspec": {
   "display_name": "playground",
   "language": "python",
   "name": "python3"
  },
  "language_info": {
   "codemirror_mode": {
    "name": "ipython",
    "version": 3
   },
   "file_extension": ".py",
   "mimetype": "text/x-python",
   "name": "python",
   "nbconvert_exporter": "python",
   "pygments_lexer": "ipython3",
   "version": "3.9.17"
  }
 },
 "nbformat": 4,
 "nbformat_minor": 2
}
