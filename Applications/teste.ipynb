{
 "cells": [
  {
   "cell_type": "code",
   "execution_count": 1,
   "metadata": {},
   "outputs": [],
   "source": [
    "import mogestpy"
   ]
  },
  {
   "cell_type": "code",
   "execution_count": 2,
   "metadata": {},
   "outputs": [
    {
     "name": "stdout",
     "output_type": "stream",
     "text": [
      "Help on package mogestpy:\n",
      "\n",
      "NAME\n",
      "    mogestpy - MOGESTpy - Water Resources Management Model\n",
      "\n",
      "PACKAGE CONTENTS\n",
      "    quality (package)\n",
      "    quantity (package)\n",
      "\n",
      "DATA\n",
      "    __email__ = 'dario.hossoda@usp.br'\n",
      "\n",
      "VERSION\n",
      "    0.0.7\n",
      "\n",
      "AUTHOR\n",
      "    Dario Hachisu Hossoda\n",
      "\n",
      "FILE\n",
      "    h:\\miniconda\\envs\\playground\\lib\\site-packages\\mogestpy\\__init__.py\n",
      "\n",
      "\n"
     ]
    }
   ],
   "source": [
    "help(mogestpy)"
   ]
  },
  {
   "cell_type": "code",
   "execution_count": null,
   "metadata": {},
   "outputs": [],
   "source": []
  }
 ],
 "metadata": {
  "kernelspec": {
   "display_name": "playground",
   "language": "python",
   "name": "python3"
  },
  "language_info": {
   "codemirror_mode": {
    "name": "ipython",
    "version": 3
   },
   "file_extension": ".py",
   "mimetype": "text/x-python",
   "name": "python",
   "nbconvert_exporter": "python",
   "pygments_lexer": "ipython3",
   "version": "3.9.17"
  }
 },
 "nbformat": 4,
 "nbformat_minor": 2
}
